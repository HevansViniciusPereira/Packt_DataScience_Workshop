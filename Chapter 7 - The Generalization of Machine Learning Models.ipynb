{
 "cells": [
  {
   "cell_type": "markdown",
   "id": "actual-breach",
   "metadata": {},
   "source": [
    "# Importing and Splitting Data"
   ]
  },
  {
   "cell_type": "code",
   "execution_count": 1,
   "id": "employed-gregory",
   "metadata": {},
   "outputs": [],
   "source": [
    "# import packages\n",
    "import pandas as pd\n",
    "from sklearn.model_selection import train_test_split\n",
    "import warnings\n",
    "warnings.filterwarnings('ignore')"
   ]
  },
  {
   "cell_type": "code",
   "execution_count": 2,
   "id": "placed-practice",
   "metadata": {},
   "outputs": [],
   "source": [
    "# Create a Python list to hold the headers for the data\n",
    "_headers = ['buying', 'maint', 'doors', 'persons', 'lug_boot', 'safety', 'car']"
   ]
  },
  {
   "cell_type": "code",
   "execution_count": 3,
   "id": "finite-martin",
   "metadata": {},
   "outputs": [],
   "source": [
    "# url path\n",
    "url_path = 'https://raw.githubusercontent.com/PacktWorkshops/The-Data-Science-Workshop/master/Chapter07/Dataset/car.data'"
   ]
  },
  {
   "cell_type": "code",
   "execution_count": 4,
   "id": "racial-polymer",
   "metadata": {},
   "outputs": [
    {
     "data": {
      "text/html": [
       "<div>\n",
       "<style scoped>\n",
       "    .dataframe tbody tr th:only-of-type {\n",
       "        vertical-align: middle;\n",
       "    }\n",
       "\n",
       "    .dataframe tbody tr th {\n",
       "        vertical-align: top;\n",
       "    }\n",
       "\n",
       "    .dataframe thead th {\n",
       "        text-align: right;\n",
       "    }\n",
       "</style>\n",
       "<table border=\"1\" class=\"dataframe\">\n",
       "  <thead>\n",
       "    <tr style=\"text-align: right;\">\n",
       "      <th></th>\n",
       "      <th>buying</th>\n",
       "      <th>maint</th>\n",
       "      <th>doors</th>\n",
       "      <th>persons</th>\n",
       "      <th>lug_boot</th>\n",
       "      <th>safety</th>\n",
       "      <th>car</th>\n",
       "    </tr>\n",
       "  </thead>\n",
       "  <tbody>\n",
       "    <tr>\n",
       "      <th>0</th>\n",
       "      <td>vhigh</td>\n",
       "      <td>vhigh</td>\n",
       "      <td>2</td>\n",
       "      <td>2</td>\n",
       "      <td>small</td>\n",
       "      <td>low</td>\n",
       "      <td>unacc</td>\n",
       "    </tr>\n",
       "    <tr>\n",
       "      <th>1</th>\n",
       "      <td>vhigh</td>\n",
       "      <td>vhigh</td>\n",
       "      <td>2</td>\n",
       "      <td>2</td>\n",
       "      <td>small</td>\n",
       "      <td>med</td>\n",
       "      <td>unacc</td>\n",
       "    </tr>\n",
       "    <tr>\n",
       "      <th>2</th>\n",
       "      <td>vhigh</td>\n",
       "      <td>vhigh</td>\n",
       "      <td>2</td>\n",
       "      <td>2</td>\n",
       "      <td>small</td>\n",
       "      <td>high</td>\n",
       "      <td>unacc</td>\n",
       "    </tr>\n",
       "    <tr>\n",
       "      <th>3</th>\n",
       "      <td>vhigh</td>\n",
       "      <td>vhigh</td>\n",
       "      <td>2</td>\n",
       "      <td>2</td>\n",
       "      <td>med</td>\n",
       "      <td>low</td>\n",
       "      <td>unacc</td>\n",
       "    </tr>\n",
       "    <tr>\n",
       "      <th>4</th>\n",
       "      <td>vhigh</td>\n",
       "      <td>vhigh</td>\n",
       "      <td>2</td>\n",
       "      <td>2</td>\n",
       "      <td>med</td>\n",
       "      <td>med</td>\n",
       "      <td>unacc</td>\n",
       "    </tr>\n",
       "  </tbody>\n",
       "</table>\n",
       "</div>"
      ],
      "text/plain": [
       "  buying  maint doors persons lug_boot safety    car\n",
       "0  vhigh  vhigh     2       2    small    low  unacc\n",
       "1  vhigh  vhigh     2       2    small    med  unacc\n",
       "2  vhigh  vhigh     2       2    small   high  unacc\n",
       "3  vhigh  vhigh     2       2      med    low  unacc\n",
       "4  vhigh  vhigh     2       2      med    med  unacc"
      ]
     },
     "execution_count": 4,
     "metadata": {},
     "output_type": "execute_result"
    }
   ],
   "source": [
    "# load data\n",
    "df = pd.read_csv(url_path, names=_headers, index_col=None)\n",
    "df.head()"
   ]
  },
  {
   "cell_type": "code",
   "execution_count": 5,
   "id": "sixth-collective",
   "metadata": {},
   "outputs": [
    {
     "name": "stdout",
     "output_type": "stream",
     "text": [
      "<class 'pandas.core.frame.DataFrame'>\n",
      "RangeIndex: 1728 entries, 0 to 1727\n",
      "Data columns (total 7 columns):\n",
      " #   Column    Non-Null Count  Dtype \n",
      "---  ------    --------------  ----- \n",
      " 0   buying    1728 non-null   object\n",
      " 1   maint     1728 non-null   object\n",
      " 2   doors     1728 non-null   object\n",
      " 3   persons   1728 non-null   object\n",
      " 4   lug_boot  1728 non-null   object\n",
      " 5   safety    1728 non-null   object\n",
      " 6   car       1728 non-null   object\n",
      "dtypes: object(7)\n",
      "memory usage: 94.6+ KB\n"
     ]
    }
   ],
   "source": [
    "# show column information\n",
    "df.info()"
   ]
  },
  {
   "cell_type": "code",
   "execution_count": 6,
   "id": "lined-authorization",
   "metadata": {},
   "outputs": [],
   "source": [
    "# split the data\n",
    "df_train, df_eval = train_test_split(df, train_size=0.8, random_state=0)"
   ]
  },
  {
   "cell_type": "markdown",
   "id": "laughing-sodium",
   "metadata": {},
   "source": [
    "# Creating a Five-Fold Cross-Validation Dataset"
   ]
  },
  {
   "cell_type": "code",
   "execution_count": 7,
   "id": "greatest-michigan",
   "metadata": {},
   "outputs": [],
   "source": [
    "# import package\n",
    "from sklearn.model_selection import KFold"
   ]
  },
  {
   "cell_type": "code",
   "execution_count": 8,
   "id": "exciting-programmer",
   "metadata": {},
   "outputs": [],
   "source": [
    "# create an instance of the class\n",
    "n_splits = 5\n",
    "_kf = KFold(n_splits=n_splits)"
   ]
  },
  {
   "cell_type": "code",
   "execution_count": 9,
   "id": "increased-possession",
   "metadata": {},
   "outputs": [],
   "source": [
    "# split the data\n",
    "indices = _kf.split(df)"
   ]
  },
  {
   "cell_type": "code",
   "execution_count": 10,
   "id": "ignored-distribution",
   "metadata": {},
   "outputs": [],
   "source": [
    "# Get the first set of indices\n",
    "train_indices, val_indices = next(indices)"
   ]
  },
  {
   "cell_type": "markdown",
   "id": "thermal-process",
   "metadata": {},
   "source": [
    "The <b>next()</b> Python function on the generator function: Using <b>next()</b> is the way that you get a generator to return results to you. You asked for five splits, so you can call <b>next()</b> five times on this particular generator. Calling <b>next()</b> a sixth time will cause the Python runtime to raise an exception.\n",
    "\n",
    "The call to <b>next()</b> yields a tuple. In this case, it is a pair of indices. The first one contains your training indices and the second one contains your validation indices. You assign these to <b>train_indices</b> and <b>val_indices</b>"
   ]
  },
  {
   "cell_type": "code",
   "execution_count": 11,
   "id": "agreed-sponsorship",
   "metadata": {},
   "outputs": [],
   "source": [
    "# Create a training dataset \n",
    "train_df = df.drop(val_indices)"
   ]
  },
  {
   "cell_type": "code",
   "execution_count": 12,
   "id": "auburn-harvard",
   "metadata": {},
   "outputs": [],
   "source": [
    "# create a validation dataset\n",
    "val_df = df.drop(train_indices)"
   ]
  },
  {
   "cell_type": "markdown",
   "id": "expired-thousand",
   "metadata": {},
   "source": [
    "# Creating a Five-Fold Cross-Validation Dataset Using a Loop for Calls"
   ]
  },
  {
   "cell_type": "code",
   "execution_count": 13,
   "id": "level-visiting",
   "metadata": {},
   "outputs": [],
   "source": [
    "# create two lists\n",
    "_t, _v = [], []"
   ]
  },
  {
   "cell_type": "code",
   "execution_count": 14,
   "id": "organized-klein",
   "metadata": {},
   "outputs": [],
   "source": [
    "_indices = _kf.split(df)"
   ]
  },
  {
   "cell_type": "code",
   "execution_count": 15,
   "id": "oriented-replica",
   "metadata": {},
   "outputs": [],
   "source": [
    "# Iterate over the generator and create DataFrames\n",
    "for i in range(n_splits):\n",
    "    train_idx, val_idx = next(_indices)\n",
    "    _train_df = df.drop(val_idx)\n",
    "    _t.append(_train_df)\n",
    "    _val_df = df.drop(train_idx)\n",
    "    _v.append(_val_df)"
   ]
  },
  {
   "cell_type": "code",
   "execution_count": 16,
   "id": "demonstrated-compact",
   "metadata": {},
   "outputs": [
    {
     "name": "stdout",
     "output_type": "stream",
     "text": [
      "<class 'pandas.core.frame.DataFrame'>\n",
      "Int64Index: 1382 entries, 346 to 1727\n",
      "Data columns (total 7 columns):\n",
      " #   Column    Non-Null Count  Dtype \n",
      "---  ------    --------------  ----- \n",
      " 0   buying    1382 non-null   object\n",
      " 1   maint     1382 non-null   object\n",
      " 2   doors     1382 non-null   object\n",
      " 3   persons   1382 non-null   object\n",
      " 4   lug_boot  1382 non-null   object\n",
      " 5   safety    1382 non-null   object\n",
      " 6   car       1382 non-null   object\n",
      "dtypes: object(7)\n",
      "memory usage: 86.4+ KB\n",
      "None\n",
      "<class 'pandas.core.frame.DataFrame'>\n",
      "Int64Index: 1382 entries, 0 to 1727\n",
      "Data columns (total 7 columns):\n",
      " #   Column    Non-Null Count  Dtype \n",
      "---  ------    --------------  ----- \n",
      " 0   buying    1382 non-null   object\n",
      " 1   maint     1382 non-null   object\n",
      " 2   doors     1382 non-null   object\n",
      " 3   persons   1382 non-null   object\n",
      " 4   lug_boot  1382 non-null   object\n",
      " 5   safety    1382 non-null   object\n",
      " 6   car       1382 non-null   object\n",
      "dtypes: object(7)\n",
      "memory usage: 86.4+ KB\n",
      "None\n",
      "<class 'pandas.core.frame.DataFrame'>\n",
      "Int64Index: 1382 entries, 0 to 1727\n",
      "Data columns (total 7 columns):\n",
      " #   Column    Non-Null Count  Dtype \n",
      "---  ------    --------------  ----- \n",
      " 0   buying    1382 non-null   object\n",
      " 1   maint     1382 non-null   object\n",
      " 2   doors     1382 non-null   object\n",
      " 3   persons   1382 non-null   object\n",
      " 4   lug_boot  1382 non-null   object\n",
      " 5   safety    1382 non-null   object\n",
      " 6   car       1382 non-null   object\n",
      "dtypes: object(7)\n",
      "memory usage: 86.4+ KB\n",
      "None\n",
      "<class 'pandas.core.frame.DataFrame'>\n",
      "Int64Index: 1383 entries, 0 to 1727\n",
      "Data columns (total 7 columns):\n",
      " #   Column    Non-Null Count  Dtype \n",
      "---  ------    --------------  ----- \n",
      " 0   buying    1383 non-null   object\n",
      " 1   maint     1383 non-null   object\n",
      " 2   doors     1383 non-null   object\n",
      " 3   persons   1383 non-null   object\n",
      " 4   lug_boot  1383 non-null   object\n",
      " 5   safety    1383 non-null   object\n",
      " 6   car       1383 non-null   object\n",
      "dtypes: object(7)\n",
      "memory usage: 86.4+ KB\n",
      "None\n",
      "<class 'pandas.core.frame.DataFrame'>\n",
      "Int64Index: 1383 entries, 0 to 1382\n",
      "Data columns (total 7 columns):\n",
      " #   Column    Non-Null Count  Dtype \n",
      "---  ------    --------------  ----- \n",
      " 0   buying    1383 non-null   object\n",
      " 1   maint     1383 non-null   object\n",
      " 2   doors     1383 non-null   object\n",
      " 3   persons   1383 non-null   object\n",
      " 4   lug_boot  1383 non-null   object\n",
      " 5   safety    1383 non-null   object\n",
      " 6   car       1383 non-null   object\n",
      "dtypes: object(7)\n",
      "memory usage: 86.4+ KB\n",
      "None\n"
     ]
    }
   ],
   "source": [
    "# iterate over the training list\n",
    "for d in _t:\n",
    "    print(d.info())"
   ]
  },
  {
   "cell_type": "code",
   "execution_count": 17,
   "id": "pointed-george",
   "metadata": {},
   "outputs": [
    {
     "name": "stdout",
     "output_type": "stream",
     "text": [
      "<class 'pandas.core.frame.DataFrame'>\n",
      "Int64Index: 346 entries, 0 to 345\n",
      "Data columns (total 7 columns):\n",
      " #   Column    Non-Null Count  Dtype \n",
      "---  ------    --------------  ----- \n",
      " 0   buying    346 non-null    object\n",
      " 1   maint     346 non-null    object\n",
      " 2   doors     346 non-null    object\n",
      " 3   persons   346 non-null    object\n",
      " 4   lug_boot  346 non-null    object\n",
      " 5   safety    346 non-null    object\n",
      " 6   car       346 non-null    object\n",
      "dtypes: object(7)\n",
      "memory usage: 21.6+ KB\n",
      "None\n",
      "<class 'pandas.core.frame.DataFrame'>\n",
      "Int64Index: 346 entries, 346 to 691\n",
      "Data columns (total 7 columns):\n",
      " #   Column    Non-Null Count  Dtype \n",
      "---  ------    --------------  ----- \n",
      " 0   buying    346 non-null    object\n",
      " 1   maint     346 non-null    object\n",
      " 2   doors     346 non-null    object\n",
      " 3   persons   346 non-null    object\n",
      " 4   lug_boot  346 non-null    object\n",
      " 5   safety    346 non-null    object\n",
      " 6   car       346 non-null    object\n",
      "dtypes: object(7)\n",
      "memory usage: 21.6+ KB\n",
      "None\n",
      "<class 'pandas.core.frame.DataFrame'>\n",
      "Int64Index: 346 entries, 692 to 1037\n",
      "Data columns (total 7 columns):\n",
      " #   Column    Non-Null Count  Dtype \n",
      "---  ------    --------------  ----- \n",
      " 0   buying    346 non-null    object\n",
      " 1   maint     346 non-null    object\n",
      " 2   doors     346 non-null    object\n",
      " 3   persons   346 non-null    object\n",
      " 4   lug_boot  346 non-null    object\n",
      " 5   safety    346 non-null    object\n",
      " 6   car       346 non-null    object\n",
      "dtypes: object(7)\n",
      "memory usage: 21.6+ KB\n",
      "None\n",
      "<class 'pandas.core.frame.DataFrame'>\n",
      "Int64Index: 345 entries, 1038 to 1382\n",
      "Data columns (total 7 columns):\n",
      " #   Column    Non-Null Count  Dtype \n",
      "---  ------    --------------  ----- \n",
      " 0   buying    345 non-null    object\n",
      " 1   maint     345 non-null    object\n",
      " 2   doors     345 non-null    object\n",
      " 3   persons   345 non-null    object\n",
      " 4   lug_boot  345 non-null    object\n",
      " 5   safety    345 non-null    object\n",
      " 6   car       345 non-null    object\n",
      "dtypes: object(7)\n",
      "memory usage: 21.6+ KB\n",
      "None\n",
      "<class 'pandas.core.frame.DataFrame'>\n",
      "Int64Index: 345 entries, 1383 to 1727\n",
      "Data columns (total 7 columns):\n",
      " #   Column    Non-Null Count  Dtype \n",
      "---  ------    --------------  ----- \n",
      " 0   buying    345 non-null    object\n",
      " 1   maint     345 non-null    object\n",
      " 2   doors     345 non-null    object\n",
      " 3   persons   345 non-null    object\n",
      " 4   lug_boot  345 non-null    object\n",
      " 5   safety    345 non-null    object\n",
      " 6   car       345 non-null    object\n",
      "dtypes: object(7)\n",
      "memory usage: 21.6+ KB\n",
      "None\n"
     ]
    }
   ],
   "source": [
    "# iterate over the validation list\n",
    "for d in _v:\n",
    "    print(d.info())"
   ]
  },
  {
   "cell_type": "markdown",
   "id": "infectious-buyer",
   "metadata": {},
   "source": [
    "# Getting the Scores from Five-Fold Cross-Validation"
   ]
  },
  {
   "cell_type": "code",
   "execution_count": 18,
   "id": "oriental-holocaust",
   "metadata": {},
   "outputs": [
    {
     "data": {
      "text/html": [
       "<div>\n",
       "<style scoped>\n",
       "    .dataframe tbody tr th:only-of-type {\n",
       "        vertical-align: middle;\n",
       "    }\n",
       "\n",
       "    .dataframe tbody tr th {\n",
       "        vertical-align: top;\n",
       "    }\n",
       "\n",
       "    .dataframe thead th {\n",
       "        text-align: right;\n",
       "    }\n",
       "</style>\n",
       "<table border=\"1\" class=\"dataframe\">\n",
       "  <thead>\n",
       "    <tr style=\"text-align: right;\">\n",
       "      <th></th>\n",
       "      <th>car</th>\n",
       "      <th>buying_high</th>\n",
       "      <th>buying_low</th>\n",
       "      <th>buying_med</th>\n",
       "      <th>buying_vhigh</th>\n",
       "      <th>maint_high</th>\n",
       "      <th>maint_low</th>\n",
       "      <th>maint_med</th>\n",
       "      <th>maint_vhigh</th>\n",
       "      <th>doors_2</th>\n",
       "      <th>...</th>\n",
       "      <th>doors_5more</th>\n",
       "      <th>persons_2</th>\n",
       "      <th>persons_4</th>\n",
       "      <th>persons_more</th>\n",
       "      <th>lug_boot_big</th>\n",
       "      <th>lug_boot_med</th>\n",
       "      <th>lug_boot_small</th>\n",
       "      <th>safety_high</th>\n",
       "      <th>safety_low</th>\n",
       "      <th>safety_med</th>\n",
       "    </tr>\n",
       "  </thead>\n",
       "  <tbody>\n",
       "    <tr>\n",
       "      <th>0</th>\n",
       "      <td>unacc</td>\n",
       "      <td>0</td>\n",
       "      <td>0</td>\n",
       "      <td>0</td>\n",
       "      <td>1</td>\n",
       "      <td>0</td>\n",
       "      <td>0</td>\n",
       "      <td>0</td>\n",
       "      <td>1</td>\n",
       "      <td>1</td>\n",
       "      <td>...</td>\n",
       "      <td>0</td>\n",
       "      <td>1</td>\n",
       "      <td>0</td>\n",
       "      <td>0</td>\n",
       "      <td>0</td>\n",
       "      <td>0</td>\n",
       "      <td>1</td>\n",
       "      <td>0</td>\n",
       "      <td>1</td>\n",
       "      <td>0</td>\n",
       "    </tr>\n",
       "    <tr>\n",
       "      <th>1</th>\n",
       "      <td>unacc</td>\n",
       "      <td>0</td>\n",
       "      <td>0</td>\n",
       "      <td>0</td>\n",
       "      <td>1</td>\n",
       "      <td>0</td>\n",
       "      <td>0</td>\n",
       "      <td>0</td>\n",
       "      <td>1</td>\n",
       "      <td>1</td>\n",
       "      <td>...</td>\n",
       "      <td>0</td>\n",
       "      <td>1</td>\n",
       "      <td>0</td>\n",
       "      <td>0</td>\n",
       "      <td>0</td>\n",
       "      <td>0</td>\n",
       "      <td>1</td>\n",
       "      <td>0</td>\n",
       "      <td>0</td>\n",
       "      <td>1</td>\n",
       "    </tr>\n",
       "    <tr>\n",
       "      <th>2</th>\n",
       "      <td>unacc</td>\n",
       "      <td>0</td>\n",
       "      <td>0</td>\n",
       "      <td>0</td>\n",
       "      <td>1</td>\n",
       "      <td>0</td>\n",
       "      <td>0</td>\n",
       "      <td>0</td>\n",
       "      <td>1</td>\n",
       "      <td>1</td>\n",
       "      <td>...</td>\n",
       "      <td>0</td>\n",
       "      <td>1</td>\n",
       "      <td>0</td>\n",
       "      <td>0</td>\n",
       "      <td>0</td>\n",
       "      <td>0</td>\n",
       "      <td>1</td>\n",
       "      <td>1</td>\n",
       "      <td>0</td>\n",
       "      <td>0</td>\n",
       "    </tr>\n",
       "    <tr>\n",
       "      <th>3</th>\n",
       "      <td>unacc</td>\n",
       "      <td>0</td>\n",
       "      <td>0</td>\n",
       "      <td>0</td>\n",
       "      <td>1</td>\n",
       "      <td>0</td>\n",
       "      <td>0</td>\n",
       "      <td>0</td>\n",
       "      <td>1</td>\n",
       "      <td>1</td>\n",
       "      <td>...</td>\n",
       "      <td>0</td>\n",
       "      <td>1</td>\n",
       "      <td>0</td>\n",
       "      <td>0</td>\n",
       "      <td>0</td>\n",
       "      <td>1</td>\n",
       "      <td>0</td>\n",
       "      <td>0</td>\n",
       "      <td>1</td>\n",
       "      <td>0</td>\n",
       "    </tr>\n",
       "    <tr>\n",
       "      <th>4</th>\n",
       "      <td>unacc</td>\n",
       "      <td>0</td>\n",
       "      <td>0</td>\n",
       "      <td>0</td>\n",
       "      <td>1</td>\n",
       "      <td>0</td>\n",
       "      <td>0</td>\n",
       "      <td>0</td>\n",
       "      <td>1</td>\n",
       "      <td>1</td>\n",
       "      <td>...</td>\n",
       "      <td>0</td>\n",
       "      <td>1</td>\n",
       "      <td>0</td>\n",
       "      <td>0</td>\n",
       "      <td>0</td>\n",
       "      <td>1</td>\n",
       "      <td>0</td>\n",
       "      <td>0</td>\n",
       "      <td>0</td>\n",
       "      <td>1</td>\n",
       "    </tr>\n",
       "  </tbody>\n",
       "</table>\n",
       "<p>5 rows × 22 columns</p>\n",
       "</div>"
      ],
      "text/plain": [
       "     car  buying_high  buying_low  buying_med  buying_vhigh  maint_high  \\\n",
       "0  unacc            0           0           0             1           0   \n",
       "1  unacc            0           0           0             1           0   \n",
       "2  unacc            0           0           0             1           0   \n",
       "3  unacc            0           0           0             1           0   \n",
       "4  unacc            0           0           0             1           0   \n",
       "\n",
       "   maint_low  maint_med  maint_vhigh  doors_2  ...  doors_5more  persons_2  \\\n",
       "0          0          0            1        1  ...            0          1   \n",
       "1          0          0            1        1  ...            0          1   \n",
       "2          0          0            1        1  ...            0          1   \n",
       "3          0          0            1        1  ...            0          1   \n",
       "4          0          0            1        1  ...            0          1   \n",
       "\n",
       "   persons_4  persons_more  lug_boot_big  lug_boot_med  lug_boot_small  \\\n",
       "0          0             0             0             0               1   \n",
       "1          0             0             0             0               1   \n",
       "2          0             0             0             0               1   \n",
       "3          0             0             0             1               0   \n",
       "4          0             0             0             1               0   \n",
       "\n",
       "   safety_high  safety_low  safety_med  \n",
       "0            0           1           0  \n",
       "1            0           0           1  \n",
       "2            1           0           0  \n",
       "3            0           1           0  \n",
       "4            0           0           1  \n",
       "\n",
       "[5 rows x 22 columns]"
      ]
     },
     "execution_count": 18,
     "metadata": {},
     "output_type": "execute_result"
    }
   ],
   "source": [
    "# Encode the categorical variables in the dataset\n",
    "_df = pd.get_dummies(df, columns=['buying', 'maint', 'doors', 'persons', 'lug_boot', 'safety'])\n",
    "_df.head()"
   ]
  },
  {
   "cell_type": "code",
   "execution_count": 19,
   "id": "abstract-courtesy",
   "metadata": {},
   "outputs": [],
   "source": [
    "# Split the data into features and labels\n",
    "features = _df.drop(['car'], axis=1).values\n",
    "labels = _df[['car']].values"
   ]
  },
  {
   "cell_type": "code",
   "execution_count": 20,
   "id": "solar-plastic",
   "metadata": {},
   "outputs": [],
   "source": [
    "# create a model\n",
    "from sklearn.linear_model import LogisticRegression\n",
    "_lr = LogisticRegression()"
   ]
  },
  {
   "cell_type": "code",
   "execution_count": 21,
   "id": "official-proposal",
   "metadata": {},
   "outputs": [],
   "source": [
    "# Compute the cross-validation scores\n",
    "from sklearn.model_selection import cross_val_score\n",
    "\n",
    "_scores = cross_val_score(_lr, features, labels, cv=5)"
   ]
  },
  {
   "cell_type": "code",
   "execution_count": 22,
   "id": "found-principle",
   "metadata": {},
   "outputs": [
    {
     "name": "stdout",
     "output_type": "stream",
     "text": [
      "[0.70231214 0.84971098 0.74566474 0.75652174 0.76231884]\n"
     ]
    }
   ],
   "source": [
    "# display the scores\n",
    "print(_scores)"
   ]
  },
  {
   "cell_type": "markdown",
   "id": "agricultural-norfolk",
   "metadata": {},
   "source": [
    "# Training a Logistic Regression Model Using Cross-Validation"
   ]
  },
  {
   "cell_type": "code",
   "execution_count": 23,
   "id": "promising-mount",
   "metadata": {},
   "outputs": [],
   "source": [
    "# Import logistic regression with cross-validation\n",
    "from sklearn.linear_model import LogisticRegressionCV"
   ]
  },
  {
   "cell_type": "code",
   "execution_count": 24,
   "id": "cheap-mitchell",
   "metadata": {},
   "outputs": [],
   "source": [
    "# create the model\n",
    "model = LogisticRegressionCV(max_iter=2000, multi_class='auto', cv=5)"
   ]
  },
  {
   "cell_type": "code",
   "execution_count": 25,
   "id": "solid-guard",
   "metadata": {},
   "outputs": [
    {
     "data": {
      "text/plain": [
       "LogisticRegressionCV(cv=5, max_iter=2000)"
      ]
     },
     "execution_count": 25,
     "metadata": {},
     "output_type": "execute_result"
    }
   ],
   "source": [
    "# train the model\n",
    "model.fit(features, labels.ravel())"
   ]
  },
  {
   "cell_type": "code",
   "execution_count": 26,
   "id": "urban-sample",
   "metadata": {},
   "outputs": [
    {
     "name": "stdout",
     "output_type": "stream",
     "text": [
      "0.9456018518518519\n"
     ]
    }
   ],
   "source": [
    "# Evaluate the training R2\n",
    "print(model.score(features, labels.ravel()))"
   ]
  },
  {
   "cell_type": "markdown",
   "id": "express-module",
   "metadata": {},
   "source": [
    "# Using Grid Search with Cross-Validation to Find the Best Parameters for a Model"
   ]
  },
  {
   "cell_type": "code",
   "execution_count": 27,
   "id": "retained-exhaust",
   "metadata": {},
   "outputs": [],
   "source": [
    "# import packages\n",
    "import numpy as np\n",
    "from sklearn.tree import DecisionTreeClassifier\n",
    "from sklearn.model_selection import GridSearchCV"
   ]
  },
  {
   "cell_type": "code",
   "execution_count": 28,
   "id": "positive-stuff",
   "metadata": {},
   "outputs": [],
   "source": [
    "# create the model\n",
    "clf = DecisionTreeClassifier()"
   ]
  },
  {
   "cell_type": "code",
   "execution_count": 29,
   "id": "altered-mustang",
   "metadata": {},
   "outputs": [],
   "source": [
    "# create parameters\n",
    "params = {'max_depth': np.arange(1, 8)}"
   ]
  },
  {
   "cell_type": "code",
   "execution_count": 30,
   "id": "interesting-destruction",
   "metadata": {},
   "outputs": [],
   "source": [
    "# instantiate the grid search\n",
    "clf_cv = GridSearchCV(clf, param_grid=params, cv=5)"
   ]
  },
  {
   "cell_type": "code",
   "execution_count": 31,
   "id": "ranging-traffic",
   "metadata": {},
   "outputs": [
    {
     "data": {
      "text/plain": [
       "GridSearchCV(cv=5, estimator=DecisionTreeClassifier(),\n",
       "             param_grid={'max_depth': array([1, 2, 3, 4, 5, 6, 7])})"
      ]
     },
     "execution_count": 31,
     "metadata": {},
     "output_type": "execute_result"
    }
   ],
   "source": [
    "# train the model\n",
    "clf_cv.fit(features, labels)"
   ]
  },
  {
   "cell_type": "code",
   "execution_count": 32,
   "id": "surface-breakdown",
   "metadata": {},
   "outputs": [
    {
     "name": "stdout",
     "output_type": "stream",
     "text": [
      "Tuned Decision Tree Parameters: {'max_depth': 2}\n"
     ]
    }
   ],
   "source": [
    "# Print the best parameter\n",
    "print(f'Tuned Decision Tree Parameters: {clf_cv.best_params_}')"
   ]
  },
  {
   "cell_type": "code",
   "execution_count": 33,
   "id": "handy-registration",
   "metadata": {},
   "outputs": [
    {
     "name": "stdout",
     "output_type": "stream",
     "text": [
      "Best score is 0.7778822149618833\n"
     ]
    }
   ],
   "source": [
    "# Print the best R2\n",
    "print(f'Best score is {clf_cv.best_score_}')"
   ]
  },
  {
   "cell_type": "code",
   "execution_count": 34,
   "id": "lucky-winning",
   "metadata": {},
   "outputs": [
    {
     "data": {
      "text/plain": [
       "DecisionTreeClassifier(max_depth=2)"
      ]
     },
     "execution_count": 34,
     "metadata": {},
     "output_type": "execute_result"
    }
   ],
   "source": [
    "# Access the best model\n",
    "model = clf_cv.best_estimator_\n",
    "model"
   ]
  },
  {
   "cell_type": "markdown",
   "id": "herbal-judge",
   "metadata": {},
   "source": [
    "# Using Randomized Search for Hyperparameter Tuning"
   ]
  },
  {
   "cell_type": "code",
   "execution_count": 35,
   "id": "alternative-italy",
   "metadata": {},
   "outputs": [],
   "source": [
    "# import packages\n",
    "from sklearn.ensemble import RandomForestClassifier\n",
    "from sklearn.model_selection import RandomizedSearchCV"
   ]
  },
  {
   "cell_type": "code",
   "execution_count": 36,
   "id": "educated-calculator",
   "metadata": {},
   "outputs": [],
   "source": [
    "# create the model\n",
    "clf = RandomForestClassifier()"
   ]
  },
  {
   "cell_type": "code",
   "execution_count": 37,
   "id": "charged-snapshot",
   "metadata": {},
   "outputs": [],
   "source": [
    "# create a dictionary of parameters\n",
    "params = {'n_estimators': [500, 1000, 2000], 'max_depth': np.arange(1, 8)}"
   ]
  },
  {
   "cell_type": "code",
   "execution_count": 38,
   "id": "recorded-logic",
   "metadata": {},
   "outputs": [],
   "source": [
    "# instantiate a randomized search\n",
    "clf_cv = RandomizedSearchCV(clf, param_distributions=params, cv=5)"
   ]
  },
  {
   "cell_type": "code",
   "execution_count": 39,
   "id": "sticky-senator",
   "metadata": {},
   "outputs": [
    {
     "data": {
      "text/plain": [
       "RandomizedSearchCV(cv=5, estimator=RandomForestClassifier(),\n",
       "                   param_distributions={'max_depth': array([1, 2, 3, 4, 5, 6, 7]),\n",
       "                                        'n_estimators': [500, 1000, 2000]})"
      ]
     },
     "execution_count": 39,
     "metadata": {},
     "output_type": "execute_result"
    }
   ],
   "source": [
    "# Perform the search\n",
    "clf_cv.fit(features, labels.ravel())"
   ]
  },
  {
   "cell_type": "code",
   "execution_count": 40,
   "id": "quality-holder",
   "metadata": {},
   "outputs": [
    {
     "name": "stdout",
     "output_type": "stream",
     "text": [
      "Tuned Random Forest Parameters: {'n_estimators': 500, 'max_depth': 5}\n"
     ]
    }
   ],
   "source": [
    "# Print the best parameter combination\n",
    "print(f'Tuned Random Forest Parameters: {clf_cv.best_params_}')"
   ]
  },
  {
   "cell_type": "code",
   "execution_count": 41,
   "id": "sorted-merit",
   "metadata": {},
   "outputs": [
    {
     "data": {
      "text/plain": [
       "RandomForestClassifier(max_depth=5, n_estimators=500)"
      ]
     },
     "execution_count": 41,
     "metadata": {},
     "output_type": "execute_result"
    }
   ],
   "source": [
    "# Inspect the best model\n",
    "model = clf_cv.best_estimator_\n",
    "model"
   ]
  },
  {
   "cell_type": "markdown",
   "id": "competitive-replacement",
   "metadata": {},
   "source": [
    "# Fixing Model Overfitting Using Lasso Regression"
   ]
  },
  {
   "cell_type": "code",
   "execution_count": 42,
   "id": "waiting-producer",
   "metadata": {},
   "outputs": [],
   "source": [
    "# import packages\n",
    "from sklearn.linear_model import Lasso, LinearRegression\n",
    "from sklearn.metrics import mean_squared_error\n",
    "from sklearn.pipeline import Pipeline\n",
    "from sklearn.preprocessing import MinMaxScaler, PolynomialFeatures"
   ]
  },
  {
   "cell_type": "code",
   "execution_count": 43,
   "id": "defensive-mercy",
   "metadata": {},
   "outputs": [],
   "source": [
    "# url path\n",
    "url_path = 'https://raw.githubusercontent.com/PacktWorkshops/The-Data-Science-Workshop/master/Chapter07/Dataset/ccpp.csv'"
   ]
  },
  {
   "cell_type": "code",
   "execution_count": 44,
   "id": "indie-dayton",
   "metadata": {},
   "outputs": [
    {
     "data": {
      "text/html": [
       "<div>\n",
       "<style scoped>\n",
       "    .dataframe tbody tr th:only-of-type {\n",
       "        vertical-align: middle;\n",
       "    }\n",
       "\n",
       "    .dataframe tbody tr th {\n",
       "        vertical-align: top;\n",
       "    }\n",
       "\n",
       "    .dataframe thead th {\n",
       "        text-align: right;\n",
       "    }\n",
       "</style>\n",
       "<table border=\"1\" class=\"dataframe\">\n",
       "  <thead>\n",
       "    <tr style=\"text-align: right;\">\n",
       "      <th></th>\n",
       "      <th>AT</th>\n",
       "      <th>V</th>\n",
       "      <th>AP</th>\n",
       "      <th>RH</th>\n",
       "      <th>PE</th>\n",
       "    </tr>\n",
       "  </thead>\n",
       "  <tbody>\n",
       "    <tr>\n",
       "      <th>0</th>\n",
       "      <td>14.96</td>\n",
       "      <td>41.76</td>\n",
       "      <td>1024.07</td>\n",
       "      <td>73.17</td>\n",
       "      <td>463.26</td>\n",
       "    </tr>\n",
       "    <tr>\n",
       "      <th>1</th>\n",
       "      <td>25.18</td>\n",
       "      <td>62.96</td>\n",
       "      <td>1020.04</td>\n",
       "      <td>59.08</td>\n",
       "      <td>444.37</td>\n",
       "    </tr>\n",
       "    <tr>\n",
       "      <th>2</th>\n",
       "      <td>5.11</td>\n",
       "      <td>39.40</td>\n",
       "      <td>1012.16</td>\n",
       "      <td>92.14</td>\n",
       "      <td>488.56</td>\n",
       "    </tr>\n",
       "    <tr>\n",
       "      <th>3</th>\n",
       "      <td>20.86</td>\n",
       "      <td>57.32</td>\n",
       "      <td>1010.24</td>\n",
       "      <td>76.64</td>\n",
       "      <td>446.48</td>\n",
       "    </tr>\n",
       "    <tr>\n",
       "      <th>4</th>\n",
       "      <td>10.82</td>\n",
       "      <td>37.50</td>\n",
       "      <td>1009.23</td>\n",
       "      <td>96.62</td>\n",
       "      <td>473.90</td>\n",
       "    </tr>\n",
       "  </tbody>\n",
       "</table>\n",
       "</div>"
      ],
      "text/plain": [
       "      AT      V       AP     RH      PE\n",
       "0  14.96  41.76  1024.07  73.17  463.26\n",
       "1  25.18  62.96  1020.04  59.08  444.37\n",
       "2   5.11  39.40  1012.16  92.14  488.56\n",
       "3  20.86  57.32  1010.24  76.64  446.48\n",
       "4  10.82  37.50  1009.23  96.62  473.90"
      ]
     },
     "execution_count": 44,
     "metadata": {},
     "output_type": "execute_result"
    }
   ],
   "source": [
    "# load data\n",
    "_df = pd.read_csv(url_path)\n",
    "_df.head()"
   ]
  },
  {
   "cell_type": "code",
   "execution_count": 45,
   "id": "radical-blackjack",
   "metadata": {},
   "outputs": [],
   "source": [
    "# extract features (X) and labels (y)\n",
    "X = _df.drop(['PE'], axis=1).values\n",
    "y = _df['PE'].values"
   ]
  },
  {
   "cell_type": "code",
   "execution_count": 46,
   "id": "refined-pricing",
   "metadata": {},
   "outputs": [],
   "source": [
    "# split the data\n",
    "X_train, X_eval, y_train, y_eval = train_test_split(X, y, train_size=0.8, random_state=0)"
   ]
  },
  {
   "cell_type": "code",
   "execution_count": 47,
   "id": "peripheral-retirement",
   "metadata": {},
   "outputs": [],
   "source": [
    "# create the model\n",
    "lr_model_1 = LinearRegression()"
   ]
  },
  {
   "cell_type": "code",
   "execution_count": 48,
   "id": "exposed-finland",
   "metadata": {},
   "outputs": [
    {
     "data": {
      "text/plain": [
       "LinearRegression()"
      ]
     },
     "execution_count": 48,
     "metadata": {},
     "output_type": "execute_result"
    }
   ],
   "source": [
    "# fit the model\n",
    "lr_model_1.fit(X_train, y_train)"
   ]
  },
  {
   "cell_type": "code",
   "execution_count": 49,
   "id": "finished-fraction",
   "metadata": {},
   "outputs": [],
   "source": [
    "# make predictions\n",
    "y_pred = lr_model_1.predict(X_eval)"
   ]
  },
  {
   "cell_type": "code",
   "execution_count": 50,
   "id": "flexible-momentum",
   "metadata": {},
   "outputs": [
    {
     "name": "stdout",
     "output_type": "stream",
     "text": [
      "lr_model_1 R^2 score: 0.9325315554761302\n"
     ]
    }
   ],
   "source": [
    "# print R2 score\n",
    "print(f'lr_model_1 R^2 score: {lr_model_1.score(X_eval, y_eval)}')"
   ]
  },
  {
   "cell_type": "code",
   "execution_count": 51,
   "id": "generous-implementation",
   "metadata": {},
   "outputs": [
    {
     "name": "stdout",
     "output_type": "stream",
     "text": [
      "lr_model_1 MSE: 19.733699303497648\n"
     ]
    }
   ],
   "source": [
    "# print the Mean Squared Error (MSE)\n",
    "print(f'lr_model_1 MSE: {mean_squared_error(y_eval, y_pred)}')"
   ]
  },
  {
   "cell_type": "code",
   "execution_count": 52,
   "id": "running-diagram",
   "metadata": {},
   "outputs": [],
   "source": [
    "# create a list for pipeline\n",
    "steps = [\n",
    "    ('scaler', MinMaxScaler()),\n",
    "    ('poly', PolynomialFeatures()),\n",
    "    ('lr', LinearRegression())\n",
    "]"
   ]
  },
  {
   "cell_type": "code",
   "execution_count": 53,
   "id": "incredible-folder",
   "metadata": {},
   "outputs": [],
   "source": [
    "# create a instance of a pipeline\n",
    "lr_model_2 = Pipeline(steps)"
   ]
  },
  {
   "cell_type": "code",
   "execution_count": 54,
   "id": "blessed-trigger",
   "metadata": {},
   "outputs": [
    {
     "data": {
      "text/plain": [
       "Pipeline(steps=[('scaler', MinMaxScaler()), ('poly', PolynomialFeatures()),\n",
       "                ('lr', LinearRegression())])"
      ]
     },
     "execution_count": 54,
     "metadata": {},
     "output_type": "execute_result"
    }
   ],
   "source": [
    "# train the instance of the pipeline\n",
    "lr_model_2.fit(X_train, y_train)"
   ]
  },
  {
   "cell_type": "code",
   "execution_count": 55,
   "id": "lesbian-praise",
   "metadata": {},
   "outputs": [
    {
     "name": "stdout",
     "output_type": "stream",
     "text": [
      "lr_model_2 R^2 score: 0.9421687659462381\n"
     ]
    }
   ],
   "source": [
    "# print the R^2 score of the model\n",
    "print(f'lr_model_2 R^2 score: {lr_model_2.score(X_eval, y_eval)}')"
   ]
  },
  {
   "cell_type": "code",
   "execution_count": 56,
   "id": "imported-toner",
   "metadata": {},
   "outputs": [],
   "source": [
    "# make predictions\n",
    "y_pred2 = lr_model_2.predict(X_eval)"
   ]
  },
  {
   "cell_type": "code",
   "execution_count": 57,
   "id": "asian-hopkins",
   "metadata": {},
   "outputs": [
    {
     "name": "stdout",
     "output_type": "stream",
     "text": [
      "lr_model_2 MSE: 16.914932472815142\n"
     ]
    }
   ],
   "source": [
    "# print the MSE of the model\n",
    "print(f'lr_model_2 MSE: {mean_squared_error(y_eval, y_pred2)}')"
   ]
  },
  {
   "cell_type": "code",
   "execution_count": 58,
   "id": "neural-delta",
   "metadata": {},
   "outputs": [
    {
     "name": "stdout",
     "output_type": "stream",
     "text": [
      "[  0.         -85.42486107 -28.97818226  19.42423838  17.28833859\n",
      "  19.21121733  23.48408016   3.18187061 -17.4628396   -4.13017095\n",
      "   6.18669787   2.25194198 -12.32055597 -10.29852285 -10.53464642]\n"
     ]
    }
   ],
   "source": [
    "# inspect the model coefficients\n",
    "print(lr_model_2[-1].coef_)"
   ]
  },
  {
   "cell_type": "code",
   "execution_count": 59,
   "id": "wanted-furniture",
   "metadata": {},
   "outputs": [
    {
     "name": "stdout",
     "output_type": "stream",
     "text": [
      "15\n"
     ]
    }
   ],
   "source": [
    "# Check for the number of coefficients in this model\n",
    "print(len(lr_model_2[-1].coef_))"
   ]
  },
  {
   "cell_type": "code",
   "execution_count": 60,
   "id": "original-beijing",
   "metadata": {},
   "outputs": [],
   "source": [
    "# Create a steps list with PolynomialFeatures of degree 10\n",
    "steps = [\n",
    "    ('scaler', MinMaxScaler()),\n",
    "    ('poly', PolynomialFeatures(degree=10)),\n",
    "    ('lr', LinearRegression())\n",
    "]"
   ]
  },
  {
   "cell_type": "code",
   "execution_count": 61,
   "id": "standing-niagara",
   "metadata": {},
   "outputs": [],
   "source": [
    "# create the third model\n",
    "lr_model_3 = Pipeline(steps)"
   ]
  },
  {
   "cell_type": "code",
   "execution_count": 62,
   "id": "economic-salvation",
   "metadata": {},
   "outputs": [
    {
     "data": {
      "text/plain": [
       "Pipeline(steps=[('scaler', MinMaxScaler()),\n",
       "                ('poly', PolynomialFeatures(degree=10)),\n",
       "                ('lr', LinearRegression())])"
      ]
     },
     "execution_count": 62,
     "metadata": {},
     "output_type": "execute_result"
    }
   ],
   "source": [
    "# train the model\n",
    "lr_model_3.fit(X_train, y_train)"
   ]
  },
  {
   "cell_type": "code",
   "execution_count": 63,
   "id": "aquatic-integration",
   "metadata": {},
   "outputs": [
    {
     "name": "stdout",
     "output_type": "stream",
     "text": [
      "lr_model_3 R^2 score: 0.5683464152933574\n"
     ]
    }
   ],
   "source": [
    "# print the R2 score\n",
    "print(f'lr_model_3 R^2 score: {lr_model_3.score(X_eval, y_eval)}')"
   ]
  },
  {
   "cell_type": "code",
   "execution_count": 64,
   "id": "accessible-doctor",
   "metadata": {},
   "outputs": [],
   "source": [
    "# make predictions\n",
    "y_pred3 = lr_model_3.predict(X_eval)"
   ]
  },
  {
   "cell_type": "code",
   "execution_count": 65,
   "id": "critical-column",
   "metadata": {},
   "outputs": [
    {
     "name": "stdout",
     "output_type": "stream",
     "text": [
      "lr_model_3 MSE: 126.25342267768008\n"
     ]
    }
   ],
   "source": [
    "# print the MSE\n",
    "print(f'lr_model_3 MSE: {mean_squared_error(y_eval, y_pred3)}')"
   ]
  },
  {
   "cell_type": "code",
   "execution_count": 66,
   "id": "ideal-school",
   "metadata": {},
   "outputs": [
    {
     "name": "stdout",
     "output_type": "stream",
     "text": [
      "1001\n"
     ]
    }
   ],
   "source": [
    "# print the number of coefficients\n",
    "print(len(lr_model_3[-1].coef_))"
   ]
  },
  {
   "cell_type": "code",
   "execution_count": 67,
   "id": "incorporated-sociology",
   "metadata": {},
   "outputs": [],
   "source": [
    "# Create a list of steps for the pipeline \n",
    "steps = [('scaler', MinMaxScaler()),\\\n",
    "         ('poly', PolynomialFeatures(degree=10)),\\\n",
    "         ('lr', Lasso(alpha=0.01))]"
   ]
  },
  {
   "cell_type": "code",
   "execution_count": 68,
   "id": "weighted-paradise",
   "metadata": {},
   "outputs": [],
   "source": [
    "# create the model\n",
    "lasso_model = Pipeline(steps)"
   ]
  },
  {
   "cell_type": "code",
   "execution_count": 69,
   "id": "derived-mauritius",
   "metadata": {},
   "outputs": [
    {
     "data": {
      "text/plain": [
       "Pipeline(steps=[('scaler', MinMaxScaler()),\n",
       "                ('poly', PolynomialFeatures(degree=10)),\n",
       "                ('lr', Lasso(alpha=0.01))])"
      ]
     },
     "execution_count": 69,
     "metadata": {},
     "output_type": "execute_result"
    }
   ],
   "source": [
    "# train the model\n",
    "lasso_model.fit(X_train, y_train)"
   ]
  },
  {
   "cell_type": "code",
   "execution_count": 70,
   "id": "invisible-smile",
   "metadata": {},
   "outputs": [
    {
     "name": "stdout",
     "output_type": "stream",
     "text": [
      "lasso_model R^2 score: 0.9418109161488483\n"
     ]
    }
   ],
   "source": [
    "# print the R2 score of lasso_model\n",
    "print(f'lasso_model R^2 score: {lasso_model.score(X_eval, y_eval)}')"
   ]
  },
  {
   "cell_type": "code",
   "execution_count": 71,
   "id": "early-franklin",
   "metadata": {},
   "outputs": [],
   "source": [
    "# make predictions\n",
    "lasso_preds = lasso_model.predict(X_eval)"
   ]
  },
  {
   "cell_type": "code",
   "execution_count": 72,
   "id": "fiscal-wilson",
   "metadata": {},
   "outputs": [
    {
     "name": "stdout",
     "output_type": "stream",
     "text": [
      "lasso_model MSE: 17.019599185488644\n"
     ]
    }
   ],
   "source": [
    "# print the MSE of lasso_model\n",
    "print(f'lasso_model MSE: {mean_squared_error(y_eval, lasso_preds)}')"
   ]
  },
  {
   "cell_type": "code",
   "execution_count": 73,
   "id": "cleared-harris",
   "metadata": {},
   "outputs": [
    {
     "name": "stdout",
     "output_type": "stream",
     "text": [
      "1001\n"
     ]
    }
   ],
   "source": [
    "# print the number of coefficients\n",
    "print(len(lasso_model[-1].coef_))"
   ]
  },
  {
   "cell_type": "markdown",
   "id": "knowing-suite",
   "metadata": {},
   "source": [
    "# Fixing Model Overfitting Using Ridge Regression"
   ]
  },
  {
   "cell_type": "code",
   "execution_count": 74,
   "id": "small-birmingham",
   "metadata": {},
   "outputs": [],
   "source": [
    "from sklearn.linear_model import Ridge"
   ]
  },
  {
   "cell_type": "code",
   "execution_count": 75,
   "id": "advanced-morrison",
   "metadata": {},
   "outputs": [],
   "source": [
    "# create a model\n",
    "lr_model_1 = LinearRegression()"
   ]
  },
  {
   "cell_type": "code",
   "execution_count": 76,
   "id": "ultimate-czech",
   "metadata": {},
   "outputs": [
    {
     "data": {
      "text/plain": [
       "LinearRegression()"
      ]
     },
     "execution_count": 76,
     "metadata": {},
     "output_type": "execute_result"
    }
   ],
   "source": [
    "# train the model\n",
    "lr_model_1.fit(X_train, y_train)"
   ]
  },
  {
   "cell_type": "code",
   "execution_count": 77,
   "id": "north-finding",
   "metadata": {},
   "outputs": [],
   "source": [
    "# make predictions\n",
    "y_pred = lr_model_1.predict(X_eval)"
   ]
  },
  {
   "cell_type": "code",
   "execution_count": 78,
   "id": "black-china",
   "metadata": {},
   "outputs": [
    {
     "name": "stdout",
     "output_type": "stream",
     "text": [
      "lr_model_1 R^2 score: 0.9325315554761302\n"
     ]
    }
   ],
   "source": [
    "# print R2 score\n",
    "print(f'lr_model_1 R^2 score: {lr_model_1.score(X_eval, y_eval)}')"
   ]
  },
  {
   "cell_type": "code",
   "execution_count": 79,
   "id": "comparable-kruger",
   "metadata": {},
   "outputs": [
    {
     "name": "stdout",
     "output_type": "stream",
     "text": [
      "lr_model_1 MSE: 19.733699303497648\n"
     ]
    }
   ],
   "source": [
    "# print the MSE\n",
    "print(f'lr_model_1 MSE: {mean_squared_error(y_eval, y_pred)}')"
   ]
  },
  {
   "cell_type": "code",
   "execution_count": 80,
   "id": "tracked-butterfly",
   "metadata": {},
   "outputs": [],
   "source": [
    "# create a list\n",
    "steps = [\n",
    "    ('scaler', MinMaxScaler()),\n",
    "    ('poly', PolynomialFeatures(degree=3)),\n",
    "    ('lr', LinearRegression())\n",
    "]"
   ]
  },
  {
   "cell_type": "code",
   "execution_count": 81,
   "id": "moderate-eagle",
   "metadata": {},
   "outputs": [],
   "source": [
    "# create a pipeline\n",
    "lr_model_2 = Pipeline(steps)"
   ]
  },
  {
   "cell_type": "code",
   "execution_count": 82,
   "id": "established-bridge",
   "metadata": {},
   "outputs": [
    {
     "data": {
      "text/plain": [
       "Pipeline(steps=[('scaler', MinMaxScaler()),\n",
       "                ('poly', PolynomialFeatures(degree=3)),\n",
       "                ('lr', LinearRegression())])"
      ]
     },
     "execution_count": 82,
     "metadata": {},
     "output_type": "execute_result"
    }
   ],
   "source": [
    "# train the instance of the pipeline\n",
    "lr_model_2.fit(X_train, y_train)"
   ]
  },
  {
   "cell_type": "code",
   "execution_count": 83,
   "id": "intellectual-congo",
   "metadata": {},
   "outputs": [
    {
     "name": "stdout",
     "output_type": "stream",
     "text": [
      "lr_model_2 R^2 score: 0.9443678654045207\n"
     ]
    }
   ],
   "source": [
    "# print the R2 score of the model\n",
    "print(f'lr_model_2 R^2 score: {lr_model_2.score(X_eval, y_eval)}')"
   ]
  },
  {
   "cell_type": "code",
   "execution_count": 84,
   "id": "undefined-turkish",
   "metadata": {},
   "outputs": [],
   "source": [
    "# make predictions\n",
    "y_pred2 = lr_model_2.predict(X_eval)"
   ]
  },
  {
   "cell_type": "code",
   "execution_count": 85,
   "id": "thousand-thriller",
   "metadata": {},
   "outputs": [
    {
     "name": "stdout",
     "output_type": "stream",
     "text": [
      "lr_model_2 MSE: 16.271722632207666\n"
     ]
    }
   ],
   "source": [
    "# print the MSE of the model\n",
    "print(f'lr_model_2 MSE: {mean_squared_error(y_eval, y_pred2)}')"
   ]
  },
  {
   "cell_type": "code",
   "execution_count": 86,
   "id": "treated-interstate",
   "metadata": {},
   "outputs": [
    {
     "name": "stdout",
     "output_type": "stream",
     "text": [
      "35\n"
     ]
    }
   ],
   "source": [
    "# check the number of coefficients of the model\n",
    "print(len(lr_model_2[-1].coef_))"
   ]
  },
  {
   "cell_type": "code",
   "execution_count": 87,
   "id": "effective-detection",
   "metadata": {},
   "outputs": [],
   "source": [
    "# Create a steps list with PolynomialFeatures of degree 10\n",
    "steps = [\n",
    "    ('scaler', MinMaxScaler()),\n",
    "    ('poly', PolynomialFeatures(degree=10)),\n",
    "    ('lr', LinearRegression())\n",
    "]"
   ]
  },
  {
   "cell_type": "code",
   "execution_count": 88,
   "id": "dress-update",
   "metadata": {},
   "outputs": [],
   "source": [
    "# create the model\n",
    "lr_model_3 = Pipeline(steps)"
   ]
  },
  {
   "cell_type": "code",
   "execution_count": 89,
   "id": "interim-yield",
   "metadata": {},
   "outputs": [
    {
     "data": {
      "text/plain": [
       "Pipeline(steps=[('scaler', MinMaxScaler()),\n",
       "                ('poly', PolynomialFeatures(degree=10)),\n",
       "                ('lr', LinearRegression())])"
      ]
     },
     "execution_count": 89,
     "metadata": {},
     "output_type": "execute_result"
    }
   ],
   "source": [
    "# train the model\n",
    "lr_model_3.fit(X_train, y_train)"
   ]
  },
  {
   "cell_type": "code",
   "execution_count": 90,
   "id": "interpreted-clearing",
   "metadata": {},
   "outputs": [
    {
     "name": "stdout",
     "output_type": "stream",
     "text": [
      "lr_model_3 R^2 score: 0.5683464152933574\n"
     ]
    }
   ],
   "source": [
    "# print the R2 score\n",
    "print(f'lr_model_3 R^2 score: {lr_model_3.score(X_eval, y_eval)}')"
   ]
  },
  {
   "cell_type": "code",
   "execution_count": 91,
   "id": "restricted-glossary",
   "metadata": {},
   "outputs": [],
   "source": [
    "# make predictions\n",
    "y_pred3 = lr_model_3.predict(X_eval)"
   ]
  },
  {
   "cell_type": "code",
   "execution_count": 92,
   "id": "latin-lesson",
   "metadata": {},
   "outputs": [
    {
     "name": "stdout",
     "output_type": "stream",
     "text": [
      "lr_model_3 MSE: 126.25342267768008\n"
     ]
    }
   ],
   "source": [
    "# print the MSE of the model\n",
    "print(f'lr_model_3 MSE: {mean_squared_error(y_eval, y_pred3)}')"
   ]
  },
  {
   "cell_type": "code",
   "execution_count": 93,
   "id": "documented-enzyme",
   "metadata": {},
   "outputs": [
    {
     "name": "stdout",
     "output_type": "stream",
     "text": [
      "1001\n"
     ]
    }
   ],
   "source": [
    "# check the number of coefficients of the model\n",
    "print(len(lr_model_3[-1].coef_))"
   ]
  },
  {
   "cell_type": "code",
   "execution_count": 94,
   "id": "opposite-stylus",
   "metadata": {},
   "outputs": [],
   "source": [
    "# create a list\n",
    "steps = [\n",
    "    ('scaler', MinMaxScaler()),\n",
    "    ('poly', PolynomialFeatures(degree=10)),\n",
    "    ('lr', Ridge(alpha=0.9))\n",
    "]"
   ]
  },
  {
   "cell_type": "code",
   "execution_count": 95,
   "id": "intelligent-newfoundland",
   "metadata": {},
   "outputs": [],
   "source": [
    "# create the model\n",
    "ridge_model = Pipeline(steps)"
   ]
  },
  {
   "cell_type": "code",
   "execution_count": 96,
   "id": "powerful-disclosure",
   "metadata": {},
   "outputs": [
    {
     "data": {
      "text/plain": [
       "Pipeline(steps=[('scaler', MinMaxScaler()),\n",
       "                ('poly', PolynomialFeatures(degree=10)),\n",
       "                ('lr', Ridge(alpha=0.9))])"
      ]
     },
     "execution_count": 96,
     "metadata": {},
     "output_type": "execute_result"
    }
   ],
   "source": [
    "# train the model\n",
    "ridge_model.fit(X_train, y_train)"
   ]
  },
  {
   "cell_type": "code",
   "execution_count": 97,
   "id": "indie-friendship",
   "metadata": {},
   "outputs": [
    {
     "name": "stdout",
     "output_type": "stream",
     "text": [
      "ridge_model R^2 score: 0.9451949082623449\n"
     ]
    }
   ],
   "source": [
    "# print the R2 score\n",
    "print(f'ridge_model R^2 score: {ridge_model.score(X_eval, y_eval)}')"
   ]
  },
  {
   "cell_type": "code",
   "execution_count": 98,
   "id": "sudden-spray",
   "metadata": {},
   "outputs": [],
   "source": [
    "# make predictions\n",
    "ridge_pred = ridge_model.predict(X_eval)"
   ]
  },
  {
   "cell_type": "code",
   "execution_count": 99,
   "id": "molecular-hudson",
   "metadata": {},
   "outputs": [
    {
     "name": "stdout",
     "output_type": "stream",
     "text": [
      "ridge_model MSE: 16.029822656854975\n"
     ]
    }
   ],
   "source": [
    "# print the MSE for the model\n",
    "print(f'ridge_model MSE: {mean_squared_error(y_eval, ridge_pred)}')"
   ]
  },
  {
   "cell_type": "code",
   "execution_count": 100,
   "id": "false-blade",
   "metadata": {},
   "outputs": [
    {
     "name": "stdout",
     "output_type": "stream",
     "text": [
      "1001\n"
     ]
    }
   ],
   "source": [
    "# check the number of coefficients\n",
    "print(len(ridge_model[-1].coef_))"
   ]
  }
 ],
 "metadata": {
  "kernelspec": {
   "display_name": "Python 3",
   "language": "python",
   "name": "python3"
  },
  "language_info": {
   "codemirror_mode": {
    "name": "ipython",
    "version": 3
   },
   "file_extension": ".py",
   "mimetype": "text/x-python",
   "name": "python",
   "nbconvert_exporter": "python",
   "pygments_lexer": "ipython3",
   "version": "3.7.7"
  }
 },
 "nbformat": 4,
 "nbformat_minor": 5
}
