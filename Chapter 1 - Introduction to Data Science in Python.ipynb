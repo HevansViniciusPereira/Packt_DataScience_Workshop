{
 "cells": [
  {
   "cell_type": "markdown",
   "id": "square-bridal",
   "metadata": {},
   "source": [
    "# Creating a Dictionary That Will Contain Machine Learning Algorithms"
   ]
  },
  {
   "cell_type": "code",
   "execution_count": 1,
   "id": "large-carrier",
   "metadata": {},
   "outputs": [],
   "source": [
    "# Create a list called 'algorithm' that will contain:\n",
    "# Linear Regression, Logistic Regression, RandomForest, and a3c\n",
    "algorithm = ['Linear Regression', 'Logistic Regression', 'RandomForest', 'a3c']"
   ]
  },
  {
   "cell_type": "code",
   "execution_count": 2,
   "id": "fundamental-reform",
   "metadata": {},
   "outputs": [],
   "source": [
    "# create a list called 'learning' that will contain:\n",
    "# Supervised, Supervised, Supervised, and Reinforcement\n",
    "learning = ['Supervised', 'Supervised', 'Supervised', 'Reinforcement']"
   ]
  },
  {
   "cell_type": "code",
   "execution_count": 3,
   "id": "tight-california",
   "metadata": {},
   "outputs": [],
   "source": [
    "# Create a list called 'algorithm_type' that will contain:\n",
    "# Regression, Classification, Regression or Classification, and Game AI\n",
    "algorithm_type = ['Regression', 'Classification', 'Regression or Classification', 'Game AI']"
   ]
  },
  {
   "cell_type": "code",
   "execution_count": 4,
   "id": "magnetic-tenant",
   "metadata": {},
   "outputs": [],
   "source": [
    "# Add an item called k-means into the algorithm list\n",
    "algorithm.append('k-means')"
   ]
  },
  {
   "cell_type": "code",
   "execution_count": 5,
   "id": "technological-equipment",
   "metadata": {},
   "outputs": [
    {
     "name": "stdout",
     "output_type": "stream",
     "text": [
      "['Linear Regression', 'Logistic Regression', 'RandomForest', 'a3c', 'k-means']\n"
     ]
    }
   ],
   "source": [
    "# Display the content of algorithm\n",
    "print(algorithm)"
   ]
  },
  {
   "cell_type": "code",
   "execution_count": 6,
   "id": "familiar-services",
   "metadata": {},
   "outputs": [],
   "source": [
    "# add the Unsupervised item into the learning list\n",
    "learning.append('Unsupervised')"
   ]
  },
  {
   "cell_type": "code",
   "execution_count": 7,
   "id": "geological-hayes",
   "metadata": {},
   "outputs": [
    {
     "name": "stdout",
     "output_type": "stream",
     "text": [
      "['Supervised', 'Supervised', 'Supervised', 'Reinforcement', 'Unsupervised']\n"
     ]
    }
   ],
   "source": [
    "# Display the content of learning\n",
    "print(learning)"
   ]
  },
  {
   "cell_type": "code",
   "execution_count": 8,
   "id": "authentic-trading",
   "metadata": {},
   "outputs": [],
   "source": [
    "# Add the Clustering item into the algorithm_type list\n",
    "algorithm_type.append('Clustering')"
   ]
  },
  {
   "cell_type": "code",
   "execution_count": 9,
   "id": "armed-apparatus",
   "metadata": {},
   "outputs": [
    {
     "name": "stdout",
     "output_type": "stream",
     "text": [
      "['Regression', 'Classification', 'Regression or Classification', 'Game AI', 'Clustering']\n"
     ]
    }
   ],
   "source": [
    "# Display the content of algorithm_type\n",
    "print(algorithm_type)"
   ]
  },
  {
   "cell_type": "code",
   "execution_count": 10,
   "id": "passing-subscription",
   "metadata": {},
   "outputs": [],
   "source": [
    "# Create an empty dictionary called machine_learning\n",
    "machine_learning = {}"
   ]
  },
  {
   "cell_type": "code",
   "execution_count": 11,
   "id": "above-shore",
   "metadata": {},
   "outputs": [],
   "source": [
    "# Create a item in machine_learning with the key as 'algorithm' and the value as all the items from the algorithm list\n",
    "machine_learning['algorithm'] = algorithm"
   ]
  },
  {
   "cell_type": "code",
   "execution_count": 12,
   "id": "continent-manhattan",
   "metadata": {},
   "outputs": [
    {
     "name": "stdout",
     "output_type": "stream",
     "text": [
      "{'algorithm': ['Linear Regression', 'Logistic Regression', 'RandomForest', 'a3c', 'k-means']}\n"
     ]
    }
   ],
   "source": [
    "# Display the content of machine_learning\n",
    "print(machine_learning)"
   ]
  },
  {
   "cell_type": "code",
   "execution_count": 13,
   "id": "present-landscape",
   "metadata": {},
   "outputs": [],
   "source": [
    "# Create a new item in machine_learning with the key as learning and the value as all the items from the learning list\n",
    "machine_learning['learning'] = learning"
   ]
  },
  {
   "cell_type": "code",
   "execution_count": 14,
   "id": "paperback-miller",
   "metadata": {},
   "outputs": [],
   "source": [
    "# create a new item in machine_learning with the key as algorithm_type\n",
    "# and the value as all the items from the algorithm_type list\n",
    "machine_learning['algorithm_type'] = algorithm_type"
   ]
  },
  {
   "cell_type": "code",
   "execution_count": 15,
   "id": "removed-service",
   "metadata": {},
   "outputs": [
    {
     "name": "stdout",
     "output_type": "stream",
     "text": [
      "{'algorithm': ['Linear Regression', 'Logistic Regression', 'RandomForest', 'a3c', 'k-means'], 'learning': ['Supervised', 'Supervised', 'Supervised', 'Reinforcement', 'Unsupervised'], 'algorithm_type': ['Regression', 'Classification', 'Regression or Classification', 'Game AI', 'Clustering']}\n"
     ]
    }
   ],
   "source": [
    "# Display the content of machine_learning\n",
    "print(machine_learning)"
   ]
  },
  {
   "cell_type": "code",
   "execution_count": 16,
   "id": "living-picnic",
   "metadata": {},
   "outputs": [],
   "source": [
    "# Remove the a3c item from the algorithm key\n",
    "machine_learning['algorithm'].remove('a3c')"
   ]
  },
  {
   "cell_type": "code",
   "execution_count": 17,
   "id": "framed-incentive",
   "metadata": {},
   "outputs": [
    {
     "name": "stdout",
     "output_type": "stream",
     "text": [
      "['Linear Regression', 'Logistic Regression', 'RandomForest', 'k-means']\n"
     ]
    }
   ],
   "source": [
    "# Display the content of the algorithm item from the machine_learning dictionary \n",
    "print(machine_learning['algorithm'])"
   ]
  },
  {
   "cell_type": "code",
   "execution_count": 18,
   "id": "approved-throat",
   "metadata": {},
   "outputs": [],
   "source": [
    "# Remove the Reinforcement item from the learning key\n",
    "machine_learning['learning'].remove('Reinforcement')"
   ]
  },
  {
   "cell_type": "code",
   "execution_count": 19,
   "id": "temporal-scotland",
   "metadata": {},
   "outputs": [],
   "source": [
    "# Remove the Game AI item from the algorithm_type key\n",
    "machine_learning['algorithm_type'].remove('Game AI')"
   ]
  },
  {
   "cell_type": "code",
   "execution_count": 20,
   "id": "distributed-gateway",
   "metadata": {},
   "outputs": [
    {
     "name": "stdout",
     "output_type": "stream",
     "text": [
      "{'algorithm': ['Linear Regression', 'Logistic Regression', 'RandomForest', 'k-means'], 'learning': ['Supervised', 'Supervised', 'Supervised', 'Unsupervised'], 'algorithm_type': ['Regression', 'Classification', 'Regression or Classification', 'Clustering']}\n"
     ]
    }
   ],
   "source": [
    "# Display the content of machine_learning\n",
    "print(machine_learning)"
   ]
  },
  {
   "cell_type": "markdown",
   "id": "sized-recommendation",
   "metadata": {},
   "source": [
    "# Loading Data of Different Formats into a pandas DataFrame"
   ]
  },
  {
   "cell_type": "code",
   "execution_count": 21,
   "id": "prospective-reliance",
   "metadata": {},
   "outputs": [],
   "source": [
    "# import package\n",
    "import pandas as pd"
   ]
  },
  {
   "cell_type": "code",
   "execution_count": 22,
   "id": "favorite-cheat",
   "metadata": {},
   "outputs": [],
   "source": [
    "# Create a new variable called csv_url containing the URL to the raw CSV file\n",
    "csv_url = 'https://raw.githubusercontent.com/PacktWorkshops/The-Data-Science-Workshop/master/Chapter01/Dataset/overall_topten_2012-2013.csv'"
   ]
  },
  {
   "cell_type": "code",
   "execution_count": 23,
   "id": "vanilla-custody",
   "metadata": {},
   "outputs": [
    {
     "data": {
      "text/html": [
       "<div>\n",
       "<style scoped>\n",
       "    .dataframe tbody tr th:only-of-type {\n",
       "        vertical-align: middle;\n",
       "    }\n",
       "\n",
       "    .dataframe tbody tr th {\n",
       "        vertical-align: top;\n",
       "    }\n",
       "\n",
       "    .dataframe thead th {\n",
       "        text-align: right;\n",
       "    }\n",
       "</style>\n",
       "<table border=\"1\" class=\"dataframe\">\n",
       "  <thead>\n",
       "    <tr style=\"text-align: right;\">\n",
       "      <th></th>\n",
       "      <th>Number</th>\n",
       "      <th>Postcode</th>\n",
       "      <th>Suburbs</th>\n",
       "      <th>Number of Applications</th>\n",
       "    </tr>\n",
       "  </thead>\n",
       "  <tbody>\n",
       "    <tr>\n",
       "      <th>0</th>\n",
       "      <td>1</td>\n",
       "      <td>3029</td>\n",
       "      <td>Hoppers Crossing, Tarneit</td>\n",
       "      <td>1069</td>\n",
       "    </tr>\n",
       "    <tr>\n",
       "      <th>1</th>\n",
       "      <td>2</td>\n",
       "      <td>3977</td>\n",
       "      <td>Cranbourne, Devon Meadows, Skye</td>\n",
       "      <td>1037</td>\n",
       "    </tr>\n",
       "    <tr>\n",
       "      <th>2</th>\n",
       "      <td>3</td>\n",
       "      <td>3064</td>\n",
       "      <td>Craigieburn, Donnybrook, Roxburgh Park, Mickleham</td>\n",
       "      <td>821</td>\n",
       "    </tr>\n",
       "    <tr>\n",
       "      <th>3</th>\n",
       "      <td>4</td>\n",
       "      <td>3030</td>\n",
       "      <td>Point Cook, Werribee, Derrimut</td>\n",
       "      <td>816</td>\n",
       "    </tr>\n",
       "    <tr>\n",
       "      <th>4</th>\n",
       "      <td>5</td>\n",
       "      <td>3754</td>\n",
       "      <td>Doreen, Mernda</td>\n",
       "      <td>530</td>\n",
       "    </tr>\n",
       "    <tr>\n",
       "      <th>5</th>\n",
       "      <td>6</td>\n",
       "      <td>3810</td>\n",
       "      <td>Pakenham, Rythdale</td>\n",
       "      <td>479</td>\n",
       "    </tr>\n",
       "    <tr>\n",
       "      <th>6</th>\n",
       "      <td>7</td>\n",
       "      <td>3350</td>\n",
       "      <td>Alfredton, Ballarat, Canadian, Invermay Park, ...</td>\n",
       "      <td>383</td>\n",
       "    </tr>\n",
       "    <tr>\n",
       "      <th>7</th>\n",
       "      <td>8</td>\n",
       "      <td>3216</td>\n",
       "      <td>Belmont, Grovedale, Highton, Marshall, Waurn P...</td>\n",
       "      <td>351</td>\n",
       "    </tr>\n",
       "    <tr>\n",
       "      <th>8</th>\n",
       "      <td>9</td>\n",
       "      <td>3136</td>\n",
       "      <td>Croydon, Croydon Hills, Croydon North, Croydon...</td>\n",
       "      <td>344</td>\n",
       "    </tr>\n",
       "    <tr>\n",
       "      <th>9</th>\n",
       "      <td>10</td>\n",
       "      <td>3805</td>\n",
       "      <td>Fountain Gate, Narre Warren, Narre Warren South</td>\n",
       "      <td>335</td>\n",
       "    </tr>\n",
       "  </tbody>\n",
       "</table>\n",
       "</div>"
      ],
      "text/plain": [
       "   Number  Postcode                                            Suburbs  \\\n",
       "0       1      3029                          Hoppers Crossing, Tarneit   \n",
       "1       2      3977                    Cranbourne, Devon Meadows, Skye   \n",
       "2       3      3064  Craigieburn, Donnybrook, Roxburgh Park, Mickleham   \n",
       "3       4      3030                     Point Cook, Werribee, Derrimut   \n",
       "4       5      3754                                     Doreen, Mernda   \n",
       "5       6      3810                                 Pakenham, Rythdale   \n",
       "6       7      3350  Alfredton, Ballarat, Canadian, Invermay Park, ...   \n",
       "7       8      3216  Belmont, Grovedale, Highton, Marshall, Waurn P...   \n",
       "8       9      3136  Croydon, Croydon Hills, Croydon North, Croydon...   \n",
       "9      10      3805    Fountain Gate, Narre Warren, Narre Warren South   \n",
       "\n",
       "   Number of Applications  \n",
       "0                    1069  \n",
       "1                    1037  \n",
       "2                     821  \n",
       "3                     816  \n",
       "4                     530  \n",
       "5                     479  \n",
       "6                     383  \n",
       "7                     351  \n",
       "8                     344  \n",
       "9                     335  "
      ]
     },
     "execution_count": 23,
     "metadata": {},
     "output_type": "execute_result"
    }
   ],
   "source": [
    "# Load the CSV file into a DataFrame\n",
    "csv_df = pd.read_csv(csv_url, skiprows=1)\n",
    "csv_df"
   ]
  },
  {
   "cell_type": "code",
   "execution_count": 24,
   "id": "connected-window",
   "metadata": {},
   "outputs": [],
   "source": [
    "# Create a new variable called tsv_url containing the URL to the raw TSV file\n",
    "tsv_url = 'https://raw.githubusercontent.com/PacktWorkshops/The-Data-Science-Workshop/master/Chapter01/Dataset/overall_topten_2012-2013.tsv'"
   ]
  },
  {
   "cell_type": "code",
   "execution_count": 25,
   "id": "fiscal-solid",
   "metadata": {},
   "outputs": [
    {
     "data": {
      "text/html": [
       "<div>\n",
       "<style scoped>\n",
       "    .dataframe tbody tr th:only-of-type {\n",
       "        vertical-align: middle;\n",
       "    }\n",
       "\n",
       "    .dataframe tbody tr th {\n",
       "        vertical-align: top;\n",
       "    }\n",
       "\n",
       "    .dataframe thead th {\n",
       "        text-align: right;\n",
       "    }\n",
       "</style>\n",
       "<table border=\"1\" class=\"dataframe\">\n",
       "  <thead>\n",
       "    <tr style=\"text-align: right;\">\n",
       "      <th></th>\n",
       "      <th>Number</th>\n",
       "      <th>Postcode</th>\n",
       "      <th>Suburbs</th>\n",
       "      <th>Number of Applications</th>\n",
       "    </tr>\n",
       "  </thead>\n",
       "  <tbody>\n",
       "    <tr>\n",
       "      <th>0</th>\n",
       "      <td>1</td>\n",
       "      <td>3029</td>\n",
       "      <td>Hoppers Crossing, Tarneit</td>\n",
       "      <td>1069</td>\n",
       "    </tr>\n",
       "    <tr>\n",
       "      <th>1</th>\n",
       "      <td>2</td>\n",
       "      <td>3977</td>\n",
       "      <td>Cranbourne, Devon Meadows, Skye</td>\n",
       "      <td>1037</td>\n",
       "    </tr>\n",
       "    <tr>\n",
       "      <th>2</th>\n",
       "      <td>3</td>\n",
       "      <td>3064</td>\n",
       "      <td>Craigieburn, Donnybrook, Roxburgh Park, Mickleham</td>\n",
       "      <td>821</td>\n",
       "    </tr>\n",
       "    <tr>\n",
       "      <th>3</th>\n",
       "      <td>4</td>\n",
       "      <td>3030</td>\n",
       "      <td>Point Cook, Werribee, Derrimut</td>\n",
       "      <td>816</td>\n",
       "    </tr>\n",
       "    <tr>\n",
       "      <th>4</th>\n",
       "      <td>5</td>\n",
       "      <td>3754</td>\n",
       "      <td>Doreen, Mernda</td>\n",
       "      <td>530</td>\n",
       "    </tr>\n",
       "    <tr>\n",
       "      <th>5</th>\n",
       "      <td>6</td>\n",
       "      <td>3810</td>\n",
       "      <td>Pakenham, Rythdale</td>\n",
       "      <td>479</td>\n",
       "    </tr>\n",
       "    <tr>\n",
       "      <th>6</th>\n",
       "      <td>7</td>\n",
       "      <td>3350</td>\n",
       "      <td>Alfredton, Ballarat, Canadian, Invermay Park, ...</td>\n",
       "      <td>383</td>\n",
       "    </tr>\n",
       "    <tr>\n",
       "      <th>7</th>\n",
       "      <td>8</td>\n",
       "      <td>3216</td>\n",
       "      <td>Belmont, Grovedale, Highton, Marshall, Waurn P...</td>\n",
       "      <td>351</td>\n",
       "    </tr>\n",
       "    <tr>\n",
       "      <th>8</th>\n",
       "      <td>9</td>\n",
       "      <td>3136</td>\n",
       "      <td>Croydon, Croydon Hills, Croydon North, Croydon...</td>\n",
       "      <td>344</td>\n",
       "    </tr>\n",
       "    <tr>\n",
       "      <th>9</th>\n",
       "      <td>10</td>\n",
       "      <td>3805</td>\n",
       "      <td>Fountain Gate, Narre Warren, Narre Warren South</td>\n",
       "      <td>335</td>\n",
       "    </tr>\n",
       "  </tbody>\n",
       "</table>\n",
       "</div>"
      ],
      "text/plain": [
       "   Number  Postcode                                            Suburbs  \\\n",
       "0       1      3029                          Hoppers Crossing, Tarneit   \n",
       "1       2      3977                    Cranbourne, Devon Meadows, Skye   \n",
       "2       3      3064  Craigieburn, Donnybrook, Roxburgh Park, Mickleham   \n",
       "3       4      3030                     Point Cook, Werribee, Derrimut   \n",
       "4       5      3754                                     Doreen, Mernda   \n",
       "5       6      3810                                 Pakenham, Rythdale   \n",
       "6       7      3350  Alfredton, Ballarat, Canadian, Invermay Park, ...   \n",
       "7       8      3216  Belmont, Grovedale, Highton, Marshall, Waurn P...   \n",
       "8       9      3136  Croydon, Croydon Hills, Croydon North, Croydon...   \n",
       "9      10      3805    Fountain Gate, Narre Warren, Narre Warren South   \n",
       "\n",
       "   Number of Applications  \n",
       "0                    1069  \n",
       "1                    1037  \n",
       "2                     821  \n",
       "3                     816  \n",
       "4                     530  \n",
       "5                     479  \n",
       "6                     383  \n",
       "7                     351  \n",
       "8                     344  \n",
       "9                     335  "
      ]
     },
     "execution_count": 25,
     "metadata": {},
     "output_type": "execute_result"
    }
   ],
   "source": [
    "# Load the TSV file into a DataFrame\n",
    "tsv_df = pd.read_csv(tsv_url, skiprows=1, sep='\\t')\n",
    "tsv_df"
   ]
  },
  {
   "cell_type": "code",
   "execution_count": 26,
   "id": "solved-procurement",
   "metadata": {},
   "outputs": [],
   "source": [
    "# Create a new variable called xlsx_url containing the URL to the raw Excel spreadsheet\n",
    "xlsx_url = 'https://github.com/PacktWorkshops/The-Data-Science-Workshop/blob/master/Chapter01/Dataset/overall_topten_2012-2013.xlsx?raw=true'"
   ]
  },
  {
   "cell_type": "code",
   "execution_count": 27,
   "id": "biblical-cooking",
   "metadata": {},
   "outputs": [
    {
     "data": {
      "text/html": [
       "<div>\n",
       "<style scoped>\n",
       "    .dataframe tbody tr th:only-of-type {\n",
       "        vertical-align: middle;\n",
       "    }\n",
       "\n",
       "    .dataframe tbody tr th {\n",
       "        vertical-align: top;\n",
       "    }\n",
       "\n",
       "    .dataframe thead th {\n",
       "        text-align: right;\n",
       "    }\n",
       "</style>\n",
       "<table border=\"1\" class=\"dataframe\">\n",
       "  <thead>\n",
       "    <tr style=\"text-align: right;\">\n",
       "      <th></th>\n",
       "      <th>This tab doesn't contain the data we are looking for</th>\n",
       "    </tr>\n",
       "  </thead>\n",
       "  <tbody>\n",
       "  </tbody>\n",
       "</table>\n",
       "</div>"
      ],
      "text/plain": [
       "Empty DataFrame\n",
       "Columns: [This tab doesn't contain the data we are looking for]\n",
       "Index: []"
      ]
     },
     "execution_count": 27,
     "metadata": {},
     "output_type": "execute_result"
    }
   ],
   "source": [
    "# Load the Excel spreadsheet into a DataFrame\n",
    "xlsx_df = pd.read_excel(xlsx_url)\n",
    "xlsx_df"
   ]
  },
  {
   "cell_type": "markdown",
   "id": "restricted-laser",
   "metadata": {},
   "source": [
    "By default, .read_excel() loads the first sheet of an Excel spreadsheet. In this example, the data we're looking for is actually stored in the second sheet."
   ]
  },
  {
   "cell_type": "code",
   "execution_count": 28,
   "id": "representative-fireplace",
   "metadata": {},
   "outputs": [
    {
     "data": {
      "text/html": [
       "<div>\n",
       "<style scoped>\n",
       "    .dataframe tbody tr th:only-of-type {\n",
       "        vertical-align: middle;\n",
       "    }\n",
       "\n",
       "    .dataframe tbody tr th {\n",
       "        vertical-align: top;\n",
       "    }\n",
       "\n",
       "    .dataframe thead th {\n",
       "        text-align: right;\n",
       "    }\n",
       "</style>\n",
       "<table border=\"1\" class=\"dataframe\">\n",
       "  <thead>\n",
       "    <tr style=\"text-align: right;\">\n",
       "      <th></th>\n",
       "      <th>Number</th>\n",
       "      <th>Postcode</th>\n",
       "      <th>Suburbs</th>\n",
       "      <th>Number of Applications</th>\n",
       "    </tr>\n",
       "  </thead>\n",
       "  <tbody>\n",
       "    <tr>\n",
       "      <th>0</th>\n",
       "      <td>1</td>\n",
       "      <td>3029</td>\n",
       "      <td>Hoppers Crossing, Tarneit</td>\n",
       "      <td>1069</td>\n",
       "    </tr>\n",
       "    <tr>\n",
       "      <th>1</th>\n",
       "      <td>2</td>\n",
       "      <td>3977</td>\n",
       "      <td>Cranbourne, Devon Meadows, Skye</td>\n",
       "      <td>1037</td>\n",
       "    </tr>\n",
       "    <tr>\n",
       "      <th>2</th>\n",
       "      <td>3</td>\n",
       "      <td>3064</td>\n",
       "      <td>Craigieburn, Donnybrook, Roxburgh Park, Mickleham</td>\n",
       "      <td>821</td>\n",
       "    </tr>\n",
       "    <tr>\n",
       "      <th>3</th>\n",
       "      <td>4</td>\n",
       "      <td>3030</td>\n",
       "      <td>Point Cook, Werribee, Derrimut</td>\n",
       "      <td>816</td>\n",
       "    </tr>\n",
       "    <tr>\n",
       "      <th>4</th>\n",
       "      <td>5</td>\n",
       "      <td>3754</td>\n",
       "      <td>Doreen, Mernda</td>\n",
       "      <td>530</td>\n",
       "    </tr>\n",
       "    <tr>\n",
       "      <th>5</th>\n",
       "      <td>6</td>\n",
       "      <td>3810</td>\n",
       "      <td>Pakenham, Rythdale</td>\n",
       "      <td>479</td>\n",
       "    </tr>\n",
       "    <tr>\n",
       "      <th>6</th>\n",
       "      <td>7</td>\n",
       "      <td>3350</td>\n",
       "      <td>Alfredton, Ballarat, Canadian, Invermay Park, ...</td>\n",
       "      <td>383</td>\n",
       "    </tr>\n",
       "    <tr>\n",
       "      <th>7</th>\n",
       "      <td>8</td>\n",
       "      <td>3216</td>\n",
       "      <td>Belmont, Grovedale, Highton, Marshall, Waurn P...</td>\n",
       "      <td>351</td>\n",
       "    </tr>\n",
       "    <tr>\n",
       "      <th>8</th>\n",
       "      <td>9</td>\n",
       "      <td>3136</td>\n",
       "      <td>Croydon, Croydon Hills, Croydon North, Croydon...</td>\n",
       "      <td>344</td>\n",
       "    </tr>\n",
       "    <tr>\n",
       "      <th>9</th>\n",
       "      <td>10</td>\n",
       "      <td>3805</td>\n",
       "      <td>Fountain Gate, Narre Warren, Narre Warren South</td>\n",
       "      <td>335</td>\n",
       "    </tr>\n",
       "  </tbody>\n",
       "</table>\n",
       "</div>"
      ],
      "text/plain": [
       "   Number  Postcode                                            Suburbs  \\\n",
       "0       1      3029                          Hoppers Crossing, Tarneit   \n",
       "1       2      3977                    Cranbourne, Devon Meadows, Skye   \n",
       "2       3      3064  Craigieburn, Donnybrook, Roxburgh Park, Mickleham   \n",
       "3       4      3030                     Point Cook, Werribee, Derrimut   \n",
       "4       5      3754                                     Doreen, Mernda   \n",
       "5       6      3810                                 Pakenham, Rythdale   \n",
       "6       7      3350  Alfredton, Ballarat, Canadian, Invermay Park, ...   \n",
       "7       8      3216  Belmont, Grovedale, Highton, Marshall, Waurn P...   \n",
       "8       9      3136  Croydon, Croydon Hills, Croydon North, Croydon...   \n",
       "9      10      3805    Fountain Gate, Narre Warren, Narre Warren South   \n",
       "\n",
       "   Number of Applications  \n",
       "0                    1069  \n",
       "1                    1037  \n",
       "2                     821  \n",
       "3                     816  \n",
       "4                     530  \n",
       "5                     479  \n",
       "6                     383  \n",
       "7                     351  \n",
       "8                     344  \n",
       "9                     335  "
      ]
     },
     "execution_count": 28,
     "metadata": {},
     "output_type": "execute_result"
    }
   ],
   "source": [
    "# Load the Excel spreadsheet into a Dataframe\n",
    "xlsx_df1 = pd.read_excel(xlsx_url, skiprows=1, sheet_name=1)\n",
    "xlsx_df1"
   ]
  },
  {
   "cell_type": "markdown",
   "id": "affecting-loading",
   "metadata": {},
   "source": [
    "# Predicting Breast Cancer from a Dataset Using sklearn"
   ]
  },
  {
   "cell_type": "code",
   "execution_count": 29,
   "id": "subtle-biology",
   "metadata": {},
   "outputs": [],
   "source": [
    "# Import the load_breast_cancer function \n",
    "from sklearn.datasets import load_breast_cancer"
   ]
  },
  {
   "cell_type": "code",
   "execution_count": 30,
   "id": "approximate-ethnic",
   "metadata": {},
   "outputs": [],
   "source": [
    "# load the dataset\n",
    "features, target = load_breast_cancer(return_X_y=True)"
   ]
  },
  {
   "cell_type": "code",
   "execution_count": 31,
   "id": "parental-ecology",
   "metadata": {},
   "outputs": [
    {
     "name": "stdout",
     "output_type": "stream",
     "text": [
      "[[1.799e+01 1.038e+01 1.228e+02 ... 2.654e-01 4.601e-01 1.189e-01]\n",
      " [2.057e+01 1.777e+01 1.329e+02 ... 1.860e-01 2.750e-01 8.902e-02]\n",
      " [1.969e+01 2.125e+01 1.300e+02 ... 2.430e-01 3.613e-01 8.758e-02]\n",
      " ...\n",
      " [1.660e+01 2.808e+01 1.083e+02 ... 1.418e-01 2.218e-01 7.820e-02]\n",
      " [2.060e+01 2.933e+01 1.401e+02 ... 2.650e-01 4.087e-01 1.240e-01]\n",
      " [7.760e+00 2.454e+01 4.792e+01 ... 0.000e+00 2.871e-01 7.039e-02]]\n"
     ]
    }
   ],
   "source": [
    "# print the variabel features\n",
    "print(features)"
   ]
  },
  {
   "cell_type": "code",
   "execution_count": 32,
   "id": "combined-router",
   "metadata": {},
   "outputs": [
    {
     "name": "stdout",
     "output_type": "stream",
     "text": [
      "[0 0 0 0 0 0 0 0 0 0 0 0 0 0 0 0 0 0 0 1 1 1 0 0 0 0 0 0 0 0 0 0 0 0 0 0 0\n",
      " 1 0 0 0 0 0 0 0 0 1 0 1 1 1 1 1 0 0 1 0 0 1 1 1 1 0 1 0 0 1 1 1 1 0 1 0 0\n",
      " 1 0 1 0 0 1 1 1 0 0 1 0 0 0 1 1 1 0 1 1 0 0 1 1 1 0 0 1 1 1 1 0 1 1 0 1 1\n",
      " 1 1 1 1 1 1 0 0 0 1 0 0 1 1 1 0 0 1 0 1 0 0 1 0 0 1 1 0 1 1 0 1 1 1 1 0 1\n",
      " 1 1 1 1 1 1 1 1 0 1 1 1 1 0 0 1 0 1 1 0 0 1 1 0 0 1 1 1 1 0 1 1 0 0 0 1 0\n",
      " 1 0 1 1 1 0 1 1 0 0 1 0 0 0 0 1 0 0 0 1 0 1 0 1 1 0 1 0 0 0 0 1 1 0 0 1 1\n",
      " 1 0 1 1 1 1 1 0 0 1 1 0 1 1 0 0 1 0 1 1 1 1 0 1 1 1 1 1 0 1 0 0 0 0 0 0 0\n",
      " 0 0 0 0 0 0 0 1 1 1 1 1 1 0 1 0 1 1 0 1 1 0 1 0 0 1 1 1 1 1 1 1 1 1 1 1 1\n",
      " 1 0 1 1 0 1 0 1 1 1 1 1 1 1 1 1 1 1 1 1 1 0 1 1 1 0 1 0 1 1 1 1 0 0 0 1 1\n",
      " 1 1 0 1 0 1 0 1 1 1 0 1 1 1 1 1 1 1 0 0 0 1 1 1 1 1 1 1 1 1 1 1 0 0 1 0 0\n",
      " 0 1 0 0 1 1 1 1 1 0 1 1 1 1 1 0 1 1 1 0 1 1 0 0 1 1 1 1 1 1 0 1 1 1 1 1 1\n",
      " 1 0 1 1 1 1 1 0 1 1 0 1 1 1 1 1 1 1 1 1 1 1 1 0 1 0 0 1 0 1 1 1 1 1 0 1 1\n",
      " 0 1 0 1 1 0 1 0 1 1 1 1 1 1 1 1 0 0 1 1 1 1 1 1 0 1 1 1 1 1 1 1 1 1 1 0 1\n",
      " 1 1 1 1 1 1 0 1 0 1 1 0 1 1 1 1 1 0 0 1 0 1 0 1 1 1 1 1 0 1 1 0 1 0 1 0 0\n",
      " 1 1 1 0 1 1 1 1 1 1 1 1 1 1 1 0 1 0 0 1 1 1 1 1 1 1 1 1 1 1 1 1 1 1 1 1 1\n",
      " 1 1 1 1 1 1 1 0 0 0 0 0 0 1]\n"
     ]
    }
   ],
   "source": [
    "# print target variable\n",
    "print(target)"
   ]
  },
  {
   "cell_type": "code",
   "execution_count": 33,
   "id": "skilled-extent",
   "metadata": {},
   "outputs": [],
   "source": [
    "# import RandomForestClassifier\n",
    "from sklearn.ensemble import RandomForestClassifier"
   ]
  },
  {
   "cell_type": "code",
   "execution_count": 34,
   "id": "capital-perception",
   "metadata": {},
   "outputs": [],
   "source": [
    "# set seed\n",
    "seed = 888"
   ]
  },
  {
   "cell_type": "code",
   "execution_count": 35,
   "id": "friendly-execution",
   "metadata": {},
   "outputs": [],
   "source": [
    "# Instantiate RandomForestClassifier\n",
    "rf_model = RandomForestClassifier(random_state=seed)"
   ]
  },
  {
   "cell_type": "code",
   "execution_count": 36,
   "id": "subjective-performer",
   "metadata": {},
   "outputs": [
    {
     "data": {
      "text/plain": [
       "RandomForestClassifier(random_state=888)"
      ]
     },
     "execution_count": 36,
     "metadata": {},
     "output_type": "execute_result"
    }
   ],
   "source": [
    "# train the model\n",
    "rf_model.fit(features, target)"
   ]
  },
  {
   "cell_type": "code",
   "execution_count": 37,
   "id": "social-villa",
   "metadata": {},
   "outputs": [],
   "source": [
    "# make predictions\n",
    "preds = rf_model.predict(features)"
   ]
  },
  {
   "cell_type": "code",
   "execution_count": 38,
   "id": "essential-compensation",
   "metadata": {},
   "outputs": [
    {
     "name": "stdout",
     "output_type": "stream",
     "text": [
      "[0 0 0 0 0 0 0 0 0 0 0 0 0 0 0 0 0 0 0 1 1 1 0 0 0 0 0 0 0 0 0 0 0 0 0 0 0\n",
      " 1 0 0 0 0 0 0 0 0 1 0 1 1 1 1 1 0 0 1 0 0 1 1 1 1 0 1 0 0 1 1 1 1 0 1 0 0\n",
      " 1 0 1 0 0 1 1 1 0 0 1 0 0 0 1 1 1 0 1 1 0 0 1 1 1 0 0 1 1 1 1 0 1 1 0 1 1\n",
      " 1 1 1 1 1 1 0 0 0 1 0 0 1 1 1 0 0 1 0 1 0 0 1 0 0 1 1 0 1 1 0 1 1 1 1 0 1\n",
      " 1 1 1 1 1 1 1 1 0 1 1 1 1 0 0 1 0 1 1 0 0 1 1 0 0 1 1 1 1 0 1 1 0 0 0 1 0\n",
      " 1 0 1 1 1 0 1 1 0 0 1 0 0 0 0 1 0 0 0 1 0 1 0 1 1 0 1 0 0 0 0 1 1 0 0 1 1\n",
      " 1 0 1 1 1 1 1 0 0 1 1 0 1 1 0 0 1 0 1 1 1 1 0 1 1 1 1 1 0 1 0 0 0 0 0 0 0\n",
      " 0 0 0 0 0 0 0 1 1 1 1 1 1 0 1 0 1 1 0 1 1 0 1 0 0 1 1 1 1 1 1 1 1 1 1 1 1\n",
      " 1 0 1 1 0 1 0 1 1 1 1 1 1 1 1 1 1 1 1 1 1 0 1 1 1 0 1 0 1 1 1 1 0 0 0 1 1\n",
      " 1 1 0 1 0 1 0 1 1 1 0 1 1 1 1 1 1 1 0 0 0 1 1 1 1 1 1 1 1 1 1 1 0 0 1 0 0\n",
      " 0 1 0 0 1 1 1 1 1 0 1 1 1 1 1 0 1 1 1 0 1 1 0 0 1 1 1 1 1 1 0 1 1 1 1 1 1\n",
      " 1 0 1 1 1 1 1 0 1 1 0 1 1 1 1 1 1 1 1 1 1 1 1 0 1 0 0 1 0 1 1 1 1 1 0 1 1\n",
      " 0 1 0 1 1 0 1 0 1 1 1 1 1 1 1 1 0 0 1 1 1 1 1 1 0 1 1 1 1 1 1 1 1 1 1 0 1\n",
      " 1 1 1 1 1 1 0 1 0 1 1 0 1 1 1 1 1 0 0 1 0 1 0 1 1 1 1 1 0 1 1 0 1 0 1 0 0\n",
      " 1 1 1 0 1 1 1 1 1 1 1 1 1 1 1 0 1 0 0 1 1 1 1 1 1 1 1 1 1 1 1 1 1 1 1 1 1\n",
      " 1 1 1 1 1 1 1 0 0 0 0 0 0 1]\n"
     ]
    }
   ],
   "source": [
    "# print the predictions\n",
    "print(preds)"
   ]
  },
  {
   "cell_type": "code",
   "execution_count": 39,
   "id": "forty-outreach",
   "metadata": {},
   "outputs": [],
   "source": [
    "# import accuracy_score function\n",
    "from sklearn.metrics import accuracy_score"
   ]
  },
  {
   "cell_type": "code",
   "execution_count": 40,
   "id": "toxic-converter",
   "metadata": {},
   "outputs": [
    {
     "data": {
      "text/plain": [
       "1.0"
      ]
     },
     "execution_count": 40,
     "metadata": {},
     "output_type": "execute_result"
    }
   ],
   "source": [
    "# calculate accuracy\n",
    "accuracy_score(target, preds)"
   ]
  }
 ],
 "metadata": {
  "kernelspec": {
   "display_name": "Python 3",
   "language": "python",
   "name": "python3"
  },
  "language_info": {
   "codemirror_mode": {
    "name": "ipython",
    "version": 3
   },
   "file_extension": ".py",
   "mimetype": "text/x-python",
   "name": "python",
   "nbconvert_exporter": "python",
   "pygments_lexer": "ipython3",
   "version": "3.7.7"
  }
 },
 "nbformat": 4,
 "nbformat_minor": 5
}
