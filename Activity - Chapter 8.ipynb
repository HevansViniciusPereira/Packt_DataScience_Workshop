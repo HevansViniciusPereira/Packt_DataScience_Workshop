{
 "cells": [
  {
   "cell_type": "markdown",
   "id": "bulgarian-trinidad",
   "metadata": {},
   "source": [
    "# Is the Mushroom Poisonous?"
   ]
  },
  {
   "cell_type": "markdown",
   "id": "structured-workplace",
   "metadata": {},
   "source": [
    "<b> Load the data </b>"
   ]
  },
  {
   "cell_type": "code",
   "execution_count": 1,
   "id": "sought-physics",
   "metadata": {},
   "outputs": [],
   "source": [
    "import pandas as pd\n",
    "from sklearn.preprocessing import OneHotEncoder\n",
    "from sklearn.ensemble import RandomForestClassifier\n",
    "from sklearn.model_selection import GridSearchCV, RandomizedSearchCV\n",
    "import matplotlib.pyplot as plt\n",
    "from scipy import stats"
   ]
  },
  {
   "cell_type": "code",
   "execution_count": 2,
   "id": "wrapped-objective",
   "metadata": {},
   "outputs": [],
   "source": [
    "url_path = 'https://raw.githubusercontent.com/PacktWorkshops/The-Data-Science-Workshop/master/Chapter08/Dataset/agaricus-lepiota.data'"
   ]
  },
  {
   "cell_type": "code",
   "execution_count": 3,
   "id": "european-intermediate",
   "metadata": {},
   "outputs": [
    {
     "data": {
      "text/html": [
       "<div>\n",
       "<style scoped>\n",
       "    .dataframe tbody tr th:only-of-type {\n",
       "        vertical-align: middle;\n",
       "    }\n",
       "\n",
       "    .dataframe tbody tr th {\n",
       "        vertical-align: top;\n",
       "    }\n",
       "\n",
       "    .dataframe thead th {\n",
       "        text-align: right;\n",
       "    }\n",
       "</style>\n",
       "<table border=\"1\" class=\"dataframe\">\n",
       "  <thead>\n",
       "    <tr style=\"text-align: right;\">\n",
       "      <th></th>\n",
       "      <th>0</th>\n",
       "      <th>1</th>\n",
       "      <th>2</th>\n",
       "      <th>3</th>\n",
       "      <th>4</th>\n",
       "      <th>5</th>\n",
       "      <th>6</th>\n",
       "      <th>7</th>\n",
       "      <th>8</th>\n",
       "      <th>9</th>\n",
       "      <th>...</th>\n",
       "      <th>13</th>\n",
       "      <th>14</th>\n",
       "      <th>15</th>\n",
       "      <th>16</th>\n",
       "      <th>17</th>\n",
       "      <th>18</th>\n",
       "      <th>19</th>\n",
       "      <th>20</th>\n",
       "      <th>21</th>\n",
       "      <th>22</th>\n",
       "    </tr>\n",
       "  </thead>\n",
       "  <tbody>\n",
       "    <tr>\n",
       "      <th>0</th>\n",
       "      <td>p</td>\n",
       "      <td>x</td>\n",
       "      <td>s</td>\n",
       "      <td>n</td>\n",
       "      <td>t</td>\n",
       "      <td>p</td>\n",
       "      <td>f</td>\n",
       "      <td>c</td>\n",
       "      <td>n</td>\n",
       "      <td>k</td>\n",
       "      <td>...</td>\n",
       "      <td>s</td>\n",
       "      <td>w</td>\n",
       "      <td>w</td>\n",
       "      <td>p</td>\n",
       "      <td>w</td>\n",
       "      <td>o</td>\n",
       "      <td>p</td>\n",
       "      <td>k</td>\n",
       "      <td>s</td>\n",
       "      <td>u</td>\n",
       "    </tr>\n",
       "    <tr>\n",
       "      <th>1</th>\n",
       "      <td>e</td>\n",
       "      <td>x</td>\n",
       "      <td>s</td>\n",
       "      <td>y</td>\n",
       "      <td>t</td>\n",
       "      <td>a</td>\n",
       "      <td>f</td>\n",
       "      <td>c</td>\n",
       "      <td>b</td>\n",
       "      <td>k</td>\n",
       "      <td>...</td>\n",
       "      <td>s</td>\n",
       "      <td>w</td>\n",
       "      <td>w</td>\n",
       "      <td>p</td>\n",
       "      <td>w</td>\n",
       "      <td>o</td>\n",
       "      <td>p</td>\n",
       "      <td>n</td>\n",
       "      <td>n</td>\n",
       "      <td>g</td>\n",
       "    </tr>\n",
       "    <tr>\n",
       "      <th>2</th>\n",
       "      <td>e</td>\n",
       "      <td>b</td>\n",
       "      <td>s</td>\n",
       "      <td>w</td>\n",
       "      <td>t</td>\n",
       "      <td>l</td>\n",
       "      <td>f</td>\n",
       "      <td>c</td>\n",
       "      <td>b</td>\n",
       "      <td>n</td>\n",
       "      <td>...</td>\n",
       "      <td>s</td>\n",
       "      <td>w</td>\n",
       "      <td>w</td>\n",
       "      <td>p</td>\n",
       "      <td>w</td>\n",
       "      <td>o</td>\n",
       "      <td>p</td>\n",
       "      <td>n</td>\n",
       "      <td>n</td>\n",
       "      <td>m</td>\n",
       "    </tr>\n",
       "    <tr>\n",
       "      <th>3</th>\n",
       "      <td>p</td>\n",
       "      <td>x</td>\n",
       "      <td>y</td>\n",
       "      <td>w</td>\n",
       "      <td>t</td>\n",
       "      <td>p</td>\n",
       "      <td>f</td>\n",
       "      <td>c</td>\n",
       "      <td>n</td>\n",
       "      <td>n</td>\n",
       "      <td>...</td>\n",
       "      <td>s</td>\n",
       "      <td>w</td>\n",
       "      <td>w</td>\n",
       "      <td>p</td>\n",
       "      <td>w</td>\n",
       "      <td>o</td>\n",
       "      <td>p</td>\n",
       "      <td>k</td>\n",
       "      <td>s</td>\n",
       "      <td>u</td>\n",
       "    </tr>\n",
       "    <tr>\n",
       "      <th>4</th>\n",
       "      <td>e</td>\n",
       "      <td>x</td>\n",
       "      <td>s</td>\n",
       "      <td>g</td>\n",
       "      <td>f</td>\n",
       "      <td>n</td>\n",
       "      <td>f</td>\n",
       "      <td>w</td>\n",
       "      <td>b</td>\n",
       "      <td>k</td>\n",
       "      <td>...</td>\n",
       "      <td>s</td>\n",
       "      <td>w</td>\n",
       "      <td>w</td>\n",
       "      <td>p</td>\n",
       "      <td>w</td>\n",
       "      <td>o</td>\n",
       "      <td>e</td>\n",
       "      <td>n</td>\n",
       "      <td>a</td>\n",
       "      <td>g</td>\n",
       "    </tr>\n",
       "  </tbody>\n",
       "</table>\n",
       "<p>5 rows × 23 columns</p>\n",
       "</div>"
      ],
      "text/plain": [
       "  0  1  2  3  4  5  6  7  8  9   ... 13 14 15 16 17 18 19 20 21 22\n",
       "0  p  x  s  n  t  p  f  c  n  k  ...  s  w  w  p  w  o  p  k  s  u\n",
       "1  e  x  s  y  t  a  f  c  b  k  ...  s  w  w  p  w  o  p  n  n  g\n",
       "2  e  b  s  w  t  l  f  c  b  n  ...  s  w  w  p  w  o  p  n  n  m\n",
       "3  p  x  y  w  t  p  f  c  n  n  ...  s  w  w  p  w  o  p  k  s  u\n",
       "4  e  x  s  g  f  n  f  w  b  k  ...  s  w  w  p  w  o  e  n  a  g\n",
       "\n",
       "[5 rows x 23 columns]"
      ]
     },
     "execution_count": 3,
     "metadata": {},
     "output_type": "execute_result"
    }
   ],
   "source": [
    "df = pd.read_csv(url_path, header=None)\n",
    "df.head()"
   ]
  },
  {
   "cell_type": "markdown",
   "id": "boring-nightmare",
   "metadata": {},
   "source": [
    "<b> Separate the target, y and features, X from the dataset </b>"
   ]
  },
  {
   "cell_type": "code",
   "execution_count": 4,
   "id": "behavioral-individual",
   "metadata": {},
   "outputs": [],
   "source": [
    "y = df[0]\n",
    "X = df.iloc[:, 1:]"
   ]
  },
  {
   "cell_type": "markdown",
   "id": "caring-grenada",
   "metadata": {},
   "source": [
    "<b> Recode the target, y, so that poisonous mushrooms are represented as 1 and edible mushrooms as 0 </b>"
   ]
  },
  {
   "cell_type": "code",
   "execution_count": 5,
   "id": "leading-cabinet",
   "metadata": {},
   "outputs": [
    {
     "data": {
      "text/plain": [
       "0       1\n",
       "1       0\n",
       "2       0\n",
       "3       1\n",
       "4       0\n",
       "       ..\n",
       "8119    0\n",
       "8120    0\n",
       "8121    0\n",
       "8122    1\n",
       "8123    0\n",
       "Name: 0, Length: 8124, dtype: int32"
      ]
     },
     "execution_count": 5,
     "metadata": {},
     "output_type": "execute_result"
    }
   ],
   "source": [
    "y = (y == 'p') * 1\n",
    "y"
   ]
  },
  {
   "cell_type": "markdown",
   "id": "rocky-ranking",
   "metadata": {},
   "source": [
    "<b> Transform the columns of the feature set X into a numpy array with a binary representation </b>"
   ]
  },
  {
   "cell_type": "code",
   "execution_count": 6,
   "id": "federal-tunnel",
   "metadata": {},
   "outputs": [
    {
     "data": {
      "text/plain": [
       "OneHotEncoder()"
      ]
     },
     "execution_count": 6,
     "metadata": {},
     "output_type": "execute_result"
    }
   ],
   "source": [
    "encoder = OneHotEncoder()\n",
    "encoder.fit(X)"
   ]
  },
  {
   "cell_type": "code",
   "execution_count": 7,
   "id": "unlike-olive",
   "metadata": {},
   "outputs": [],
   "source": [
    "X = encoder.transform(X).toarray()"
   ]
  },
  {
   "cell_type": "markdown",
   "id": "comfortable-respondent",
   "metadata": {},
   "source": [
    "<b> Conduct both a grid and random search to find an optimal hyperparameterization for a random forest classifier. Use accuracy as your method of model evaluation. Make sure that when you initialize the classifier and when you conduct your random search, random_state = 100 </b>"
   ]
  },
  {
   "cell_type": "markdown",
   "id": "ultimate-lotus",
   "metadata": {},
   "source": [
    "Grid Search"
   ]
  },
  {
   "cell_type": "code",
   "execution_count": 8,
   "id": "hydraulic-peripheral",
   "metadata": {},
   "outputs": [],
   "source": [
    "rfc = RandomForestClassifier(n_estimators=100, random_state=100)"
   ]
  },
  {
   "cell_type": "code",
   "execution_count": 9,
   "id": "conceptual-baker",
   "metadata": {},
   "outputs": [],
   "source": [
    "grid = {'criterion': ['gini', 'entropy'], \n",
    "       'max_features': [2, 4, 6, 8, 10, 12, 14]}"
   ]
  },
  {
   "cell_type": "code",
   "execution_count": 10,
   "id": "champion-recommendation",
   "metadata": {},
   "outputs": [],
   "source": [
    "gscv = GridSearchCV(estimator=rfc,\n",
    "                   param_grid=grid,\n",
    "                   cv=5,\n",
    "                   scoring='accuracy')"
   ]
  },
  {
   "cell_type": "code",
   "execution_count": 11,
   "id": "beneficial-yahoo",
   "metadata": {},
   "outputs": [
    {
     "data": {
      "text/plain": [
       "GridSearchCV(cv=5, estimator=RandomForestClassifier(random_state=100),\n",
       "             param_grid={'criterion': ['gini', 'entropy'],\n",
       "                         'max_features': [2, 4, 6, 8, 10, 12, 14]},\n",
       "             scoring='accuracy')"
      ]
     },
     "execution_count": 11,
     "metadata": {},
     "output_type": "execute_result"
    }
   ],
   "source": [
    "gscv.fit(X, y)"
   ]
  },
  {
   "cell_type": "code",
   "execution_count": 12,
   "id": "naval-trainer",
   "metadata": {},
   "outputs": [
    {
     "data": {
      "text/html": [
       "<div>\n",
       "<style scoped>\n",
       "    .dataframe tbody tr th:only-of-type {\n",
       "        vertical-align: middle;\n",
       "    }\n",
       "\n",
       "    .dataframe tbody tr th {\n",
       "        vertical-align: top;\n",
       "    }\n",
       "\n",
       "    .dataframe thead th {\n",
       "        text-align: right;\n",
       "    }\n",
       "</style>\n",
       "<table border=\"1\" class=\"dataframe\">\n",
       "  <thead>\n",
       "    <tr style=\"text-align: right;\">\n",
       "      <th></th>\n",
       "      <th>mean_fit_time</th>\n",
       "      <th>std_fit_time</th>\n",
       "      <th>mean_score_time</th>\n",
       "      <th>std_score_time</th>\n",
       "      <th>param_criterion</th>\n",
       "      <th>param_max_features</th>\n",
       "      <th>params</th>\n",
       "      <th>split0_test_score</th>\n",
       "      <th>split1_test_score</th>\n",
       "      <th>split2_test_score</th>\n",
       "      <th>split3_test_score</th>\n",
       "      <th>split4_test_score</th>\n",
       "      <th>mean_test_score</th>\n",
       "      <th>std_test_score</th>\n",
       "      <th>rank_test_score</th>\n",
       "    </tr>\n",
       "  </thead>\n",
       "  <tbody>\n",
       "    <tr>\n",
       "      <th>9</th>\n",
       "      <td>0.613011</td>\n",
       "      <td>0.026807</td>\n",
       "      <td>0.042924</td>\n",
       "      <td>0.003946</td>\n",
       "      <td>entropy</td>\n",
       "      <td>6</td>\n",
       "      <td>{'criterion': 'entropy', 'max_features': 6}</td>\n",
       "      <td>0.842462</td>\n",
       "      <td>1.0</td>\n",
       "      <td>0.999385</td>\n",
       "      <td>1.0</td>\n",
       "      <td>0.838670</td>\n",
       "      <td>0.936103</td>\n",
       "      <td>0.078016</td>\n",
       "      <td>1</td>\n",
       "    </tr>\n",
       "    <tr>\n",
       "      <th>13</th>\n",
       "      <td>0.770265</td>\n",
       "      <td>0.034606</td>\n",
       "      <td>0.041699</td>\n",
       "      <td>0.004220</td>\n",
       "      <td>entropy</td>\n",
       "      <td>14</td>\n",
       "      <td>{'criterion': 'entropy', 'max_features': 14}</td>\n",
       "      <td>0.842462</td>\n",
       "      <td>1.0</td>\n",
       "      <td>1.000000</td>\n",
       "      <td>1.0</td>\n",
       "      <td>0.821429</td>\n",
       "      <td>0.932778</td>\n",
       "      <td>0.082598</td>\n",
       "      <td>2</td>\n",
       "    </tr>\n",
       "    <tr>\n",
       "      <th>6</th>\n",
       "      <td>0.802082</td>\n",
       "      <td>0.048348</td>\n",
       "      <td>0.042026</td>\n",
       "      <td>0.004054</td>\n",
       "      <td>gini</td>\n",
       "      <td>14</td>\n",
       "      <td>{'criterion': 'gini', 'max_features': 14}</td>\n",
       "      <td>0.842462</td>\n",
       "      <td>1.0</td>\n",
       "      <td>1.000000</td>\n",
       "      <td>1.0</td>\n",
       "      <td>0.819581</td>\n",
       "      <td>0.932409</td>\n",
       "      <td>0.083098</td>\n",
       "      <td>3</td>\n",
       "    </tr>\n",
       "    <tr>\n",
       "      <th>10</th>\n",
       "      <td>0.658945</td>\n",
       "      <td>0.028836</td>\n",
       "      <td>0.041114</td>\n",
       "      <td>0.005019</td>\n",
       "      <td>entropy</td>\n",
       "      <td>8</td>\n",
       "      <td>{'criterion': 'entropy', 'max_features': 8}</td>\n",
       "      <td>0.842462</td>\n",
       "      <td>1.0</td>\n",
       "      <td>1.000000</td>\n",
       "      <td>1.0</td>\n",
       "      <td>0.806034</td>\n",
       "      <td>0.929699</td>\n",
       "      <td>0.086868</td>\n",
       "      <td>4</td>\n",
       "    </tr>\n",
       "    <tr>\n",
       "      <th>4</th>\n",
       "      <td>0.672076</td>\n",
       "      <td>0.068435</td>\n",
       "      <td>0.066852</td>\n",
       "      <td>0.054272</td>\n",
       "      <td>gini</td>\n",
       "      <td>10</td>\n",
       "      <td>{'criterion': 'gini', 'max_features': 10}</td>\n",
       "      <td>0.842462</td>\n",
       "      <td>1.0</td>\n",
       "      <td>1.000000</td>\n",
       "      <td>1.0</td>\n",
       "      <td>0.798030</td>\n",
       "      <td>0.928098</td>\n",
       "      <td>0.089175</td>\n",
       "      <td>5</td>\n",
       "    </tr>\n",
       "  </tbody>\n",
       "</table>\n",
       "</div>"
      ],
      "text/plain": [
       "    mean_fit_time  std_fit_time  mean_score_time  std_score_time  \\\n",
       "9        0.613011      0.026807         0.042924        0.003946   \n",
       "13       0.770265      0.034606         0.041699        0.004220   \n",
       "6        0.802082      0.048348         0.042026        0.004054   \n",
       "10       0.658945      0.028836         0.041114        0.005019   \n",
       "4        0.672076      0.068435         0.066852        0.054272   \n",
       "\n",
       "   param_criterion param_max_features  \\\n",
       "9          entropy                  6   \n",
       "13         entropy                 14   \n",
       "6             gini                 14   \n",
       "10         entropy                  8   \n",
       "4             gini                 10   \n",
       "\n",
       "                                          params  split0_test_score  \\\n",
       "9    {'criterion': 'entropy', 'max_features': 6}           0.842462   \n",
       "13  {'criterion': 'entropy', 'max_features': 14}           0.842462   \n",
       "6      {'criterion': 'gini', 'max_features': 14}           0.842462   \n",
       "10   {'criterion': 'entropy', 'max_features': 8}           0.842462   \n",
       "4      {'criterion': 'gini', 'max_features': 10}           0.842462   \n",
       "\n",
       "    split1_test_score  split2_test_score  split3_test_score  \\\n",
       "9                 1.0           0.999385                1.0   \n",
       "13                1.0           1.000000                1.0   \n",
       "6                 1.0           1.000000                1.0   \n",
       "10                1.0           1.000000                1.0   \n",
       "4                 1.0           1.000000                1.0   \n",
       "\n",
       "    split4_test_score  mean_test_score  std_test_score  rank_test_score  \n",
       "9            0.838670         0.936103        0.078016                1  \n",
       "13           0.821429         0.932778        0.082598                2  \n",
       "6            0.819581         0.932409        0.083098                3  \n",
       "10           0.806034         0.929699        0.086868                4  \n",
       "4            0.798030         0.928098        0.089175                5  "
      ]
     },
     "execution_count": 12,
     "metadata": {},
     "output_type": "execute_result"
    }
   ],
   "source": [
    "results = pd.DataFrame(gscv.cv_results_)\n",
    "results.sort_values('rank_test_score', ascending=True).head()"
   ]
  },
  {
   "cell_type": "markdown",
   "id": "comparable-valve",
   "metadata": {},
   "source": [
    "Random Search"
   ]
  },
  {
   "cell_type": "code",
   "execution_count": 13,
   "id": "touched-technique",
   "metadata": {},
   "outputs": [],
   "source": [
    "param_dict = {'criterion':['gini', 'entropy'],\n",
    "             'max_features': stats.randint(low=1, high=X.shape[1])}"
   ]
  },
  {
   "cell_type": "code",
   "execution_count": 14,
   "id": "uniform-connectivity",
   "metadata": {},
   "outputs": [
    {
     "data": {
      "text/plain": [
       "RandomizedSearchCV(cv=5, estimator=RandomForestClassifier(random_state=100),\n",
       "                   n_iter=50,\n",
       "                   param_distributions={'criterion': ['gini', 'entropy'],\n",
       "                                        'max_features': <scipy.stats._distn_infrastructure.rv_frozen object at 0x00000130D8EE0708>},\n",
       "                   random_state=100, scoring='accuracy')"
      ]
     },
     "execution_count": 14,
     "metadata": {},
     "output_type": "execute_result"
    }
   ],
   "source": [
    "rscv = RandomizedSearchCV(estimator=rfc,\n",
    "                         param_distributions=param_dict,\n",
    "                         n_iter=50,\n",
    "                         cv=5,\n",
    "                         scoring='accuracy',\n",
    "                         random_state=100)\n",
    "rscv.fit(X, y)"
   ]
  },
  {
   "cell_type": "code",
   "execution_count": 15,
   "id": "official-holder",
   "metadata": {},
   "outputs": [
    {
     "data": {
      "text/html": [
       "<div>\n",
       "<style scoped>\n",
       "    .dataframe tbody tr th:only-of-type {\n",
       "        vertical-align: middle;\n",
       "    }\n",
       "\n",
       "    .dataframe tbody tr th {\n",
       "        vertical-align: top;\n",
       "    }\n",
       "\n",
       "    .dataframe thead th {\n",
       "        text-align: right;\n",
       "    }\n",
       "</style>\n",
       "<table border=\"1\" class=\"dataframe\">\n",
       "  <thead>\n",
       "    <tr style=\"text-align: right;\">\n",
       "      <th></th>\n",
       "      <th>mean_fit_time</th>\n",
       "      <th>std_fit_time</th>\n",
       "      <th>mean_score_time</th>\n",
       "      <th>std_score_time</th>\n",
       "      <th>param_criterion</th>\n",
       "      <th>param_max_features</th>\n",
       "      <th>params</th>\n",
       "      <th>split0_test_score</th>\n",
       "      <th>split1_test_score</th>\n",
       "      <th>split2_test_score</th>\n",
       "      <th>split3_test_score</th>\n",
       "      <th>split4_test_score</th>\n",
       "      <th>mean_test_score</th>\n",
       "      <th>std_test_score</th>\n",
       "      <th>rank_test_score</th>\n",
       "    </tr>\n",
       "  </thead>\n",
       "  <tbody>\n",
       "    <tr>\n",
       "      <th>6</th>\n",
       "      <td>2.739950</td>\n",
       "      <td>0.454390</td>\n",
       "      <td>0.041096</td>\n",
       "      <td>0.007893</td>\n",
       "      <td>gini</td>\n",
       "      <td>99</td>\n",
       "      <td>{'criterion': 'gini', 'max_features': 99}</td>\n",
       "      <td>1.0</td>\n",
       "      <td>1.0</td>\n",
       "      <td>0.996308</td>\n",
       "      <td>1.0</td>\n",
       "      <td>0.745074</td>\n",
       "      <td>0.948276</td>\n",
       "      <td>0.101611</td>\n",
       "      <td>1</td>\n",
       "    </tr>\n",
       "    <tr>\n",
       "      <th>25</th>\n",
       "      <td>2.197688</td>\n",
       "      <td>0.210652</td>\n",
       "      <td>0.037989</td>\n",
       "      <td>0.006225</td>\n",
       "      <td>gini</td>\n",
       "      <td>106</td>\n",
       "      <td>{'criterion': 'gini', 'max_features': 106}</td>\n",
       "      <td>1.0</td>\n",
       "      <td>1.0</td>\n",
       "      <td>0.996308</td>\n",
       "      <td>1.0</td>\n",
       "      <td>0.745074</td>\n",
       "      <td>0.948276</td>\n",
       "      <td>0.101611</td>\n",
       "      <td>1</td>\n",
       "    </tr>\n",
       "    <tr>\n",
       "      <th>29</th>\n",
       "      <td>2.218263</td>\n",
       "      <td>0.293698</td>\n",
       "      <td>0.028268</td>\n",
       "      <td>0.003178</td>\n",
       "      <td>gini</td>\n",
       "      <td>111</td>\n",
       "      <td>{'criterion': 'gini', 'max_features': 111}</td>\n",
       "      <td>1.0</td>\n",
       "      <td>1.0</td>\n",
       "      <td>0.995692</td>\n",
       "      <td>1.0</td>\n",
       "      <td>0.739532</td>\n",
       "      <td>0.947045</td>\n",
       "      <td>0.103770</td>\n",
       "      <td>3</td>\n",
       "    </tr>\n",
       "    <tr>\n",
       "      <th>41</th>\n",
       "      <td>2.228423</td>\n",
       "      <td>0.305305</td>\n",
       "      <td>0.034775</td>\n",
       "      <td>0.007464</td>\n",
       "      <td>gini</td>\n",
       "      <td>105</td>\n",
       "      <td>{'criterion': 'gini', 'max_features': 105}</td>\n",
       "      <td>1.0</td>\n",
       "      <td>1.0</td>\n",
       "      <td>0.996308</td>\n",
       "      <td>1.0</td>\n",
       "      <td>0.737685</td>\n",
       "      <td>0.946798</td>\n",
       "      <td>0.104567</td>\n",
       "      <td>4</td>\n",
       "    </tr>\n",
       "    <tr>\n",
       "      <th>10</th>\n",
       "      <td>3.514891</td>\n",
       "      <td>1.645684</td>\n",
       "      <td>0.040879</td>\n",
       "      <td>0.018097</td>\n",
       "      <td>gini</td>\n",
       "      <td>108</td>\n",
       "      <td>{'criterion': 'gini', 'max_features': 108}</td>\n",
       "      <td>1.0</td>\n",
       "      <td>1.0</td>\n",
       "      <td>0.996308</td>\n",
       "      <td>1.0</td>\n",
       "      <td>0.737685</td>\n",
       "      <td>0.946798</td>\n",
       "      <td>0.104567</td>\n",
       "      <td>4</td>\n",
       "    </tr>\n",
       "  </tbody>\n",
       "</table>\n",
       "</div>"
      ],
      "text/plain": [
       "    mean_fit_time  std_fit_time  mean_score_time  std_score_time  \\\n",
       "6        2.739950      0.454390         0.041096        0.007893   \n",
       "25       2.197688      0.210652         0.037989        0.006225   \n",
       "29       2.218263      0.293698         0.028268        0.003178   \n",
       "41       2.228423      0.305305         0.034775        0.007464   \n",
       "10       3.514891      1.645684         0.040879        0.018097   \n",
       "\n",
       "   param_criterion param_max_features  \\\n",
       "6             gini                 99   \n",
       "25            gini                106   \n",
       "29            gini                111   \n",
       "41            gini                105   \n",
       "10            gini                108   \n",
       "\n",
       "                                        params  split0_test_score  \\\n",
       "6    {'criterion': 'gini', 'max_features': 99}                1.0   \n",
       "25  {'criterion': 'gini', 'max_features': 106}                1.0   \n",
       "29  {'criterion': 'gini', 'max_features': 111}                1.0   \n",
       "41  {'criterion': 'gini', 'max_features': 105}                1.0   \n",
       "10  {'criterion': 'gini', 'max_features': 108}                1.0   \n",
       "\n",
       "    split1_test_score  split2_test_score  split3_test_score  \\\n",
       "6                 1.0           0.996308                1.0   \n",
       "25                1.0           0.996308                1.0   \n",
       "29                1.0           0.995692                1.0   \n",
       "41                1.0           0.996308                1.0   \n",
       "10                1.0           0.996308                1.0   \n",
       "\n",
       "    split4_test_score  mean_test_score  std_test_score  rank_test_score  \n",
       "6            0.745074         0.948276        0.101611                1  \n",
       "25           0.745074         0.948276        0.101611                1  \n",
       "29           0.739532         0.947045        0.103770                3  \n",
       "41           0.737685         0.946798        0.104567                4  \n",
       "10           0.737685         0.946798        0.104567                4  "
      ]
     },
     "execution_count": 15,
     "metadata": {},
     "output_type": "execute_result"
    }
   ],
   "source": [
    "results = pd.DataFrame(rscv.cv_results_)\n",
    "results.sort_values('rank_test_score', ascending=True).head()"
   ]
  },
  {
   "cell_type": "markdown",
   "id": "isolated-convert",
   "metadata": {},
   "source": [
    "<b> Plot the mean test score versus hyperparameterization for the top 10 models found using random search </b>"
   ]
  },
  {
   "cell_type": "code",
   "execution_count": 16,
   "id": "nonprofit-appointment",
   "metadata": {},
   "outputs": [],
   "source": [
    "results.loc[:, 'params'] = results.loc[:, 'params'].astype(str)"
   ]
  },
  {
   "cell_type": "code",
   "execution_count": 17,
   "id": "pointed-jason",
   "metadata": {},
   "outputs": [],
   "source": [
    "results = results.sort_values('rank_test_score', ascending=False).loc[:, ['params', 'mean_test_score']].drop_duplicates().head(10)"
   ]
  },
  {
   "cell_type": "code",
   "execution_count": 18,
   "id": "actual-basketball",
   "metadata": {},
   "outputs": [
    {
     "data": {
      "image/png": "[encoded data removed]",
      "text/plain": [
       "<Figure size 432x288 with 1 Axes>"
      ]
     },
     "metadata": {
      "needs_background": "light"
     },
     "output_type": "display_data"
    }
   ],
   "source": [
    "results.plot.barh(x='params', xlim=(0.8))\n",
    "plt.show()"
   ]
  }
 ],
 "metadata": {
  "kernelspec": {
   "display_name": "Python 3",
   "language": "python",
   "name": "python3"
  },
  "language_info": {
   "codemirror_mode": {
    "name": "ipython",
    "version": 3
   },
   "file_extension": ".py",
   "mimetype": "text/x-python",
   "name": "python",
   "nbconvert_exporter": "python",
   "pygments_lexer": "ipython3",
   "version": "3.7.7"
  }
 },
 "nbformat": 4,
 "nbformat_minor": 5
}
