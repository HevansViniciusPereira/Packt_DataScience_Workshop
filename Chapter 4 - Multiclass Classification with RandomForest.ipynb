{
 "cells": [
  {
   "cell_type": "markdown",
   "id": "hollow-assessment",
   "metadata": {},
   "source": [
    "# Building a Model for Classifying Animal Type and Assessing Its Performance"
   ]
  },
  {
   "cell_type": "code",
   "execution_count": 1,
   "id": "imported-health",
   "metadata": {},
   "outputs": [],
   "source": [
    "# import package\n",
    "import pandas as pd"
   ]
  },
  {
   "cell_type": "code",
   "execution_count": 2,
   "id": "pregnant-welding",
   "metadata": {},
   "outputs": [],
   "source": [
    "# create a url path\n",
    "url_file = 'https://raw.githubusercontent.com/PacktWorkshops/The-Data-Science-Workshop/master/Chapter04/Dataset/openml_phpZNNasq.csv'"
   ]
  },
  {
   "cell_type": "code",
   "execution_count": 3,
   "id": "ceramic-badge",
   "metadata": {},
   "outputs": [
    {
     "data": {
      "text/html": [
       "<div>\n",
       "<style scoped>\n",
       "    .dataframe tbody tr th:only-of-type {\n",
       "        vertical-align: middle;\n",
       "    }\n",
       "\n",
       "    .dataframe tbody tr th {\n",
       "        vertical-align: top;\n",
       "    }\n",
       "\n",
       "    .dataframe thead th {\n",
       "        text-align: right;\n",
       "    }\n",
       "</style>\n",
       "<table border=\"1\" class=\"dataframe\">\n",
       "  <thead>\n",
       "    <tr style=\"text-align: right;\">\n",
       "      <th></th>\n",
       "      <th>animal</th>\n",
       "      <th>hair</th>\n",
       "      <th>feathers</th>\n",
       "      <th>eggs</th>\n",
       "      <th>milk</th>\n",
       "      <th>airborne</th>\n",
       "      <th>aquatic</th>\n",
       "      <th>predator</th>\n",
       "      <th>toothed</th>\n",
       "      <th>backbone</th>\n",
       "      <th>breathes</th>\n",
       "      <th>venomous</th>\n",
       "      <th>fins</th>\n",
       "      <th>legs</th>\n",
       "      <th>tail</th>\n",
       "      <th>domestic</th>\n",
       "      <th>catsize</th>\n",
       "      <th>type</th>\n",
       "    </tr>\n",
       "  </thead>\n",
       "  <tbody>\n",
       "    <tr>\n",
       "      <th>0</th>\n",
       "      <td>aardvark</td>\n",
       "      <td>True</td>\n",
       "      <td>False</td>\n",
       "      <td>False</td>\n",
       "      <td>True</td>\n",
       "      <td>False</td>\n",
       "      <td>False</td>\n",
       "      <td>True</td>\n",
       "      <td>True</td>\n",
       "      <td>True</td>\n",
       "      <td>True</td>\n",
       "      <td>False</td>\n",
       "      <td>False</td>\n",
       "      <td>4</td>\n",
       "      <td>False</td>\n",
       "      <td>False</td>\n",
       "      <td>True</td>\n",
       "      <td>mammal</td>\n",
       "    </tr>\n",
       "    <tr>\n",
       "      <th>1</th>\n",
       "      <td>antelope</td>\n",
       "      <td>True</td>\n",
       "      <td>False</td>\n",
       "      <td>False</td>\n",
       "      <td>True</td>\n",
       "      <td>False</td>\n",
       "      <td>False</td>\n",
       "      <td>False</td>\n",
       "      <td>True</td>\n",
       "      <td>True</td>\n",
       "      <td>True</td>\n",
       "      <td>False</td>\n",
       "      <td>False</td>\n",
       "      <td>4</td>\n",
       "      <td>True</td>\n",
       "      <td>False</td>\n",
       "      <td>True</td>\n",
       "      <td>mammal</td>\n",
       "    </tr>\n",
       "    <tr>\n",
       "      <th>2</th>\n",
       "      <td>bass</td>\n",
       "      <td>False</td>\n",
       "      <td>False</td>\n",
       "      <td>True</td>\n",
       "      <td>False</td>\n",
       "      <td>False</td>\n",
       "      <td>True</td>\n",
       "      <td>True</td>\n",
       "      <td>True</td>\n",
       "      <td>True</td>\n",
       "      <td>False</td>\n",
       "      <td>False</td>\n",
       "      <td>True</td>\n",
       "      <td>0</td>\n",
       "      <td>True</td>\n",
       "      <td>False</td>\n",
       "      <td>False</td>\n",
       "      <td>fish</td>\n",
       "    </tr>\n",
       "    <tr>\n",
       "      <th>3</th>\n",
       "      <td>bear</td>\n",
       "      <td>True</td>\n",
       "      <td>False</td>\n",
       "      <td>False</td>\n",
       "      <td>True</td>\n",
       "      <td>False</td>\n",
       "      <td>False</td>\n",
       "      <td>True</td>\n",
       "      <td>True</td>\n",
       "      <td>True</td>\n",
       "      <td>True</td>\n",
       "      <td>False</td>\n",
       "      <td>False</td>\n",
       "      <td>4</td>\n",
       "      <td>False</td>\n",
       "      <td>False</td>\n",
       "      <td>True</td>\n",
       "      <td>mammal</td>\n",
       "    </tr>\n",
       "    <tr>\n",
       "      <th>4</th>\n",
       "      <td>boar</td>\n",
       "      <td>True</td>\n",
       "      <td>False</td>\n",
       "      <td>False</td>\n",
       "      <td>True</td>\n",
       "      <td>False</td>\n",
       "      <td>False</td>\n",
       "      <td>True</td>\n",
       "      <td>True</td>\n",
       "      <td>True</td>\n",
       "      <td>True</td>\n",
       "      <td>False</td>\n",
       "      <td>False</td>\n",
       "      <td>4</td>\n",
       "      <td>True</td>\n",
       "      <td>False</td>\n",
       "      <td>True</td>\n",
       "      <td>mammal</td>\n",
       "    </tr>\n",
       "  </tbody>\n",
       "</table>\n",
       "</div>"
      ],
      "text/plain": [
       "     animal   hair  feathers   eggs   milk  airborne  aquatic  predator  \\\n",
       "0  aardvark   True     False  False   True     False    False      True   \n",
       "1  antelope   True     False  False   True     False    False     False   \n",
       "2      bass  False     False   True  False     False     True      True   \n",
       "3      bear   True     False  False   True     False    False      True   \n",
       "4      boar   True     False  False   True     False    False      True   \n",
       "\n",
       "   toothed  backbone  breathes  venomous   fins  legs   tail  domestic  \\\n",
       "0     True      True      True     False  False     4  False     False   \n",
       "1     True      True      True     False  False     4   True     False   \n",
       "2     True      True     False     False   True     0   True     False   \n",
       "3     True      True      True     False  False     4  False     False   \n",
       "4     True      True      True     False  False     4   True     False   \n",
       "\n",
       "   catsize    type  \n",
       "0     True  mammal  \n",
       "1     True  mammal  \n",
       "2    False    fish  \n",
       "3     True  mammal  \n",
       "4     True  mammal  "
      ]
     },
     "execution_count": 3,
     "metadata": {},
     "output_type": "execute_result"
    }
   ],
   "source": [
    "# load the data\n",
    "df = pd.read_csv(url_file)\n",
    "df.head()"
   ]
  },
  {
   "cell_type": "code",
   "execution_count": 4,
   "id": "qualified-affiliate",
   "metadata": {},
   "outputs": [],
   "source": [
    "# Remove the 'animal' column\n",
    "df.drop(columns='animal', inplace=True)"
   ]
  },
  {
   "cell_type": "code",
   "execution_count": 5,
   "id": "inner-beast",
   "metadata": {},
   "outputs": [],
   "source": [
    "# extract the 'type' column\n",
    "y = df.pop('type')"
   ]
  },
  {
   "cell_type": "code",
   "execution_count": 6,
   "id": "exceptional-biology",
   "metadata": {},
   "outputs": [],
   "source": [
    "# split the dataset into train and test sets\n",
    "from sklearn.model_selection import train_test_split\n",
    "\n",
    "X_train, X_test, y_train, y_test = train_test_split(df, y, test_size=0.4, random_state=188)"
   ]
  },
  {
   "cell_type": "code",
   "execution_count": 7,
   "id": "automated-killer",
   "metadata": {},
   "outputs": [],
   "source": [
    "# instantiate the model\n",
    "from sklearn.ensemble import RandomForestClassifier\n",
    "\n",
    "rf_model = RandomForestClassifier(random_state=42, n_estimators=10)"
   ]
  },
  {
   "cell_type": "code",
   "execution_count": 8,
   "id": "blond-headset",
   "metadata": {},
   "outputs": [
    {
     "data": {
      "text/plain": [
       "RandomForestClassifier(n_estimators=10, random_state=42)"
      ]
     },
     "execution_count": 8,
     "metadata": {},
     "output_type": "execute_result"
    }
   ],
   "source": [
    "# fit the model\n",
    "rf_model.fit(X_train, y_train)"
   ]
  },
  {
   "cell_type": "code",
   "execution_count": 9,
   "id": "pressing-emerald",
   "metadata": {},
   "outputs": [
    {
     "data": {
      "text/plain": [
       "array(['mammal', 'mammal', 'mammal', 'fish', 'mammal', 'insect', 'fish',\n",
       "       'bird', 'mammal', 'mammal', 'fish', 'bird', 'reptile', 'bird',\n",
       "       'fish', 'mammal', 'mammal', 'bird', 'bird', 'mammal', 'bird',\n",
       "       'bird', 'mammal', 'invertebrate', 'reptile', 'invertebrate',\n",
       "       'fish', 'bird', 'mammal', 'mammal', 'amphibian', 'mammal',\n",
       "       'invertebrate', 'mammal', 'mammal', 'insect', 'mammal', 'fish',\n",
       "       'invertebrate', 'mammal', 'invertebrate', 'invertebrate', 'insect',\n",
       "       'amphibian', 'mammal', 'reptile', 'amphibian', 'invertebrate',\n",
       "       'mammal', 'fish', 'bird', 'mammal', 'mammal', 'bird', 'mammal',\n",
       "       'mammal', 'fish', 'mammal', 'bird', 'fish'], dtype=object)"
      ]
     },
     "execution_count": 9,
     "metadata": {},
     "output_type": "execute_result"
    }
   ],
   "source": [
    "# making predictions with train set\n",
    "train_preds = rf_model.predict(X_train)\n",
    "train_preds"
   ]
  },
  {
   "cell_type": "code",
   "execution_count": 10,
   "id": "bored-brake",
   "metadata": {},
   "outputs": [
    {
     "name": "stdout",
     "output_type": "stream",
     "text": [
      "1.0\n"
     ]
    }
   ],
   "source": [
    "# calculate accuracy score on the train set\n",
    "from sklearn.metrics import accuracy_score\n",
    "\n",
    "train_acc = accuracy_score(y_train, train_preds)\n",
    "print(train_acc)"
   ]
  },
  {
   "cell_type": "code",
   "execution_count": 11,
   "id": "enabling-loading",
   "metadata": {},
   "outputs": [
    {
     "data": {
      "text/plain": [
       "array(['insect', 'fish', 'bird', 'invertebrate', 'mammal', 'fish',\n",
       "       'mammal', 'reptile', 'bird', 'mammal', 'invertebrate', 'mammal',\n",
       "       'mammal', 'amphibian', 'mammal', 'mammal', 'invertebrate',\n",
       "       'invertebrate', 'bird', 'mammal', 'mammal', 'mammal', 'mammal',\n",
       "       'invertebrate', 'fish', 'bird', 'mammal', 'fish', 'mammal',\n",
       "       'mammal', 'bird', 'bird', 'mammal', 'mammal', 'invertebrate',\n",
       "       'mammal', 'bird', 'bird', 'invertebrate', 'bird', 'mammal'],\n",
       "      dtype=object)"
      ]
     },
     "execution_count": 11,
     "metadata": {},
     "output_type": "execute_result"
    }
   ],
   "source": [
    "# making predictions on the test set\n",
    "test_preds = rf_model.predict(X_test)\n",
    "test_preds"
   ]
  },
  {
   "cell_type": "code",
   "execution_count": 12,
   "id": "stuffed-boston",
   "metadata": {},
   "outputs": [
    {
     "name": "stdout",
     "output_type": "stream",
     "text": [
      "0.8780487804878049\n"
     ]
    }
   ],
   "source": [
    "# calculate accuracy on the test set\n",
    "test_acc = accuracy_score(y_test, test_preds)\n",
    "print(test_acc)"
   ]
  },
  {
   "cell_type": "markdown",
   "id": "interpreted-flour",
   "metadata": {},
   "source": [
    "# Tuning n_estimators to Reduce Overfitting"
   ]
  },
  {
   "cell_type": "code",
   "execution_count": 13,
   "id": "british-manchester",
   "metadata": {},
   "outputs": [
    {
     "data": {
      "text/plain": [
       "RandomForestClassifier(n_estimators=1, random_state=42)"
      ]
     },
     "execution_count": 13,
     "metadata": {},
     "output_type": "execute_result"
    }
   ],
   "source": [
    "# Instantiate RandomForestClassifier with random_state=42 and n_estimators=1\n",
    "rf_model = RandomForestClassifier(random_state=42, n_estimators=1)\n",
    "rf_model.fit(X_train, y_train)"
   ]
  },
  {
   "cell_type": "code",
   "execution_count": 14,
   "id": "primary-springer",
   "metadata": {},
   "outputs": [],
   "source": [
    "# making predictions\n",
    "train_preds = rf_model.predict(X_train)\n",
    "test_preds = rf_model.predict(X_test)"
   ]
  },
  {
   "cell_type": "code",
   "execution_count": 15,
   "id": "funny-lesson",
   "metadata": {},
   "outputs": [],
   "source": [
    "# calculate accuracy\n",
    "train_acc = accuracy_score(y_train, train_preds)\n",
    "test_acc = accuracy_score(y_test, test_preds)"
   ]
  },
  {
   "cell_type": "code",
   "execution_count": 16,
   "id": "becoming-enclosure",
   "metadata": {},
   "outputs": [
    {
     "name": "stdout",
     "output_type": "stream",
     "text": [
      "0.9166666666666666\n",
      "0.8048780487804879\n"
     ]
    }
   ],
   "source": [
    "print(train_acc)\n",
    "print(test_acc)"
   ]
  },
  {
   "cell_type": "code",
   "execution_count": 17,
   "id": "documentary-creativity",
   "metadata": {},
   "outputs": [
    {
     "data": {
      "text/plain": [
       "RandomForestClassifier(n_estimators=30, random_state=42)"
      ]
     },
     "execution_count": 17,
     "metadata": {},
     "output_type": "execute_result"
    }
   ],
   "source": [
    "# Instantiate another RandomForestClassifier with random_state=42 and n_estimators=30\n",
    "rf_model2 = RandomForestClassifier(random_state=42, n_estimators=30)\n",
    "rf_model2.fit(X_train, y_train)"
   ]
  },
  {
   "cell_type": "code",
   "execution_count": 18,
   "id": "massive-enterprise",
   "metadata": {},
   "outputs": [],
   "source": [
    "# making predictions\n",
    "train_preds2 = rf_model2.predict(X_train)\n",
    "test_preds2 = rf_model2.predict(X_test)"
   ]
  },
  {
   "cell_type": "code",
   "execution_count": 19,
   "id": "treated-export",
   "metadata": {},
   "outputs": [],
   "source": [
    "# calculate accuracy\n",
    "train_acc2 = accuracy_score(y_train, train_preds2)\n",
    "test_acc2 = accuracy_score(y_test, test_preds2)"
   ]
  },
  {
   "cell_type": "code",
   "execution_count": 20,
   "id": "drawn-pillow",
   "metadata": {},
   "outputs": [
    {
     "name": "stdout",
     "output_type": "stream",
     "text": [
      "1.0\n",
      "0.9024390243902439\n"
     ]
    }
   ],
   "source": [
    "print(train_acc2)\n",
    "print(test_acc2)"
   ]
  },
  {
   "cell_type": "markdown",
   "id": "injured-looking",
   "metadata": {},
   "source": [
    "# Tuning max_depth to Reduce Overfitting"
   ]
  },
  {
   "cell_type": "code",
   "execution_count": 21,
   "id": "driven-savage",
   "metadata": {},
   "outputs": [],
   "source": [
    "# Instantiate RandomForestClassifier with random_state=42, n_estimators=30, and max_depth=5\n",
    "rf_model = RandomForestClassifier(random_state=42,\n",
    "                                 n_estimators=30,\n",
    "                                 max_depth=5)"
   ]
  },
  {
   "cell_type": "code",
   "execution_count": 22,
   "id": "yellow-badge",
   "metadata": {},
   "outputs": [
    {
     "data": {
      "text/plain": [
       "RandomForestClassifier(max_depth=5, n_estimators=30, random_state=42)"
      ]
     },
     "execution_count": 22,
     "metadata": {},
     "output_type": "execute_result"
    }
   ],
   "source": [
    "# fit the model\n",
    "rf_model.fit(X_train, y_train)"
   ]
  },
  {
   "cell_type": "code",
   "execution_count": 23,
   "id": "extended-fortune",
   "metadata": {},
   "outputs": [],
   "source": [
    "# make predictions\n",
    "train_preds = rf_model.predict(X_train)\n",
    "test_preds = rf_model.predict(X_test)"
   ]
  },
  {
   "cell_type": "code",
   "execution_count": 24,
   "id": "eleven-resident",
   "metadata": {},
   "outputs": [],
   "source": [
    "# calculate accuracy\n",
    "train_acc = accuracy_score(y_train, train_preds)\n",
    "test_acc = accuracy_score(y_test, test_preds)"
   ]
  },
  {
   "cell_type": "code",
   "execution_count": 25,
   "id": "historical-sellers",
   "metadata": {},
   "outputs": [
    {
     "name": "stdout",
     "output_type": "stream",
     "text": [
      "1.0\n",
      "0.9024390243902439\n"
     ]
    }
   ],
   "source": [
    "print(train_acc)\n",
    "print(test_acc)"
   ]
  },
  {
   "cell_type": "code",
   "execution_count": 26,
   "id": "underlying-training",
   "metadata": {},
   "outputs": [],
   "source": [
    "# Instantiate another RandomForestClassifier with random_state=42, n_estimators=30, and max_depth=2\n",
    "rf_model2 = RandomForestClassifier(random_state=42,\n",
    "                                   n_estimators=30,\n",
    "                                   max_depth=2)"
   ]
  },
  {
   "cell_type": "code",
   "execution_count": 27,
   "id": "threaded-green",
   "metadata": {},
   "outputs": [
    {
     "data": {
      "text/plain": [
       "RandomForestClassifier(max_depth=2, n_estimators=30, random_state=42)"
      ]
     },
     "execution_count": 27,
     "metadata": {},
     "output_type": "execute_result"
    }
   ],
   "source": [
    "# fit the model\n",
    "rf_model2.fit(X_train, y_train)"
   ]
  },
  {
   "cell_type": "code",
   "execution_count": 28,
   "id": "touched-oklahoma",
   "metadata": {},
   "outputs": [],
   "source": [
    "# make predictions\n",
    "train_preds2 = rf_model2.predict(X_train)\n",
    "test_preds2 = rf_model2.predict(X_test)"
   ]
  },
  {
   "cell_type": "code",
   "execution_count": 29,
   "id": "industrial-daily",
   "metadata": {},
   "outputs": [],
   "source": [
    "# calculate accuracy\n",
    "train_acc2 = accuracy_score(y_train, train_preds2)\n",
    "test_acc2 = accuracy_score(y_test, test_preds2)"
   ]
  },
  {
   "cell_type": "code",
   "execution_count": 30,
   "id": "played-medicare",
   "metadata": {},
   "outputs": [
    {
     "name": "stdout",
     "output_type": "stream",
     "text": [
      "0.9\n",
      "0.8292682926829268\n"
     ]
    }
   ],
   "source": [
    "print(train_acc2)\n",
    "print(test_acc2)"
   ]
  },
  {
   "cell_type": "markdown",
   "id": "experimental-insulation",
   "metadata": {},
   "source": [
    "# Tuning min_samples_leaf"
   ]
  },
  {
   "cell_type": "code",
   "execution_count": 31,
   "id": "immune-superior",
   "metadata": {},
   "outputs": [],
   "source": [
    "# Instantiate RandomForestClassifier with min_samples_leaf=3\n",
    "rf_model = RandomForestClassifier(random_state=42,\n",
    "                                 n_estimators=30,\n",
    "                                 max_depth=2,\n",
    "                                 min_samples_leaf=3)"
   ]
  },
  {
   "cell_type": "code",
   "execution_count": 32,
   "id": "official-integrity",
   "metadata": {},
   "outputs": [
    {
     "data": {
      "text/plain": [
       "RandomForestClassifier(max_depth=2, min_samples_leaf=3, n_estimators=30,\n",
       "                       random_state=42)"
      ]
     },
     "execution_count": 32,
     "metadata": {},
     "output_type": "execute_result"
    }
   ],
   "source": [
    "# fit the model\n",
    "rf_model.fit(X_train, y_train)"
   ]
  },
  {
   "cell_type": "code",
   "execution_count": 33,
   "id": "adequate-showcase",
   "metadata": {},
   "outputs": [],
   "source": [
    "# make predictions\n",
    "train_preds = rf_model.predict(X_train)\n",
    "test_preds = rf_model.predict(X_test)"
   ]
  },
  {
   "cell_type": "code",
   "execution_count": 34,
   "id": "respected-canberra",
   "metadata": {},
   "outputs": [],
   "source": [
    "# calculate accuracy\n",
    "train_acc = accuracy_score(y_train, train_preds)\n",
    "test_acc = accuracy_score(y_test, test_preds)"
   ]
  },
  {
   "cell_type": "code",
   "execution_count": 35,
   "id": "standing-coffee",
   "metadata": {},
   "outputs": [
    {
     "name": "stdout",
     "output_type": "stream",
     "text": [
      "0.8333333333333334\n",
      "0.8048780487804879\n"
     ]
    }
   ],
   "source": [
    "print(train_acc)\n",
    "print(test_acc)"
   ]
  },
  {
   "cell_type": "code",
   "execution_count": 36,
   "id": "advanced-feeling",
   "metadata": {},
   "outputs": [],
   "source": [
    "# Instantiate another RandomForestClassifier with min_samples_leaf=7\n",
    "rf_model2 = RandomForestClassifier(random_state=42,\n",
    "                                  n_estimators=30,\n",
    "                                  max_depth=2,\n",
    "                                  min_samples_leaf=7)"
   ]
  },
  {
   "cell_type": "code",
   "execution_count": 37,
   "id": "biblical-compression",
   "metadata": {},
   "outputs": [
    {
     "data": {
      "text/plain": [
       "RandomForestClassifier(max_depth=2, min_samples_leaf=7, n_estimators=30,\n",
       "                       random_state=42)"
      ]
     },
     "execution_count": 37,
     "metadata": {},
     "output_type": "execute_result"
    }
   ],
   "source": [
    "# fit the model\n",
    "rf_model2.fit(X_train, y_train)"
   ]
  },
  {
   "cell_type": "code",
   "execution_count": 38,
   "id": "lonely-bulletin",
   "metadata": {},
   "outputs": [],
   "source": [
    "# make predictions\n",
    "train_preds2 = rf_model2.predict(X_train)\n",
    "test_preds2 = rf_model2.predict(X_test)"
   ]
  },
  {
   "cell_type": "code",
   "execution_count": 39,
   "id": "lucky-butter",
   "metadata": {},
   "outputs": [],
   "source": [
    "# calculate accuracy\n",
    "train_acc2 = accuracy_score(y_train, train_preds2)\n",
    "test_acc2 = accuracy_score(y_test, test_preds2)"
   ]
  },
  {
   "cell_type": "code",
   "execution_count": 40,
   "id": "collected-opera",
   "metadata": {},
   "outputs": [
    {
     "name": "stdout",
     "output_type": "stream",
     "text": [
      "0.8\n",
      "0.8048780487804879\n"
     ]
    }
   ],
   "source": [
    "print(train_acc2)\n",
    "print(test_acc2)"
   ]
  },
  {
   "cell_type": "markdown",
   "id": "frequent-wildlife",
   "metadata": {},
   "source": [
    "# Tuning max_features"
   ]
  },
  {
   "cell_type": "code",
   "execution_count": 41,
   "id": "united-antigua",
   "metadata": {},
   "outputs": [],
   "source": [
    "# Instantiate RandomForestClassifier with max_features=10\n",
    "rf_model = RandomForestClassifier(random_state=42,\n",
    "                                  n_estimators=30,\n",
    "                                  max_depth=2,\n",
    "                                  min_samples_leaf=7,\n",
    "                                  max_features=10)"
   ]
  },
  {
   "cell_type": "code",
   "execution_count": 42,
   "id": "fitting-aquarium",
   "metadata": {},
   "outputs": [
    {
     "data": {
      "text/plain": [
       "RandomForestClassifier(max_depth=2, max_features=10, min_samples_leaf=7,\n",
       "                       n_estimators=30, random_state=42)"
      ]
     },
     "execution_count": 42,
     "metadata": {},
     "output_type": "execute_result"
    }
   ],
   "source": [
    "# fit the model\n",
    "rf_model.fit(X_train, y_train)"
   ]
  },
  {
   "cell_type": "code",
   "execution_count": 43,
   "id": "valid-accordance",
   "metadata": {},
   "outputs": [],
   "source": [
    "# make predictions\n",
    "train_preds = rf_model.predict(X_train)\n",
    "test_preds = rf_model.predict(X_test)"
   ]
  },
  {
   "cell_type": "code",
   "execution_count": 44,
   "id": "better-coalition",
   "metadata": {},
   "outputs": [
    {
     "name": "stdout",
     "output_type": "stream",
     "text": [
      "0.85\n",
      "0.8048780487804879\n"
     ]
    }
   ],
   "source": [
    "# calculate accuracy\n",
    "train_acc = accuracy_score(y_train, train_preds)\n",
    "test_acc = accuracy_score(y_test, test_preds)\n",
    "\n",
    "print(train_acc)\n",
    "print(test_acc)"
   ]
  },
  {
   "cell_type": "code",
   "execution_count": 45,
   "id": "varying-orange",
   "metadata": {},
   "outputs": [],
   "source": [
    "# Instantiate another RandomForestClassifier with max_features=0.2\n",
    "rf_model2 = RandomForestClassifier(random_state=42,\n",
    "                                   n_estimators=30,\n",
    "                                   max_depth=2,\n",
    "                                   min_samples_leaf=7,\n",
    "                                   max_features=0.2)"
   ]
  },
  {
   "cell_type": "code",
   "execution_count": 46,
   "id": "simple-killing",
   "metadata": {},
   "outputs": [
    {
     "data": {
      "text/plain": [
       "RandomForestClassifier(max_depth=2, max_features=0.2, min_samples_leaf=7,\n",
       "                       n_estimators=30, random_state=42)"
      ]
     },
     "execution_count": 46,
     "metadata": {},
     "output_type": "execute_result"
    }
   ],
   "source": [
    "# fit the model\n",
    "rf_model2.fit(X_train, y_train)"
   ]
  },
  {
   "cell_type": "code",
   "execution_count": 47,
   "id": "integral-cloud",
   "metadata": {},
   "outputs": [],
   "source": [
    "# make predictions\n",
    "train_preds2 = rf_model2.predict(X_train)\n",
    "test_preds2 = rf_model2.predict(X_test)"
   ]
  },
  {
   "cell_type": "code",
   "execution_count": 48,
   "id": "secure-greeting",
   "metadata": {},
   "outputs": [
    {
     "name": "stdout",
     "output_type": "stream",
     "text": [
      "0.8333333333333334\n",
      "0.8048780487804879\n"
     ]
    }
   ],
   "source": [
    "# calculate accuracy\n",
    "train_acc2 = accuracy_score(y_train, train_preds2)\n",
    "test_acc2 = accuracy_score(y_test, test_preds2)\n",
    "\n",
    "print(train_acc2)\n",
    "print(test_acc2)"
   ]
  }
 ],
 "metadata": {
  "kernelspec": {
   "display_name": "Python 3",
   "language": "python",
   "name": "python3"
  },
  "language_info": {
   "codemirror_mode": {
    "name": "ipython",
    "version": 3
   },
   "file_extension": ".py",
   "mimetype": "text/x-python",
   "name": "python",
   "nbconvert_exporter": "python",
   "pygments_lexer": "ipython3",
   "version": "3.7.7"
  }
 },
 "nbformat": 4,
 "nbformat_minor": 5
}
