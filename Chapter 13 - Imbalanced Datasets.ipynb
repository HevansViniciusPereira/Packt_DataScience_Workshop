{
 "cells": [
  {
   "cell_type": "markdown",
   "id": "champion-challenge",
   "metadata": {},
   "source": [
    "# Benchmarking the Logistic Regression Model on the Dataset"
   ]
  },
  {
   "cell_type": "code",
   "execution_count": 1,
   "id": "recognized-irrigation",
   "metadata": {},
   "outputs": [],
   "source": [
    "# import packages\n",
    "import pandas as pd\n",
    "import warnings\n",
    "warnings.filterwarnings('ignore')"
   ]
  },
  {
   "cell_type": "code",
   "execution_count": 2,
   "id": "bright-fitness",
   "metadata": {},
   "outputs": [],
   "source": [
    "# url path\n",
    "url_path = 'https://raw.githubusercontent.com/PacktWorkshops/The-Data-Science-Workshop/master/Chapter13/Dataset/bank-full.csv'"
   ]
  },
  {
   "cell_type": "code",
   "execution_count": 3,
   "id": "fatty-rotation",
   "metadata": {},
   "outputs": [
    {
     "data": {
      "text/html": [
       "<div>\n",
       "<style scoped>\n",
       "    .dataframe tbody tr th:only-of-type {\n",
       "        vertical-align: middle;\n",
       "    }\n",
       "\n",
       "    .dataframe tbody tr th {\n",
       "        vertical-align: top;\n",
       "    }\n",
       "\n",
       "    .dataframe thead th {\n",
       "        text-align: right;\n",
       "    }\n",
       "</style>\n",
       "<table border=\"1\" class=\"dataframe\">\n",
       "  <thead>\n",
       "    <tr style=\"text-align: right;\">\n",
       "      <th></th>\n",
       "      <th>age</th>\n",
       "      <th>job</th>\n",
       "      <th>marital</th>\n",
       "      <th>education</th>\n",
       "      <th>default</th>\n",
       "      <th>balance</th>\n",
       "      <th>housing</th>\n",
       "      <th>loan</th>\n",
       "      <th>contact</th>\n",
       "      <th>day</th>\n",
       "      <th>month</th>\n",
       "      <th>duration</th>\n",
       "      <th>campaign</th>\n",
       "      <th>pdays</th>\n",
       "      <th>previous</th>\n",
       "      <th>poutcome</th>\n",
       "      <th>y</th>\n",
       "    </tr>\n",
       "  </thead>\n",
       "  <tbody>\n",
       "    <tr>\n",
       "      <th>0</th>\n",
       "      <td>58</td>\n",
       "      <td>management</td>\n",
       "      <td>married</td>\n",
       "      <td>tertiary</td>\n",
       "      <td>no</td>\n",
       "      <td>2143</td>\n",
       "      <td>yes</td>\n",
       "      <td>no</td>\n",
       "      <td>unknown</td>\n",
       "      <td>5</td>\n",
       "      <td>may</td>\n",
       "      <td>261</td>\n",
       "      <td>1</td>\n",
       "      <td>-1</td>\n",
       "      <td>0</td>\n",
       "      <td>unknown</td>\n",
       "      <td>no</td>\n",
       "    </tr>\n",
       "    <tr>\n",
       "      <th>1</th>\n",
       "      <td>44</td>\n",
       "      <td>technician</td>\n",
       "      <td>single</td>\n",
       "      <td>secondary</td>\n",
       "      <td>no</td>\n",
       "      <td>29</td>\n",
       "      <td>yes</td>\n",
       "      <td>no</td>\n",
       "      <td>unknown</td>\n",
       "      <td>5</td>\n",
       "      <td>may</td>\n",
       "      <td>151</td>\n",
       "      <td>1</td>\n",
       "      <td>-1</td>\n",
       "      <td>0</td>\n",
       "      <td>unknown</td>\n",
       "      <td>no</td>\n",
       "    </tr>\n",
       "    <tr>\n",
       "      <th>2</th>\n",
       "      <td>33</td>\n",
       "      <td>entrepreneur</td>\n",
       "      <td>married</td>\n",
       "      <td>secondary</td>\n",
       "      <td>no</td>\n",
       "      <td>2</td>\n",
       "      <td>yes</td>\n",
       "      <td>yes</td>\n",
       "      <td>unknown</td>\n",
       "      <td>5</td>\n",
       "      <td>may</td>\n",
       "      <td>76</td>\n",
       "      <td>1</td>\n",
       "      <td>-1</td>\n",
       "      <td>0</td>\n",
       "      <td>unknown</td>\n",
       "      <td>no</td>\n",
       "    </tr>\n",
       "    <tr>\n",
       "      <th>3</th>\n",
       "      <td>47</td>\n",
       "      <td>blue-collar</td>\n",
       "      <td>married</td>\n",
       "      <td>unknown</td>\n",
       "      <td>no</td>\n",
       "      <td>1506</td>\n",
       "      <td>yes</td>\n",
       "      <td>no</td>\n",
       "      <td>unknown</td>\n",
       "      <td>5</td>\n",
       "      <td>may</td>\n",
       "      <td>92</td>\n",
       "      <td>1</td>\n",
       "      <td>-1</td>\n",
       "      <td>0</td>\n",
       "      <td>unknown</td>\n",
       "      <td>no</td>\n",
       "    </tr>\n",
       "    <tr>\n",
       "      <th>4</th>\n",
       "      <td>33</td>\n",
       "      <td>unknown</td>\n",
       "      <td>single</td>\n",
       "      <td>unknown</td>\n",
       "      <td>no</td>\n",
       "      <td>1</td>\n",
       "      <td>no</td>\n",
       "      <td>no</td>\n",
       "      <td>unknown</td>\n",
       "      <td>5</td>\n",
       "      <td>may</td>\n",
       "      <td>198</td>\n",
       "      <td>1</td>\n",
       "      <td>-1</td>\n",
       "      <td>0</td>\n",
       "      <td>unknown</td>\n",
       "      <td>no</td>\n",
       "    </tr>\n",
       "  </tbody>\n",
       "</table>\n",
       "</div>"
      ],
      "text/plain": [
       "   age           job  marital  education default  balance housing loan  \\\n",
       "0   58    management  married   tertiary      no     2143     yes   no   \n",
       "1   44    technician   single  secondary      no       29     yes   no   \n",
       "2   33  entrepreneur  married  secondary      no        2     yes  yes   \n",
       "3   47   blue-collar  married    unknown      no     1506     yes   no   \n",
       "4   33       unknown   single    unknown      no        1      no   no   \n",
       "\n",
       "   contact  day month  duration  campaign  pdays  previous poutcome   y  \n",
       "0  unknown    5   may       261         1     -1         0  unknown  no  \n",
       "1  unknown    5   may       151         1     -1         0  unknown  no  \n",
       "2  unknown    5   may        76         1     -1         0  unknown  no  \n",
       "3  unknown    5   may        92         1     -1         0  unknown  no  \n",
       "4  unknown    5   may       198         1     -1         0  unknown  no  "
      ]
     },
     "execution_count": 3,
     "metadata": {},
     "output_type": "execute_result"
    }
   ],
   "source": [
    "# load the data\n",
    "df = pd.read_csv(url_path, sep=';')\n",
    "df.head()"
   ]
  },
  {
   "cell_type": "code",
   "execution_count": 4,
   "id": "extra-tutorial",
   "metadata": {},
   "outputs": [],
   "source": [
    "# Normalize the numerical features\n",
    "from sklearn.preprocessing import RobustScaler\n",
    "rob_scaler = RobustScaler()"
   ]
  },
  {
   "cell_type": "code",
   "execution_count": 5,
   "id": "fifth-texas",
   "metadata": {},
   "outputs": [],
   "source": [
    "# convert each of the columns to a scaled version\n",
    "df['ageScaled'] = rob_scaler.fit_transform(df['age'].values.reshape(-1, 1))\n",
    "df['balScaled'] = rob_scaler.fit_transform(df['balance'].values.reshape(-1, 1))\n",
    "df['durScaled'] = rob_scaler.fit_transform(df['duration'].values.reshape(-1, 1))"
   ]
  },
  {
   "cell_type": "code",
   "execution_count": 6,
   "id": "central-compilation",
   "metadata": {},
   "outputs": [],
   "source": [
    "# drop the original features after we introduce the scaled features \n",
    "df.drop(['age', 'balance', 'duration'], axis=1, inplace=True)"
   ]
  },
  {
   "cell_type": "code",
   "execution_count": 7,
   "id": "daily-spouse",
   "metadata": {},
   "outputs": [
    {
     "data": {
      "text/html": [
       "<div>\n",
       "<style scoped>\n",
       "    .dataframe tbody tr th:only-of-type {\n",
       "        vertical-align: middle;\n",
       "    }\n",
       "\n",
       "    .dataframe tbody tr th {\n",
       "        vertical-align: top;\n",
       "    }\n",
       "\n",
       "    .dataframe thead th {\n",
       "        text-align: right;\n",
       "    }\n",
       "</style>\n",
       "<table border=\"1\" class=\"dataframe\">\n",
       "  <thead>\n",
       "    <tr style=\"text-align: right;\">\n",
       "      <th></th>\n",
       "      <th>job</th>\n",
       "      <th>marital</th>\n",
       "      <th>education</th>\n",
       "      <th>default</th>\n",
       "      <th>housing</th>\n",
       "      <th>loan</th>\n",
       "      <th>contact</th>\n",
       "      <th>day</th>\n",
       "      <th>month</th>\n",
       "      <th>campaign</th>\n",
       "      <th>pdays</th>\n",
       "      <th>previous</th>\n",
       "      <th>poutcome</th>\n",
       "      <th>y</th>\n",
       "      <th>ageScaled</th>\n",
       "      <th>balScaled</th>\n",
       "      <th>durScaled</th>\n",
       "    </tr>\n",
       "  </thead>\n",
       "  <tbody>\n",
       "    <tr>\n",
       "      <th>0</th>\n",
       "      <td>management</td>\n",
       "      <td>married</td>\n",
       "      <td>tertiary</td>\n",
       "      <td>no</td>\n",
       "      <td>yes</td>\n",
       "      <td>no</td>\n",
       "      <td>unknown</td>\n",
       "      <td>5</td>\n",
       "      <td>may</td>\n",
       "      <td>1</td>\n",
       "      <td>-1</td>\n",
       "      <td>0</td>\n",
       "      <td>unknown</td>\n",
       "      <td>no</td>\n",
       "      <td>1.266667</td>\n",
       "      <td>1.250000</td>\n",
       "      <td>0.375000</td>\n",
       "    </tr>\n",
       "    <tr>\n",
       "      <th>1</th>\n",
       "      <td>technician</td>\n",
       "      <td>single</td>\n",
       "      <td>secondary</td>\n",
       "      <td>no</td>\n",
       "      <td>yes</td>\n",
       "      <td>no</td>\n",
       "      <td>unknown</td>\n",
       "      <td>5</td>\n",
       "      <td>may</td>\n",
       "      <td>1</td>\n",
       "      <td>-1</td>\n",
       "      <td>0</td>\n",
       "      <td>unknown</td>\n",
       "      <td>no</td>\n",
       "      <td>0.333333</td>\n",
       "      <td>-0.308997</td>\n",
       "      <td>-0.134259</td>\n",
       "    </tr>\n",
       "    <tr>\n",
       "      <th>2</th>\n",
       "      <td>entrepreneur</td>\n",
       "      <td>married</td>\n",
       "      <td>secondary</td>\n",
       "      <td>no</td>\n",
       "      <td>yes</td>\n",
       "      <td>yes</td>\n",
       "      <td>unknown</td>\n",
       "      <td>5</td>\n",
       "      <td>may</td>\n",
       "      <td>1</td>\n",
       "      <td>-1</td>\n",
       "      <td>0</td>\n",
       "      <td>unknown</td>\n",
       "      <td>no</td>\n",
       "      <td>-0.400000</td>\n",
       "      <td>-0.328909</td>\n",
       "      <td>-0.481481</td>\n",
       "    </tr>\n",
       "    <tr>\n",
       "      <th>3</th>\n",
       "      <td>blue-collar</td>\n",
       "      <td>married</td>\n",
       "      <td>unknown</td>\n",
       "      <td>no</td>\n",
       "      <td>yes</td>\n",
       "      <td>no</td>\n",
       "      <td>unknown</td>\n",
       "      <td>5</td>\n",
       "      <td>may</td>\n",
       "      <td>1</td>\n",
       "      <td>-1</td>\n",
       "      <td>0</td>\n",
       "      <td>unknown</td>\n",
       "      <td>no</td>\n",
       "      <td>0.533333</td>\n",
       "      <td>0.780236</td>\n",
       "      <td>-0.407407</td>\n",
       "    </tr>\n",
       "    <tr>\n",
       "      <th>4</th>\n",
       "      <td>unknown</td>\n",
       "      <td>single</td>\n",
       "      <td>unknown</td>\n",
       "      <td>no</td>\n",
       "      <td>no</td>\n",
       "      <td>no</td>\n",
       "      <td>unknown</td>\n",
       "      <td>5</td>\n",
       "      <td>may</td>\n",
       "      <td>1</td>\n",
       "      <td>-1</td>\n",
       "      <td>0</td>\n",
       "      <td>unknown</td>\n",
       "      <td>no</td>\n",
       "      <td>-0.400000</td>\n",
       "      <td>-0.329646</td>\n",
       "      <td>0.083333</td>\n",
       "    </tr>\n",
       "  </tbody>\n",
       "</table>\n",
       "</div>"
      ],
      "text/plain": [
       "            job  marital  education default housing loan  contact  day month  \\\n",
       "0    management  married   tertiary      no     yes   no  unknown    5   may   \n",
       "1    technician   single  secondary      no     yes   no  unknown    5   may   \n",
       "2  entrepreneur  married  secondary      no     yes  yes  unknown    5   may   \n",
       "3   blue-collar  married    unknown      no     yes   no  unknown    5   may   \n",
       "4       unknown   single    unknown      no      no   no  unknown    5   may   \n",
       "\n",
       "   campaign  pdays  previous poutcome   y  ageScaled  balScaled  durScaled  \n",
       "0         1     -1         0  unknown  no   1.266667   1.250000   0.375000  \n",
       "1         1     -1         0  unknown  no   0.333333  -0.308997  -0.134259  \n",
       "2         1     -1         0  unknown  no  -0.400000  -0.328909  -0.481481  \n",
       "3         1     -1         0  unknown  no   0.533333   0.780236  -0.407407  \n",
       "4         1     -1         0  unknown  no  -0.400000  -0.329646   0.083333  "
      ]
     },
     "execution_count": 7,
     "metadata": {},
     "output_type": "execute_result"
    }
   ],
   "source": [
    "df.head()"
   ]
  },
  {
   "cell_type": "code",
   "execution_count": 8,
   "id": "noted-spoke",
   "metadata": {},
   "outputs": [],
   "source": [
    "# Convert all the categorical variables to dummy variables\n",
    "dfCat = pd.get_dummies(df[['job','marital','education','default','housing','loan','contact','month','poutcome']])"
   ]
  },
  {
   "cell_type": "code",
   "execution_count": 9,
   "id": "traditional-lease",
   "metadata": {},
   "outputs": [
    {
     "data": {
      "text/plain": [
       "(45211, 7)"
      ]
     },
     "execution_count": 9,
     "metadata": {},
     "output_type": "execute_result"
    }
   ],
   "source": [
    "# Separate the numerical data and observe the shape\n",
    "dfNum = df[['ageScaled','balScaled','day','durScaled','campaign','pdays','previous']]\n",
    "dfNum.shape"
   ]
  },
  {
   "cell_type": "code",
   "execution_count": 10,
   "id": "right-czech",
   "metadata": {},
   "outputs": [
    {
     "data": {
      "text/plain": [
       "(45211, 51)"
      ]
     },
     "execution_count": 10,
     "metadata": {},
     "output_type": "execute_result"
    }
   ],
   "source": [
    "# Create the independent variables, X, and dependent variables, Y, from the combined dataset for modeling\n",
    "X = pd.concat([dfCat, dfNum], axis=1)\n",
    "X.shape"
   ]
  },
  {
   "cell_type": "code",
   "execution_count": 11,
   "id": "ready-korean",
   "metadata": {},
   "outputs": [
    {
     "data": {
      "text/plain": [
       "(45211,)"
      ]
     },
     "execution_count": 11,
     "metadata": {},
     "output_type": "execute_result"
    }
   ],
   "source": [
    "Y = df['y']\n",
    "Y.shape"
   ]
  },
  {
   "cell_type": "code",
   "execution_count": 12,
   "id": "brutal-brooklyn",
   "metadata": {},
   "outputs": [],
   "source": [
    "# import packages\n",
    "from sklearn.model_selection import train_test_split\n",
    "from sklearn.linear_model import LogisticRegression"
   ]
  },
  {
   "cell_type": "code",
   "execution_count": 13,
   "id": "timely-preservation",
   "metadata": {},
   "outputs": [],
   "source": [
    "X_train, X_test, y_train, y_test = train_test_split(X, Y, test_size=0.3, random_state=123)"
   ]
  },
  {
   "cell_type": "code",
   "execution_count": 14,
   "id": "existing-arrival",
   "metadata": {},
   "outputs": [
    {
     "data": {
      "text/plain": [
       "LogisticRegression()"
      ]
     },
     "execution_count": 14,
     "metadata": {},
     "output_type": "execute_result"
    }
   ],
   "source": [
    "# fit the model\n",
    "bankModel = LogisticRegression()\n",
    "bankModel.fit(X_train, y_train)"
   ]
  },
  {
   "cell_type": "code",
   "execution_count": 15,
   "id": "skilled-hughes",
   "metadata": {},
   "outputs": [],
   "source": [
    "# make predictions\n",
    "pred = bankModel.predict(X_test)"
   ]
  },
  {
   "cell_type": "code",
   "execution_count": 16,
   "id": "intensive-mechanics",
   "metadata": {},
   "outputs": [
    {
     "name": "stdout",
     "output_type": "stream",
     "text": [
      "Accuracy of Logistic regression model prediction on test set: 0.8989236213506341\n"
     ]
    }
   ],
   "source": [
    "# calculate accuracy\n",
    "print(f'Accuracy of Logistic regression model prediction on test set: {bankModel.score(X_test, y_test)}')"
   ]
  },
  {
   "cell_type": "code",
   "execution_count": 17,
   "id": "seventh-faith",
   "metadata": {},
   "outputs": [],
   "source": [
    "# calculate other metrics\n",
    "from sklearn.metrics import confusion_matrix\n",
    "from sklearn.metrics import classification_report"
   ]
  },
  {
   "cell_type": "code",
   "execution_count": 18,
   "id": "nonprofit-number",
   "metadata": {},
   "outputs": [
    {
     "name": "stdout",
     "output_type": "stream",
     "text": [
      "[[11697   301]\n",
      " [ 1070   496]]\n"
     ]
    }
   ],
   "source": [
    "print(confusion_matrix(y_test, pred))"
   ]
  },
  {
   "cell_type": "code",
   "execution_count": 19,
   "id": "rubber-interview",
   "metadata": {},
   "outputs": [
    {
     "name": "stdout",
     "output_type": "stream",
     "text": [
      "              precision    recall  f1-score   support\n",
      "\n",
      "          no       0.92      0.97      0.94     11998\n",
      "         yes       0.62      0.32      0.42      1566\n",
      "\n",
      "    accuracy                           0.90     13564\n",
      "   macro avg       0.77      0.65      0.68     13564\n",
      "weighted avg       0.88      0.90      0.88     13564\n",
      "\n"
     ]
    }
   ],
   "source": [
    "print(classification_report(y_test, pred))"
   ]
  },
  {
   "cell_type": "markdown",
   "id": "ready-pickup",
   "metadata": {},
   "source": [
    "# Implementing Random Undersampling and Classification on Our Banking Dataset to Find the Optimal Result"
   ]
  },
  {
   "cell_type": "code",
   "execution_count": 20,
   "id": "humanitarian-modern",
   "metadata": {},
   "outputs": [],
   "source": [
    "# join the X and y variables for the training set before resampling\n",
    "trainData = pd.concat([X_train, y_train], axis=1)"
   ]
  },
  {
   "cell_type": "markdown",
   "id": "heated-gathering",
   "metadata": {},
   "source": [
    "What we will do next is separate the minority class and the majority class. This is required because we have to sample separately from the majority class to make a balanced dataset. To separate the minority class, we have to identify the indexes of the dataset where the dataset has 'yes.'"
   ]
  },
  {
   "cell_type": "code",
   "execution_count": 21,
   "id": "productive-blank",
   "metadata": {},
   "outputs": [
    {
     "name": "stdout",
     "output_type": "stream",
     "text": [
      "3723\n"
     ]
    }
   ],
   "source": [
    "# find the indexes of the sample dataset where the propensity is yes\n",
    "ind = trainData[trainData['y'] == 'yes'].index\n",
    "print(len(ind))"
   ]
  },
  {
   "cell_type": "code",
   "execution_count": 22,
   "id": "exclusive-beast",
   "metadata": {},
   "outputs": [
    {
     "data": {
      "text/plain": [
       "(3723, 52)"
      ]
     },
     "execution_count": 22,
     "metadata": {},
     "output_type": "execute_result"
    }
   ],
   "source": [
    "# Separate by the minority class\n",
    "minData = trainData.loc[ind]\n",
    "minData.shape"
   ]
  },
  {
   "cell_type": "code",
   "execution_count": 23,
   "id": "employed-glance",
   "metadata": {},
   "outputs": [
    {
     "name": "stdout",
     "output_type": "stream",
     "text": [
      "27924\n"
     ]
    }
   ],
   "source": [
    "# find the indexes of the majority class\n",
    "ind1 = trainData[trainData['y'] == 'no'].index\n",
    "print(len(ind1))"
   ]
  },
  {
   "cell_type": "code",
   "execution_count": 24,
   "id": "british-shepherd",
   "metadata": {},
   "outputs": [
    {
     "data": {
      "text/plain": [
       "(27924, 52)"
      ]
     },
     "execution_count": 24,
     "metadata": {},
     "output_type": "execute_result"
    }
   ],
   "source": [
    "# Separate by the majority class\n",
    "majData = trainData.loc[ind1]\n",
    "majData.shape"
   ]
  },
  {
   "cell_type": "markdown",
   "id": "committed-beauty",
   "metadata": {},
   "source": [
    "Once the majority class is separated, we can proceed with sampling from the majority class. Once the sampling is done, the shape of the majority class dataset and its head are printed."
   ]
  },
  {
   "cell_type": "code",
   "execution_count": 25,
   "id": "fourth-prayer",
   "metadata": {},
   "outputs": [],
   "source": [
    "# Extract the samples\n",
    "majSample = majData.sample(n=len(ind), random_state=123)"
   ]
  },
  {
   "cell_type": "code",
   "execution_count": 26,
   "id": "knowing-expansion",
   "metadata": {},
   "outputs": [],
   "source": [
    "# preparing the individual dataset, we can now concatenate them together\n",
    "balData = pd.concat([minData, majSample], axis=0)"
   ]
  },
  {
   "cell_type": "code",
   "execution_count": 27,
   "id": "silver-master",
   "metadata": {},
   "outputs": [],
   "source": [
    "# shuffle the dataset so that both the minority and majority classes\n",
    "from sklearn.utils import shuffle\n",
    "balData = shuffle(balData)"
   ]
  },
  {
   "cell_type": "code",
   "execution_count": 28,
   "id": "turned-gothic",
   "metadata": {},
   "outputs": [],
   "source": [
    "# separate the shuffled dataset into the independent variables and dependent variables\n",
    "X_trainNew = balData.iloc[:, 0:51]\n",
    "y_trainNew = balData['y']"
   ]
  },
  {
   "cell_type": "code",
   "execution_count": 29,
   "id": "widespread-wallpaper",
   "metadata": {},
   "outputs": [
    {
     "data": {
      "text/plain": [
       "LogisticRegression()"
      ]
     },
     "execution_count": 29,
     "metadata": {},
     "output_type": "execute_result"
    }
   ],
   "source": [
    "# create the model\n",
    "bankModel1 = LogisticRegression()\n",
    "bankModel1.fit(X_trainNew, y_trainNew)"
   ]
  },
  {
   "cell_type": "code",
   "execution_count": 30,
   "id": "alpine-moral",
   "metadata": {},
   "outputs": [],
   "source": [
    "# make prediction\n",
    "pred = bankModel1.predict(X_test)"
   ]
  },
  {
   "cell_type": "code",
   "execution_count": 31,
   "id": "broken-denver",
   "metadata": {},
   "outputs": [
    {
     "name": "stdout",
     "output_type": "stream",
     "text": [
      "Accuracy of Logistic Regression model prediction on test set for balanced data set: 0.8299174284871719\n"
     ]
    }
   ],
   "source": [
    "# calculate accuracy\n",
    "print(f'Accuracy of Logistic Regression model prediction on test set for balanced data set: {bankModel1.score(X_test, y_test)}')"
   ]
  },
  {
   "cell_type": "code",
   "execution_count": 32,
   "id": "extra-williams",
   "metadata": {},
   "outputs": [
    {
     "name": "stdout",
     "output_type": "stream",
     "text": [
      "[[9969 2029]\n",
      " [ 278 1288]]\n"
     ]
    }
   ],
   "source": [
    "# generate the confusion matrix and classification report\n",
    "print(confusion_matrix(y_test, pred))"
   ]
  },
  {
   "cell_type": "code",
   "execution_count": 33,
   "id": "flush-designer",
   "metadata": {},
   "outputs": [
    {
     "name": "stdout",
     "output_type": "stream",
     "text": [
      "              precision    recall  f1-score   support\n",
      "\n",
      "          no       0.97      0.83      0.90     11998\n",
      "         yes       0.39      0.82      0.53      1566\n",
      "\n",
      "    accuracy                           0.83     13564\n",
      "   macro avg       0.68      0.83      0.71     13564\n",
      "weighted avg       0.91      0.83      0.85     13564\n",
      "\n"
     ]
    }
   ],
   "source": [
    "print(classification_report(y_test, pred))"
   ]
  },
  {
   "cell_type": "markdown",
   "id": "african-mississippi",
   "metadata": {},
   "source": [
    "# Implementing SMOTE on Our Banking Dataset to Find the Optimal Result"
   ]
  },
  {
   "cell_type": "code",
   "execution_count": 34,
   "id": "olive-default",
   "metadata": {},
   "outputs": [
    {
     "name": "stdout",
     "output_type": "stream",
     "text": [
      "Before OverSampling count of yes: 3723\n",
      "Before OverSampling count of no: 27924\n"
     ]
    }
   ],
   "source": [
    "# print the count of both the classes before we oversample\n",
    "print(f\"Before OverSampling count of yes: {sum(y_train=='yes')}\")\n",
    "print(f\"Before OverSampling count of no: {sum(y_train=='no')}\")"
   ]
  },
  {
   "cell_type": "code",
   "execution_count": 35,
   "id": "theoretical-configuration",
   "metadata": {},
   "outputs": [],
   "source": [
    "# import packages\n",
    "import smote_variants as sv\n",
    "import numpy as np"
   ]
  },
  {
   "cell_type": "code",
   "execution_count": 36,
   "id": "twelve-archives",
   "metadata": {},
   "outputs": [],
   "source": [
    "# instantiate the SMOTE library\n",
    "oversampler = sv.SMOTE()"
   ]
  },
  {
   "cell_type": "code",
   "execution_count": 37,
   "id": "wanted-dollar",
   "metadata": {},
   "outputs": [
    {
     "name": "stderr",
     "output_type": "stream",
     "text": [
      "2021-03-06 00:34:15,555:INFO:SMOTE: Running sampling via ('SMOTE', \"{'proportion': 1.0, 'n_neighbors': 5, 'n_jobs': 1, 'random_state': None}\")\n"
     ]
    }
   ],
   "source": [
    "# sample the process \n",
    "X_train_os, y_train_os = oversampler.sample(np.array(X_train), np.array(y_train))"
   ]
  },
  {
   "cell_type": "code",
   "execution_count": 38,
   "id": "anticipated-amsterdam",
   "metadata": {},
   "outputs": [
    {
     "name": "stdout",
     "output_type": "stream",
     "text": [
      "After OverSampling, the shape of train_X: (55848, 51)\n",
      "After OverSampling, the shape of train_y: (55848,) \n",
      "\n",
      "After OverSampling, counts of label 'Yes': 27924\n",
      "After OverSampling, counts of label 'no': 27924\n"
     ]
    }
   ],
   "source": [
    "# print the shapes of the new X and y variables\n",
    "print(f'After OverSampling, the shape of train_X: {X_train_os.shape}')\n",
    "print(f'After OverSampling, the shape of train_y: {y_train_os.shape} \\n')\n",
    "print(f\"After OverSampling, counts of label 'Yes': {sum(y_train_os == 'yes')}\")\n",
    "print(f\"After OverSampling, counts of label 'no': {sum(y_train_os == 'no')}\")"
   ]
  },
  {
   "cell_type": "code",
   "execution_count": 39,
   "id": "pregnant-round",
   "metadata": {},
   "outputs": [
    {
     "data": {
      "text/plain": [
       "LogisticRegression()"
      ]
     },
     "execution_count": 39,
     "metadata": {},
     "output_type": "execute_result"
    }
   ],
   "source": [
    "# create a model\n",
    "bankModel2 = LogisticRegression()\n",
    "bankModel2.fit(X_train_os, y_train_os)"
   ]
  },
  {
   "cell_type": "code",
   "execution_count": 40,
   "id": "recognized-dimension",
   "metadata": {},
   "outputs": [],
   "source": [
    "# make predicitons\n",
    "pred = bankModel2.predict(X_test)"
   ]
  },
  {
   "cell_type": "code",
   "execution_count": 41,
   "id": "premier-baking",
   "metadata": {},
   "outputs": [
    {
     "name": "stdout",
     "output_type": "stream",
     "text": [
      "Accuracy of Logistic Regression model prediction on test set for SMOTE balanced data set: 0.8437039221468593\n"
     ]
    }
   ],
   "source": [
    "# print the accuracy values\n",
    "print(f'Accuracy of Logistic Regression model prediction on test set for SMOTE balanced data set: {bankModel2.score(X_test, y_test)}')"
   ]
  },
  {
   "cell_type": "code",
   "execution_count": 42,
   "id": "marine-windows",
   "metadata": {},
   "outputs": [
    {
     "name": "stdout",
     "output_type": "stream",
     "text": [
      "[[10210  1788]\n",
      " [  332  1234]]\n"
     ]
    }
   ],
   "source": [
    "# print confusion matrix\n",
    "print(confusion_matrix(y_test, pred))"
   ]
  },
  {
   "cell_type": "code",
   "execution_count": 43,
   "id": "urban-jerusalem",
   "metadata": {},
   "outputs": [
    {
     "name": "stdout",
     "output_type": "stream",
     "text": [
      "              precision    recall  f1-score   support\n",
      "\n",
      "          no       0.97      0.85      0.91     11998\n",
      "         yes       0.41      0.79      0.54      1566\n",
      "\n",
      "    accuracy                           0.84     13564\n",
      "   macro avg       0.69      0.82      0.72     13564\n",
      "weighted avg       0.90      0.84      0.86     13564\n",
      "\n"
     ]
    }
   ],
   "source": [
    "# print classification report\n",
    "print(classification_report(y_test, pred))"
   ]
  },
  {
   "cell_type": "markdown",
   "id": "british-movie",
   "metadata": {},
   "source": [
    "# Implementing MSMOTE on Our Banking Dataset to Find the Optimal Result"
   ]
  },
  {
   "cell_type": "code",
   "execution_count": 44,
   "id": "fiscal-greene",
   "metadata": {},
   "outputs": [],
   "source": [
    "# instantiate MSMOTE\n",
    "oversampler = sv.MSMOTE()"
   ]
  },
  {
   "cell_type": "code",
   "execution_count": 45,
   "id": "outdoor-physics",
   "metadata": {},
   "outputs": [
    {
     "name": "stderr",
     "output_type": "stream",
     "text": [
      "2021-03-06 00:34:21,020:INFO:MSMOTE: Running sampling via ('MSMOTE', \"{'proportion': 1.0, 'n_neighbors': 5, 'n_jobs': 1, 'random_state': None}\")\n"
     ]
    }
   ],
   "source": [
    "# creating new training set\n",
    "X_train_os, y_train_os = oversampler.sample(np.array(X_train), np.array(y_train))"
   ]
  },
  {
   "cell_type": "code",
   "execution_count": 46,
   "id": "formed-collective",
   "metadata": {},
   "outputs": [
    {
     "name": "stdout",
     "output_type": "stream",
     "text": [
      "After OverSampling, the shape of train_X: (55848, 51)\n",
      "After OverSampling, the shape of train_y: (55848,) \n",
      "\n",
      "After OverSampling, counts of label 'Yes': 27924\n",
      "After OverSampling, counts of label 'no': 27924\n"
     ]
    }
   ],
   "source": [
    "# print the shapes of the new X and y variables\n",
    "print(f'After OverSampling, the shape of train_X: {X_train_os.shape}')\n",
    "print(f'After OverSampling, the shape of train_y: {y_train_os.shape} \\n')\n",
    "print(f\"After OverSampling, counts of label 'Yes': {sum(y_train_os=='yes')}\")\n",
    "print(f\"After OverSampling, counts of label 'no': {sum(y_train_os=='no')}\")"
   ]
  },
  {
   "cell_type": "code",
   "execution_count": 47,
   "id": "handmade-blair",
   "metadata": {},
   "outputs": [
    {
     "data": {
      "text/plain": [
       "LogisticRegression()"
      ]
     },
     "execution_count": 47,
     "metadata": {},
     "output_type": "execute_result"
    }
   ],
   "source": [
    "# create the model\n",
    "bankModel3 = LogisticRegression()\n",
    "bankModel3.fit(X_train_os, y_train_os)"
   ]
  },
  {
   "cell_type": "code",
   "execution_count": 48,
   "id": "patient-lounge",
   "metadata": {},
   "outputs": [],
   "source": [
    "# make predictions\n",
    "pred = bankModel3.predict(X_test)"
   ]
  },
  {
   "cell_type": "code",
   "execution_count": 49,
   "id": "needed-mambo",
   "metadata": {},
   "outputs": [
    {
     "name": "stdout",
     "output_type": "stream",
     "text": [
      "Accuracy of Logistic Regression model prediction on test set for MSMOTE balanced data set: 0.8482748451784135\n"
     ]
    }
   ],
   "source": [
    "# print the accuracy of the model\n",
    "print(f'Accuracy of Logistic Regression model prediction on test set for MSMOTE balanced data set: {bankModel3.score(X_test, y_test)}')"
   ]
  },
  {
   "cell_type": "code",
   "execution_count": 50,
   "id": "dangerous-ordinary",
   "metadata": {},
   "outputs": [
    {
     "name": "stdout",
     "output_type": "stream",
     "text": [
      "[[10277  1721]\n",
      " [  337  1229]]\n"
     ]
    }
   ],
   "source": [
    "# print confusion matrix\n",
    "print(confusion_matrix(y_test, pred))"
   ]
  },
  {
   "cell_type": "code",
   "execution_count": 51,
   "id": "prerequisite-precipitation",
   "metadata": {},
   "outputs": [
    {
     "name": "stdout",
     "output_type": "stream",
     "text": [
      "              precision    recall  f1-score   support\n",
      "\n",
      "          no       0.97      0.86      0.91     11998\n",
      "         yes       0.42      0.78      0.54      1566\n",
      "\n",
      "    accuracy                           0.85     13564\n",
      "   macro avg       0.69      0.82      0.73     13564\n",
      "weighted avg       0.90      0.85      0.87     13564\n",
      "\n"
     ]
    }
   ],
   "source": [
    "# print classification report\n",
    "print(classification_report(y_test, pred))"
   ]
  }
 ],
 "metadata": {
  "kernelspec": {
   "display_name": "Python 3",
   "language": "python",
   "name": "python3"
  },
  "language_info": {
   "codemirror_mode": {
    "name": "ipython",
    "version": 3
   },
   "file_extension": ".py",
   "mimetype": "text/x-python",
   "name": "python",
   "nbconvert_exporter": "python",
   "pygments_lexer": "ipython3",
   "version": "3.7.7"
  }
 },
 "nbformat": 4,
 "nbformat_minor": 5
}
