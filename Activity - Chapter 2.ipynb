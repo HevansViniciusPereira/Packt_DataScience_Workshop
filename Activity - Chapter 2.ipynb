{
 "cells": [
  {
   "cell_type": "markdown",
   "id": "dying-developer",
   "metadata": {},
   "source": [
    "# Fitting a Log-Linear Model Using the statsmodels formula API"
   ]
  },
  {
   "cell_type": "markdown",
   "id": "strange-projector",
   "metadata": {},
   "source": [
    "<b> Define a linear regression model and assign it to a variable. Remember to use the log function to transform the dependent variable in the formula string </b>"
   ]
  },
  {
   "cell_type": "code",
   "execution_count": 1,
   "id": "velvet-mexico",
   "metadata": {},
   "outputs": [],
   "source": [
    "# import packages\n",
    "import pandas as pd\n",
    "import numpy as np\n",
    "%matplotlib inline\n",
    "import matplotlib as mpl\n",
    "import seaborn as sns\n",
    "import matplotlib.pyplot as plt\n",
    "import statsmodels.formula.api as smf\n",
    "import statsmodels.graphics.api as smg\n",
    "import patsy\n",
    "from statsmodels.graphics.correlation import plot_corr\n",
    "from sklearn.model_selection import train_test_split\n",
    "plt.style.use('seaborn')"
   ]
  },
  {
   "cell_type": "code",
   "execution_count": 2,
   "id": "recorded-nation",
   "metadata": {},
   "outputs": [
    {
     "data": {
      "text/html": [
       "<div>\n",
       "<style scoped>\n",
       "    .dataframe tbody tr th:only-of-type {\n",
       "        vertical-align: middle;\n",
       "    }\n",
       "\n",
       "    .dataframe tbody tr th {\n",
       "        vertical-align: top;\n",
       "    }\n",
       "\n",
       "    .dataframe thead th {\n",
       "        text-align: right;\n",
       "    }\n",
       "</style>\n",
       "<table border=\"1\" class=\"dataframe\">\n",
       "  <thead>\n",
       "    <tr style=\"text-align: right;\">\n",
       "      <th></th>\n",
       "      <th>CRIM</th>\n",
       "      <th>ZN</th>\n",
       "      <th>INDUS</th>\n",
       "      <th>CHAS</th>\n",
       "      <th>NOX</th>\n",
       "      <th>RM</th>\n",
       "      <th>AGE</th>\n",
       "      <th>DIS</th>\n",
       "      <th>RAD</th>\n",
       "      <th>TAX</th>\n",
       "      <th>PTRATIO</th>\n",
       "      <th>LSTAT</th>\n",
       "      <th>MEDV</th>\n",
       "    </tr>\n",
       "  </thead>\n",
       "  <tbody>\n",
       "    <tr>\n",
       "      <th>0</th>\n",
       "      <td>0.00632</td>\n",
       "      <td>18.0</td>\n",
       "      <td>2.31</td>\n",
       "      <td>0</td>\n",
       "      <td>0.538</td>\n",
       "      <td>6.575</td>\n",
       "      <td>65.2</td>\n",
       "      <td>4.0900</td>\n",
       "      <td>1</td>\n",
       "      <td>296</td>\n",
       "      <td>15.3</td>\n",
       "      <td>4.98</td>\n",
       "      <td>24.0</td>\n",
       "    </tr>\n",
       "    <tr>\n",
       "      <th>1</th>\n",
       "      <td>0.02731</td>\n",
       "      <td>0.0</td>\n",
       "      <td>7.07</td>\n",
       "      <td>0</td>\n",
       "      <td>0.469</td>\n",
       "      <td>6.421</td>\n",
       "      <td>78.9</td>\n",
       "      <td>4.9671</td>\n",
       "      <td>2</td>\n",
       "      <td>242</td>\n",
       "      <td>17.8</td>\n",
       "      <td>9.14</td>\n",
       "      <td>21.6</td>\n",
       "    </tr>\n",
       "    <tr>\n",
       "      <th>2</th>\n",
       "      <td>0.02729</td>\n",
       "      <td>0.0</td>\n",
       "      <td>7.07</td>\n",
       "      <td>0</td>\n",
       "      <td>0.469</td>\n",
       "      <td>7.185</td>\n",
       "      <td>61.1</td>\n",
       "      <td>4.9671</td>\n",
       "      <td>2</td>\n",
       "      <td>242</td>\n",
       "      <td>17.8</td>\n",
       "      <td>4.03</td>\n",
       "      <td>34.7</td>\n",
       "    </tr>\n",
       "    <tr>\n",
       "      <th>3</th>\n",
       "      <td>0.03237</td>\n",
       "      <td>0.0</td>\n",
       "      <td>2.18</td>\n",
       "      <td>0</td>\n",
       "      <td>0.458</td>\n",
       "      <td>6.998</td>\n",
       "      <td>45.8</td>\n",
       "      <td>6.0622</td>\n",
       "      <td>3</td>\n",
       "      <td>222</td>\n",
       "      <td>18.7</td>\n",
       "      <td>2.94</td>\n",
       "      <td>33.4</td>\n",
       "    </tr>\n",
       "    <tr>\n",
       "      <th>4</th>\n",
       "      <td>0.06905</td>\n",
       "      <td>0.0</td>\n",
       "      <td>2.18</td>\n",
       "      <td>0</td>\n",
       "      <td>0.458</td>\n",
       "      <td>7.147</td>\n",
       "      <td>54.2</td>\n",
       "      <td>6.0622</td>\n",
       "      <td>3</td>\n",
       "      <td>222</td>\n",
       "      <td>18.7</td>\n",
       "      <td>5.33</td>\n",
       "      <td>36.2</td>\n",
       "    </tr>\n",
       "  </tbody>\n",
       "</table>\n",
       "</div>"
      ],
      "text/plain": [
       "      CRIM   ZN   INDUS   CHAS    NOX     RM   AGE     DIS  RAD  TAX  PTRATIO  \\\n",
       "0  0.00632  18.0    2.31     0  0.538  6.575  65.2  4.0900    1  296     15.3   \n",
       "1  0.02731   0.0    7.07     0  0.469  6.421  78.9  4.9671    2  242     17.8   \n",
       "2  0.02729   0.0    7.07     0  0.469  7.185  61.1  4.9671    2  242     17.8   \n",
       "3  0.03237   0.0    2.18     0  0.458  6.998  45.8  6.0622    3  222     18.7   \n",
       "4  0.06905   0.0    2.18     0  0.458  7.147  54.2  6.0622    3  222     18.7   \n",
       "\n",
       "   LSTAT  MEDV  \n",
       "0   4.98  24.0  \n",
       "1   9.14  21.6  \n",
       "2   4.03  34.7  \n",
       "3   2.94  33.4  \n",
       "4   5.33  36.2  "
      ]
     },
     "execution_count": 2,
     "metadata": {},
     "output_type": "execute_result"
    }
   ],
   "source": [
    "# load the data\n",
    "rawBostonData = pd.read_csv('https://raw.githubusercontent.com/PacktWorkshops/The-Data-Science-Workshop/master/Chapter02/Dataset/Boston.csv')\n",
    "rawBostonData.head()"
   ]
  },
  {
   "cell_type": "code",
   "execution_count": 3,
   "id": "swiss-affairs",
   "metadata": {},
   "outputs": [],
   "source": [
    "# deleting duplicate records\n",
    "rawBostonData = rawBostonData.drop_duplicates()"
   ]
  },
  {
   "cell_type": "code",
   "execution_count": 4,
   "id": "fundamental-contemporary",
   "metadata": {},
   "outputs": [],
   "source": [
    "# Rename the DataFrame columns so that they are meaningful\n",
    "renamedBostonData = rawBostonData.rename(columns = {'CRIM':'crimeRatePerCapita',\n",
    "                                                    ' ZN ':'landOver25K_sqft',\n",
    "                                                    'INDUS ':'non-retailLandProptn',\n",
    "                                                    'CHAS':'riverDummy',\n",
    "                                                    'NOX':'nitrixOxide_pp10m',\n",
    "                                                    'RM':'AvgNo.RoomsPerDwelling',\n",
    "                                                    'AGE':'ProptnOwnerOccupied',\n",
    "                                                    'DIS':'weightedDist',\n",
    "                                                    'RAD':'radialHighwaysAccess',\n",
    "                                                    'TAX':'propTaxRate_per10K',\n",
    "                                                    'PTRATIO':'pupilTeacherRatio',\n",
    "                                                    'LSTAT':'pctLowerStatus',\n",
    "                                                    'MEDV':'medianValue_Ks'})"
   ]
  },
  {
   "cell_type": "code",
   "execution_count": 5,
   "id": "polyphonic-pontiac",
   "metadata": {},
   "outputs": [],
   "source": [
    "# Divide the DataFrame into training and test sets\n",
    "X = renamedBostonData.drop('crimeRatePerCapita', axis=1)\n",
    "y = renamedBostonData[['crimeRatePerCapita']]"
   ]
  },
  {
   "cell_type": "code",
   "execution_count": 6,
   "id": "recovered-bookmark",
   "metadata": {},
   "outputs": [],
   "source": [
    "X_train, X_test, y_train, y_test = train_test_split(X, y, test_size=0.3, random_state=10)\n",
    "train_data = pd.concat([X_train, y_train], axis=1)\n",
    "test_data = pd.concat([X_test, y_test], axis=1)"
   ]
  },
  {
   "cell_type": "code",
   "execution_count": 7,
   "id": "precise-timber",
   "metadata": {},
   "outputs": [],
   "source": [
    "import statsmodels.formula.api as smf\n",
    "# define a linear regression model \n",
    "logLinearModel = smf.ols(formula='np.log(crimeRatePerCapita) ~ medianValue_Ks', data=train_data)"
   ]
  },
  {
   "cell_type": "markdown",
   "id": "ranging-bosnia",
   "metadata": {},
   "source": [
    "<b> Call the fit method of the log-linear model instance and assign the results of the method to a variable </b>"
   ]
  },
  {
   "cell_type": "code",
   "execution_count": 8,
   "id": "exposed-ballot",
   "metadata": {},
   "outputs": [],
   "source": [
    "# fit the model\n",
    "logLinearModelResult = logLinearModel.fit()"
   ]
  },
  {
   "cell_type": "markdown",
   "id": "continued-smith",
   "metadata": {},
   "source": [
    "<b> Print a summary of the results and analyze the output </b>"
   ]
  },
  {
   "cell_type": "code",
   "execution_count": 9,
   "id": "consecutive-classification",
   "metadata": {},
   "outputs": [
    {
     "name": "stdout",
     "output_type": "stream",
     "text": [
      "                                OLS Regression Results                                \n",
      "======================================================================================\n",
      "Dep. Variable:     np.log(crimeRatePerCapita)   R-squared:                       0.238\n",
      "Model:                                    OLS   Adj. R-squared:                  0.236\n",
      "Method:                         Least Squares   F-statistic:                     109.9\n",
      "Date:                        Mon, 22 Feb 2021   Prob (F-statistic):           1.48e-22\n",
      "Time:                                09:46:35   Log-Likelihood:                -727.67\n",
      "No. Observations:                         354   AIC:                             1459.\n",
      "Df Residuals:                             352   BIC:                             1467.\n",
      "Df Model:                                   1                                         \n",
      "Covariance Type:                    nonrobust                                         \n",
      "==================================================================================\n",
      "                     coef    std err          t      P>|t|      [0.025      0.975]\n",
      "----------------------------------------------------------------------------------\n",
      "Intercept          1.9107      0.271      7.062      0.000       1.379       2.443\n",
      "medianValue_Ks    -0.1198      0.011    -10.482      0.000      -0.142      -0.097\n",
      "==============================================================================\n",
      "Omnibus:                       11.420   Durbin-Watson:                   1.907\n",
      "Prob(Omnibus):                  0.003   Jarque-Bera (JB):               10.764\n",
      "Skew:                           0.376   Prob(JB):                      0.00460\n",
      "Kurtosis:                       2.594   Cond. No.                         63.7\n",
      "==============================================================================\n",
      "\n",
      "Notes:\n",
      "[1] Standard Errors assume that the covariance matrix of the errors is correctly specified.\n"
     ]
    }
   ],
   "source": [
    "# Print a summary of the model\n",
    "print(logLinearModelResult.summary())"
   ]
  },
  {
   "cell_type": "markdown",
   "id": "tender-packing",
   "metadata": {},
   "source": [
    "# Fitting a Multiple Log-Linear Regression Model"
   ]
  },
  {
   "cell_type": "markdown",
   "id": "tribal-integer",
   "metadata": {},
   "source": [
    "<b> Define a linear regression model and assign it to a variable. Remember to use the log function to transform the dependent variable in the formula string, and also include more than one independent variable in your analysis </b>"
   ]
  },
  {
   "cell_type": "code",
   "execution_count": 10,
   "id": "related-telescope",
   "metadata": {},
   "outputs": [],
   "source": [
    "multiLogLinearModel = smf.ols(formula='np.log(crimeRatePerCapita) ~ (pctLowerStatus + radialHighwaysAccess + medianValue_Ks + nitrixOxide_pp10m)**2',\n",
    "                             data=train_data)"
   ]
  },
  {
   "cell_type": "markdown",
   "id": "bright-enhancement",
   "metadata": {},
   "source": [
    "<b> Call the fit method of the model instance and assign the results of the method to a new variable </b>"
   ]
  },
  {
   "cell_type": "code",
   "execution_count": 11,
   "id": "white-diagram",
   "metadata": {},
   "outputs": [],
   "source": [
    "multiLogLinearModelResult = multiLogLinearModel.fit()"
   ]
  },
  {
   "cell_type": "markdown",
   "id": "median-denmark",
   "metadata": {},
   "source": [
    "<b> Print a summary of the results and analyze your model </b>"
   ]
  },
  {
   "cell_type": "code",
   "execution_count": 12,
   "id": "designing-shore",
   "metadata": {},
   "outputs": [
    {
     "name": "stdout",
     "output_type": "stream",
     "text": [
      "                                OLS Regression Results                                \n",
      "======================================================================================\n",
      "Dep. Variable:     np.log(crimeRatePerCapita)   R-squared:                       0.884\n",
      "Model:                                    OLS   Adj. R-squared:                  0.881\n",
      "Method:                         Least Squares   F-statistic:                     261.5\n",
      "Date:                        Mon, 22 Feb 2021   Prob (F-statistic):          7.79e-154\n",
      "Time:                                09:46:36   Log-Likelihood:                -394.39\n",
      "No. Observations:                         354   AIC:                             810.8\n",
      "Df Residuals:                             343   BIC:                             853.3\n",
      "Df Model:                                  10                                         \n",
      "Covariance Type:                    nonrobust                                         \n",
      "==========================================================================================================\n",
      "                                             coef    std err          t      P>|t|      [0.025      0.975]\n",
      "----------------------------------------------------------------------------------------------------------\n",
      "Intercept                                 -5.4707      1.490     -3.671      0.000      -8.402      -2.540\n",
      "pctLowerStatus                             0.1541      0.049      3.161      0.002       0.058       0.250\n",
      "radialHighwaysAccess                       0.4697      0.052      9.070      0.000       0.368       0.572\n",
      "medianValue_Ks                            -0.1457      0.044     -3.325      0.001      -0.232      -0.059\n",
      "nitrixOxide_pp10m                          3.4509      3.000      1.150      0.251      -2.450       9.352\n",
      "pctLowerStatus:radialHighwaysAccess       -0.0006      0.001     -0.576      0.565      -0.003       0.002\n",
      "pctLowerStatus:medianValue_Ks             -0.0041      0.001     -4.159      0.000      -0.006      -0.002\n",
      "pctLowerStatus:nitrixOxide_pp10m          -0.0783      0.081     -0.964      0.336      -0.238       0.082\n",
      "radialHighwaysAccess:medianValue_Ks       -0.0027      0.001     -2.694      0.007      -0.005      -0.001\n",
      "radialHighwaysAccess:nitrixOxide_pp10m    -0.4234      0.066     -6.404      0.000      -0.553      -0.293\n",
      "medianValue_Ks:nitrixOxide_pp10m           0.3552      0.092      3.869      0.000       0.175       0.536\n",
      "==============================================================================\n",
      "Omnibus:                        4.124   Durbin-Watson:                   1.966\n",
      "Prob(Omnibus):                  0.127   Jarque-Bera (JB):                4.107\n",
      "Skew:                           0.175   Prob(JB):                        0.128\n",
      "Kurtosis:                       3.395   Cond. No.                     3.29e+04\n",
      "==============================================================================\n",
      "\n",
      "Notes:\n",
      "[1] Standard Errors assume that the covariance matrix of the errors is correctly specified.\n",
      "[2] The condition number is large, 3.29e+04. This might indicate that there are\n",
      "strong multicollinearity or other numerical problems.\n"
     ]
    }
   ],
   "source": [
    "print(multiLogLinearModelResult.summary())"
   ]
  }
 ],
 "metadata": {
  "kernelspec": {
   "display_name": "Python 3",
   "language": "python",
   "name": "python3"
  },
  "language_info": {
   "codemirror_mode": {
    "name": "ipython",
    "version": 3
   },
   "file_extension": ".py",
   "mimetype": "text/x-python",
   "name": "python",
   "nbconvert_exporter": "python",
   "pygments_lexer": "ipython3",
   "version": "3.7.7"
  }
 },
 "nbformat": 4,
 "nbformat_minor": 5
}
