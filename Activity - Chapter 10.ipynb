{
 "cells": [
  {
   "cell_type": "markdown",
   "id": "lonely-geometry",
   "metadata": {},
   "source": [
    "# Analyzing Churn Data Using Visual Data Analysis Techniques"
   ]
  },
  {
   "cell_type": "markdown",
   "id": "accepted-communist",
   "metadata": {},
   "source": [
    "<b> Download and load the dataset </b>"
   ]
  },
  {
   "cell_type": "code",
   "execution_count": 1,
   "id": "integral-opera",
   "metadata": {},
   "outputs": [],
   "source": [
    "# import packages\n",
    "import pandas as pd\n",
    "import matplotlib.pyplot as plt\n",
    "import seaborn as sns"
   ]
  },
  {
   "cell_type": "code",
   "execution_count": 2,
   "id": "subsequent-slope",
   "metadata": {},
   "outputs": [],
   "source": [
    "# url path\n",
    "url_path = 'https://raw.githubusercontent.com/TrainingByPackt/The-Data-Science-Workshop/master/Chapter10/dataset/churn.csv'"
   ]
  },
  {
   "cell_type": "code",
   "execution_count": 3,
   "id": "crude-samoa",
   "metadata": {},
   "outputs": [],
   "source": [
    "df = pd.read_csv(url_path)"
   ]
  },
  {
   "cell_type": "markdown",
   "id": "overall-stopping",
   "metadata": {},
   "source": [
    "<b> Explore the structure and content of the dataset by using .shape, .dtypes, .head(), .tail(), or .sample() </b>"
   ]
  },
  {
   "cell_type": "code",
   "execution_count": 4,
   "id": "common-medicare",
   "metadata": {},
   "outputs": [
    {
     "data": {
      "text/plain": [
       "(5000, 18)"
      ]
     },
     "execution_count": 4,
     "metadata": {},
     "output_type": "execute_result"
    }
   ],
   "source": [
    "df.shape"
   ]
  },
  {
   "cell_type": "code",
   "execution_count": 5,
   "id": "aggressive-excuse",
   "metadata": {},
   "outputs": [
    {
     "data": {
      "text/plain": [
       "churn                          object\n",
       "accountlength                   int64\n",
       "internationalplan              object\n",
       "voicemailplan                  object\n",
       "numbervmailmessages             int64\n",
       "totaldayminutes               float64\n",
       "totaldaycalls                   int64\n",
       "totaldaycharge                float64\n",
       "totaleveminutes               float64\n",
       "totalevecalls                   int64\n",
       "totalevecharge                float64\n",
       "totalnightminutes             float64\n",
       "totalnightcalls                 int64\n",
       "totalnightcharge              float64\n",
       "totalintlminutes              float64\n",
       "totalintlcalls                  int64\n",
       "totalintlcharge               float64\n",
       "numbercustomerservicecalls      int64\n",
       "dtype: object"
      ]
     },
     "execution_count": 5,
     "metadata": {},
     "output_type": "execute_result"
    }
   ],
   "source": [
    "df.dtypes"
   ]
  },
  {
   "cell_type": "code",
   "execution_count": 6,
   "id": "massive-parameter",
   "metadata": {},
   "outputs": [
    {
     "data": {
      "text/html": [
       "<div>\n",
       "<style scoped>\n",
       "    .dataframe tbody tr th:only-of-type {\n",
       "        vertical-align: middle;\n",
       "    }\n",
       "\n",
       "    .dataframe tbody tr th {\n",
       "        vertical-align: top;\n",
       "    }\n",
       "\n",
       "    .dataframe thead th {\n",
       "        text-align: right;\n",
       "    }\n",
       "</style>\n",
       "<table border=\"1\" class=\"dataframe\">\n",
       "  <thead>\n",
       "    <tr style=\"text-align: right;\">\n",
       "      <th></th>\n",
       "      <th>churn</th>\n",
       "      <th>accountlength</th>\n",
       "      <th>internationalplan</th>\n",
       "      <th>voicemailplan</th>\n",
       "      <th>numbervmailmessages</th>\n",
       "      <th>totaldayminutes</th>\n",
       "      <th>totaldaycalls</th>\n",
       "      <th>totaldaycharge</th>\n",
       "      <th>totaleveminutes</th>\n",
       "      <th>totalevecalls</th>\n",
       "      <th>totalevecharge</th>\n",
       "      <th>totalnightminutes</th>\n",
       "      <th>totalnightcalls</th>\n",
       "      <th>totalnightcharge</th>\n",
       "      <th>totalintlminutes</th>\n",
       "      <th>totalintlcalls</th>\n",
       "      <th>totalintlcharge</th>\n",
       "      <th>numbercustomerservicecalls</th>\n",
       "    </tr>\n",
       "  </thead>\n",
       "  <tbody>\n",
       "    <tr>\n",
       "      <th>0</th>\n",
       "      <td>No</td>\n",
       "      <td>128</td>\n",
       "      <td>no</td>\n",
       "      <td>yes</td>\n",
       "      <td>25</td>\n",
       "      <td>265.1</td>\n",
       "      <td>110</td>\n",
       "      <td>45.07</td>\n",
       "      <td>197.4</td>\n",
       "      <td>99</td>\n",
       "      <td>16.78</td>\n",
       "      <td>244.7</td>\n",
       "      <td>91</td>\n",
       "      <td>11.01</td>\n",
       "      <td>10.0</td>\n",
       "      <td>3</td>\n",
       "      <td>2.70</td>\n",
       "      <td>1</td>\n",
       "    </tr>\n",
       "    <tr>\n",
       "      <th>1</th>\n",
       "      <td>No</td>\n",
       "      <td>107</td>\n",
       "      <td>no</td>\n",
       "      <td>yes</td>\n",
       "      <td>26</td>\n",
       "      <td>161.6</td>\n",
       "      <td>123</td>\n",
       "      <td>27.47</td>\n",
       "      <td>195.5</td>\n",
       "      <td>103</td>\n",
       "      <td>16.62</td>\n",
       "      <td>254.4</td>\n",
       "      <td>103</td>\n",
       "      <td>11.45</td>\n",
       "      <td>13.7</td>\n",
       "      <td>3</td>\n",
       "      <td>3.70</td>\n",
       "      <td>1</td>\n",
       "    </tr>\n",
       "    <tr>\n",
       "      <th>2</th>\n",
       "      <td>No</td>\n",
       "      <td>137</td>\n",
       "      <td>no</td>\n",
       "      <td>no</td>\n",
       "      <td>0</td>\n",
       "      <td>243.4</td>\n",
       "      <td>114</td>\n",
       "      <td>41.38</td>\n",
       "      <td>121.2</td>\n",
       "      <td>110</td>\n",
       "      <td>10.30</td>\n",
       "      <td>162.6</td>\n",
       "      <td>104</td>\n",
       "      <td>7.32</td>\n",
       "      <td>12.2</td>\n",
       "      <td>5</td>\n",
       "      <td>3.29</td>\n",
       "      <td>0</td>\n",
       "    </tr>\n",
       "    <tr>\n",
       "      <th>3</th>\n",
       "      <td>No</td>\n",
       "      <td>84</td>\n",
       "      <td>yes</td>\n",
       "      <td>no</td>\n",
       "      <td>0</td>\n",
       "      <td>299.4</td>\n",
       "      <td>71</td>\n",
       "      <td>50.90</td>\n",
       "      <td>61.9</td>\n",
       "      <td>88</td>\n",
       "      <td>5.26</td>\n",
       "      <td>196.9</td>\n",
       "      <td>89</td>\n",
       "      <td>8.86</td>\n",
       "      <td>6.6</td>\n",
       "      <td>7</td>\n",
       "      <td>1.78</td>\n",
       "      <td>2</td>\n",
       "    </tr>\n",
       "    <tr>\n",
       "      <th>4</th>\n",
       "      <td>No</td>\n",
       "      <td>75</td>\n",
       "      <td>yes</td>\n",
       "      <td>no</td>\n",
       "      <td>0</td>\n",
       "      <td>166.7</td>\n",
       "      <td>113</td>\n",
       "      <td>28.34</td>\n",
       "      <td>148.3</td>\n",
       "      <td>122</td>\n",
       "      <td>12.61</td>\n",
       "      <td>186.9</td>\n",
       "      <td>121</td>\n",
       "      <td>8.41</td>\n",
       "      <td>10.1</td>\n",
       "      <td>3</td>\n",
       "      <td>2.73</td>\n",
       "      <td>3</td>\n",
       "    </tr>\n",
       "  </tbody>\n",
       "</table>\n",
       "</div>"
      ],
      "text/plain": [
       "  churn  accountlength internationalplan voicemailplan  numbervmailmessages  \\\n",
       "0    No            128                no           yes                   25   \n",
       "1    No            107                no           yes                   26   \n",
       "2    No            137                no            no                    0   \n",
       "3    No             84               yes            no                    0   \n",
       "4    No             75               yes            no                    0   \n",
       "\n",
       "   totaldayminutes  totaldaycalls  totaldaycharge  totaleveminutes  \\\n",
       "0            265.1            110           45.07            197.4   \n",
       "1            161.6            123           27.47            195.5   \n",
       "2            243.4            114           41.38            121.2   \n",
       "3            299.4             71           50.90             61.9   \n",
       "4            166.7            113           28.34            148.3   \n",
       "\n",
       "   totalevecalls  totalevecharge  totalnightminutes  totalnightcalls  \\\n",
       "0             99           16.78              244.7               91   \n",
       "1            103           16.62              254.4              103   \n",
       "2            110           10.30              162.6              104   \n",
       "3             88            5.26              196.9               89   \n",
       "4            122           12.61              186.9              121   \n",
       "\n",
       "   totalnightcharge  totalintlminutes  totalintlcalls  totalintlcharge  \\\n",
       "0             11.01              10.0               3             2.70   \n",
       "1             11.45              13.7               3             3.70   \n",
       "2              7.32              12.2               5             3.29   \n",
       "3              8.86               6.6               7             1.78   \n",
       "4              8.41              10.1               3             2.73   \n",
       "\n",
       "   numbercustomerservicecalls  \n",
       "0                           1  \n",
       "1                           1  \n",
       "2                           0  \n",
       "3                           2  \n",
       "4                           3  "
      ]
     },
     "execution_count": 6,
     "metadata": {},
     "output_type": "execute_result"
    }
   ],
   "source": [
    "df.head()"
   ]
  },
  {
   "cell_type": "code",
   "execution_count": 7,
   "id": "virtual-ozone",
   "metadata": {},
   "outputs": [
    {
     "data": {
      "text/html": [
       "<div>\n",
       "<style scoped>\n",
       "    .dataframe tbody tr th:only-of-type {\n",
       "        vertical-align: middle;\n",
       "    }\n",
       "\n",
       "    .dataframe tbody tr th {\n",
       "        vertical-align: top;\n",
       "    }\n",
       "\n",
       "    .dataframe thead th {\n",
       "        text-align: right;\n",
       "    }\n",
       "</style>\n",
       "<table border=\"1\" class=\"dataframe\">\n",
       "  <thead>\n",
       "    <tr style=\"text-align: right;\">\n",
       "      <th></th>\n",
       "      <th>churn</th>\n",
       "      <th>accountlength</th>\n",
       "      <th>internationalplan</th>\n",
       "      <th>voicemailplan</th>\n",
       "      <th>numbervmailmessages</th>\n",
       "      <th>totaldayminutes</th>\n",
       "      <th>totaldaycalls</th>\n",
       "      <th>totaldaycharge</th>\n",
       "      <th>totaleveminutes</th>\n",
       "      <th>totalevecalls</th>\n",
       "      <th>totalevecharge</th>\n",
       "      <th>totalnightminutes</th>\n",
       "      <th>totalnightcalls</th>\n",
       "      <th>totalnightcharge</th>\n",
       "      <th>totalintlminutes</th>\n",
       "      <th>totalintlcalls</th>\n",
       "      <th>totalintlcharge</th>\n",
       "      <th>numbercustomerservicecalls</th>\n",
       "    </tr>\n",
       "  </thead>\n",
       "  <tbody>\n",
       "    <tr>\n",
       "      <th>4995</th>\n",
       "      <td>No</td>\n",
       "      <td>50</td>\n",
       "      <td>no</td>\n",
       "      <td>yes</td>\n",
       "      <td>40</td>\n",
       "      <td>235.7</td>\n",
       "      <td>127</td>\n",
       "      <td>40.07</td>\n",
       "      <td>223.0</td>\n",
       "      <td>126</td>\n",
       "      <td>18.96</td>\n",
       "      <td>297.5</td>\n",
       "      <td>116</td>\n",
       "      <td>13.39</td>\n",
       "      <td>9.9</td>\n",
       "      <td>5</td>\n",
       "      <td>2.67</td>\n",
       "      <td>2</td>\n",
       "    </tr>\n",
       "    <tr>\n",
       "      <th>4996</th>\n",
       "      <td>Yes</td>\n",
       "      <td>152</td>\n",
       "      <td>no</td>\n",
       "      <td>no</td>\n",
       "      <td>0</td>\n",
       "      <td>184.2</td>\n",
       "      <td>90</td>\n",
       "      <td>31.31</td>\n",
       "      <td>256.8</td>\n",
       "      <td>73</td>\n",
       "      <td>21.83</td>\n",
       "      <td>213.6</td>\n",
       "      <td>113</td>\n",
       "      <td>9.61</td>\n",
       "      <td>14.7</td>\n",
       "      <td>2</td>\n",
       "      <td>3.97</td>\n",
       "      <td>3</td>\n",
       "    </tr>\n",
       "    <tr>\n",
       "      <th>4997</th>\n",
       "      <td>No</td>\n",
       "      <td>61</td>\n",
       "      <td>no</td>\n",
       "      <td>no</td>\n",
       "      <td>0</td>\n",
       "      <td>140.6</td>\n",
       "      <td>89</td>\n",
       "      <td>23.90</td>\n",
       "      <td>172.8</td>\n",
       "      <td>128</td>\n",
       "      <td>14.69</td>\n",
       "      <td>212.4</td>\n",
       "      <td>97</td>\n",
       "      <td>9.56</td>\n",
       "      <td>13.6</td>\n",
       "      <td>4</td>\n",
       "      <td>3.67</td>\n",
       "      <td>1</td>\n",
       "    </tr>\n",
       "    <tr>\n",
       "      <th>4998</th>\n",
       "      <td>No</td>\n",
       "      <td>109</td>\n",
       "      <td>no</td>\n",
       "      <td>no</td>\n",
       "      <td>0</td>\n",
       "      <td>188.8</td>\n",
       "      <td>67</td>\n",
       "      <td>32.10</td>\n",
       "      <td>171.7</td>\n",
       "      <td>92</td>\n",
       "      <td>14.59</td>\n",
       "      <td>224.4</td>\n",
       "      <td>89</td>\n",
       "      <td>10.10</td>\n",
       "      <td>8.5</td>\n",
       "      <td>6</td>\n",
       "      <td>2.30</td>\n",
       "      <td>0</td>\n",
       "    </tr>\n",
       "    <tr>\n",
       "      <th>4999</th>\n",
       "      <td>No</td>\n",
       "      <td>86</td>\n",
       "      <td>no</td>\n",
       "      <td>yes</td>\n",
       "      <td>34</td>\n",
       "      <td>129.4</td>\n",
       "      <td>102</td>\n",
       "      <td>22.00</td>\n",
       "      <td>267.1</td>\n",
       "      <td>104</td>\n",
       "      <td>22.70</td>\n",
       "      <td>154.8</td>\n",
       "      <td>100</td>\n",
       "      <td>6.97</td>\n",
       "      <td>9.3</td>\n",
       "      <td>16</td>\n",
       "      <td>2.51</td>\n",
       "      <td>0</td>\n",
       "    </tr>\n",
       "  </tbody>\n",
       "</table>\n",
       "</div>"
      ],
      "text/plain": [
       "     churn  accountlength internationalplan voicemailplan  \\\n",
       "4995    No             50                no           yes   \n",
       "4996   Yes            152                no            no   \n",
       "4997    No             61                no            no   \n",
       "4998    No            109                no            no   \n",
       "4999    No             86                no           yes   \n",
       "\n",
       "      numbervmailmessages  totaldayminutes  totaldaycalls  totaldaycharge  \\\n",
       "4995                   40            235.7            127           40.07   \n",
       "4996                    0            184.2             90           31.31   \n",
       "4997                    0            140.6             89           23.90   \n",
       "4998                    0            188.8             67           32.10   \n",
       "4999                   34            129.4            102           22.00   \n",
       "\n",
       "      totaleveminutes  totalevecalls  totalevecharge  totalnightminutes  \\\n",
       "4995            223.0            126           18.96              297.5   \n",
       "4996            256.8             73           21.83              213.6   \n",
       "4997            172.8            128           14.69              212.4   \n",
       "4998            171.7             92           14.59              224.4   \n",
       "4999            267.1            104           22.70              154.8   \n",
       "\n",
       "      totalnightcalls  totalnightcharge  totalintlminutes  totalintlcalls  \\\n",
       "4995              116             13.39               9.9               5   \n",
       "4996              113              9.61              14.7               2   \n",
       "4997               97              9.56              13.6               4   \n",
       "4998               89             10.10               8.5               6   \n",
       "4999              100              6.97               9.3              16   \n",
       "\n",
       "      totalintlcharge  numbercustomerservicecalls  \n",
       "4995             2.67                           2  \n",
       "4996             3.97                           3  \n",
       "4997             3.67                           1  \n",
       "4998             2.30                           0  \n",
       "4999             2.51                           0  "
      ]
     },
     "execution_count": 7,
     "metadata": {},
     "output_type": "execute_result"
    }
   ],
   "source": [
    "df.tail()"
   ]
  },
  {
   "cell_type": "code",
   "execution_count": 8,
   "id": "unique-slave",
   "metadata": {},
   "outputs": [
    {
     "data": {
      "text/html": [
       "<div>\n",
       "<style scoped>\n",
       "    .dataframe tbody tr th:only-of-type {\n",
       "        vertical-align: middle;\n",
       "    }\n",
       "\n",
       "    .dataframe tbody tr th {\n",
       "        vertical-align: top;\n",
       "    }\n",
       "\n",
       "    .dataframe thead th {\n",
       "        text-align: right;\n",
       "    }\n",
       "</style>\n",
       "<table border=\"1\" class=\"dataframe\">\n",
       "  <thead>\n",
       "    <tr style=\"text-align: right;\">\n",
       "      <th></th>\n",
       "      <th>churn</th>\n",
       "      <th>accountlength</th>\n",
       "      <th>internationalplan</th>\n",
       "      <th>voicemailplan</th>\n",
       "      <th>numbervmailmessages</th>\n",
       "      <th>totaldayminutes</th>\n",
       "      <th>totaldaycalls</th>\n",
       "      <th>totaldaycharge</th>\n",
       "      <th>totaleveminutes</th>\n",
       "      <th>totalevecalls</th>\n",
       "      <th>totalevecharge</th>\n",
       "      <th>totalnightminutes</th>\n",
       "      <th>totalnightcalls</th>\n",
       "      <th>totalnightcharge</th>\n",
       "      <th>totalintlminutes</th>\n",
       "      <th>totalintlcalls</th>\n",
       "      <th>totalintlcharge</th>\n",
       "      <th>numbercustomerservicecalls</th>\n",
       "    </tr>\n",
       "  </thead>\n",
       "  <tbody>\n",
       "    <tr>\n",
       "      <th>2764</th>\n",
       "      <td>No</td>\n",
       "      <td>123</td>\n",
       "      <td>no</td>\n",
       "      <td>yes</td>\n",
       "      <td>23</td>\n",
       "      <td>245.0</td>\n",
       "      <td>88</td>\n",
       "      <td>41.65</td>\n",
       "      <td>265.0</td>\n",
       "      <td>105</td>\n",
       "      <td>22.53</td>\n",
       "      <td>239.7</td>\n",
       "      <td>108</td>\n",
       "      <td>10.79</td>\n",
       "      <td>14.9</td>\n",
       "      <td>3</td>\n",
       "      <td>4.02</td>\n",
       "      <td>2</td>\n",
       "    </tr>\n",
       "    <tr>\n",
       "      <th>4767</th>\n",
       "      <td>No</td>\n",
       "      <td>42</td>\n",
       "      <td>no</td>\n",
       "      <td>yes</td>\n",
       "      <td>21</td>\n",
       "      <td>125.5</td>\n",
       "      <td>67</td>\n",
       "      <td>21.34</td>\n",
       "      <td>166.7</td>\n",
       "      <td>90</td>\n",
       "      <td>14.17</td>\n",
       "      <td>227.1</td>\n",
       "      <td>97</td>\n",
       "      <td>10.22</td>\n",
       "      <td>11.0</td>\n",
       "      <td>1</td>\n",
       "      <td>2.97</td>\n",
       "      <td>2</td>\n",
       "    </tr>\n",
       "    <tr>\n",
       "      <th>3814</th>\n",
       "      <td>No</td>\n",
       "      <td>125</td>\n",
       "      <td>no</td>\n",
       "      <td>yes</td>\n",
       "      <td>25</td>\n",
       "      <td>190.1</td>\n",
       "      <td>133</td>\n",
       "      <td>32.32</td>\n",
       "      <td>181.1</td>\n",
       "      <td>61</td>\n",
       "      <td>15.39</td>\n",
       "      <td>104.0</td>\n",
       "      <td>110</td>\n",
       "      <td>4.68</td>\n",
       "      <td>12.5</td>\n",
       "      <td>3</td>\n",
       "      <td>3.38</td>\n",
       "      <td>2</td>\n",
       "    </tr>\n",
       "    <tr>\n",
       "      <th>3499</th>\n",
       "      <td>No</td>\n",
       "      <td>113</td>\n",
       "      <td>no</td>\n",
       "      <td>no</td>\n",
       "      <td>0</td>\n",
       "      <td>158.4</td>\n",
       "      <td>107</td>\n",
       "      <td>26.93</td>\n",
       "      <td>142.2</td>\n",
       "      <td>104</td>\n",
       "      <td>12.09</td>\n",
       "      <td>174.7</td>\n",
       "      <td>108</td>\n",
       "      <td>7.86</td>\n",
       "      <td>14.9</td>\n",
       "      <td>2</td>\n",
       "      <td>4.02</td>\n",
       "      <td>0</td>\n",
       "    </tr>\n",
       "    <tr>\n",
       "      <th>2735</th>\n",
       "      <td>Yes</td>\n",
       "      <td>90</td>\n",
       "      <td>yes</td>\n",
       "      <td>yes</td>\n",
       "      <td>26</td>\n",
       "      <td>169.0</td>\n",
       "      <td>104</td>\n",
       "      <td>28.73</td>\n",
       "      <td>188.8</td>\n",
       "      <td>104</td>\n",
       "      <td>16.05</td>\n",
       "      <td>213.3</td>\n",
       "      <td>76</td>\n",
       "      <td>9.60</td>\n",
       "      <td>13.3</td>\n",
       "      <td>3</td>\n",
       "      <td>3.59</td>\n",
       "      <td>0</td>\n",
       "    </tr>\n",
       "  </tbody>\n",
       "</table>\n",
       "</div>"
      ],
      "text/plain": [
       "     churn  accountlength internationalplan voicemailplan  \\\n",
       "2764    No            123                no           yes   \n",
       "4767    No             42                no           yes   \n",
       "3814    No            125                no           yes   \n",
       "3499    No            113                no            no   \n",
       "2735   Yes             90               yes           yes   \n",
       "\n",
       "      numbervmailmessages  totaldayminutes  totaldaycalls  totaldaycharge  \\\n",
       "2764                   23            245.0             88           41.65   \n",
       "4767                   21            125.5             67           21.34   \n",
       "3814                   25            190.1            133           32.32   \n",
       "3499                    0            158.4            107           26.93   \n",
       "2735                   26            169.0            104           28.73   \n",
       "\n",
       "      totaleveminutes  totalevecalls  totalevecharge  totalnightminutes  \\\n",
       "2764            265.0            105           22.53              239.7   \n",
       "4767            166.7             90           14.17              227.1   \n",
       "3814            181.1             61           15.39              104.0   \n",
       "3499            142.2            104           12.09              174.7   \n",
       "2735            188.8            104           16.05              213.3   \n",
       "\n",
       "      totalnightcalls  totalnightcharge  totalintlminutes  totalintlcalls  \\\n",
       "2764              108             10.79              14.9               3   \n",
       "4767               97             10.22              11.0               1   \n",
       "3814              110              4.68              12.5               3   \n",
       "3499              108              7.86              14.9               2   \n",
       "2735               76              9.60              13.3               3   \n",
       "\n",
       "      totalintlcharge  numbercustomerservicecalls  \n",
       "2764             4.02                           2  \n",
       "4767             2.97                           2  \n",
       "3814             3.38                           2  \n",
       "3499             4.02                           0  \n",
       "2735             3.59                           0  "
      ]
     },
     "execution_count": 8,
     "metadata": {},
     "output_type": "execute_result"
    }
   ],
   "source": [
    "df.sample(n=5, random_state=1)"
   ]
  },
  {
   "cell_type": "markdown",
   "id": "related-struggle",
   "metadata": {},
   "source": [
    "<b> Calculate and interpret descriptive statistics with .describe() </b>"
   ]
  },
  {
   "cell_type": "code",
   "execution_count": 9,
   "id": "amber-blind",
   "metadata": {},
   "outputs": [
    {
     "data": {
      "text/html": [
       "<div>\n",
       "<style scoped>\n",
       "    .dataframe tbody tr th:only-of-type {\n",
       "        vertical-align: middle;\n",
       "    }\n",
       "\n",
       "    .dataframe tbody tr th {\n",
       "        vertical-align: top;\n",
       "    }\n",
       "\n",
       "    .dataframe thead th {\n",
       "        text-align: right;\n",
       "    }\n",
       "</style>\n",
       "<table border=\"1\" class=\"dataframe\">\n",
       "  <thead>\n",
       "    <tr style=\"text-align: right;\">\n",
       "      <th></th>\n",
       "      <th>accountlength</th>\n",
       "      <th>numbervmailmessages</th>\n",
       "      <th>totaldayminutes</th>\n",
       "      <th>totaldaycalls</th>\n",
       "      <th>totaldaycharge</th>\n",
       "      <th>totaleveminutes</th>\n",
       "      <th>totalevecalls</th>\n",
       "      <th>totalevecharge</th>\n",
       "      <th>totalnightminutes</th>\n",
       "      <th>totalnightcalls</th>\n",
       "      <th>totalnightcharge</th>\n",
       "      <th>totalintlminutes</th>\n",
       "      <th>totalintlcalls</th>\n",
       "      <th>totalintlcharge</th>\n",
       "      <th>numbercustomerservicecalls</th>\n",
       "    </tr>\n",
       "  </thead>\n",
       "  <tbody>\n",
       "    <tr>\n",
       "      <th>count</th>\n",
       "      <td>5000.00000</td>\n",
       "      <td>5000.000000</td>\n",
       "      <td>5000.000000</td>\n",
       "      <td>5000.000000</td>\n",
       "      <td>5000.000000</td>\n",
       "      <td>5000.000000</td>\n",
       "      <td>5000.000000</td>\n",
       "      <td>5000.000000</td>\n",
       "      <td>5000.000000</td>\n",
       "      <td>5000.000000</td>\n",
       "      <td>5000.000000</td>\n",
       "      <td>5000.000000</td>\n",
       "      <td>5000.000000</td>\n",
       "      <td>5000.000000</td>\n",
       "      <td>5000.000000</td>\n",
       "    </tr>\n",
       "    <tr>\n",
       "      <th>mean</th>\n",
       "      <td>100.25860</td>\n",
       "      <td>7.755200</td>\n",
       "      <td>180.288900</td>\n",
       "      <td>100.029400</td>\n",
       "      <td>30.649668</td>\n",
       "      <td>200.636560</td>\n",
       "      <td>100.191000</td>\n",
       "      <td>17.054322</td>\n",
       "      <td>200.391620</td>\n",
       "      <td>99.919200</td>\n",
       "      <td>9.017732</td>\n",
       "      <td>10.261780</td>\n",
       "      <td>4.435200</td>\n",
       "      <td>2.771196</td>\n",
       "      <td>1.570400</td>\n",
       "    </tr>\n",
       "    <tr>\n",
       "      <th>std</th>\n",
       "      <td>39.69456</td>\n",
       "      <td>13.546393</td>\n",
       "      <td>53.894699</td>\n",
       "      <td>19.831197</td>\n",
       "      <td>9.162069</td>\n",
       "      <td>50.551309</td>\n",
       "      <td>19.826496</td>\n",
       "      <td>4.296843</td>\n",
       "      <td>50.527789</td>\n",
       "      <td>19.958686</td>\n",
       "      <td>2.273763</td>\n",
       "      <td>2.761396</td>\n",
       "      <td>2.456788</td>\n",
       "      <td>0.745514</td>\n",
       "      <td>1.306363</td>\n",
       "    </tr>\n",
       "    <tr>\n",
       "      <th>min</th>\n",
       "      <td>1.00000</td>\n",
       "      <td>0.000000</td>\n",
       "      <td>0.000000</td>\n",
       "      <td>0.000000</td>\n",
       "      <td>0.000000</td>\n",
       "      <td>0.000000</td>\n",
       "      <td>0.000000</td>\n",
       "      <td>0.000000</td>\n",
       "      <td>0.000000</td>\n",
       "      <td>0.000000</td>\n",
       "      <td>0.000000</td>\n",
       "      <td>0.000000</td>\n",
       "      <td>0.000000</td>\n",
       "      <td>0.000000</td>\n",
       "      <td>0.000000</td>\n",
       "    </tr>\n",
       "    <tr>\n",
       "      <th>25%</th>\n",
       "      <td>73.00000</td>\n",
       "      <td>0.000000</td>\n",
       "      <td>143.700000</td>\n",
       "      <td>87.000000</td>\n",
       "      <td>24.430000</td>\n",
       "      <td>166.375000</td>\n",
       "      <td>87.000000</td>\n",
       "      <td>14.140000</td>\n",
       "      <td>166.900000</td>\n",
       "      <td>87.000000</td>\n",
       "      <td>7.510000</td>\n",
       "      <td>8.500000</td>\n",
       "      <td>3.000000</td>\n",
       "      <td>2.300000</td>\n",
       "      <td>1.000000</td>\n",
       "    </tr>\n",
       "    <tr>\n",
       "      <th>50%</th>\n",
       "      <td>100.00000</td>\n",
       "      <td>0.000000</td>\n",
       "      <td>180.100000</td>\n",
       "      <td>100.000000</td>\n",
       "      <td>30.620000</td>\n",
       "      <td>201.000000</td>\n",
       "      <td>100.000000</td>\n",
       "      <td>17.090000</td>\n",
       "      <td>200.400000</td>\n",
       "      <td>100.000000</td>\n",
       "      <td>9.020000</td>\n",
       "      <td>10.300000</td>\n",
       "      <td>4.000000</td>\n",
       "      <td>2.780000</td>\n",
       "      <td>1.000000</td>\n",
       "    </tr>\n",
       "    <tr>\n",
       "      <th>75%</th>\n",
       "      <td>127.00000</td>\n",
       "      <td>17.000000</td>\n",
       "      <td>216.200000</td>\n",
       "      <td>113.000000</td>\n",
       "      <td>36.750000</td>\n",
       "      <td>234.100000</td>\n",
       "      <td>114.000000</td>\n",
       "      <td>19.900000</td>\n",
       "      <td>234.700000</td>\n",
       "      <td>113.000000</td>\n",
       "      <td>10.560000</td>\n",
       "      <td>12.000000</td>\n",
       "      <td>6.000000</td>\n",
       "      <td>3.240000</td>\n",
       "      <td>2.000000</td>\n",
       "    </tr>\n",
       "    <tr>\n",
       "      <th>max</th>\n",
       "      <td>243.00000</td>\n",
       "      <td>52.000000</td>\n",
       "      <td>351.500000</td>\n",
       "      <td>165.000000</td>\n",
       "      <td>59.760000</td>\n",
       "      <td>363.700000</td>\n",
       "      <td>170.000000</td>\n",
       "      <td>30.910000</td>\n",
       "      <td>395.000000</td>\n",
       "      <td>175.000000</td>\n",
       "      <td>17.770000</td>\n",
       "      <td>20.000000</td>\n",
       "      <td>20.000000</td>\n",
       "      <td>5.400000</td>\n",
       "      <td>9.000000</td>\n",
       "    </tr>\n",
       "  </tbody>\n",
       "</table>\n",
       "</div>"
      ],
      "text/plain": [
       "       accountlength  numbervmailmessages  totaldayminutes  totaldaycalls  \\\n",
       "count     5000.00000          5000.000000      5000.000000    5000.000000   \n",
       "mean       100.25860             7.755200       180.288900     100.029400   \n",
       "std         39.69456            13.546393        53.894699      19.831197   \n",
       "min          1.00000             0.000000         0.000000       0.000000   \n",
       "25%         73.00000             0.000000       143.700000      87.000000   \n",
       "50%        100.00000             0.000000       180.100000     100.000000   \n",
       "75%        127.00000            17.000000       216.200000     113.000000   \n",
       "max        243.00000            52.000000       351.500000     165.000000   \n",
       "\n",
       "       totaldaycharge  totaleveminutes  totalevecalls  totalevecharge  \\\n",
       "count     5000.000000      5000.000000    5000.000000     5000.000000   \n",
       "mean        30.649668       200.636560     100.191000       17.054322   \n",
       "std          9.162069        50.551309      19.826496        4.296843   \n",
       "min          0.000000         0.000000       0.000000        0.000000   \n",
       "25%         24.430000       166.375000      87.000000       14.140000   \n",
       "50%         30.620000       201.000000     100.000000       17.090000   \n",
       "75%         36.750000       234.100000     114.000000       19.900000   \n",
       "max         59.760000       363.700000     170.000000       30.910000   \n",
       "\n",
       "       totalnightminutes  totalnightcalls  totalnightcharge  totalintlminutes  \\\n",
       "count        5000.000000      5000.000000       5000.000000       5000.000000   \n",
       "mean          200.391620        99.919200          9.017732         10.261780   \n",
       "std            50.527789        19.958686          2.273763          2.761396   \n",
       "min             0.000000         0.000000          0.000000          0.000000   \n",
       "25%           166.900000        87.000000          7.510000          8.500000   \n",
       "50%           200.400000       100.000000          9.020000         10.300000   \n",
       "75%           234.700000       113.000000         10.560000         12.000000   \n",
       "max           395.000000       175.000000         17.770000         20.000000   \n",
       "\n",
       "       totalintlcalls  totalintlcharge  numbercustomerservicecalls  \n",
       "count     5000.000000      5000.000000                 5000.000000  \n",
       "mean         4.435200         2.771196                    1.570400  \n",
       "std          2.456788         0.745514                    1.306363  \n",
       "min          0.000000         0.000000                    0.000000  \n",
       "25%          3.000000         2.300000                    1.000000  \n",
       "50%          4.000000         2.780000                    1.000000  \n",
       "75%          6.000000         3.240000                    2.000000  \n",
       "max         20.000000         5.400000                    9.000000  "
      ]
     },
     "execution_count": 9,
     "metadata": {},
     "output_type": "execute_result"
    }
   ],
   "source": [
    "df.describe()"
   ]
  },
  {
   "cell_type": "markdown",
   "id": "civic-foundation",
   "metadata": {},
   "source": [
    "<b> Analyze each variable using data visualization with bar charts, histograms, or boxplots </b>"
   ]
  },
  {
   "cell_type": "markdown",
   "id": "statutory-neutral",
   "metadata": {},
   "source": [
    "<b> Identify areas that need clarification from the marketing department and potential data quality issues </b>"
   ]
  },
  {
   "cell_type": "code",
   "execution_count": 10,
   "id": "mounted-guard",
   "metadata": {},
   "outputs": [
    {
     "data": {
      "image/png": "[encoded data removed]",
      "text/plain": [
       "<Figure size 432x288 with 1 Axes>"
      ]
     },
     "metadata": {
      "needs_background": "light"
     },
     "output_type": "display_data"
    }
   ],
   "source": [
    "new_df = pd.DataFrame()\n",
    "new_df['counts'] = df['churn'].value_counts()\n",
    "\n",
    "sns.barplot(x=new_df.index, y=new_df['counts'])\n",
    "plt.show()"
   ]
  },
  {
   "cell_type": "code",
   "execution_count": 11,
   "id": "military-jesus",
   "metadata": {},
   "outputs": [
    {
     "data": {
      "image/png": "[encoded data removed]",
      "text/plain": [
       "<Figure size 432x288 with 1 Axes>"
      ]
     },
     "metadata": {
      "needs_background": "light"
     },
     "output_type": "display_data"
    }
   ],
   "source": [
    "new_df = pd.DataFrame()\n",
    "new_df['counts'] = df['internationalplan'].value_counts()\n",
    "\n",
    "sns.barplot(x=new_df.index, y=new_df['counts'])\n",
    "plt.show()"
   ]
  },
  {
   "cell_type": "code",
   "execution_count": 12,
   "id": "small-session",
   "metadata": {},
   "outputs": [
    {
     "data": {
      "image/png": "[encoded data removed]",
      "text/plain": [
       "<Figure size 432x288 with 1 Axes>"
      ]
     },
     "metadata": {
      "needs_background": "light"
     },
     "output_type": "display_data"
    }
   ],
   "source": [
    "new_df = pd.DataFrame()\n",
    "new_df['counts'] = df['voicemailplan'].value_counts()\n",
    "\n",
    "sns.barplot(x=new_df.index, y=new_df['counts'])\n",
    "plt.show()"
   ]
  },
  {
   "cell_type": "markdown",
   "id": "upper-jumping",
   "metadata": {},
   "source": [
    "These three variables are imbalanced: the yes value represents between 10% to 27% of the data. In a real project, when predicting churn, you will have to deal with this situation by either choosing an algorithm that handles imbalanced data or resample the data to get a 50-50% split"
   ]
  },
  {
   "cell_type": "code",
   "execution_count": 13,
   "id": "cellular-retention",
   "metadata": {},
   "outputs": [],
   "source": [
    "num_df = df.select_dtypes(include='number')\n",
    "num_cols = num_df.columns"
   ]
  },
  {
   "cell_type": "code",
   "execution_count": 14,
   "id": "subsequent-madrid",
   "metadata": {},
   "outputs": [
    {
     "data": {
      "image/png": "[encoded data removed]",
      "text/plain": [
       "<Figure size 432x288 with 1 Axes>"
      ]
     },
     "metadata": {
      "needs_background": "light"
     },
     "output_type": "display_data"
    },
    {
     "data": {
      "image/png": "[encoded data removed]",
      "text/plain": [
       "<Figure size 432x288 with 1 Axes>"
      ]
     },
     "metadata": {
      "needs_background": "light"
     },
     "output_type": "display_data"
    },
    {
     "data": {
      "image/png": "[encoded data removed]",
      "text/plain": [
       "<Figure size 432x288 with 1 Axes>"
      ]
     },
     "metadata": {
      "needs_background": "light"
     },
     "output_type": "display_data"
    },
    {
     "data": {
      "image/png": "[encoded data removed]",
      "text/plain": [
       "<Figure size 432x288 with 1 Axes>"
      ]
     },
     "metadata": {
      "needs_background": "light"
     },
     "output_type": "display_data"
    },
    {
     "data": {
      "image/png": "[encoded data removed]",
      "text/plain": [
       "<Figure size 432x288 with 1 Axes>"
      ]
     },
     "metadata": {
      "needs_background": "light"
     },
     "output_type": "display_data"
    },
    {
     "data": {
      "image/png": "[encoded data removed]",
      "text/plain": [
       "<Figure size 432x288 with 1 Axes>"
      ]
     },
     "metadata": {
      "needs_background": "light"
     },
     "output_type": "display_data"
    },
    {
     "data": {
      "image/png": "[encoded data removed]",
      "text/plain": [
       "<Figure size 432x288 with 1 Axes>"
      ]
     },
     "metadata": {
      "needs_background": "light"
     },
     "output_type": "display_data"
    },
    {
     "data": {
      "image/png": "[encoded data removed]",
      "text/plain": [
       "<Figure size 432x288 with 1 Axes>"
      ]
     },
     "metadata": {
      "needs_background": "light"
     },
     "output_type": "display_data"
    },
    {
     "data": {
      "image/png": "[encoded data removed]",
      "text/plain": [
       "<Figure size 432x288 with 1 Axes>"
      ]
     },
     "metadata": {
      "needs_background": "light"
     },
     "output_type": "display_data"
    },
    {
     "data": {
      "image/png": "[encoded data removed]",
      "text/plain": [
       "<Figure size 432x288 with 1 Axes>"
      ]
     },
     "metadata": {
      "needs_background": "light"
     },
     "output_type": "display_data"
    },
    {
     "data": {
      "image/png": "[encoded data removed]",
      "text/plain": [
       "<Figure size 432x288 with 1 Axes>"
      ]
     },
     "metadata": {
      "needs_background": "light"
     },
     "output_type": "display_data"
    },
    {
     "data": {
      "image/png": "[encoded data removed]",
      "text/plain": [
       "<Figure size 432x288 with 1 Axes>"
      ]
     },
     "metadata": {
      "needs_background": "light"
     },
     "output_type": "display_data"
    },
    {
     "data": {
      "image/png": "[encoded data removed]",
      "text/plain": [
       "<Figure size 432x288 with 1 Axes>"
      ]
     },
     "metadata": {
      "needs_background": "light"
     },
     "output_type": "display_data"
    },
    {
     "data": {
      "image/png": "[encoded data removed]",
      "text/plain": [
       "<Figure size 432x288 with 1 Axes>"
      ]
     },
     "metadata": {
      "needs_background": "light"
     },
     "output_type": "display_data"
    },
    {
     "data": {
      "image/png": "[encoded data removed]",
      "text/plain": [
       "<Figure size 432x288 with 1 Axes>"
      ]
     },
     "metadata": {
      "needs_background": "light"
     },
     "output_type": "display_data"
    }
   ],
   "source": [
    "for col_name in num_cols:\n",
    "    sns.distplot(df[col_name], kde=False, bins=5)\n",
    "    plt.show()"
   ]
  },
  {
   "cell_type": "markdown",
   "id": "interim-shipping",
   "metadata": {},
   "source": [
    "With this histogram, we can see that the number of calls that were and their duration during the day and evening are quite similar. On average, customers are making 100 calls during the day for a total of 150 minutes and another 100 calls during the evening for a total of 200 minutes. The total charges for evening calls are much cheaper than day ones: $\\$ 17$ and $30, respectively. We can also see that most of the customers don't make international calls: four on average."
   ]
  },
  {
   "cell_type": "code",
   "execution_count": 15,
   "id": "blessed-words",
   "metadata": {},
   "outputs": [
    {
     "data": {
      "image/png": "[encoded data removed]",
      "text/plain": [
       "<Figure size 432x720 with 1 Axes>"
      ]
     },
     "metadata": {
      "needs_background": "light"
     },
     "output_type": "display_data"
    }
   ],
   "source": [
    "plt.figure(figsize=(6, 10))\n",
    "sns.boxplot(x='churn', y='totaldaycalls', data=df)\n",
    "plt.show()"
   ]
  },
  {
   "cell_type": "markdown",
   "id": "confident-proportion",
   "metadata": {},
   "source": [
    "Looking at the boxplot for totaldaycalls, we can't see much difference between the group of customers who churned and the ones who didn't. The median is around 100 calls and even the IQR is very similar between 90 and 110. This variable may not be significant in predicting churn."
   ]
  },
  {
   "cell_type": "code",
   "execution_count": 16,
   "id": "electrical-church",
   "metadata": {},
   "outputs": [
    {
     "data": {
      "image/png": "[encoded data removed]",
      "text/plain": [
       "<Figure size 432x720 with 1 Axes>"
      ]
     },
     "metadata": {
      "needs_background": "light"
     },
     "output_type": "display_data"
    }
   ],
   "source": [
    "plt.figure(figsize=(6, 10))\n",
    "sns.boxplot(x='churn', y='numbervmailmessages', data=df)\n",
    "plt.show()"
   ]
  },
  {
   "cell_type": "markdown",
   "id": "contained-charleston",
   "metadata": {},
   "source": [
    "This boxplot is showing that the distribution of the numbervmailmessages variable is very different for customers who churned or not. It seems that people that do churn tend either not to make any at all or a lot of vmail messages (over 15). This is definitely an interesting variable to feed into a predictive model."
   ]
  }
 ],
 "metadata": {
  "kernelspec": {
   "display_name": "Python 3",
   "language": "python",
   "name": "python3"
  },
  "language_info": {
   "codemirror_mode": {
    "name": "ipython",
    "version": 3
   },
   "file_extension": ".py",
   "mimetype": "text/x-python",
   "name": "python",
   "nbconvert_exporter": "python",
   "pygments_lexer": "ipython3",
   "version": "3.7.7"
  }
 },
 "nbformat": 4,
 "nbformat_minor": 5
}
