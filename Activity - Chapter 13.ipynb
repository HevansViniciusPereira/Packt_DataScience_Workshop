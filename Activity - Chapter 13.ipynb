{
 "cells": [
  {
   "cell_type": "markdown",
   "id": "involved-sodium",
   "metadata": {},
   "source": [
    "# Finding the Best Balancing Technique by Fitting a Classifier on the Telecom Churn Dataset"
   ]
  },
  {
   "cell_type": "markdown",
   "id": "robust-pencil",
   "metadata": {},
   "source": [
    "<b> Implement all the initial steps </b>"
   ]
  },
  {
   "cell_type": "code",
   "execution_count": 1,
   "id": "viral-feelings",
   "metadata": {},
   "outputs": [],
   "source": [
    "# import packages\n",
    "import pandas as pd\n",
    "import numpy as np\n",
    "import smote_variants as sv\n",
    "from sklearn.metrics import confusion_matrix, classification_report\n",
    "from sklearn.preprocessing import MinMaxScaler\n",
    "from sklearn.linear_model import LogisticRegression\n",
    "from sklearn.model_selection import train_test_split\n",
    "from sklearn.utils import shuffle\n",
    "import warnings\n",
    "warnings.filterwarnings('ignore')"
   ]
  },
  {
   "cell_type": "code",
   "execution_count": 2,
   "id": "apart-navigator",
   "metadata": {},
   "outputs": [],
   "source": [
    "# url path\n",
    "url_path = 'https://raw.githubusercontent.com/PacktWorkshops/The-Data-Science-Workshop/master/Chapter13/Dataset/churn.csv'"
   ]
  },
  {
   "cell_type": "code",
   "execution_count": 3,
   "id": "raising-disclosure",
   "metadata": {},
   "outputs": [
    {
     "data": {
      "text/html": [
       "<div>\n",
       "<style scoped>\n",
       "    .dataframe tbody tr th:only-of-type {\n",
       "        vertical-align: middle;\n",
       "    }\n",
       "\n",
       "    .dataframe tbody tr th {\n",
       "        vertical-align: top;\n",
       "    }\n",
       "\n",
       "    .dataframe thead th {\n",
       "        text-align: right;\n",
       "    }\n",
       "</style>\n",
       "<table border=\"1\" class=\"dataframe\">\n",
       "  <thead>\n",
       "    <tr style=\"text-align: right;\">\n",
       "      <th></th>\n",
       "      <th>churn</th>\n",
       "      <th>accountlength</th>\n",
       "      <th>internationalplan</th>\n",
       "      <th>voicemailplan</th>\n",
       "      <th>numbervmailmessages</th>\n",
       "      <th>totaldayminutes</th>\n",
       "      <th>totaldaycalls</th>\n",
       "      <th>totaldaycharge</th>\n",
       "      <th>totaleveminutes</th>\n",
       "      <th>totalevecalls</th>\n",
       "      <th>totalevecharge</th>\n",
       "      <th>totalnightminutes</th>\n",
       "      <th>totalnightcalls</th>\n",
       "      <th>totalnightcharge</th>\n",
       "      <th>totalintlminutes</th>\n",
       "      <th>totalintlcalls</th>\n",
       "      <th>totalintlcharge</th>\n",
       "      <th>numbercustomerservicecalls</th>\n",
       "    </tr>\n",
       "  </thead>\n",
       "  <tbody>\n",
       "    <tr>\n",
       "      <th>0</th>\n",
       "      <td>No</td>\n",
       "      <td>128</td>\n",
       "      <td>no</td>\n",
       "      <td>yes</td>\n",
       "      <td>25</td>\n",
       "      <td>265.1</td>\n",
       "      <td>110</td>\n",
       "      <td>45.07</td>\n",
       "      <td>197.4</td>\n",
       "      <td>99</td>\n",
       "      <td>16.78</td>\n",
       "      <td>244.7</td>\n",
       "      <td>91</td>\n",
       "      <td>11.01</td>\n",
       "      <td>10.0</td>\n",
       "      <td>3</td>\n",
       "      <td>2.70</td>\n",
       "      <td>1</td>\n",
       "    </tr>\n",
       "    <tr>\n",
       "      <th>1</th>\n",
       "      <td>No</td>\n",
       "      <td>107</td>\n",
       "      <td>no</td>\n",
       "      <td>yes</td>\n",
       "      <td>26</td>\n",
       "      <td>161.6</td>\n",
       "      <td>123</td>\n",
       "      <td>27.47</td>\n",
       "      <td>195.5</td>\n",
       "      <td>103</td>\n",
       "      <td>16.62</td>\n",
       "      <td>254.4</td>\n",
       "      <td>103</td>\n",
       "      <td>11.45</td>\n",
       "      <td>13.7</td>\n",
       "      <td>3</td>\n",
       "      <td>3.70</td>\n",
       "      <td>1</td>\n",
       "    </tr>\n",
       "    <tr>\n",
       "      <th>2</th>\n",
       "      <td>No</td>\n",
       "      <td>137</td>\n",
       "      <td>no</td>\n",
       "      <td>no</td>\n",
       "      <td>0</td>\n",
       "      <td>243.4</td>\n",
       "      <td>114</td>\n",
       "      <td>41.38</td>\n",
       "      <td>121.2</td>\n",
       "      <td>110</td>\n",
       "      <td>10.30</td>\n",
       "      <td>162.6</td>\n",
       "      <td>104</td>\n",
       "      <td>7.32</td>\n",
       "      <td>12.2</td>\n",
       "      <td>5</td>\n",
       "      <td>3.29</td>\n",
       "      <td>0</td>\n",
       "    </tr>\n",
       "    <tr>\n",
       "      <th>3</th>\n",
       "      <td>No</td>\n",
       "      <td>84</td>\n",
       "      <td>yes</td>\n",
       "      <td>no</td>\n",
       "      <td>0</td>\n",
       "      <td>299.4</td>\n",
       "      <td>71</td>\n",
       "      <td>50.90</td>\n",
       "      <td>61.9</td>\n",
       "      <td>88</td>\n",
       "      <td>5.26</td>\n",
       "      <td>196.9</td>\n",
       "      <td>89</td>\n",
       "      <td>8.86</td>\n",
       "      <td>6.6</td>\n",
       "      <td>7</td>\n",
       "      <td>1.78</td>\n",
       "      <td>2</td>\n",
       "    </tr>\n",
       "    <tr>\n",
       "      <th>4</th>\n",
       "      <td>No</td>\n",
       "      <td>75</td>\n",
       "      <td>yes</td>\n",
       "      <td>no</td>\n",
       "      <td>0</td>\n",
       "      <td>166.7</td>\n",
       "      <td>113</td>\n",
       "      <td>28.34</td>\n",
       "      <td>148.3</td>\n",
       "      <td>122</td>\n",
       "      <td>12.61</td>\n",
       "      <td>186.9</td>\n",
       "      <td>121</td>\n",
       "      <td>8.41</td>\n",
       "      <td>10.1</td>\n",
       "      <td>3</td>\n",
       "      <td>2.73</td>\n",
       "      <td>3</td>\n",
       "    </tr>\n",
       "  </tbody>\n",
       "</table>\n",
       "</div>"
      ],
      "text/plain": [
       "  churn  accountlength internationalplan voicemailplan  numbervmailmessages  \\\n",
       "0    No            128                no           yes                   25   \n",
       "1    No            107                no           yes                   26   \n",
       "2    No            137                no            no                    0   \n",
       "3    No             84               yes            no                    0   \n",
       "4    No             75               yes            no                    0   \n",
       "\n",
       "   totaldayminutes  totaldaycalls  totaldaycharge  totaleveminutes  \\\n",
       "0            265.1            110           45.07            197.4   \n",
       "1            161.6            123           27.47            195.5   \n",
       "2            243.4            114           41.38            121.2   \n",
       "3            299.4             71           50.90             61.9   \n",
       "4            166.7            113           28.34            148.3   \n",
       "\n",
       "   totalevecalls  totalevecharge  totalnightminutes  totalnightcalls  \\\n",
       "0             99           16.78              244.7               91   \n",
       "1            103           16.62              254.4              103   \n",
       "2            110           10.30              162.6              104   \n",
       "3             88            5.26              196.9               89   \n",
       "4            122           12.61              186.9              121   \n",
       "\n",
       "   totalnightcharge  totalintlminutes  totalintlcalls  totalintlcharge  \\\n",
       "0             11.01              10.0               3             2.70   \n",
       "1             11.45              13.7               3             3.70   \n",
       "2              7.32              12.2               5             3.29   \n",
       "3              8.86               6.6               7             1.78   \n",
       "4              8.41              10.1               3             2.73   \n",
       "\n",
       "   numbercustomerservicecalls  \n",
       "0                           1  \n",
       "1                           1  \n",
       "2                           0  \n",
       "3                           2  \n",
       "4                           3  "
      ]
     },
     "execution_count": 3,
     "metadata": {},
     "output_type": "execute_result"
    }
   ],
   "source": [
    "df = pd.read_csv(url_path)\n",
    "df.head()"
   ]
  },
  {
   "cell_type": "markdown",
   "id": "alternative-lying",
   "metadata": {},
   "source": [
    "<b> Normalize the numerical raw data using the MinMaxScaler() function </b>"
   ]
  },
  {
   "cell_type": "code",
   "execution_count": 4,
   "id": "buried-county",
   "metadata": {},
   "outputs": [],
   "source": [
    "scaler = MinMaxScaler()"
   ]
  },
  {
   "cell_type": "code",
   "execution_count": 5,
   "id": "declared-circulation",
   "metadata": {},
   "outputs": [],
   "source": [
    "df['alScaled'] = scaler.fit_transform(df['accountlength'].values.reshape(-1,1))\n",
    "df['nvmmScaled'] = scaler.fit_transform(df['numbervmailmessages'].values.reshape(-1,1))\n",
    "df['tdmScaled'] = scaler.fit_transform(df['totaldayminutes'].values.reshape(-1,1))\n",
    "df['tdcScaled'] = scaler.fit_transform(df['totaldaycalls'].values.reshape(-1,1))\n",
    "df['tdchScaled'] = scaler.fit_transform(df['totaldaycharge'].values.reshape(-1,1))\n",
    "df['temScaled'] = scaler.fit_transform(df['totaleveminutes'].values.reshape(-1,1))\n",
    "df['tecScaled'] = scaler.fit_transform(df['totalevecalls'].values.reshape(-1,1))\n",
    "df['techScaled'] = scaler.fit_transform(df['totalevecharge'].values.reshape(-1,1))\n",
    "df['tnmScaled'] = scaler.fit_transform(df['totalnightminutes'].values.reshape(-1,1))\n",
    "df['tncScaled'] = scaler.fit_transform(df['totalnightcalls'].values.reshape(-1,1))\n",
    "df['tnchScaled'] = scaler.fit_transform(df['totalnightcharge'].values.reshape(-1,1))\n",
    "df['timScaled'] = scaler.fit_transform(df['totalintlminutes'].values.reshape(-1,1))\n",
    "df['ticScaled'] = scaler.fit_transform(df['totalintlcalls'].values.reshape(-1,1))\n",
    "df['tichScaled'] = scaler.fit_transform(df['totalintlcharge'].values.reshape(-1,1))\n",
    "df['ncscScaled'] = scaler.fit_transform(df['numbercustomerservicecalls'].values.reshape(-1,1))"
   ]
  },
  {
   "cell_type": "code",
   "execution_count": 6,
   "id": "sharp-preparation",
   "metadata": {},
   "outputs": [],
   "source": [
    "df.drop(['accountlength','numbervmailmessages','totaldayminutes','totaldaycalls',\\\n",
    "                'totaldaycharge','totaleveminutes','totalevecalls','totalevecharge',\\\n",
    "                'totalnightminutes','totalnightcalls','totalnightcharge','totalintlminutes',\\\n",
    "                'totalintlcalls','totalintlcharge','numbercustomerservicecalls'], axis=1, inplace=True)"
   ]
  },
  {
   "cell_type": "markdown",
   "id": "funded-armor",
   "metadata": {},
   "source": [
    "<b> Create dummy data for the categorical variables </b>"
   ]
  },
  {
   "cell_type": "code",
   "execution_count": 7,
   "id": "romantic-cameroon",
   "metadata": {},
   "outputs": [],
   "source": [
    "dfCat = pd.get_dummies(df[['internationalplan','voicemailplan']])"
   ]
  },
  {
   "cell_type": "markdown",
   "id": "homeless-blind",
   "metadata": {},
   "source": [
    "<b> Separate the numerical data from the original data frame </b>"
   ]
  },
  {
   "cell_type": "code",
   "execution_count": 8,
   "id": "overhead-blanket",
   "metadata": {},
   "outputs": [],
   "source": [
    "dfNum = df[['alScaled','nvmmScaled','tdmScaled','tdcScaled',\\\n",
    "                'tdchScaled','temScaled','tecScaled','techScaled',\\\n",
    "                'tnmScaled','tncScaled','tnchScaled','timScaled',\\\n",
    "                'ticScaled','tichScaled','ncscScaled']]"
   ]
  },
  {
   "cell_type": "markdown",
   "id": "neutral-enough",
   "metadata": {},
   "source": [
    "<b> Concatenate numerical data and dummy categorical data </b>"
   ]
  },
  {
   "cell_type": "code",
   "execution_count": 9,
   "id": "circular-fishing",
   "metadata": {},
   "outputs": [],
   "source": [
    "X = pd.concat([dfCat, dfNum], axis=1)\n",
    "Y = df['churn']"
   ]
  },
  {
   "cell_type": "markdown",
   "id": "eight-service",
   "metadata": {},
   "source": [
    "<b> Split the earlier dataset into train and test sets </b>"
   ]
  },
  {
   "cell_type": "code",
   "execution_count": 10,
   "id": "increasing-punch",
   "metadata": {},
   "outputs": [],
   "source": [
    "X_train, X_test, y_train, y_test = train_test_split(X, Y, test_size=0.3, random_state=123)"
   ]
  },
  {
   "cell_type": "code",
   "execution_count": 11,
   "id": "understanding-minnesota",
   "metadata": {},
   "outputs": [
    {
     "data": {
      "text/html": [
       "<div>\n",
       "<style scoped>\n",
       "    .dataframe tbody tr th:only-of-type {\n",
       "        vertical-align: middle;\n",
       "    }\n",
       "\n",
       "    .dataframe tbody tr th {\n",
       "        vertical-align: top;\n",
       "    }\n",
       "\n",
       "    .dataframe thead th {\n",
       "        text-align: right;\n",
       "    }\n",
       "</style>\n",
       "<table border=\"1\" class=\"dataframe\">\n",
       "  <thead>\n",
       "    <tr style=\"text-align: right;\">\n",
       "      <th></th>\n",
       "      <th>internationalplan_no</th>\n",
       "      <th>internationalplan_yes</th>\n",
       "      <th>voicemailplan_no</th>\n",
       "      <th>voicemailplan_yes</th>\n",
       "      <th>alScaled</th>\n",
       "      <th>nvmmScaled</th>\n",
       "      <th>tdmScaled</th>\n",
       "      <th>tdcScaled</th>\n",
       "      <th>tdchScaled</th>\n",
       "      <th>temScaled</th>\n",
       "      <th>tecScaled</th>\n",
       "      <th>techScaled</th>\n",
       "      <th>tnmScaled</th>\n",
       "      <th>tncScaled</th>\n",
       "      <th>tnchScaled</th>\n",
       "      <th>timScaled</th>\n",
       "      <th>ticScaled</th>\n",
       "      <th>tichScaled</th>\n",
       "      <th>ncscScaled</th>\n",
       "      <th>churn</th>\n",
       "    </tr>\n",
       "  </thead>\n",
       "  <tbody>\n",
       "    <tr>\n",
       "      <th>4036</th>\n",
       "      <td>1</td>\n",
       "      <td>0</td>\n",
       "      <td>0</td>\n",
       "      <td>1</td>\n",
       "      <td>0.256198</td>\n",
       "      <td>0.500000</td>\n",
       "      <td>0.609388</td>\n",
       "      <td>0.484848</td>\n",
       "      <td>0.609270</td>\n",
       "      <td>0.695628</td>\n",
       "      <td>0.894118</td>\n",
       "      <td>0.695891</td>\n",
       "      <td>0.395949</td>\n",
       "      <td>0.622857</td>\n",
       "      <td>0.396173</td>\n",
       "      <td>0.515</td>\n",
       "      <td>0.10</td>\n",
       "      <td>0.514815</td>\n",
       "      <td>0.222222</td>\n",
       "      <td>No</td>\n",
       "    </tr>\n",
       "    <tr>\n",
       "      <th>2883</th>\n",
       "      <td>1</td>\n",
       "      <td>0</td>\n",
       "      <td>1</td>\n",
       "      <td>0</td>\n",
       "      <td>0.504132</td>\n",
       "      <td>0.000000</td>\n",
       "      <td>0.595733</td>\n",
       "      <td>0.296970</td>\n",
       "      <td>0.595716</td>\n",
       "      <td>0.652736</td>\n",
       "      <td>0.688235</td>\n",
       "      <td>0.652863</td>\n",
       "      <td>0.605570</td>\n",
       "      <td>0.560000</td>\n",
       "      <td>0.605515</td>\n",
       "      <td>0.490</td>\n",
       "      <td>0.55</td>\n",
       "      <td>0.490741</td>\n",
       "      <td>0.111111</td>\n",
       "      <td>No</td>\n",
       "    </tr>\n",
       "    <tr>\n",
       "      <th>4162</th>\n",
       "      <td>0</td>\n",
       "      <td>1</td>\n",
       "      <td>1</td>\n",
       "      <td>0</td>\n",
       "      <td>0.012397</td>\n",
       "      <td>0.000000</td>\n",
       "      <td>0.482788</td>\n",
       "      <td>0.581818</td>\n",
       "      <td>0.482764</td>\n",
       "      <td>0.362387</td>\n",
       "      <td>0.552941</td>\n",
       "      <td>0.362342</td>\n",
       "      <td>0.620506</td>\n",
       "      <td>0.491429</td>\n",
       "      <td>0.620709</td>\n",
       "      <td>0.710</td>\n",
       "      <td>0.20</td>\n",
       "      <td>0.709259</td>\n",
       "      <td>0.000000</td>\n",
       "      <td>Yes</td>\n",
       "    </tr>\n",
       "    <tr>\n",
       "      <th>4640</th>\n",
       "      <td>1</td>\n",
       "      <td>0</td>\n",
       "      <td>1</td>\n",
       "      <td>0</td>\n",
       "      <td>0.450413</td>\n",
       "      <td>0.000000</td>\n",
       "      <td>0.714936</td>\n",
       "      <td>0.551515</td>\n",
       "      <td>0.714859</td>\n",
       "      <td>0.569700</td>\n",
       "      <td>0.558824</td>\n",
       "      <td>0.569719</td>\n",
       "      <td>0.630380</td>\n",
       "      <td>0.400000</td>\n",
       "      <td>0.630838</td>\n",
       "      <td>0.645</td>\n",
       "      <td>0.10</td>\n",
       "      <td>0.644444</td>\n",
       "      <td>0.111111</td>\n",
       "      <td>Yes</td>\n",
       "    </tr>\n",
       "    <tr>\n",
       "      <th>2430</th>\n",
       "      <td>1</td>\n",
       "      <td>0</td>\n",
       "      <td>0</td>\n",
       "      <td>1</td>\n",
       "      <td>0.491736</td>\n",
       "      <td>0.769231</td>\n",
       "      <td>0.364438</td>\n",
       "      <td>0.600000</td>\n",
       "      <td>0.364458</td>\n",
       "      <td>0.681056</td>\n",
       "      <td>0.458824</td>\n",
       "      <td>0.681009</td>\n",
       "      <td>0.505570</td>\n",
       "      <td>0.691429</td>\n",
       "      <td>0.505909</td>\n",
       "      <td>0.780</td>\n",
       "      <td>0.15</td>\n",
       "      <td>0.779630</td>\n",
       "      <td>0.000000</td>\n",
       "      <td>No</td>\n",
       "    </tr>\n",
       "  </tbody>\n",
       "</table>\n",
       "</div>"
      ],
      "text/plain": [
       "      internationalplan_no  internationalplan_yes  voicemailplan_no  \\\n",
       "4036                     1                      0                 0   \n",
       "2883                     1                      0                 1   \n",
       "4162                     0                      1                 1   \n",
       "4640                     1                      0                 1   \n",
       "2430                     1                      0                 0   \n",
       "\n",
       "      voicemailplan_yes  alScaled  nvmmScaled  tdmScaled  tdcScaled  \\\n",
       "4036                  1  0.256198    0.500000   0.609388   0.484848   \n",
       "2883                  0  0.504132    0.000000   0.595733   0.296970   \n",
       "4162                  0  0.012397    0.000000   0.482788   0.581818   \n",
       "4640                  0  0.450413    0.000000   0.714936   0.551515   \n",
       "2430                  1  0.491736    0.769231   0.364438   0.600000   \n",
       "\n",
       "      tdchScaled  temScaled  tecScaled  techScaled  tnmScaled  tncScaled  \\\n",
       "4036    0.609270   0.695628   0.894118    0.695891   0.395949   0.622857   \n",
       "2883    0.595716   0.652736   0.688235    0.652863   0.605570   0.560000   \n",
       "4162    0.482764   0.362387   0.552941    0.362342   0.620506   0.491429   \n",
       "4640    0.714859   0.569700   0.558824    0.569719   0.630380   0.400000   \n",
       "2430    0.364458   0.681056   0.458824    0.681009   0.505570   0.691429   \n",
       "\n",
       "      tnchScaled  timScaled  ticScaled  tichScaled  ncscScaled churn  \n",
       "4036    0.396173      0.515       0.10    0.514815    0.222222    No  \n",
       "2883    0.605515      0.490       0.55    0.490741    0.111111    No  \n",
       "4162    0.620709      0.710       0.20    0.709259    0.000000   Yes  \n",
       "4640    0.630838      0.645       0.10    0.644444    0.111111   Yes  \n",
       "2430    0.505909      0.780       0.15    0.779630    0.000000    No  "
      ]
     },
     "execution_count": 11,
     "metadata": {},
     "output_type": "execute_result"
    }
   ],
   "source": [
    "trainData = pd.concat([X_train, y_train], axis=1)\n",
    "trainData.head()"
   ]
  },
  {
   "cell_type": "markdown",
   "id": "partial-nitrogen",
   "metadata": {},
   "source": [
    "<b> For the undersampling method, find the index of the minority class and separate the minority class. After that, sample the majority class and make the majority dataset equal to the minority class. Concatenate both the minority and under-sampled majority class to form a new dataset. Shuffle the dataset and separate the X and Y variables </b>"
   ]
  },
  {
   "cell_type": "code",
   "execution_count": 12,
   "id": "printable-hypothesis",
   "metadata": {},
   "outputs": [
    {
     "name": "stdout",
     "output_type": "stream",
     "text": [
      "490\n"
     ]
    }
   ],
   "source": [
    "ind = trainData[trainData['churn'] == 'Yes'].index\n",
    "print(len(ind))"
   ]
  },
  {
   "cell_type": "code",
   "execution_count": 13,
   "id": "changed-sunset",
   "metadata": {},
   "outputs": [
    {
     "data": {
      "text/plain": [
       "(490, 20)"
      ]
     },
     "execution_count": 13,
     "metadata": {},
     "output_type": "execute_result"
    }
   ],
   "source": [
    "minData = trainData.loc[ind]\n",
    "minData.shape"
   ]
  },
  {
   "cell_type": "code",
   "execution_count": 14,
   "id": "prescribed-mineral",
   "metadata": {},
   "outputs": [
    {
     "data": {
      "text/plain": [
       "(3010, 20)"
      ]
     },
     "execution_count": 14,
     "metadata": {},
     "output_type": "execute_result"
    }
   ],
   "source": [
    "ind1 = trainData[trainData['churn'] == 'No'].index\n",
    "majData = trainData.loc[ind1]\n",
    "majData.shape"
   ]
  },
  {
   "cell_type": "code",
   "execution_count": 15,
   "id": "boxed-sydney",
   "metadata": {},
   "outputs": [],
   "source": [
    "majSample = majData.sample(n=len(ind), random_state=123)"
   ]
  },
  {
   "cell_type": "code",
   "execution_count": 16,
   "id": "chubby-pattern",
   "metadata": {},
   "outputs": [
    {
     "data": {
      "text/plain": [
       "(980, 20)"
      ]
     },
     "execution_count": 16,
     "metadata": {},
     "output_type": "execute_result"
    }
   ],
   "source": [
    "balData = pd.concat([minData, majSample], axis=0)\n",
    "balData.shape"
   ]
  },
  {
   "cell_type": "code",
   "execution_count": 17,
   "id": "prompt-supplement",
   "metadata": {},
   "outputs": [],
   "source": [
    "balData = shuffle(balData)"
   ]
  },
  {
   "cell_type": "code",
   "execution_count": 18,
   "id": "express-alcohol",
   "metadata": {},
   "outputs": [
    {
     "name": "stdout",
     "output_type": "stream",
     "text": [
      "(980, 19)\n",
      "(980,)\n"
     ]
    }
   ],
   "source": [
    "X_trainNew = balData.iloc[:, 0:19]\n",
    "y_trainNew = balData['churn']\n",
    "\n",
    "print(X_trainNew.shape)\n",
    "print(y_trainNew.shape)"
   ]
  },
  {
   "cell_type": "markdown",
   "id": "organizational-kennedy",
   "metadata": {},
   "source": [
    "<b> Fit a logistic regression model on the under-sampled dataset </b>"
   ]
  },
  {
   "cell_type": "code",
   "execution_count": 19,
   "id": "auburn-simon",
   "metadata": {},
   "outputs": [
    {
     "data": {
      "text/plain": [
       "LogisticRegression()"
      ]
     },
     "execution_count": 19,
     "metadata": {},
     "output_type": "execute_result"
    }
   ],
   "source": [
    "churnModel1 = LogisticRegression()\n",
    "churnModel1.fit(X_trainNew, y_trainNew)"
   ]
  },
  {
   "cell_type": "markdown",
   "id": "stopped-establishment",
   "metadata": {},
   "source": [
    "<b> For the SMOTE method, create the oversamplers </b>"
   ]
  },
  {
   "cell_type": "code",
   "execution_count": 20,
   "id": "previous-spiritual",
   "metadata": {},
   "outputs": [],
   "source": [
    "oversampler = sv.SMOTE()"
   ]
  },
  {
   "cell_type": "code",
   "execution_count": 21,
   "id": "social-orbit",
   "metadata": {},
   "outputs": [
    {
     "name": "stderr",
     "output_type": "stream",
     "text": [
      "2021-03-06 00:33:43,340:INFO:SMOTE: Running sampling via ('SMOTE', \"{'proportion': 1.0, 'n_neighbors': 5, 'n_jobs': 1, 'random_state': None}\")\n"
     ]
    }
   ],
   "source": [
    "X_train_smote, y_train_smote = oversampler.sample(np.array(X_train), np.array(y_train))"
   ]
  },
  {
   "cell_type": "markdown",
   "id": "alien-repository",
   "metadata": {},
   "source": [
    "<b> Fit a logistic regression model using SMOTE </b>"
   ]
  },
  {
   "cell_type": "code",
   "execution_count": 22,
   "id": "representative-siemens",
   "metadata": {},
   "outputs": [
    {
     "data": {
      "text/plain": [
       "LogisticRegression()"
      ]
     },
     "execution_count": 22,
     "metadata": {},
     "output_type": "execute_result"
    }
   ],
   "source": [
    "churnModel2 = LogisticRegression()\n",
    "churnModel2.fit(X_train_smote, y_train_smote)"
   ]
  },
  {
   "cell_type": "markdown",
   "id": "analyzed-darwin",
   "metadata": {},
   "source": [
    "<b> Import the smote-variant library and instantiate the MSMOTE algorithm </b>"
   ]
  },
  {
   "cell_type": "code",
   "execution_count": 23,
   "id": "sunrise-oasis",
   "metadata": {},
   "outputs": [],
   "source": [
    "oversampler = sv.MSMOTE()"
   ]
  },
  {
   "cell_type": "markdown",
   "id": "killing-beatles",
   "metadata": {},
   "source": [
    "<b> Create the oversampled data </b>"
   ]
  },
  {
   "cell_type": "code",
   "execution_count": 24,
   "id": "rotary-scenario",
   "metadata": {},
   "outputs": [
    {
     "name": "stderr",
     "output_type": "stream",
     "text": [
      "2021-03-06 00:33:43,730:INFO:MSMOTE: Running sampling via ('MSMOTE', \"{'proportion': 1.0, 'n_neighbors': 5, 'n_jobs': 1, 'random_state': None}\")\n"
     ]
    }
   ],
   "source": [
    "X_train_msmote, y_train_msmote = oversampler.sample(np.array(X_train), np.array(y_train))"
   ]
  },
  {
   "cell_type": "markdown",
   "id": "excess-shirt",
   "metadata": {},
   "source": [
    "<b> Fit the logistic regression model using the MSMOTE dataset </b>"
   ]
  },
  {
   "cell_type": "code",
   "execution_count": 25,
   "id": "formal-arizona",
   "metadata": {},
   "outputs": [
    {
     "data": {
      "text/plain": [
       "LogisticRegression()"
      ]
     },
     "execution_count": 25,
     "metadata": {},
     "output_type": "execute_result"
    }
   ],
   "source": [
    "churnModel3 = LogisticRegression()\n",
    "churnModel3.fit(X_train_msmote, y_train_msmote)"
   ]
  },
  {
   "cell_type": "markdown",
   "id": "stylish-museum",
   "metadata": {},
   "source": [
    "<b> Generate the three separate predictions for each model </b>"
   ]
  },
  {
   "cell_type": "code",
   "execution_count": 26,
   "id": "alpine-quebec",
   "metadata": {},
   "outputs": [],
   "source": [
    "pred_us = churnModel1.predict(X_test)\n",
    "pred_smote = churnModel2.predict(X_test)\n",
    "pred_msmote = churnModel3.predict(X_test)"
   ]
  },
  {
   "cell_type": "markdown",
   "id": "sixth-order",
   "metadata": {},
   "source": [
    "<b> Generate separate accuracy metrics, classification reports, and confusion matrices </b>"
   ]
  },
  {
   "cell_type": "code",
   "execution_count": 27,
   "id": "nearby-method",
   "metadata": {},
   "outputs": [
    {
     "name": "stdout",
     "output_type": "stream",
     "text": [
      "Accuracy with undersampling: 0.7946666666666666\n",
      "Accuracy with SMOTE: 0.7826666666666666\n",
      "Accuracy with MSMOTE: 0.798\n"
     ]
    }
   ],
   "source": [
    "print(f'Accuracy with undersampling: {churnModel1.score(X_test, y_test)}')\n",
    "print(f'Accuracy with SMOTE: {churnModel2.score(X_test, y_test)}')\n",
    "print(f'Accuracy with MSMOTE: {churnModel3.score(X_test, y_test)}')"
   ]
  },
  {
   "cell_type": "markdown",
   "id": "dominant-identity",
   "metadata": {},
   "source": [
    "Metrics for Random Undersampling"
   ]
  },
  {
   "cell_type": "code",
   "execution_count": 28,
   "id": "separate-ethiopia",
   "metadata": {},
   "outputs": [
    {
     "name": "stdout",
     "output_type": "stream",
     "text": [
      "[[1032  251]\n",
      " [  57  160]]\n"
     ]
    }
   ],
   "source": [
    "print(confusion_matrix(y_test, pred_us))"
   ]
  },
  {
   "cell_type": "code",
   "execution_count": 29,
   "id": "upset-casino",
   "metadata": {},
   "outputs": [
    {
     "name": "stdout",
     "output_type": "stream",
     "text": [
      "              precision    recall  f1-score   support\n",
      "\n",
      "          No       0.95      0.80      0.87      1283\n",
      "         Yes       0.39      0.74      0.51       217\n",
      "\n",
      "    accuracy                           0.79      1500\n",
      "   macro avg       0.67      0.77      0.69      1500\n",
      "weighted avg       0.87      0.79      0.82      1500\n",
      "\n"
     ]
    }
   ],
   "source": [
    "print(classification_report(y_test, pred_us))"
   ]
  },
  {
   "cell_type": "markdown",
   "id": "printable-richardson",
   "metadata": {},
   "source": [
    "Metrics with SMOTE"
   ]
  },
  {
   "cell_type": "code",
   "execution_count": 30,
   "id": "positive-struggle",
   "metadata": {},
   "outputs": [
    {
     "name": "stdout",
     "output_type": "stream",
     "text": [
      "[[1009  274]\n",
      " [  52  165]]\n"
     ]
    }
   ],
   "source": [
    "print(confusion_matrix(y_test, pred_smote))"
   ]
  },
  {
   "cell_type": "code",
   "execution_count": 31,
   "id": "italian-mustang",
   "metadata": {},
   "outputs": [
    {
     "name": "stdout",
     "output_type": "stream",
     "text": [
      "              precision    recall  f1-score   support\n",
      "\n",
      "          No       0.95      0.79      0.86      1283\n",
      "         Yes       0.38      0.76      0.50       217\n",
      "\n",
      "    accuracy                           0.78      1500\n",
      "   macro avg       0.66      0.77      0.68      1500\n",
      "weighted avg       0.87      0.78      0.81      1500\n",
      "\n"
     ]
    }
   ],
   "source": [
    "print(classification_report(y_test, pred_smote))"
   ]
  },
  {
   "cell_type": "markdown",
   "id": "empirical-flour",
   "metadata": {},
   "source": [
    "Metrics with MSMOTE"
   ]
  },
  {
   "cell_type": "code",
   "execution_count": 32,
   "id": "interior-purchase",
   "metadata": {},
   "outputs": [
    {
     "name": "stdout",
     "output_type": "stream",
     "text": [
      "[[1034  249]\n",
      " [  54  163]]\n"
     ]
    }
   ],
   "source": [
    "print(confusion_matrix(y_test, pred_msmote))"
   ]
  },
  {
   "cell_type": "code",
   "execution_count": 33,
   "id": "common-terrace",
   "metadata": {},
   "outputs": [
    {
     "name": "stdout",
     "output_type": "stream",
     "text": [
      "              precision    recall  f1-score   support\n",
      "\n",
      "          No       0.95      0.81      0.87      1283\n",
      "         Yes       0.40      0.75      0.52       217\n",
      "\n",
      "    accuracy                           0.80      1500\n",
      "   macro avg       0.67      0.78      0.70      1500\n",
      "weighted avg       0.87      0.80      0.82      1500\n",
      "\n"
     ]
    }
   ],
   "source": [
    "print(classification_report(y_test, pred_msmote))"
   ]
  },
  {
   "cell_type": "markdown",
   "id": "acquired-spanking",
   "metadata": {},
   "source": [
    "<b> Analyze the results and select the best method </b>"
   ]
  },
  {
   "cell_type": "markdown",
   "id": "sonic-seventh",
   "metadata": {},
   "source": [
    "From the recall values, we see that SMOTE has the largest value of 76%. This means that 76% of customers who are likely to churn have been correctly identified by the model. Random undersampling and MSMOTE have lower recall values of 73% and 75%, respectively. We now have a situation where MSMOTE has the highest accuracy but a slightly lower recall value and SMOTE has the lowest accuracy measure but the highest recall value. In such a situation, we have to look at the f1 scores, which is a weighted score between precision and recall. From all the f1 scores, we see that MSMOTE has the highest f1 score of 52%, with SMOTE and random undersampling scoring 50% each. Therefore, we can select MSMOTE as the best technique for balancing for this context."
   ]
  }
 ],
 "metadata": {
  "kernelspec": {
   "display_name": "Python 3",
   "language": "python",
   "name": "python3"
  },
  "language_info": {
   "codemirror_mode": {
    "name": "ipython",
    "version": 3
   },
   "file_extension": ".py",
   "mimetype": "text/x-python",
   "name": "python",
   "nbconvert_exporter": "python",
   "pygments_lexer": "ipython3",
   "version": "3.7.7"
  }
 },
 "nbformat": 4,
 "nbformat_minor": 5
}
