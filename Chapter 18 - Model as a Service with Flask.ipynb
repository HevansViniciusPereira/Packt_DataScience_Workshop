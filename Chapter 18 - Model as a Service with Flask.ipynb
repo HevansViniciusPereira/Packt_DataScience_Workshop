{
 "cells": [
  {
   "cell_type": "markdown",
   "id": "bizarre-doctor",
   "metadata": {},
   "source": [
    "# Creating a Flask API with Endpoints"
   ]
  },
  {
   "cell_type": "code",
   "execution_count": 1,
   "id": "damaged-scoop",
   "metadata": {},
   "outputs": [],
   "source": [
    "# import packages\n",
    "import socket\n",
    "import threading\n",
    "import requests\n",
    "import json\n",
    "from flask import Flask, jsonify, request\n",
    "import warnings\n",
    "warnings.filterwarnings('ignore')"
   ]
  },
  {
   "cell_type": "code",
   "execution_count": 2,
   "id": "distant-provision",
   "metadata": {},
   "outputs": [
    {
     "data": {
      "text/plain": [
       "'192.168.15.5'"
      ]
     },
     "execution_count": 2,
     "metadata": {},
     "output_type": "execute_result"
    }
   ],
   "source": [
    "# save the host IP address into a new variable\n",
    "ip_address = socket.gethostbyname(socket.gethostname())\n",
    "ip_address"
   ]
  },
  {
   "cell_type": "code",
   "execution_count": 3,
   "id": "premier-manitoba",
   "metadata": {},
   "outputs": [],
   "source": [
    "# create a Flask app\n",
    "app = Flask(__name__)"
   ]
  },
  {
   "cell_type": "code",
   "execution_count": 4,
   "id": "united-privacy",
   "metadata": {},
   "outputs": [],
   "source": [
    "# Create an API endpoint for the root directory\n",
    "@app.route(\"/\")\n",
    "def welcome():\n",
    "    return \"Welcome to my API!\""
   ]
  },
  {
   "cell_type": "code",
   "execution_count": 5,
   "id": "regular-edition",
   "metadata": {},
   "outputs": [
    {
     "name": "stdout",
     "output_type": "stream",
     "text": [
      " * Serving Flask app \"__main__\" (lazy loading)\n",
      " * Environment: production\n",
      "   WARNING: This is a development server. Do not use it in a production deployment.\n",
      "   Use a production WSGI server instead.\n",
      " * Debug mode: off\n"
     ]
    }
   ],
   "source": [
    "# Create a new thread for running your Flask app\n",
    "flask_thread = threading.Thread(target=app.run, kwargs={'host':'0.0.0.0', 'port':80})\n",
    "flask_thread.start()"
   ]
  },
  {
   "cell_type": "code",
   "execution_count": 6,
   "id": "cosmetic-drink",
   "metadata": {},
   "outputs": [
    {
     "name": "stderr",
     "output_type": "stream",
     "text": [
      " * Running on http://0.0.0.0:80/ (Press CTRL+C to quit)\n",
      "192.168.15.5 - - [16/Mar/2021 10:17:34] \"\u001b[37mGET / HTTP/1.1\u001b[0m\" 200 -\n"
     ]
    },
    {
     "data": {
      "text/plain": [
       "'Welcome to my API!'"
      ]
     },
     "execution_count": 6,
     "metadata": {},
     "output_type": "execute_result"
    }
   ],
   "source": [
    "# Send a HTTP GET request to the server\n",
    "r = requests.get(f'http://{ip_address}')\n",
    "r.text"
   ]
  },
  {
   "cell_type": "code",
   "execution_count": 7,
   "id": "located-andorra",
   "metadata": {},
   "outputs": [],
   "source": [
    "# Create a new API endpoint for the empty path that accepts only POST requests\n",
    "@app.route('/empty', methods=['POST'])\n",
    "def check_empty():\n",
    "    data = requests.get_json()\n",
    "    return jsonify(not data)"
   ]
  },
  {
   "cell_type": "code",
   "execution_count": 8,
   "id": "recognized-barrel",
   "metadata": {},
   "outputs": [],
   "source": [
    "# Create a variable that will contain an empty JSON\n",
    "empty_json = json.dumps([])"
   ]
  },
  {
   "cell_type": "code",
   "execution_count": 9,
   "id": "french-implementation",
   "metadata": {},
   "outputs": [],
   "source": [
    "# Create a dictionary\n",
    "headers = {'content-type': 'application/json',\n",
    "           'Accept-Charset': 'UTF-8'}"
   ]
  },
  {
   "cell_type": "code",
   "execution_count": 10,
   "id": "expensive-interaction",
   "metadata": {},
   "outputs": [
    {
     "name": "stderr",
     "output_type": "stream",
     "text": [
      "[2021-03-16 10:17:35,228] ERROR in app: Exception on /empty [POST]\n",
      "Traceback (most recent call last):\n",
      "  File \"C:\\Users\\Hevans\\Anaconda3\\lib\\site-packages\\flask\\app.py\", line 2447, in wsgi_app\n",
      "    response = self.full_dispatch_request()\n",
      "  File \"C:\\Users\\Hevans\\Anaconda3\\lib\\site-packages\\flask\\app.py\", line 1952, in full_dispatch_request\n",
      "    rv = self.handle_user_exception(e)\n",
      "  File \"C:\\Users\\Hevans\\Anaconda3\\lib\\site-packages\\flask\\app.py\", line 1821, in handle_user_exception\n",
      "    reraise(exc_type, exc_value, tb)\n",
      "  File \"C:\\Users\\Hevans\\Anaconda3\\lib\\site-packages\\flask\\_compat.py\", line 39, in reraise\n",
      "    raise value\n",
      "  File \"C:\\Users\\Hevans\\Anaconda3\\lib\\site-packages\\flask\\app.py\", line 1950, in full_dispatch_request\n",
      "    rv = self.dispatch_request()\n",
      "  File \"C:\\Users\\Hevans\\Anaconda3\\lib\\site-packages\\flask\\app.py\", line 1936, in dispatch_request\n",
      "    return self.view_functions[rule.endpoint](**req.view_args)\n",
      "  File \"<ipython-input-7-24a460dc2283>\", line 4, in check_empty\n",
      "    data = requests.get_json()\n",
      "AttributeError: module 'requests' has no attribute 'get_json'\n",
      "192.168.15.5 - - [16/Mar/2021 10:17:35] \"\u001b[35m\u001b[1mPOST /empty HTTP/1.1\u001b[0m\" 500 -\n"
     ]
    },
    {
     "data": {
      "text/plain": [
       "'<!DOCTYPE HTML PUBLIC \"-//W3C//DTD HTML 3.2 Final//EN\">\\n<title>500 Internal Server Error</title>\\n<h1>Internal Server Error</h1>\\n<p>The server encountered an internal error and was unable to complete your request. Either the server is overloaded or there is an error in the application.</p>\\n'"
      ]
     },
     "execution_count": 10,
     "metadata": {},
     "output_type": "execute_result"
    }
   ],
   "source": [
    "# Send a HTTP POST request to the server\n",
    "r_empty = requests.post(f'http://{ip_address}/empty',\n",
    "                       data=empty_json,\n",
    "                       headers=headers)\n",
    "r_empty.text"
   ]
  },
  {
   "cell_type": "code",
   "execution_count": 11,
   "id": "abroad-chair",
   "metadata": {},
   "outputs": [],
   "source": [
    "# Create a variable that contains a JSON version of a list\n",
    "not_empty_json = json.dumps(['Data Science', 'is', 'so', 'cool', '!'])"
   ]
  },
  {
   "cell_type": "code",
   "execution_count": 12,
   "id": "promotional-sending",
   "metadata": {},
   "outputs": [
    {
     "name": "stderr",
     "output_type": "stream",
     "text": [
      "[2021-03-16 10:17:35,629] ERROR in app: Exception on /empty [POST]\n",
      "Traceback (most recent call last):\n",
      "  File \"C:\\Users\\Hevans\\Anaconda3\\lib\\site-packages\\flask\\app.py\", line 2447, in wsgi_app\n",
      "    response = self.full_dispatch_request()\n",
      "  File \"C:\\Users\\Hevans\\Anaconda3\\lib\\site-packages\\flask\\app.py\", line 1952, in full_dispatch_request\n",
      "    rv = self.handle_user_exception(e)\n",
      "  File \"C:\\Users\\Hevans\\Anaconda3\\lib\\site-packages\\flask\\app.py\", line 1821, in handle_user_exception\n",
      "    reraise(exc_type, exc_value, tb)\n",
      "  File \"C:\\Users\\Hevans\\Anaconda3\\lib\\site-packages\\flask\\_compat.py\", line 39, in reraise\n",
      "    raise value\n",
      "  File \"C:\\Users\\Hevans\\Anaconda3\\lib\\site-packages\\flask\\app.py\", line 1950, in full_dispatch_request\n",
      "    rv = self.dispatch_request()\n",
      "  File \"C:\\Users\\Hevans\\Anaconda3\\lib\\site-packages\\flask\\app.py\", line 1936, in dispatch_request\n",
      "    return self.view_functions[rule.endpoint](**req.view_args)\n",
      "  File \"<ipython-input-7-24a460dc2283>\", line 4, in check_empty\n",
      "    data = requests.get_json()\n",
      "AttributeError: module 'requests' has no attribute 'get_json'\n",
      "192.168.15.5 - - [16/Mar/2021 10:17:35] \"\u001b[35m\u001b[1mPOST /empty HTTP/1.1\u001b[0m\" 500 -\n"
     ]
    },
    {
     "data": {
      "text/plain": [
       "'<!DOCTYPE HTML PUBLIC \"-//W3C//DTD HTML 3.2 Final//EN\">\\n<title>500 Internal Server Error</title>\\n<h1>Internal Server Error</h1>\\n<p>The server encountered an internal error and was unable to complete your request. Either the server is overloaded or there is an error in the application.</p>\\n'"
      ]
     },
     "execution_count": 12,
     "metadata": {},
     "output_type": "execute_result"
    }
   ],
   "source": [
    "# Send an HTTP POST request to the server\n",
    "r_not_empty = requests.post(f\"http://{ip_address}/empty\",\n",
    "                            data=not_empty_json,\n",
    "                            headers=headers)\n",
    "r_not_empty.text"
   ]
  },
  {
   "cell_type": "markdown",
   "id": "continuing-blake",
   "metadata": {},
   "source": [
    "# Deploying a Model as a Web API"
   ]
  },
  {
   "cell_type": "code",
   "execution_count": 13,
   "id": "compliant-jacob",
   "metadata": {},
   "outputs": [],
   "source": [
    "# import packages\n",
    "import pandas as pd\n",
    "import joblib\n",
    "from sklearn.ensemble import RandomForestClassifier\n",
    "from sklearn.model_selection import train_test_split"
   ]
  },
  {
   "cell_type": "code",
   "execution_count": 14,
   "id": "prostate-cause",
   "metadata": {},
   "outputs": [],
   "source": [
    "# url path\n",
    "url_path = 'https://raw.githubusercontent.com/PacktWorkshops/The-Data-Science-Workshop/master/Chapter11/dataset/breast-cancer-wisconsin.data'"
   ]
  },
  {
   "cell_type": "code",
   "execution_count": 15,
   "id": "dated-aaron",
   "metadata": {},
   "outputs": [],
   "source": [
    "# Create a list called col_names\n",
    "col_names = ['Sample code number','Clump Thickness','Uniformity of Cell Size',\n",
    "             'Uniformity of Cell Shape','Marginal Adhesion','Single Epithelial Cell Size',\n",
    "             'Bare Nuclei','Bland Chromatin','Normal Nucleoli','Mitoses','Class']"
   ]
  },
  {
   "cell_type": "code",
   "execution_count": 16,
   "id": "alone-major",
   "metadata": {},
   "outputs": [
    {
     "data": {
      "text/html": [
       "<div>\n",
       "<style scoped>\n",
       "    .dataframe tbody tr th:only-of-type {\n",
       "        vertical-align: middle;\n",
       "    }\n",
       "\n",
       "    .dataframe tbody tr th {\n",
       "        vertical-align: top;\n",
       "    }\n",
       "\n",
       "    .dataframe thead th {\n",
       "        text-align: right;\n",
       "    }\n",
       "</style>\n",
       "<table border=\"1\" class=\"dataframe\">\n",
       "  <thead>\n",
       "    <tr style=\"text-align: right;\">\n",
       "      <th></th>\n",
       "      <th>Sample code number</th>\n",
       "      <th>Clump Thickness</th>\n",
       "      <th>Uniformity of Cell Size</th>\n",
       "      <th>Uniformity of Cell Shape</th>\n",
       "      <th>Marginal Adhesion</th>\n",
       "      <th>Single Epithelial Cell Size</th>\n",
       "      <th>Bare Nuclei</th>\n",
       "      <th>Bland Chromatin</th>\n",
       "      <th>Normal Nucleoli</th>\n",
       "      <th>Mitoses</th>\n",
       "      <th>Class</th>\n",
       "    </tr>\n",
       "  </thead>\n",
       "  <tbody>\n",
       "    <tr>\n",
       "      <th>0</th>\n",
       "      <td>1000025</td>\n",
       "      <td>5</td>\n",
       "      <td>1</td>\n",
       "      <td>1</td>\n",
       "      <td>1</td>\n",
       "      <td>2</td>\n",
       "      <td>1.0</td>\n",
       "      <td>3</td>\n",
       "      <td>1</td>\n",
       "      <td>1</td>\n",
       "      <td>2</td>\n",
       "    </tr>\n",
       "    <tr>\n",
       "      <th>1</th>\n",
       "      <td>1002945</td>\n",
       "      <td>5</td>\n",
       "      <td>4</td>\n",
       "      <td>4</td>\n",
       "      <td>5</td>\n",
       "      <td>7</td>\n",
       "      <td>10.0</td>\n",
       "      <td>3</td>\n",
       "      <td>2</td>\n",
       "      <td>1</td>\n",
       "      <td>2</td>\n",
       "    </tr>\n",
       "    <tr>\n",
       "      <th>2</th>\n",
       "      <td>1015425</td>\n",
       "      <td>3</td>\n",
       "      <td>1</td>\n",
       "      <td>1</td>\n",
       "      <td>1</td>\n",
       "      <td>2</td>\n",
       "      <td>2.0</td>\n",
       "      <td>3</td>\n",
       "      <td>1</td>\n",
       "      <td>1</td>\n",
       "      <td>2</td>\n",
       "    </tr>\n",
       "    <tr>\n",
       "      <th>3</th>\n",
       "      <td>1016277</td>\n",
       "      <td>6</td>\n",
       "      <td>8</td>\n",
       "      <td>8</td>\n",
       "      <td>1</td>\n",
       "      <td>3</td>\n",
       "      <td>4.0</td>\n",
       "      <td>3</td>\n",
       "      <td>7</td>\n",
       "      <td>1</td>\n",
       "      <td>2</td>\n",
       "    </tr>\n",
       "    <tr>\n",
       "      <th>4</th>\n",
       "      <td>1017023</td>\n",
       "      <td>4</td>\n",
       "      <td>1</td>\n",
       "      <td>1</td>\n",
       "      <td>3</td>\n",
       "      <td>2</td>\n",
       "      <td>1.0</td>\n",
       "      <td>3</td>\n",
       "      <td>1</td>\n",
       "      <td>1</td>\n",
       "      <td>2</td>\n",
       "    </tr>\n",
       "  </tbody>\n",
       "</table>\n",
       "</div>"
      ],
      "text/plain": [
       "   Sample code number  Clump Thickness  Uniformity of Cell Size  \\\n",
       "0             1000025                5                        1   \n",
       "1             1002945                5                        4   \n",
       "2             1015425                3                        1   \n",
       "3             1016277                6                        8   \n",
       "4             1017023                4                        1   \n",
       "\n",
       "   Uniformity of Cell Shape  Marginal Adhesion  Single Epithelial Cell Size  \\\n",
       "0                         1                  1                            2   \n",
       "1                         4                  5                            7   \n",
       "2                         1                  1                            2   \n",
       "3                         8                  1                            3   \n",
       "4                         1                  3                            2   \n",
       "\n",
       "   Bare Nuclei  Bland Chromatin  Normal Nucleoli  Mitoses  Class  \n",
       "0          1.0                3                1        1      2  \n",
       "1         10.0                3                2        1      2  \n",
       "2          2.0                3                1        1      2  \n",
       "3          4.0                3                7        1      2  \n",
       "4          1.0                3                1        1      2  "
      ]
     },
     "execution_count": 16,
     "metadata": {},
     "output_type": "execute_result"
    }
   ],
   "source": [
    "# load the data\n",
    "df = pd.read_csv(url_path, header=None, names=col_names, na_values='?')\n",
    "df.head()"
   ]
  },
  {
   "cell_type": "code",
   "execution_count": 17,
   "id": "central-recorder",
   "metadata": {},
   "outputs": [],
   "source": [
    "# Replace all missing values with 0\n",
    "df.fillna(0, inplace=True)"
   ]
  },
  {
   "cell_type": "code",
   "execution_count": 18,
   "id": "moved-lindsay",
   "metadata": {},
   "outputs": [],
   "source": [
    "# Extract the 'Class' response variable\n",
    "y = df.pop('Class')"
   ]
  },
  {
   "cell_type": "code",
   "execution_count": 19,
   "id": "medium-influence",
   "metadata": {},
   "outputs": [],
   "source": [
    "# Remove the Sample code number column\n",
    "X = df.drop('Sample code number', axis=1)"
   ]
  },
  {
   "cell_type": "code",
   "execution_count": 20,
   "id": "objective-portuguese",
   "metadata": {},
   "outputs": [],
   "source": [
    "# Split into training and test sets\n",
    "X_train, X_test, y_train, y_test = train_test_split(X, y, test_size=0.33, random_state=888)"
   ]
  },
  {
   "cell_type": "code",
   "execution_count": 21,
   "id": "lucky-ordering",
   "metadata": {},
   "outputs": [],
   "source": [
    "# create the model\n",
    "rf_model = RandomForestClassifier(random_state=1)"
   ]
  },
  {
   "cell_type": "code",
   "execution_count": 22,
   "id": "eligible-cannon",
   "metadata": {},
   "outputs": [
    {
     "data": {
      "text/plain": [
       "RandomForestClassifier(random_state=1)"
      ]
     },
     "execution_count": 22,
     "metadata": {},
     "output_type": "execute_result"
    }
   ],
   "source": [
    "# train the model\n",
    "rf_model.fit(X_train, y_train)"
   ]
  },
  {
   "cell_type": "code",
   "execution_count": 23,
   "id": "colonial-convert",
   "metadata": {},
   "outputs": [
    {
     "data": {
      "text/plain": [
       "array([2, 2, 2, 2, 4, 4, 2, 2, 4, 4, 2, 2, 4, 2, 2, 2, 4, 2, 2, 4, 4, 2,\n",
       "       2, 4, 2, 2, 4, 4, 2, 2, 2, 2, 2, 4, 4, 2, 2, 2, 4, 4, 2, 2, 2, 2,\n",
       "       4, 2, 2, 4, 4, 2, 2, 2, 2, 4, 2, 2, 4, 4, 2, 4, 2, 2, 4, 2, 2, 4,\n",
       "       4, 4, 2, 2, 4, 2, 4, 4, 4, 2, 4, 2, 4, 2, 2, 2, 2, 4, 2, 4, 2, 2,\n",
       "       2, 4, 2, 2, 2, 2, 2, 2, 2, 4, 4, 2, 2, 4, 4, 4, 2, 2, 2, 2, 4, 4,\n",
       "       4, 2, 2, 2, 4, 2, 4, 2, 4, 4, 2, 2, 2, 2, 2, 2, 2, 2, 2, 4, 4, 2,\n",
       "       4, 4, 2, 2, 4, 2, 2, 2, 2, 2, 2, 2, 4, 4, 4, 4, 2, 4, 2, 2, 2, 4,\n",
       "       4, 2, 2, 2, 2, 4, 2, 2, 4, 2, 4, 2, 4, 4, 2, 2, 2, 2, 2, 2, 2, 2,\n",
       "       2, 2, 2, 4, 2, 2, 2, 2, 2, 2, 4, 4, 2, 2, 2, 2, 4, 2, 4, 2, 2, 2,\n",
       "       4, 2, 2, 4, 2, 4, 4, 4, 2, 4, 2, 2, 4, 2, 4, 2, 4, 2, 2, 4, 2, 4,\n",
       "       2, 2, 4, 4, 4, 2, 2, 2, 2, 2, 2], dtype=int64)"
      ]
     },
     "execution_count": 23,
     "metadata": {},
     "output_type": "execute_result"
    }
   ],
   "source": [
    "# make predictions\n",
    "rf_model.predict(X_test)"
   ]
  },
  {
   "cell_type": "code",
   "execution_count": 24,
   "id": "cooked-rebate",
   "metadata": {},
   "outputs": [
    {
     "data": {
      "text/plain": [
       "['model.pkl']"
      ]
     },
     "execution_count": 24,
     "metadata": {},
     "output_type": "execute_result"
    }
   ],
   "source": [
    "# save the model\n",
    "joblib.dump(rf_model, \"model.pkl\")"
   ]
  },
  {
   "cell_type": "code",
   "execution_count": 25,
   "id": "automatic-acoustic",
   "metadata": {},
   "outputs": [],
   "source": [
    "# Create an API endpoint for the API path that accepts only POST requests and will call a function called predict()\n",
    "@app.route('/api', methods=['POST'])\n",
    "def predict():\n",
    "    data = request.get_json()\n",
    "    prediction = trained_model.predict(data)\n",
    "    str_pred = np.array2string(prediction)\n",
    "    return jsonify(str_pred)"
   ]
  },
  {
   "cell_type": "code",
   "execution_count": 26,
   "id": "attended-norway",
   "metadata": {},
   "outputs": [
    {
     "name": "stdout",
     "output_type": "stream",
     "text": [
      " * Serving Flask app \"__main__\" (lazy loading)\n",
      " * Environment: production\n",
      "   WARNING: This is a development server. Do not use it in a production deployment.\n",
      "   Use a production WSGI server instead.\n",
      " * Debug mode: off\n"
     ]
    }
   ],
   "source": [
    "# Create a new thread for running your Flask app\n",
    "flask_thread = threading.Thread(target=app.run, kwargs={'host':'0.0.0.0', 'port':80})\n",
    "flask_thread.start()"
   ]
  },
  {
   "cell_type": "code",
   "execution_count": 27,
   "id": "invalid-weather",
   "metadata": {},
   "outputs": [
    {
     "name": "stderr",
     "output_type": "stream",
     "text": [
      " * Running on http://0.0.0.0:80/ (Press CTRL+C to quit)\n"
     ]
    },
    {
     "data": {
      "text/plain": [
       "[2.0, 3.0, 1.0, 1.0, 5.0, 1.0, 1.0, 1.0, 1.0]"
      ]
     },
     "execution_count": 27,
     "metadata": {},
     "output_type": "execute_result"
    }
   ],
   "source": [
    "# Convert the first record of X_test into a list\n",
    "record = X_test.iloc[0, ].to_list()\n",
    "record"
   ]
  },
  {
   "cell_type": "code",
   "execution_count": 28,
   "id": "prepared-package",
   "metadata": {},
   "outputs": [],
   "source": [
    "# Create a variable that will convert this record into JSON\n",
    "j_data = json.dumps([record])"
   ]
  },
  {
   "cell_type": "code",
   "execution_count": 29,
   "id": "animated-electronics",
   "metadata": {},
   "outputs": [],
   "source": [
    "# Create a dictionary\n",
    "headers = {'content-type': 'application/json',\n",
    "           'Accept-Charset': 'UTF-8'}"
   ]
  },
  {
   "cell_type": "code",
   "execution_count": 30,
   "id": "fifth-breath",
   "metadata": {},
   "outputs": [
    {
     "name": "stderr",
     "output_type": "stream",
     "text": [
      "[2021-03-16 10:17:40,044] ERROR in app: Exception on /api [POST]\n",
      "Traceback (most recent call last):\n",
      "  File \"C:\\Users\\Hevans\\Anaconda3\\lib\\site-packages\\flask\\app.py\", line 2447, in wsgi_app\n",
      "    response = self.full_dispatch_request()\n",
      "  File \"C:\\Users\\Hevans\\Anaconda3\\lib\\site-packages\\flask\\app.py\", line 1952, in full_dispatch_request\n",
      "    rv = self.handle_user_exception(e)\n",
      "  File \"C:\\Users\\Hevans\\Anaconda3\\lib\\site-packages\\flask\\app.py\", line 1821, in handle_user_exception\n",
      "    reraise(exc_type, exc_value, tb)\n",
      "  File \"C:\\Users\\Hevans\\Anaconda3\\lib\\site-packages\\flask\\_compat.py\", line 39, in reraise\n",
      "    raise value\n",
      "  File \"C:\\Users\\Hevans\\Anaconda3\\lib\\site-packages\\flask\\app.py\", line 1950, in full_dispatch_request\n",
      "    rv = self.dispatch_request()\n",
      "  File \"C:\\Users\\Hevans\\Anaconda3\\lib\\site-packages\\flask\\app.py\", line 1936, in dispatch_request\n",
      "    return self.view_functions[rule.endpoint](**req.view_args)\n",
      "  File \"<ipython-input-25-03895e240efc>\", line 5, in predict\n",
      "    prediction = trained_model.predict(data)\n",
      "NameError: name 'trained_model' is not defined\n",
      "192.168.15.5 - - [16/Mar/2021 10:17:40] \"\u001b[35m\u001b[1mPOST /api HTTP/1.1\u001b[0m\" 500 -\n"
     ]
    },
    {
     "data": {
      "text/plain": [
       "'<!DOCTYPE HTML PUBLIC \"-//W3C//DTD HTML 3.2 Final//EN\">\\n<title>500 Internal Server Error</title>\\n<h1>Internal Server Error</h1>\\n<p>The server encountered an internal error and was unable to complete your request. Either the server is overloaded or there is an error in the application.</p>\\n'"
      ]
     },
     "execution_count": 30,
     "metadata": {},
     "output_type": "execute_result"
    }
   ],
   "source": [
    "# Send a HTTP POST request to the server\n",
    "r = requests.post(f\"http://{ip_address}/api\",\n",
    "                  data=j_data,\n",
    "                  headers=headers)\n",
    "r.text"
   ]
  },
  {
   "cell_type": "markdown",
   "id": "sunset-excuse",
   "metadata": {},
   "source": [
    "# Adding Data Processing Steps into a Web API"
   ]
  },
  {
   "cell_type": "code",
   "execution_count": 31,
   "id": "impressed-perry",
   "metadata": {},
   "outputs": [
    {
     "data": {
      "text/plain": [
       "489"
      ]
     },
     "execution_count": 31,
     "metadata": {},
     "output_type": "execute_result"
    }
   ],
   "source": [
    "# Create a variable that will contain the number of rows that correspond to 70% of the records\n",
    "training_rows = int(df.shape[0] * 0.7)\n",
    "training_rows"
   ]
  },
  {
   "cell_type": "code",
   "execution_count": 32,
   "id": "dietary-infrared",
   "metadata": {},
   "outputs": [],
   "source": [
    "# Split the df and y DataFrames into training and test sets\n",
    "X_train = df[:training_rows]\n",
    "y_train = y[:training_rows]\n",
    "X_test = df[training_rows:]\n",
    "y_test = y[training_rows:]"
   ]
  },
  {
   "cell_type": "code",
   "execution_count": 33,
   "id": "polar-socket",
   "metadata": {},
   "outputs": [
    {
     "data": {
      "text/plain": [
       "Sample code number             0\n",
       "Clump Thickness                0\n",
       "Uniformity of Cell Size        0\n",
       "Uniformity of Cell Shape       0\n",
       "Marginal Adhesion              0\n",
       "Single Epithelial Cell Size    0\n",
       "Bare Nuclei                    0\n",
       "Bland Chromatin                0\n",
       "Normal Nucleoli                0\n",
       "Mitoses                        0\n",
       "dtype: int64"
      ]
     },
     "execution_count": 33,
     "metadata": {},
     "output_type": "execute_result"
    }
   ],
   "source": [
    "# Calculate the number of missing values for each column\n",
    "X_train.isna().sum()"
   ]
  },
  {
   "cell_type": "code",
   "execution_count": 34,
   "id": "english-portable",
   "metadata": {},
   "outputs": [
    {
     "data": {
      "text/plain": [
       "['Sample code number',\n",
       " 'Clump Thickness',\n",
       " 'Uniformity of Cell Size',\n",
       " 'Uniformity of Cell Shape',\n",
       " 'Marginal Adhesion',\n",
       " 'Single Epithelial Cell Size',\n",
       " 'Bare Nuclei',\n",
       " 'Bland Chromatin',\n",
       " 'Normal Nucleoli',\n",
       " 'Mitoses']"
      ]
     },
     "execution_count": 34,
     "metadata": {},
     "output_type": "execute_result"
    }
   ],
   "source": [
    "# Extract the list of columns\n",
    "num_cols = [col for col in X_train.columns if X_train[col].dtype != 'object']\n",
    "num_cols"
   ]
  },
  {
   "cell_type": "code",
   "execution_count": 35,
   "id": "broadband-bradford",
   "metadata": {},
   "outputs": [
    {
     "data": {
      "text/plain": [
       "{'Sample code number': 1013000.8977505113,\n",
       " 'Clump Thickness': 4.644171779141105,\n",
       " 'Uniformity of Cell Size': 3.347648261758691,\n",
       " 'Uniformity of Cell Shape': 3.4478527607361964,\n",
       " 'Marginal Adhesion': 2.9529652351738243,\n",
       " 'Single Epithelial Cell Size': 3.462167689161554,\n",
       " 'Bare Nuclei': 3.8813905930470347,\n",
       " 'Bland Chromatin': 3.61758691206544,\n",
       " 'Normal Nucleoli': 3.1533742331288344,\n",
       " 'Mitoses': 1.7198364008179958}"
      ]
     },
     "execution_count": 35,
     "metadata": {},
     "output_type": "execute_result"
    }
   ],
   "source": [
    "# Create an empty dictionary and iterate through the num_columns list, and for each column\n",
    "column_mean = {}\n",
    "for col in num_cols:\n",
    "    column_mean[col] = X_train[col].mean()\n",
    "column_mean"
   ]
  },
  {
   "cell_type": "code",
   "execution_count": 36,
   "id": "planned-recycling",
   "metadata": {},
   "outputs": [],
   "source": [
    "# Import the pickle package and save column_mean into a file\n",
    "import pickle\n",
    "pickle.dump(column_mean, open(\"column_mean.pkl\", \"wb\"))"
   ]
  },
  {
   "cell_type": "code",
   "execution_count": 37,
   "id": "daily-venue",
   "metadata": {},
   "outputs": [],
   "source": [
    "# Iterate through the num_cols list and for each column, replace missing values with the relevant average\n",
    "for col in num_cols:\n",
    "    X_train[col].fillna(column_mean[col], inplace=True)"
   ]
  },
  {
   "cell_type": "code",
   "execution_count": 38,
   "id": "tamil-elite",
   "metadata": {},
   "outputs": [
    {
     "data": {
      "text/plain": [
       "['model.pkl']"
      ]
     },
     "execution_count": 38,
     "metadata": {},
     "output_type": "execute_result"
    }
   ],
   "source": [
    "# create, train and save the model\n",
    "rf_model = RandomForestClassifier(random_state=1)\n",
    "rf_model.fit(X_train, y_train)\n",
    "joblib.dump(rf_model, \"model.pkl\")"
   ]
  },
  {
   "cell_type": "code",
   "execution_count": 39,
   "id": "clean-store",
   "metadata": {},
   "outputs": [],
   "source": [
    "# Load the pre-trained model\n",
    "trained_model = joblib.load(\"model.pkl\")\n",
    "var_means = pickle.load(open(\"column_mean.pkl\", \"rb\"))"
   ]
  },
  {
   "cell_type": "code",
   "execution_count": 40,
   "id": "miniature-daniel",
   "metadata": {},
   "outputs": [],
   "source": [
    "# Create an API endpoint for the 'api' path that accepts only POST requests and will call a function called predict\n",
    "@app.route('/api', methods=['POST'])\n",
    "def predict2():\n",
    "    data = request.get_json()\n",
    "    df_test = pd.DataFrame(data, index=[0])\n",
    "    for col, avg_value in var_means.items():\n",
    "        df_test[col].fillna(avg_value, inplace=True)\n",
    "    prediction = trained_model.predict(df_test)\n",
    "    str_pred = np.array2string(prediction)\n",
    "    return jsonify(str_pred)"
   ]
  },
  {
   "cell_type": "code",
   "execution_count": 41,
   "id": "confused-desperate",
   "metadata": {},
   "outputs": [
    {
     "name": "stdout",
     "output_type": "stream",
     "text": [
      " * Serving Flask app \"__main__\" (lazy loading)\n",
      " * Environment: production\n",
      "   WARNING: This is a development server. Do not use it in a production deployment.\n",
      "   Use a production WSGI server instead.\n",
      " * Debug mode: off\n"
     ]
    },
    {
     "name": "stderr",
     "output_type": "stream",
     "text": [
      " * Running on http://0.0.0.0:80/ (Press CTRL+C to quit)\n"
     ]
    }
   ],
   "source": [
    "# Create a new thread for running your Flask app\n",
    "flask_thread = threading.Thread(target=app.run,\n",
    "                                kwargs={'host':'0.0.0.0', 'port':80})\n",
    "flask_thread.start()"
   ]
  },
  {
   "cell_type": "code",
   "execution_count": 42,
   "id": "complicated-flood",
   "metadata": {},
   "outputs": [
    {
     "data": {
      "text/plain": [
       "'{\"Sample code number\":{},\"Clump Thickness\":{},\"Uniformity of Cell Size\":{},\"Uniformity of Cell Shape\":{},\"Marginal Adhesion\":{},\"Single Epithelial Cell Size\":{},\"Bare Nuclei\":{},\"Bland Chromatin\":{},\"Normal Nucleoli\":{},\"Mitoses\":{}}'"
      ]
     },
     "execution_count": 42,
     "metadata": {},
     "output_type": "execute_result"
    }
   ],
   "source": [
    "# Convert the first record of X_test that has missing value\n",
    "record = X_test[X_test['Bare Nuclei'].isna()].to_json()\n",
    "record"
   ]
  },
  {
   "cell_type": "code",
   "execution_count": 43,
   "id": "perceived-accessory",
   "metadata": {},
   "outputs": [],
   "source": [
    "headers = {'content-type': 'application/json',\n",
    "           'Accept-Charset': 'UTF-8'}\n",
    "ip_address = socket.gethostbyname(socket.gethostname())"
   ]
  },
  {
   "cell_type": "code",
   "execution_count": 44,
   "id": "entertaining-duncan",
   "metadata": {},
   "outputs": [
    {
     "name": "stderr",
     "output_type": "stream",
     "text": [
      "[2021-03-16 10:17:42,017] ERROR in app: Exception on /api [POST]\n",
      "Traceback (most recent call last):\n",
      "  File \"C:\\Users\\Hevans\\Anaconda3\\lib\\site-packages\\flask\\app.py\", line 2447, in wsgi_app\n",
      "    response = self.full_dispatch_request()\n",
      "  File \"C:\\Users\\Hevans\\Anaconda3\\lib\\site-packages\\flask\\app.py\", line 1952, in full_dispatch_request\n",
      "    rv = self.handle_user_exception(e)\n",
      "  File \"C:\\Users\\Hevans\\Anaconda3\\lib\\site-packages\\flask\\app.py\", line 1821, in handle_user_exception\n",
      "    reraise(exc_type, exc_value, tb)\n",
      "  File \"C:\\Users\\Hevans\\Anaconda3\\lib\\site-packages\\flask\\_compat.py\", line 39, in reraise\n",
      "    raise value\n",
      "  File \"C:\\Users\\Hevans\\Anaconda3\\lib\\site-packages\\flask\\app.py\", line 1950, in full_dispatch_request\n",
      "    rv = self.dispatch_request()\n",
      "  File \"C:\\Users\\Hevans\\Anaconda3\\lib\\site-packages\\flask\\app.py\", line 1936, in dispatch_request\n",
      "    return self.view_functions[rule.endpoint](**req.view_args)\n",
      "  File \"<ipython-input-25-03895e240efc>\", line 5, in predict\n",
      "    prediction = trained_model.predict(data)\n",
      "  File \"C:\\Users\\Hevans\\AppData\\Roaming\\Python\\Python37\\site-packages\\sklearn\\ensemble\\_forest.py\", line 630, in predict\n",
      "    proba = self.predict_proba(X)\n",
      "  File \"C:\\Users\\Hevans\\AppData\\Roaming\\Python\\Python37\\site-packages\\sklearn\\ensemble\\_forest.py\", line 674, in predict_proba\n",
      "    X = self._validate_X_predict(X)\n",
      "  File \"C:\\Users\\Hevans\\AppData\\Roaming\\Python\\Python37\\site-packages\\sklearn\\ensemble\\_forest.py\", line 422, in _validate_X_predict\n",
      "    return self.estimators_[0]._validate_X_predict(X, check_input=True)\n",
      "  File \"C:\\Users\\Hevans\\AppData\\Roaming\\Python\\Python37\\site-packages\\sklearn\\tree\\_classes.py\", line 403, in _validate_X_predict\n",
      "    reset=False)\n",
      "  File \"C:\\Users\\Hevans\\AppData\\Roaming\\Python\\Python37\\site-packages\\sklearn\\base.py\", line 421, in _validate_data\n",
      "    X = check_array(X, **check_params)\n",
      "  File \"C:\\Users\\Hevans\\AppData\\Roaming\\Python\\Python37\\site-packages\\sklearn\\utils\\validation.py\", line 63, in inner_f\n",
      "    return f(*args, **kwargs)\n",
      "  File \"C:\\Users\\Hevans\\AppData\\Roaming\\Python\\Python37\\site-packages\\sklearn\\utils\\validation.py\", line 616, in check_array\n",
      "    array = np.asarray(array, order=order, dtype=dtype)\n",
      "  File \"C:\\Users\\Hevans\\AppData\\Roaming\\Python\\Python37\\site-packages\\numpy\\core\\_asarray.py\", line 83, in asarray\n",
      "    return array(a, dtype, copy=False, order=order)\n",
      "TypeError: float() argument must be a string or a number, not 'dict'\n",
      "192.168.15.5 - - [16/Mar/2021 10:17:42] \"\u001b[35m\u001b[1mPOST /api HTTP/1.1\u001b[0m\" 500 -\n"
     ]
    },
    {
     "data": {
      "text/plain": [
       "'<!DOCTYPE HTML PUBLIC \"-//W3C//DTD HTML 3.2 Final//EN\">\\n<title>500 Internal Server Error</title>\\n<h1>Internal Server Error</h1>\\n<p>The server encountered an internal error and was unable to complete your request. Either the server is overloaded or there is an error in the application.</p>\\n'"
      ]
     },
     "execution_count": 44,
     "metadata": {},
     "output_type": "execute_result"
    }
   ],
   "source": [
    "# Send an HTTP POST request to the server\n",
    "r = requests.post(f\"http://{ip_address}/api\",\n",
    "                  data=record, \n",
    "                  headers=headers)\n",
    "r.text"
   ]
  }
 ],
 "metadata": {
  "kernelspec": {
   "display_name": "Python 3",
   "language": "python",
   "name": "python3"
  },
  "language_info": {
   "codemirror_mode": {
    "name": "ipython",
    "version": 3
   },
   "file_extension": ".py",
   "mimetype": "text/x-python",
   "name": "python",
   "nbconvert_exporter": "python",
   "pygments_lexer": "ipython3",
   "version": "3.7.7"
  }
 },
 "nbformat": 4,
 "nbformat_minor": 5
}
