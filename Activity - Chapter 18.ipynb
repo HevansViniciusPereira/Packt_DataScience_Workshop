{
 "cells": [
  {
   "cell_type": "markdown",
   "id": "respected-settle",
   "metadata": {},
   "source": [
    "# Train and Deploy an Income Predictor Model Using Flask"
   ]
  },
  {
   "cell_type": "markdown",
   "id": "starting-guard",
   "metadata": {},
   "source": [
    "<b> Download and load the dataset </b>"
   ]
  },
  {
   "cell_type": "code",
   "execution_count": 1,
   "id": "democratic-trigger",
   "metadata": {},
   "outputs": [],
   "source": [
    "import pandas as pd\n",
    "import pickle\n",
    "import joblib\n",
    "from sklearn.ensemble import RandomForestClassifier\n",
    "from sklearn.model_selection import train_test_split"
   ]
  },
  {
   "cell_type": "code",
   "execution_count": 2,
   "id": "corporate-smart",
   "metadata": {},
   "outputs": [],
   "source": [
    "url = 'https://raw.githubusercontent.com/PacktWorkshops/The-Data-Science-Workshop/master/Chapter18/Dataset/phpMawTba.csv'"
   ]
  },
  {
   "cell_type": "code",
   "execution_count": 3,
   "id": "subtle-shore",
   "metadata": {},
   "outputs": [
    {
     "data": {
      "text/html": [
       "<div>\n",
       "<style scoped>\n",
       "    .dataframe tbody tr th:only-of-type {\n",
       "        vertical-align: middle;\n",
       "    }\n",
       "\n",
       "    .dataframe tbody tr th {\n",
       "        vertical-align: top;\n",
       "    }\n",
       "\n",
       "    .dataframe thead th {\n",
       "        text-align: right;\n",
       "    }\n",
       "</style>\n",
       "<table border=\"1\" class=\"dataframe\">\n",
       "  <thead>\n",
       "    <tr style=\"text-align: right;\">\n",
       "      <th></th>\n",
       "      <th>age</th>\n",
       "      <th>workclass</th>\n",
       "      <th>fnlwgt</th>\n",
       "      <th>education</th>\n",
       "      <th>education-num</th>\n",
       "      <th>marital-status</th>\n",
       "      <th>occupation</th>\n",
       "      <th>relationship</th>\n",
       "      <th>sex</th>\n",
       "      <th>capital-gain</th>\n",
       "      <th>capital-loss</th>\n",
       "      <th>hours-per-week</th>\n",
       "      <th>native-country</th>\n",
       "      <th>class</th>\n",
       "    </tr>\n",
       "  </thead>\n",
       "  <tbody>\n",
       "    <tr>\n",
       "      <th>0</th>\n",
       "      <td>25</td>\n",
       "      <td>Private</td>\n",
       "      <td>226802</td>\n",
       "      <td>11th</td>\n",
       "      <td>7</td>\n",
       "      <td>Never-married</td>\n",
       "      <td>Machine-op-inspct</td>\n",
       "      <td>Own-child</td>\n",
       "      <td>Male</td>\n",
       "      <td>0</td>\n",
       "      <td>0</td>\n",
       "      <td>40</td>\n",
       "      <td>United-States</td>\n",
       "      <td>&lt;=50K</td>\n",
       "    </tr>\n",
       "    <tr>\n",
       "      <th>1</th>\n",
       "      <td>38</td>\n",
       "      <td>Private</td>\n",
       "      <td>89814</td>\n",
       "      <td>HS-grad</td>\n",
       "      <td>9</td>\n",
       "      <td>Married-civ-spouse</td>\n",
       "      <td>Farming-fishing</td>\n",
       "      <td>Husband</td>\n",
       "      <td>Male</td>\n",
       "      <td>0</td>\n",
       "      <td>0</td>\n",
       "      <td>50</td>\n",
       "      <td>United-States</td>\n",
       "      <td>&lt;=50K</td>\n",
       "    </tr>\n",
       "    <tr>\n",
       "      <th>2</th>\n",
       "      <td>28</td>\n",
       "      <td>Local-gov</td>\n",
       "      <td>336951</td>\n",
       "      <td>Assoc-acdm</td>\n",
       "      <td>12</td>\n",
       "      <td>Married-civ-spouse</td>\n",
       "      <td>Protective-serv</td>\n",
       "      <td>Husband</td>\n",
       "      <td>Male</td>\n",
       "      <td>0</td>\n",
       "      <td>0</td>\n",
       "      <td>40</td>\n",
       "      <td>United-States</td>\n",
       "      <td>&gt;50K</td>\n",
       "    </tr>\n",
       "    <tr>\n",
       "      <th>3</th>\n",
       "      <td>44</td>\n",
       "      <td>Private</td>\n",
       "      <td>160323</td>\n",
       "      <td>Some-college</td>\n",
       "      <td>10</td>\n",
       "      <td>Married-civ-spouse</td>\n",
       "      <td>Machine-op-inspct</td>\n",
       "      <td>Husband</td>\n",
       "      <td>Male</td>\n",
       "      <td>7688</td>\n",
       "      <td>0</td>\n",
       "      <td>40</td>\n",
       "      <td>United-States</td>\n",
       "      <td>&gt;50K</td>\n",
       "    </tr>\n",
       "    <tr>\n",
       "      <th>4</th>\n",
       "      <td>18</td>\n",
       "      <td>?</td>\n",
       "      <td>103497</td>\n",
       "      <td>Some-college</td>\n",
       "      <td>10</td>\n",
       "      <td>Never-married</td>\n",
       "      <td>?</td>\n",
       "      <td>Own-child</td>\n",
       "      <td>Female</td>\n",
       "      <td>0</td>\n",
       "      <td>0</td>\n",
       "      <td>30</td>\n",
       "      <td>United-States</td>\n",
       "      <td>&lt;=50K</td>\n",
       "    </tr>\n",
       "  </tbody>\n",
       "</table>\n",
       "</div>"
      ],
      "text/plain": [
       "   age   workclass  fnlwgt      education  education-num       marital-status  \\\n",
       "0   25     Private  226802           11th              7        Never-married   \n",
       "1   38     Private   89814        HS-grad              9   Married-civ-spouse   \n",
       "2   28   Local-gov  336951     Assoc-acdm             12   Married-civ-spouse   \n",
       "3   44     Private  160323   Some-college             10   Married-civ-spouse   \n",
       "4   18           ?  103497   Some-college             10        Never-married   \n",
       "\n",
       "           occupation relationship      sex  capital-gain  capital-loss  \\\n",
       "0   Machine-op-inspct    Own-child     Male             0             0   \n",
       "1     Farming-fishing      Husband     Male             0             0   \n",
       "2     Protective-serv      Husband     Male             0             0   \n",
       "3   Machine-op-inspct      Husband     Male          7688             0   \n",
       "4                   ?    Own-child   Female             0             0   \n",
       "\n",
       "   hours-per-week  native-country   class  \n",
       "0              40   United-States   <=50K  \n",
       "1              50   United-States   <=50K  \n",
       "2              40   United-States    >50K  \n",
       "3              40   United-States    >50K  \n",
       "4              30   United-States   <=50K  "
      ]
     },
     "execution_count": 3,
     "metadata": {},
     "output_type": "execute_result"
    }
   ],
   "source": [
    "df = pd.read_csv(url)\n",
    "df.head()"
   ]
  },
  {
   "cell_type": "markdown",
   "id": "accepting-israeli",
   "metadata": {},
   "source": [
    "<b> Extract the response variable </b>"
   ]
  },
  {
   "cell_type": "code",
   "execution_count": 4,
   "id": "cultural-blanket",
   "metadata": {},
   "outputs": [],
   "source": [
    "y = df.pop('class')"
   ]
  },
  {
   "cell_type": "markdown",
   "id": "elementary-franchise",
   "metadata": {},
   "source": [
    "<b> Split the dataset into training and test sets </b>"
   ]
  },
  {
   "cell_type": "code",
   "execution_count": 5,
   "id": "popular-aluminum",
   "metadata": {},
   "outputs": [],
   "source": [
    "X_train, X_test, y_train, y_test = train_test_split(df, y, test_size=0.33, random_state=8)"
   ]
  },
  {
   "cell_type": "markdown",
   "id": "fossil-advertiser",
   "metadata": {},
   "source": [
    "<b> Extract the list of categories for each categorical column </b>"
   ]
  },
  {
   "cell_type": "code",
   "execution_count": 6,
   "id": "extensive-message",
   "metadata": {},
   "outputs": [
    {
     "data": {
      "text/plain": [
       "['workclass',\n",
       " 'education',\n",
       " 'marital-status',\n",
       " 'occupation',\n",
       " 'relationship',\n",
       " 'sex',\n",
       " 'native-country']"
      ]
     },
     "execution_count": 6,
     "metadata": {},
     "output_type": "execute_result"
    }
   ],
   "source": [
    "cat_columns = [col for col in df.columns if df[col].dtype == 'object']\n",
    "cat_columns"
   ]
  },
  {
   "cell_type": "markdown",
   "id": "contained-tobago",
   "metadata": {},
   "source": [
    "<b> Save the list of categories and categorical column names into files </b>"
   ]
  },
  {
   "cell_type": "code",
   "execution_count": 7,
   "id": "solid-breach",
   "metadata": {},
   "outputs": [],
   "source": [
    "column_cat = {}"
   ]
  },
  {
   "cell_type": "code",
   "execution_count": 8,
   "id": "confident-stewart",
   "metadata": {},
   "outputs": [],
   "source": [
    "for col in cat_columns:\n",
    "    column_cat[col] = X_train[col].astype('category').cat.categories"
   ]
  },
  {
   "cell_type": "code",
   "execution_count": 9,
   "id": "induced-exemption",
   "metadata": {},
   "outputs": [],
   "source": [
    "pickle.dump(column_cat, open(\"categories_data.pkl\", \"wb\"))\n",
    "pickle.dump(cat_columns, open(\"categorical_columns.pkl\", \"wb\"))"
   ]
  },
  {
   "cell_type": "code",
   "execution_count": 10,
   "id": "scientific-following",
   "metadata": {},
   "outputs": [],
   "source": [
    "def apply_categories(input_df, cat_dict):\n",
    "    from pandas.api.types import CategoricalDtype\n",
    "    for col, cat in cat_dict.items():\n",
    "        input_df[col] = input_df[col].astype(CategoricalDtype(categories=cat))\n",
    "    return input_df"
   ]
  },
  {
   "cell_type": "code",
   "execution_count": 11,
   "id": "perfect-hormone",
   "metadata": {},
   "outputs": [
    {
     "name": "stderr",
     "output_type": "stream",
     "text": [
      "C:\\Users\\Hevans\\AppData\\Roaming\\Python\\Python37\\site-packages\\ipykernel_launcher.py:4: SettingWithCopyWarning: \n",
      "A value is trying to be set on a copy of a slice from a DataFrame.\n",
      "Try using .loc[row_indexer,col_indexer] = value instead\n",
      "\n",
      "See the caveats in the documentation: https://pandas.pydata.org/pandas-docs/stable/user_guide/indexing.html#returning-a-view-versus-a-copy\n",
      "  after removing the cwd from sys.path.\n"
     ]
    },
    {
     "data": {
      "text/plain": [
       "age                  int64\n",
       "workclass         category\n",
       "fnlwgt               int64\n",
       "education         category\n",
       "education-num        int64\n",
       "marital-status    category\n",
       "occupation        category\n",
       "relationship      category\n",
       "sex               category\n",
       "capital-gain         int64\n",
       "capital-loss         int64\n",
       "hours-per-week       int64\n",
       "native-country    category\n",
       "dtype: object"
      ]
     },
     "execution_count": 11,
     "metadata": {},
     "output_type": "execute_result"
    }
   ],
   "source": [
    "X_train_cat = apply_categories(X_train, column_cat)\n",
    "X_train_cat.dtypes"
   ]
  },
  {
   "cell_type": "markdown",
   "id": "quality-subject",
   "metadata": {},
   "source": [
    "<b> Perform one-hot encoding on categorical variables </b>"
   ]
  },
  {
   "cell_type": "code",
   "execution_count": 12,
   "id": "ambient-keyboard",
   "metadata": {},
   "outputs": [],
   "source": [
    "X_train_final = pd.get_dummies(X_train_cat, columns=cat_columns)"
   ]
  },
  {
   "cell_type": "markdown",
   "id": "earlier-empty",
   "metadata": {},
   "source": [
    "<b> Train a RandomForest to predict the binary outcome </b>"
   ]
  },
  {
   "cell_type": "code",
   "execution_count": 13,
   "id": "associate-aquarium",
   "metadata": {},
   "outputs": [
    {
     "data": {
      "text/plain": [
       "RandomForestClassifier(random_state=8)"
      ]
     },
     "execution_count": 13,
     "metadata": {},
     "output_type": "execute_result"
    }
   ],
   "source": [
    "rf_model = RandomForestClassifier(random_state=8)\n",
    "rf_model.fit(X_train_final, y_train)"
   ]
  },
  {
   "cell_type": "markdown",
   "id": "blocked-engineering",
   "metadata": {},
   "source": [
    "<b> Save the trained model into a file </b>"
   ]
  },
  {
   "cell_type": "code",
   "execution_count": 14,
   "id": "aware-regular",
   "metadata": {},
   "outputs": [
    {
     "data": {
      "text/plain": [
       "['model.pkl']"
      ]
     },
     "execution_count": 14,
     "metadata": {},
     "output_type": "execute_result"
    }
   ],
   "source": [
    "joblib.dump(rf_model, \"model.pkl\")"
   ]
  },
  {
   "cell_type": "markdown",
   "id": "nearby-imaging",
   "metadata": {},
   "source": [
    "<b> Create a Flask app </b>"
   ]
  },
  {
   "cell_type": "code",
   "execution_count": 15,
   "id": "computational-immune",
   "metadata": {},
   "outputs": [],
   "source": [
    "import socket\n",
    "import threading\n",
    "import requests\n",
    "import json\n",
    "from flask import Flask, jsonify, request\n",
    "import numpy as np"
   ]
  },
  {
   "cell_type": "code",
   "execution_count": 16,
   "id": "improved-parallel",
   "metadata": {},
   "outputs": [],
   "source": [
    "app = Flask(__name__)"
   ]
  },
  {
   "cell_type": "code",
   "execution_count": 17,
   "id": "healthy-focus",
   "metadata": {},
   "outputs": [],
   "source": [
    "trained_model = joblib.load(\"model.pkl\")\n",
    "var_means = pickle.load(open(\"categories_data.pkl\", \"rb\"))\n",
    "cat_cols = pickle.load(open(\"categorical_columns.pkl\", \"rb\"))"
   ]
  },
  {
   "cell_type": "markdown",
   "id": "fatal-promotion",
   "metadata": {},
   "source": [
    "<b> Create an API endpoint that will perform the same data transformation as for the training set and predict the outcome for a single record </b>"
   ]
  },
  {
   "cell_type": "code",
   "execution_count": 18,
   "id": "absent-legislation",
   "metadata": {},
   "outputs": [],
   "source": [
    "@app.route('/api', methods=['POST'])\n",
    "def predict():\n",
    "    data = request.get_json()\n",
    "    df_test = pd.DataFrame(data, index=[0])\n",
    "    df_test_clean = apply_categories(df_test, \\\n",
    "                                     var_means)\n",
    "    df_test_final = pd.get_dummies(df_test_clean, \\\n",
    "                                   columns=cat_cols)\n",
    "    prediction = trained_model.predict(df_test_final)\n",
    "    str_pred = np.array2string(prediction)\n",
    "    return jsonify(str_pred)"
   ]
  },
  {
   "cell_type": "code",
   "execution_count": 19,
   "id": "historic-session",
   "metadata": {},
   "outputs": [
    {
     "name": "stdout",
     "output_type": "stream",
     "text": [
      " * Serving Flask app \"__main__\" (lazy loading)\n",
      " * Environment: production\n",
      "   WARNING: This is a development server. Do not use it in a production deployment.\n",
      "   Use a production WSGI server instead.\n",
      " * Debug mode: off\n"
     ]
    },
    {
     "name": "stderr",
     "output_type": "stream",
     "text": [
      " * Running on http://0.0.0.0:80/ (Press CTRL+C to quit)\n"
     ]
    }
   ],
   "source": [
    "flask_thread = threading.Thread(target=app.run, kwargs={'host':'0.0.0.0', 'port':80})\n",
    "flask_thread.start()"
   ]
  },
  {
   "cell_type": "code",
   "execution_count": 20,
   "id": "fifty-canal",
   "metadata": {},
   "outputs": [
    {
     "data": {
      "text/plain": [
       "'{\"age\":51,\"workclass\":\" Private\",\"fnlwgt\":106151,\"education\":\" 11th\",\"education-num\":7,\"marital-status\":\" Divorced\",\"occupation\":\" Transport-moving\",\"relationship\":\" Own-child\",\"sex\":\" Male\",\"capital-gain\":0,\"capital-loss\":0,\"hours-per-week\":40,\"native-country\":\" United-States\"}'"
      ]
     },
     "execution_count": 20,
     "metadata": {},
     "output_type": "execute_result"
    }
   ],
   "source": [
    "record = X_test.iloc[0,].to_json()\n",
    "record"
   ]
  },
  {
   "cell_type": "code",
   "execution_count": 21,
   "id": "labeled-integration",
   "metadata": {},
   "outputs": [],
   "source": [
    "headers = {'content-type': 'application/json', \\\n",
    "           'Accept-Charset': 'UTF-8'}\n",
    "ip_address = socket.gethostbyname(socket.gethostname())"
   ]
  },
  {
   "cell_type": "markdown",
   "id": "opening-cleaning",
   "metadata": {},
   "source": [
    "<b> Send a request to this endpoint </b>"
   ]
  },
  {
   "cell_type": "code",
   "execution_count": 22,
   "id": "forbidden-slovenia",
   "metadata": {},
   "outputs": [
    {
     "data": {
      "text/plain": [
       "'<!DOCTYPE HTML PUBLIC \"-//W3C//DTD HTML 3.2 Final//EN\">\\n<title>500 Internal Server Error</title>\\n<h1>Internal Server Error</h1>\\n<p>The server encountered an internal error and was unable to complete your request. Either the server is overloaded or there is an error in the application.</p>\\n'"
      ]
     },
     "execution_count": 22,
     "metadata": {},
     "output_type": "execute_result"
    }
   ],
   "source": [
    "r = requests.post(f\"http://{ip_address}/api\", data=record, headers=headers)\n",
    "r.text"
   ]
  }
 ],
 "metadata": {
  "kernelspec": {
   "display_name": "Python 3",
   "language": "python",
   "name": "python3"
  },
  "language_info": {
   "codemirror_mode": {
    "name": "ipython",
    "version": 3
   },
   "file_extension": ".py",
   "mimetype": "text/x-python",
   "name": "python",
   "nbconvert_exporter": "python",
   "pygments_lexer": "ipython3",
   "version": "3.7.7"
  }
 },
 "nbformat": 4,
 "nbformat_minor": 5
}
