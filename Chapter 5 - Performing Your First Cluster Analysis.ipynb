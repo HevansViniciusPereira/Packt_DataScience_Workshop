{
 "cells": [
  {
   "cell_type": "markdown",
   "id": "everyday-bangladesh",
   "metadata": {},
   "source": [
    "# Performing Your First Clustering Analysis on the ATO Dataset"
   ]
  },
  {
   "cell_type": "code",
   "execution_count": 1,
   "id": "after-savannah",
   "metadata": {},
   "outputs": [],
   "source": [
    "# import packages\n",
    "import pandas as pd\n",
    "from sklearn.cluster import KMeans"
   ]
  },
  {
   "cell_type": "code",
   "execution_count": 2,
   "id": "pleasant-basement",
   "metadata": {},
   "outputs": [],
   "source": [
    "# url path\n",
    "file_url = 'https://raw.githubusercontent.com/PacktWorkshops/The-Data-Science-Workshop/master/Chapter05/DataSet/taxstats2015.csv'"
   ]
  },
  {
   "cell_type": "code",
   "execution_count": 3,
   "id": "miniature-representation",
   "metadata": {},
   "outputs": [
    {
     "data": {
      "text/html": [
       "<div>\n",
       "<style scoped>\n",
       "    .dataframe tbody tr th:only-of-type {\n",
       "        vertical-align: middle;\n",
       "    }\n",
       "\n",
       "    .dataframe tbody tr th {\n",
       "        vertical-align: top;\n",
       "    }\n",
       "\n",
       "    .dataframe thead th {\n",
       "        text-align: right;\n",
       "    }\n",
       "</style>\n",
       "<table border=\"1\" class=\"dataframe\">\n",
       "  <thead>\n",
       "    <tr style=\"text-align: right;\">\n",
       "      <th></th>\n",
       "      <th>Postcode</th>\n",
       "      <th>Average total deductions</th>\n",
       "      <th>Average net tax</th>\n",
       "    </tr>\n",
       "  </thead>\n",
       "  <tbody>\n",
       "    <tr>\n",
       "      <th>0</th>\n",
       "      <td>2000</td>\n",
       "      <td>2071</td>\n",
       "      <td>27555</td>\n",
       "    </tr>\n",
       "    <tr>\n",
       "      <th>1</th>\n",
       "      <td>2006</td>\n",
       "      <td>3804</td>\n",
       "      <td>28142</td>\n",
       "    </tr>\n",
       "    <tr>\n",
       "      <th>2</th>\n",
       "      <td>2007</td>\n",
       "      <td>1740</td>\n",
       "      <td>15649</td>\n",
       "    </tr>\n",
       "    <tr>\n",
       "      <th>3</th>\n",
       "      <td>2008</td>\n",
       "      <td>3917</td>\n",
       "      <td>53976</td>\n",
       "    </tr>\n",
       "    <tr>\n",
       "      <th>4</th>\n",
       "      <td>2009</td>\n",
       "      <td>3433</td>\n",
       "      <td>32430</td>\n",
       "    </tr>\n",
       "  </tbody>\n",
       "</table>\n",
       "</div>"
      ],
      "text/plain": [
       "   Postcode  Average total deductions  Average net tax\n",
       "0      2000                      2071            27555\n",
       "1      2006                      3804            28142\n",
       "2      2007                      1740            15649\n",
       "3      2008                      3917            53976\n",
       "4      2009                      3433            32430"
      ]
     },
     "execution_count": 3,
     "metadata": {},
     "output_type": "execute_result"
    }
   ],
   "source": [
    "# load data\n",
    "df = pd.read_csv(file_url, usecols=['Postcode', 'Average net tax', 'Average total deductions'])\n",
    "df.head()"
   ]
  },
  {
   "cell_type": "code",
   "execution_count": 4,
   "id": "trying-shade",
   "metadata": {},
   "outputs": [],
   "source": [
    "# instantiate kmeans\n",
    "kmeans = KMeans(random_state=42)"
   ]
  },
  {
   "cell_type": "code",
   "execution_count": 5,
   "id": "liable-continent",
   "metadata": {},
   "outputs": [
    {
     "data": {
      "text/plain": [
       "KMeans(random_state=42)"
      ]
     },
     "execution_count": 5,
     "metadata": {},
     "output_type": "execute_result"
    }
   ],
   "source": [
    "# fit the model\n",
    "X = df[['Average net tax', 'Average total deductions']]\n",
    "kmeans.fit(X)"
   ]
  },
  {
   "cell_type": "code",
   "execution_count": 6,
   "id": "incident-giving",
   "metadata": {},
   "outputs": [
    {
     "data": {
      "text/plain": [
       "array([1, 1, 4, ..., 4, 1, 4])"
      ]
     },
     "execution_count": 6,
     "metadata": {},
     "output_type": "execute_result"
    }
   ],
   "source": [
    "# make predictions\n",
    "y_preds = kmeans.predict(X)\n",
    "y_preds"
   ]
  },
  {
   "cell_type": "code",
   "execution_count": 7,
   "id": "congressional-peripheral",
   "metadata": {},
   "outputs": [
    {
     "data": {
      "text/html": [
       "<div>\n",
       "<style scoped>\n",
       "    .dataframe tbody tr th:only-of-type {\n",
       "        vertical-align: middle;\n",
       "    }\n",
       "\n",
       "    .dataframe tbody tr th {\n",
       "        vertical-align: top;\n",
       "    }\n",
       "\n",
       "    .dataframe thead th {\n",
       "        text-align: right;\n",
       "    }\n",
       "</style>\n",
       "<table border=\"1\" class=\"dataframe\">\n",
       "  <thead>\n",
       "    <tr style=\"text-align: right;\">\n",
       "      <th></th>\n",
       "      <th>Postcode</th>\n",
       "      <th>Average total deductions</th>\n",
       "      <th>Average net tax</th>\n",
       "      <th>cluster</th>\n",
       "    </tr>\n",
       "  </thead>\n",
       "  <tbody>\n",
       "    <tr>\n",
       "      <th>0</th>\n",
       "      <td>2000</td>\n",
       "      <td>2071</td>\n",
       "      <td>27555</td>\n",
       "      <td>1</td>\n",
       "    </tr>\n",
       "    <tr>\n",
       "      <th>1</th>\n",
       "      <td>2006</td>\n",
       "      <td>3804</td>\n",
       "      <td>28142</td>\n",
       "      <td>1</td>\n",
       "    </tr>\n",
       "    <tr>\n",
       "      <th>2</th>\n",
       "      <td>2007</td>\n",
       "      <td>1740</td>\n",
       "      <td>15649</td>\n",
       "      <td>4</td>\n",
       "    </tr>\n",
       "    <tr>\n",
       "      <th>3</th>\n",
       "      <td>2008</td>\n",
       "      <td>3917</td>\n",
       "      <td>53976</td>\n",
       "      <td>6</td>\n",
       "    </tr>\n",
       "    <tr>\n",
       "      <th>4</th>\n",
       "      <td>2009</td>\n",
       "      <td>3433</td>\n",
       "      <td>32430</td>\n",
       "      <td>3</td>\n",
       "    </tr>\n",
       "  </tbody>\n",
       "</table>\n",
       "</div>"
      ],
      "text/plain": [
       "   Postcode  Average total deductions  Average net tax  cluster\n",
       "0      2000                      2071            27555        1\n",
       "1      2006                      3804            28142        1\n",
       "2      2007                      1740            15649        4\n",
       "3      2008                      3917            53976        6\n",
       "4      2009                      3433            32430        3"
      ]
     },
     "execution_count": 7,
     "metadata": {},
     "output_type": "execute_result"
    }
   ],
   "source": [
    "# add the predictions to the dataframe\n",
    "df['cluster'] = y_preds\n",
    "df.head()"
   ]
  },
  {
   "cell_type": "markdown",
   "id": "lined-directory",
   "metadata": {},
   "source": [
    "# Clustering Australian Postcodes by Business Income and Expenses"
   ]
  },
  {
   "cell_type": "code",
   "execution_count": 8,
   "id": "returning-rugby",
   "metadata": {},
   "outputs": [],
   "source": [
    "# instantiate kmeans\n",
    "kmeans = KMeans(random_state=8)"
   ]
  },
  {
   "cell_type": "code",
   "execution_count": 9,
   "id": "small-birmingham",
   "metadata": {},
   "outputs": [
    {
     "data": {
      "text/plain": [
       "KMeans(random_state=8)"
      ]
     },
     "execution_count": 9,
     "metadata": {},
     "output_type": "execute_result"
    }
   ],
   "source": [
    "# fit the model\n",
    "X = pd.read_csv(file_url, usecols=['Average total business income', 'Average total business expenses'])\n",
    "kmeans.fit(X)"
   ]
  },
  {
   "cell_type": "code",
   "execution_count": 10,
   "id": "restricted-jones",
   "metadata": {},
   "outputs": [
    {
     "data": {
      "text/plain": [
       "array([3, 5, 6, ..., 0, 0, 2])"
      ]
     },
     "execution_count": 10,
     "metadata": {},
     "output_type": "execute_result"
    }
   ],
   "source": [
    "# make predictions\n",
    "y_preds = kmeans.predict(X)\n",
    "y_preds"
   ]
  },
  {
   "cell_type": "code",
   "execution_count": 11,
   "id": "frozen-average",
   "metadata": {},
   "outputs": [
    {
     "data": {
      "text/html": [
       "<div>\n",
       "<style scoped>\n",
       "    .dataframe tbody tr th:only-of-type {\n",
       "        vertical-align: middle;\n",
       "    }\n",
       "\n",
       "    .dataframe tbody tr th {\n",
       "        vertical-align: top;\n",
       "    }\n",
       "\n",
       "    .dataframe thead th {\n",
       "        text-align: right;\n",
       "    }\n",
       "</style>\n",
       "<table border=\"1\" class=\"dataframe\">\n",
       "  <thead>\n",
       "    <tr style=\"text-align: right;\">\n",
       "      <th></th>\n",
       "      <th>Average total business income</th>\n",
       "      <th>Average total business expenses</th>\n",
       "      <th>cluster</th>\n",
       "    </tr>\n",
       "  </thead>\n",
       "  <tbody>\n",
       "    <tr>\n",
       "      <th>0</th>\n",
       "      <td>210901</td>\n",
       "      <td>222191</td>\n",
       "      <td>3</td>\n",
       "    </tr>\n",
       "    <tr>\n",
       "      <th>1</th>\n",
       "      <td>69983</td>\n",
       "      <td>48971</td>\n",
       "      <td>5</td>\n",
       "    </tr>\n",
       "    <tr>\n",
       "      <th>2</th>\n",
       "      <td>575099</td>\n",
       "      <td>639499</td>\n",
       "      <td>6</td>\n",
       "    </tr>\n",
       "    <tr>\n",
       "      <th>3</th>\n",
       "      <td>53329</td>\n",
       "      <td>32173</td>\n",
       "      <td>0</td>\n",
       "    </tr>\n",
       "    <tr>\n",
       "      <th>4</th>\n",
       "      <td>237539</td>\n",
       "      <td>222993</td>\n",
       "      <td>3</td>\n",
       "    </tr>\n",
       "  </tbody>\n",
       "</table>\n",
       "</div>"
      ],
      "text/plain": [
       "   Average total business income  Average total business expenses  cluster\n",
       "0                         210901                           222191        3\n",
       "1                          69983                            48971        5\n",
       "2                         575099                           639499        6\n",
       "3                          53329                            32173        0\n",
       "4                         237539                           222993        3"
      ]
     },
     "execution_count": 11,
     "metadata": {},
     "output_type": "execute_result"
    }
   ],
   "source": [
    "# add the predictions to the dataframe\n",
    "X['cluster'] = y_preds\n",
    "X.head()"
   ]
  },
  {
   "cell_type": "code",
   "execution_count": 12,
   "id": "supposed-enhancement",
   "metadata": {},
   "outputs": [],
   "source": [
    "# import packages\n",
    "import matplotlib.pyplot as plt\n",
    "import numpy as np"
   ]
  },
  {
   "cell_type": "code",
   "execution_count": 13,
   "id": "recovered-petersburg",
   "metadata": {},
   "outputs": [
    {
     "data": {
      "text/html": [
       "<div>\n",
       "<style scoped>\n",
       "    .dataframe tbody tr th:only-of-type {\n",
       "        vertical-align: middle;\n",
       "    }\n",
       "\n",
       "    .dataframe tbody tr th {\n",
       "        vertical-align: top;\n",
       "    }\n",
       "\n",
       "    .dataframe thead th {\n",
       "        text-align: right;\n",
       "    }\n",
       "</style>\n",
       "<table border=\"1\" class=\"dataframe\">\n",
       "  <thead>\n",
       "    <tr style=\"text-align: right;\">\n",
       "      <th></th>\n",
       "      <th>Average total business expenses</th>\n",
       "      <th>Average total business income</th>\n",
       "    </tr>\n",
       "    <tr>\n",
       "      <th>cluster</th>\n",
       "      <th></th>\n",
       "      <th></th>\n",
       "    </tr>\n",
       "  </thead>\n",
       "  <tbody>\n",
       "    <tr>\n",
       "      <th>0</th>\n",
       "      <td>38130.124827</td>\n",
       "      <td>53608.097087</td>\n",
       "    </tr>\n",
       "    <tr>\n",
       "      <th>1</th>\n",
       "      <td>250410.190476</td>\n",
       "      <td>301417.809524</td>\n",
       "    </tr>\n",
       "    <tr>\n",
       "      <th>2</th>\n",
       "      <td>82319.305970</td>\n",
       "      <td>104102.712687</td>\n",
       "    </tr>\n",
       "    <tr>\n",
       "      <th>3</th>\n",
       "      <td>173350.259740</td>\n",
       "      <td>208767.740260</td>\n",
       "    </tr>\n",
       "    <tr>\n",
       "      <th>4</th>\n",
       "      <td>812481.333333</td>\n",
       "      <td>837920.333333</td>\n",
       "    </tr>\n",
       "    <tr>\n",
       "      <th>5</th>\n",
       "      <td>58310.891111</td>\n",
       "      <td>76449.391111</td>\n",
       "    </tr>\n",
       "    <tr>\n",
       "      <th>6</th>\n",
       "      <td>449722.500000</td>\n",
       "      <td>488551.625000</td>\n",
       "    </tr>\n",
       "    <tr>\n",
       "      <th>7</th>\n",
       "      <td>118572.299517</td>\n",
       "      <td>145933.570048</td>\n",
       "    </tr>\n",
       "  </tbody>\n",
       "</table>\n",
       "</div>"
      ],
      "text/plain": [
       "         Average total business expenses  Average total business income\n",
       "cluster                                                                \n",
       "0                           38130.124827                   53608.097087\n",
       "1                          250410.190476                  301417.809524\n",
       "2                           82319.305970                  104102.712687\n",
       "3                          173350.259740                  208767.740260\n",
       "4                          812481.333333                  837920.333333\n",
       "5                           58310.891111                   76449.391111\n",
       "6                          449722.500000                  488551.625000\n",
       "7                          118572.299517                  145933.570048"
      ]
     },
     "execution_count": 13,
     "metadata": {},
     "output_type": "execute_result"
    }
   ],
   "source": [
    "# Generate a pivot table with the averages of the two columns for each cluster\n",
    "X.pivot_table(values=['Average total business income', 'Average total business expenses'],\n",
    "               index='cluster', aggfunc=np.mean)"
   ]
  },
  {
   "cell_type": "code",
   "execution_count": 14,
   "id": "animated-generator",
   "metadata": {},
   "outputs": [
    {
     "data": {
      "image/png": "[encoded data removed]",
      "text/plain": [
       "<Figure size 720x504 with 1 Axes>"
      ]
     },
     "metadata": {
      "needs_background": "light"
     },
     "output_type": "display_data"
    }
   ],
   "source": [
    "# plot the clusters\n",
    "plt.figure(figsize=(10, 7))\n",
    "plt.scatter(X.iloc[:, 0], X.iloc[:, 1], c=X.cluster)\n",
    "plt.xlabel('Average total business income')\n",
    "plt.ylabel('Average total business expenses')\n",
    "plt.show()"
   ]
  },
  {
   "cell_type": "markdown",
   "id": "increased-bolivia",
   "metadata": {},
   "source": [
    "# Finding the Optimal Number of Clusters"
   ]
  },
  {
   "cell_type": "code",
   "execution_count": 15,
   "id": "previous-shower",
   "metadata": {},
   "outputs": [],
   "source": [
    "# Create an empty pandas DataFrame called clusters and an empty list called inertia\n",
    "clusters = pd.DataFrame()\n",
    "inertia = []"
   ]
  },
  {
   "cell_type": "code",
   "execution_count": 16,
   "id": "occupational-captain",
   "metadata": {},
   "outputs": [],
   "source": [
    "# generate a list containing the range of cluster numbers\n",
    "clusters['cluster_range'] = range(1, 15)"
   ]
  },
  {
   "cell_type": "code",
   "execution_count": 17,
   "id": "solid-battlefield",
   "metadata": {},
   "outputs": [],
   "source": [
    "# Create a for loop to go through each cluster number and fit a k-means model \n",
    "for k in clusters['cluster_range']:\n",
    "    kmeans = KMeans(n_clusters=k).fit(X)\n",
    "    inertia.append(kmeans.inertia_)"
   ]
  },
  {
   "cell_type": "code",
   "execution_count": 18,
   "id": "surface-crisis",
   "metadata": {},
   "outputs": [
    {
     "data": {
      "text/html": [
       "<div>\n",
       "<style scoped>\n",
       "    .dataframe tbody tr th:only-of-type {\n",
       "        vertical-align: middle;\n",
       "    }\n",
       "\n",
       "    .dataframe tbody tr th {\n",
       "        vertical-align: top;\n",
       "    }\n",
       "\n",
       "    .dataframe thead th {\n",
       "        text-align: right;\n",
       "    }\n",
       "</style>\n",
       "<table border=\"1\" class=\"dataframe\">\n",
       "  <thead>\n",
       "    <tr style=\"text-align: right;\">\n",
       "      <th></th>\n",
       "      <th>cluster_range</th>\n",
       "      <th>inertia</th>\n",
       "    </tr>\n",
       "  </thead>\n",
       "  <tbody>\n",
       "    <tr>\n",
       "      <th>0</th>\n",
       "      <td>1</td>\n",
       "      <td>1.333516e+13</td>\n",
       "    </tr>\n",
       "    <tr>\n",
       "      <th>1</th>\n",
       "      <td>2</td>\n",
       "      <td>7.063097e+12</td>\n",
       "    </tr>\n",
       "    <tr>\n",
       "      <th>2</th>\n",
       "      <td>3</td>\n",
       "      <td>3.718740e+12</td>\n",
       "    </tr>\n",
       "    <tr>\n",
       "      <th>3</th>\n",
       "      <td>4</td>\n",
       "      <td>2.341856e+12</td>\n",
       "    </tr>\n",
       "    <tr>\n",
       "      <th>4</th>\n",
       "      <td>5</td>\n",
       "      <td>1.713761e+12</td>\n",
       "    </tr>\n",
       "    <tr>\n",
       "      <th>5</th>\n",
       "      <td>6</td>\n",
       "      <td>1.225869e+12</td>\n",
       "    </tr>\n",
       "    <tr>\n",
       "      <th>6</th>\n",
       "      <td>7</td>\n",
       "      <td>9.442659e+11</td>\n",
       "    </tr>\n",
       "    <tr>\n",
       "      <th>7</th>\n",
       "      <td>8</td>\n",
       "      <td>7.488931e+11</td>\n",
       "    </tr>\n",
       "    <tr>\n",
       "      <th>8</th>\n",
       "      <td>9</td>\n",
       "      <td>6.346402e+11</td>\n",
       "    </tr>\n",
       "    <tr>\n",
       "      <th>9</th>\n",
       "      <td>10</td>\n",
       "      <td>5.646958e+11</td>\n",
       "    </tr>\n",
       "    <tr>\n",
       "      <th>10</th>\n",
       "      <td>11</td>\n",
       "      <td>5.178396e+11</td>\n",
       "    </tr>\n",
       "    <tr>\n",
       "      <th>11</th>\n",
       "      <td>12</td>\n",
       "      <td>4.579454e+11</td>\n",
       "    </tr>\n",
       "    <tr>\n",
       "      <th>12</th>\n",
       "      <td>13</td>\n",
       "      <td>4.196259e+11</td>\n",
       "    </tr>\n",
       "    <tr>\n",
       "      <th>13</th>\n",
       "      <td>14</td>\n",
       "      <td>3.941785e+11</td>\n",
       "    </tr>\n",
       "  </tbody>\n",
       "</table>\n",
       "</div>"
      ],
      "text/plain": [
       "    cluster_range       inertia\n",
       "0               1  1.333516e+13\n",
       "1               2  7.063097e+12\n",
       "2               3  3.718740e+12\n",
       "3               4  2.341856e+12\n",
       "4               5  1.713761e+12\n",
       "5               6  1.225869e+12\n",
       "6               7  9.442659e+11\n",
       "7               8  7.488931e+11\n",
       "8               9  6.346402e+11\n",
       "9              10  5.646958e+11\n",
       "10             11  5.178396e+11\n",
       "11             12  4.579454e+11\n",
       "12             13  4.196259e+11\n",
       "13             14  3.941785e+11"
      ]
     },
     "execution_count": 18,
     "metadata": {},
     "output_type": "execute_result"
    }
   ],
   "source": [
    "# Assign the inertia list to a new column called 'inertia' from the clusters DataFrame\n",
    "clusters['inertia'] = inertia\n",
    "clusters"
   ]
  },
  {
   "cell_type": "code",
   "execution_count": 19,
   "id": "multiple-worry",
   "metadata": {},
   "outputs": [
    {
     "data": {
      "image/png": "[encoded data removed]",
      "text/plain": [
       "<Figure size 576x432 with 1 Axes>"
      ]
     },
     "metadata": {
      "needs_background": "light"
     },
     "output_type": "display_data"
    }
   ],
   "source": [
    "# plot the Elbow graph\n",
    "plt.figure(figsize=(8, 6))\n",
    "plt.plot(clusters.iloc[:, 0], clusters.iloc[:, 1])\n",
    "plt.grid()\n",
    "plt.xlabel('cluster_range')\n",
    "plt.ylabel('inertia')\n",
    "plt.show()"
   ]
  },
  {
   "cell_type": "code",
   "execution_count": 20,
   "id": "provincial-guatemala",
   "metadata": {},
   "outputs": [],
   "source": [
    "# Looking at the Elbow plot, identify the optimal number of clusters\n",
    "optim_clusters = 4"
   ]
  },
  {
   "cell_type": "code",
   "execution_count": 21,
   "id": "stable-malta",
   "metadata": {},
   "outputs": [
    {
     "data": {
      "text/plain": [
       "KMeans(n_clusters=4, random_state=42)"
      ]
     },
     "execution_count": 21,
     "metadata": {},
     "output_type": "execute_result"
    }
   ],
   "source": [
    "# Train a k-means model with this number of clusters\n",
    "kmeans = KMeans(random_state=42, n_clusters=optim_clusters)\n",
    "kmeans.fit(X)"
   ]
  },
  {
   "cell_type": "code",
   "execution_count": 22,
   "id": "promotional-blast",
   "metadata": {},
   "outputs": [],
   "source": [
    "# make predictions\n",
    "X['cluster2'] = kmeans.predict(X)"
   ]
  },
  {
   "cell_type": "code",
   "execution_count": 23,
   "id": "broadband-growth",
   "metadata": {},
   "outputs": [
    {
     "data": {
      "text/html": [
       "<div>\n",
       "<style scoped>\n",
       "    .dataframe tbody tr th:only-of-type {\n",
       "        vertical-align: middle;\n",
       "    }\n",
       "\n",
       "    .dataframe tbody tr th {\n",
       "        vertical-align: top;\n",
       "    }\n",
       "\n",
       "    .dataframe thead th {\n",
       "        text-align: right;\n",
       "    }\n",
       "</style>\n",
       "<table border=\"1\" class=\"dataframe\">\n",
       "  <thead>\n",
       "    <tr style=\"text-align: right;\">\n",
       "      <th></th>\n",
       "      <th>Average total business income</th>\n",
       "      <th>Average total business expenses</th>\n",
       "      <th>cluster</th>\n",
       "      <th>cluster2</th>\n",
       "    </tr>\n",
       "  </thead>\n",
       "  <tbody>\n",
       "    <tr>\n",
       "      <th>0</th>\n",
       "      <td>210901</td>\n",
       "      <td>222191</td>\n",
       "      <td>3</td>\n",
       "      <td>1</td>\n",
       "    </tr>\n",
       "    <tr>\n",
       "      <th>1</th>\n",
       "      <td>69983</td>\n",
       "      <td>48971</td>\n",
       "      <td>5</td>\n",
       "      <td>0</td>\n",
       "    </tr>\n",
       "    <tr>\n",
       "      <th>2</th>\n",
       "      <td>575099</td>\n",
       "      <td>639499</td>\n",
       "      <td>6</td>\n",
       "      <td>2</td>\n",
       "    </tr>\n",
       "    <tr>\n",
       "      <th>3</th>\n",
       "      <td>53329</td>\n",
       "      <td>32173</td>\n",
       "      <td>0</td>\n",
       "      <td>0</td>\n",
       "    </tr>\n",
       "    <tr>\n",
       "      <th>4</th>\n",
       "      <td>237539</td>\n",
       "      <td>222993</td>\n",
       "      <td>3</td>\n",
       "      <td>1</td>\n",
       "    </tr>\n",
       "  </tbody>\n",
       "</table>\n",
       "</div>"
      ],
      "text/plain": [
       "   Average total business income  Average total business expenses  cluster  \\\n",
       "0                         210901                           222191        3   \n",
       "1                          69983                            48971        5   \n",
       "2                         575099                           639499        6   \n",
       "3                          53329                            32173        0   \n",
       "4                         237539                           222993        3   \n",
       "\n",
       "   cluster2  \n",
       "0         1  \n",
       "1         0  \n",
       "2         2  \n",
       "3         0  \n",
       "4         1  "
      ]
     },
     "execution_count": 23,
     "metadata": {},
     "output_type": "execute_result"
    }
   ],
   "source": [
    "X.head()"
   ]
  },
  {
   "cell_type": "code",
   "execution_count": 24,
   "id": "accessory-zambia",
   "metadata": {},
   "outputs": [
    {
     "data": {
      "image/png": "[encoded data removed]",
      "text/plain": [
       "<Figure size 720x504 with 1 Axes>"
      ]
     },
     "metadata": {
      "needs_background": "light"
     },
     "output_type": "display_data"
    }
   ],
   "source": [
    "# plot the scatter plot\n",
    "plt.figure(figsize=(10, 7))\n",
    "plt.scatter(X.iloc[:, 0], X.iloc[:, 1], c=X.cluster2)\n",
    "plt.grid()\n",
    "plt.xlabel('Average total business income')\n",
    "plt.ylabel('Average total business expenses')\n",
    "plt.show()"
   ]
  },
  {
   "cell_type": "markdown",
   "id": "occupational-blogger",
   "metadata": {},
   "source": [
    "# Using Different Initialization Parameters to Achieve a Suitable Outcome"
   ]
  },
  {
   "cell_type": "markdown",
   "id": "expanded-peninsula",
   "metadata": {},
   "source": [
    "fit a k-means model with n_init=1 and a random init"
   ]
  },
  {
   "cell_type": "code",
   "execution_count": 25,
   "id": "backed-sheet",
   "metadata": {},
   "outputs": [
    {
     "data": {
      "text/plain": [
       "KMeans(init='random', n_clusters=4, n_init=1, random_state=1)"
      ]
     },
     "execution_count": 25,
     "metadata": {},
     "output_type": "execute_result"
    }
   ],
   "source": [
    "kmeans = KMeans(random_state=1, n_clusters=4, init='random', n_init=1)\n",
    "kmeans.fit(X)"
   ]
  },
  {
   "cell_type": "code",
   "execution_count": 26,
   "id": "greatest-central",
   "metadata": {},
   "outputs": [],
   "source": [
    "# make predictions and add them to the dataframe\n",
    "X['cluster3'] = kmeans.predict(X)"
   ]
  },
  {
   "cell_type": "code",
   "execution_count": 27,
   "id": "million-harvest",
   "metadata": {},
   "outputs": [
    {
     "data": {
      "image/png": "[encoded data removed]",
      "text/plain": [
       "<Figure size 720x504 with 1 Axes>"
      ]
     },
     "metadata": {
      "needs_background": "light"
     },
     "output_type": "display_data"
    }
   ],
   "source": [
    "# plot the scatter plot\n",
    "plt.figure(figsize=(10, 7))\n",
    "plt.scatter(X.iloc[:, 0], X.iloc[:, 1], c=X.cluster3)\n",
    "plt.grid()\n",
    "plt.xlabel('Average total business income')\n",
    "plt.ylabel('Average total business expenses')\n",
    "plt.show()"
   ]
  },
  {
   "cell_type": "markdown",
   "id": "velvet-index",
   "metadata": {},
   "source": [
    "fit a k-means model with n_init=10 and a random init"
   ]
  },
  {
   "cell_type": "code",
   "execution_count": 28,
   "id": "likely-quarter",
   "metadata": {},
   "outputs": [
    {
     "data": {
      "text/plain": [
       "KMeans(init='random', n_clusters=4, random_state=1)"
      ]
     },
     "execution_count": 28,
     "metadata": {},
     "output_type": "execute_result"
    }
   ],
   "source": [
    "kmeans = KMeans(random_state=1, n_clusters=4, init='random', n_init=10)\n",
    "kmeans.fit(X)"
   ]
  },
  {
   "cell_type": "code",
   "execution_count": 29,
   "id": "victorian-avatar",
   "metadata": {},
   "outputs": [],
   "source": [
    "# make predictions and add them to the dataframe\n",
    "X['cluster4'] = kmeans.predict(X)"
   ]
  },
  {
   "cell_type": "code",
   "execution_count": 30,
   "id": "published-berry",
   "metadata": {},
   "outputs": [
    {
     "data": {
      "image/png": "[encoded data removed]",
      "text/plain": [
       "<Figure size 720x504 with 1 Axes>"
      ]
     },
     "metadata": {
      "needs_background": "light"
     },
     "output_type": "display_data"
    }
   ],
   "source": [
    "# plot the scatter plot\n",
    "plt.figure(figsize=(10, 7))\n",
    "plt.scatter(X.iloc[:, 0], X.iloc[:, 1], c=X.cluster4)\n",
    "plt.grid()\n",
    "plt.xlabel('Average total business income')\n",
    "plt.ylabel('Average total business expenses')\n",
    "plt.show()"
   ]
  },
  {
   "cell_type": "markdown",
   "id": "mental-fashion",
   "metadata": {},
   "source": [
    "fit a k-means model with n_init=100 and a random init"
   ]
  },
  {
   "cell_type": "code",
   "execution_count": 31,
   "id": "sublime-water",
   "metadata": {},
   "outputs": [
    {
     "data": {
      "text/plain": [
       "KMeans(init='random', n_clusters=4, n_init=100, random_state=1)"
      ]
     },
     "execution_count": 31,
     "metadata": {},
     "output_type": "execute_result"
    }
   ],
   "source": [
    "kmeans = KMeans(random_state=1, n_clusters=4, init='random', n_init=100)\n",
    "kmeans.fit(X)"
   ]
  },
  {
   "cell_type": "code",
   "execution_count": 32,
   "id": "tribal-study",
   "metadata": {},
   "outputs": [],
   "source": [
    "# make predictions and add them to the dataframe\n",
    "X['cluster5'] = kmeans.predict(X)"
   ]
  },
  {
   "cell_type": "code",
   "execution_count": 33,
   "id": "fundamental-power",
   "metadata": {},
   "outputs": [
    {
     "data": {
      "image/png": "[encoded data removed]",
      "text/plain": [
       "<Figure size 720x504 with 1 Axes>"
      ]
     },
     "metadata": {
      "needs_background": "light"
     },
     "output_type": "display_data"
    }
   ],
   "source": [
    "# plot the scatter plot\n",
    "plt.figure(figsize=(10, 7))\n",
    "plt.scatter(X.iloc[:, 0], X.iloc[:, 1], c=X.cluster5)\n",
    "plt.grid()\n",
    "plt.xlabel('Average total business income')\n",
    "plt.ylabel('Average total business expenses')\n",
    "plt.show()"
   ]
  },
  {
   "cell_type": "markdown",
   "id": "ecological-jacket",
   "metadata": {},
   "source": [
    "# Finding the Closest Centroids in Our Dataset"
   ]
  },
  {
   "cell_type": "code",
   "execution_count": 34,
   "id": "built-simpson",
   "metadata": {},
   "outputs": [],
   "source": [
    "X = X[['Average total business income', 'Average total business expenses', 'cluster']]"
   ]
  },
  {
   "cell_type": "code",
   "execution_count": 35,
   "id": "overall-reception",
   "metadata": {},
   "outputs": [],
   "source": [
    "# calculate the minimum and maximum values of the 'Average total business income' and 'Average total business income'\n",
    "business_income_min = X['Average total business income'].min()\n",
    "business_income_max = X['Average total business income'].max()\n",
    "\n",
    "business_expenses_min = X['Average total business expenses'].min()\n",
    "business_expenses_max = X['Average total business expenses'].max()"
   ]
  },
  {
   "cell_type": "code",
   "execution_count": 36,
   "id": "lonely-hamburg",
   "metadata": {},
   "outputs": [
    {
     "name": "stdout",
     "output_type": "stream",
     "text": [
      "0\n",
      "876324\n",
      "0\n",
      "884659\n"
     ]
    }
   ],
   "source": [
    "# Print the values of these four variables\n",
    "print(business_income_min)\n",
    "print(business_income_max)\n",
    "print(business_expenses_min)\n",
    "print(business_expenses_max)"
   ]
  },
  {
   "cell_type": "code",
   "execution_count": 37,
   "id": "detailed-valley",
   "metadata": {},
   "outputs": [],
   "source": [
    "# import the random package and use the seed() method to set a seed of 42\n",
    "import random\n",
    "random.seed(42)"
   ]
  },
  {
   "cell_type": "code",
   "execution_count": 38,
   "id": "textile-prevention",
   "metadata": {},
   "outputs": [],
   "source": [
    "# Create an empty pandas DataFrame and assign it to a variable called centroids\n",
    "centroids = pd.DataFrame()"
   ]
  },
  {
   "cell_type": "code",
   "execution_count": 39,
   "id": "funny-tokyo",
   "metadata": {},
   "outputs": [],
   "source": [
    "# Generate four random values\n",
    "centroids['Average total business income'] = random.sample(range(business_income_min, business_income_max), 4)\n",
    "centroids['Average total business expenses'] = random.sample(range(business_expenses_min, business_expenses_max), 4)"
   ]
  },
  {
   "cell_type": "code",
   "execution_count": 40,
   "id": "rapid-transaction",
   "metadata": {},
   "outputs": [
    {
     "data": {
      "text/html": [
       "<div>\n",
       "<style scoped>\n",
       "    .dataframe tbody tr th:only-of-type {\n",
       "        vertical-align: middle;\n",
       "    }\n",
       "\n",
       "    .dataframe tbody tr th {\n",
       "        vertical-align: top;\n",
       "    }\n",
       "\n",
       "    .dataframe thead th {\n",
       "        text-align: right;\n",
       "    }\n",
       "</style>\n",
       "<table border=\"1\" class=\"dataframe\">\n",
       "  <thead>\n",
       "    <tr style=\"text-align: right;\">\n",
       "      <th></th>\n",
       "      <th>Average total business income</th>\n",
       "      <th>Average total business expenses</th>\n",
       "      <th>cluster</th>\n",
       "    </tr>\n",
       "  </thead>\n",
       "  <tbody>\n",
       "    <tr>\n",
       "      <th>0</th>\n",
       "      <td>670487</td>\n",
       "      <td>288389</td>\n",
       "      <td>0</td>\n",
       "    </tr>\n",
       "    <tr>\n",
       "      <th>1</th>\n",
       "      <td>116739</td>\n",
       "      <td>256787</td>\n",
       "      <td>1</td>\n",
       "    </tr>\n",
       "    <tr>\n",
       "      <th>2</th>\n",
       "      <td>26225</td>\n",
       "      <td>234053</td>\n",
       "      <td>2</td>\n",
       "    </tr>\n",
       "    <tr>\n",
       "      <th>3</th>\n",
       "      <td>777572</td>\n",
       "      <td>146316</td>\n",
       "      <td>3</td>\n",
       "    </tr>\n",
       "  </tbody>\n",
       "</table>\n",
       "</div>"
      ],
      "text/plain": [
       "   Average total business income  Average total business expenses  cluster\n",
       "0                         670487                           288389        0\n",
       "1                         116739                           256787        1\n",
       "2                          26225                           234053        2\n",
       "3                         777572                           146316        3"
      ]
     },
     "execution_count": 40,
     "metadata": {},
     "output_type": "execute_result"
    }
   ],
   "source": [
    "# Create a new column called 'cluster' from the centroids DataFrame\n",
    "centroids['cluster'] = centroids.index\n",
    "centroids"
   ]
  },
  {
   "cell_type": "code",
   "execution_count": 41,
   "id": "figured-picture",
   "metadata": {},
   "outputs": [
    {
     "data": {
      "image/png": "[encoded data removed]",
      "text/plain": [
       "<Figure size 720x504 with 1 Axes>"
      ]
     },
     "metadata": {
      "needs_background": "light"
     },
     "output_type": "display_data"
    }
   ],
   "source": [
    "# plot the scatter plot\n",
    "plt.figure(figsize=(10, 7))\n",
    "plt.scatter(X.iloc[:, 0], X.iloc[:, 1], c=X.cluster)\n",
    "plt.scatter(centroids.iloc[:, 0], centroids.iloc[:, 1], marker='x')\n",
    "plt.grid()\n",
    "plt.xlabel('Average total business income')\n",
    "plt.ylabel('Average total business expenses')\n",
    "plt.show()"
   ]
  },
  {
   "cell_type": "code",
   "execution_count": 42,
   "id": "declared-mambo",
   "metadata": {},
   "outputs": [],
   "source": [
    "# Define a function that will calculate the squared_euclidean distance \n",
    "def squared_euclidean(x, y, centroid_x, centroid_y):\n",
    "    return (x - centroid_x) ** 2 + (y - centroid_y) ** 2"
   ]
  },
  {
   "cell_type": "code",
   "execution_count": 43,
   "id": "cross-plate",
   "metadata": {},
   "outputs": [],
   "source": [
    "# extract the first row's x and y coordinates\n",
    "data_x = X.at[0, 'Average total business income']\n",
    "data_y = X.at[0, 'Average total business expenses']"
   ]
  },
  {
   "cell_type": "code",
   "execution_count": 44,
   "id": "twelve-awareness",
   "metadata": {},
   "outputs": [
    {
     "data": {
      "text/plain": [
       "[215601466600, 10063365460, 34245932020, 326873037866]"
      ]
     },
     "execution_count": 44,
     "metadata": {},
     "output_type": "execute_result"
    }
   ],
   "source": [
    "# calculate the squared_euclidean distance of the first observation \n",
    "distances = [squared_euclidean(data_x,\n",
    "                               data_y,\n",
    "                               centroids.at[i, 'Average total business income'],\n",
    "                               centroids.at[i, 'Average total business expenses'])\n",
    "            for i in range(4)]\n",
    "distances"
   ]
  },
  {
   "cell_type": "code",
   "execution_count": 45,
   "id": "color-monthly",
   "metadata": {},
   "outputs": [],
   "source": [
    "# find the cluster with the shortest distance\n",
    "cluster_index = distances.index(min(distances))"
   ]
  },
  {
   "cell_type": "code",
   "execution_count": 46,
   "id": "median-hepatitis",
   "metadata": {},
   "outputs": [
    {
     "data": {
      "text/html": [
       "<div>\n",
       "<style scoped>\n",
       "    .dataframe tbody tr th:only-of-type {\n",
       "        vertical-align: middle;\n",
       "    }\n",
       "\n",
       "    .dataframe tbody tr th {\n",
       "        vertical-align: top;\n",
       "    }\n",
       "\n",
       "    .dataframe thead th {\n",
       "        text-align: right;\n",
       "    }\n",
       "</style>\n",
       "<table border=\"1\" class=\"dataframe\">\n",
       "  <thead>\n",
       "    <tr style=\"text-align: right;\">\n",
       "      <th></th>\n",
       "      <th>Average total business income</th>\n",
       "      <th>Average total business expenses</th>\n",
       "      <th>cluster</th>\n",
       "    </tr>\n",
       "  </thead>\n",
       "  <tbody>\n",
       "    <tr>\n",
       "      <th>0</th>\n",
       "      <td>210901</td>\n",
       "      <td>222191</td>\n",
       "      <td>1</td>\n",
       "    </tr>\n",
       "    <tr>\n",
       "      <th>1</th>\n",
       "      <td>69983</td>\n",
       "      <td>48971</td>\n",
       "      <td>5</td>\n",
       "    </tr>\n",
       "    <tr>\n",
       "      <th>2</th>\n",
       "      <td>575099</td>\n",
       "      <td>639499</td>\n",
       "      <td>6</td>\n",
       "    </tr>\n",
       "    <tr>\n",
       "      <th>3</th>\n",
       "      <td>53329</td>\n",
       "      <td>32173</td>\n",
       "      <td>0</td>\n",
       "    </tr>\n",
       "    <tr>\n",
       "      <th>4</th>\n",
       "      <td>237539</td>\n",
       "      <td>222993</td>\n",
       "      <td>3</td>\n",
       "    </tr>\n",
       "  </tbody>\n",
       "</table>\n",
       "</div>"
      ],
      "text/plain": [
       "   Average total business income  Average total business expenses  cluster\n",
       "0                         210901                           222191        1\n",
       "1                          69983                            48971        5\n",
       "2                         575099                           639499        6\n",
       "3                          53329                            32173        0\n",
       "4                         237539                           222993        3"
      ]
     },
     "execution_count": 46,
     "metadata": {},
     "output_type": "execute_result"
    }
   ],
   "source": [
    "# Save the cluster index in a column called 'cluster' from the X DataFrame\n",
    "X.at[0, 'cluster'] = cluster_index\n",
    "X.head()"
   ]
  },
  {
   "cell_type": "markdown",
   "id": "welcome-oxford",
   "metadata": {},
   "source": [
    "# Standardizing the Data from Our Dataset"
   ]
  },
  {
   "cell_type": "code",
   "execution_count": 47,
   "id": "supported-coordinator",
   "metadata": {},
   "outputs": [
    {
     "data": {
      "text/html": [
       "<div>\n",
       "<style scoped>\n",
       "    .dataframe tbody tr th:only-of-type {\n",
       "        vertical-align: middle;\n",
       "    }\n",
       "\n",
       "    .dataframe tbody tr th {\n",
       "        vertical-align: top;\n",
       "    }\n",
       "\n",
       "    .dataframe thead th {\n",
       "        text-align: right;\n",
       "    }\n",
       "</style>\n",
       "<table border=\"1\" class=\"dataframe\">\n",
       "  <thead>\n",
       "    <tr style=\"text-align: right;\">\n",
       "      <th></th>\n",
       "      <th>Average total business income</th>\n",
       "      <th>Average total business expenses</th>\n",
       "    </tr>\n",
       "  </thead>\n",
       "  <tbody>\n",
       "    <tr>\n",
       "      <th>0</th>\n",
       "      <td>210901</td>\n",
       "      <td>222191</td>\n",
       "    </tr>\n",
       "    <tr>\n",
       "      <th>1</th>\n",
       "      <td>69983</td>\n",
       "      <td>48971</td>\n",
       "    </tr>\n",
       "    <tr>\n",
       "      <th>2</th>\n",
       "      <td>575099</td>\n",
       "      <td>639499</td>\n",
       "    </tr>\n",
       "    <tr>\n",
       "      <th>3</th>\n",
       "      <td>53329</td>\n",
       "      <td>32173</td>\n",
       "    </tr>\n",
       "    <tr>\n",
       "      <th>4</th>\n",
       "      <td>237539</td>\n",
       "      <td>222993</td>\n",
       "    </tr>\n",
       "  </tbody>\n",
       "</table>\n",
       "</div>"
      ],
      "text/plain": [
       "   Average total business income  Average total business expenses\n",
       "0                         210901                           222191\n",
       "1                          69983                            48971\n",
       "2                         575099                           639499\n",
       "3                          53329                            32173\n",
       "4                         237539                           222993"
      ]
     },
     "execution_count": 47,
     "metadata": {},
     "output_type": "execute_result"
    }
   ],
   "source": [
    "X = X[['Average total business income', 'Average total business expenses']]\n",
    "X.head()"
   ]
  },
  {
   "cell_type": "code",
   "execution_count": 48,
   "id": "useful-oakland",
   "metadata": {},
   "outputs": [],
   "source": [
    "# Import the MinMaxScaler and StandardScaler classes from sklearn\n",
    "from sklearn.preprocessing import MinMaxScaler\n",
    "from sklearn.preprocessing import StandardScaler"
   ]
  },
  {
   "cell_type": "code",
   "execution_count": 49,
   "id": "documented-tiger",
   "metadata": {},
   "outputs": [
    {
     "data": {
      "text/plain": [
       "MinMaxScaler()"
      ]
     },
     "execution_count": 49,
     "metadata": {},
     "output_type": "execute_result"
    }
   ],
   "source": [
    "# Instantiate and fit MinMaxScaler\n",
    "min_max_scaler = MinMaxScaler()\n",
    "min_max_scaler.fit(X)"
   ]
  },
  {
   "cell_type": "code",
   "execution_count": 50,
   "id": "regular-affiliation",
   "metadata": {},
   "outputs": [
    {
     "data": {
      "text/plain": [
       "array([[0.24066555, 0.25116005],\n",
       "       [0.07985973, 0.05535579],\n",
       "       [0.65626298, 0.72287627],\n",
       "       ...,\n",
       "       [0.05203897, 0.03244188],\n",
       "       [0.0606488 , 0.04504561],\n",
       "       [0.13814183, 0.10186976]])"
      ]
     },
     "execution_count": 50,
     "metadata": {},
     "output_type": "execute_result"
    }
   ],
   "source": [
    "# Perform the min-max scaling transformation\n",
    "X_min_max = min_max_scaler.transform(X)\n",
    "X_min_max"
   ]
  },
  {
   "cell_type": "code",
   "execution_count": 51,
   "id": "competitive-equality",
   "metadata": {},
   "outputs": [
    {
     "data": {
      "text/plain": [
       "KMeans(n_clusters=4, n_init=5, random_state=1)"
      ]
     },
     "execution_count": 51,
     "metadata": {},
     "output_type": "execute_result"
    }
   ],
   "source": [
    "# Fit a k-means model on the scaled data\n",
    "kmeans = KMeans(random_state=1, n_clusters=4, init='k-means++', n_init=5)\n",
    "kmeans.fit(X_min_max)"
   ]
  },
  {
   "cell_type": "code",
   "execution_count": 52,
   "id": "typical-surfing",
   "metadata": {},
   "outputs": [],
   "source": [
    "# make predictions\n",
    "X['cluster8'] = kmeans.predict(X_min_max)"
   ]
  },
  {
   "cell_type": "code",
   "execution_count": 53,
   "id": "exclusive-thriller",
   "metadata": {},
   "outputs": [
    {
     "data": {
      "image/png": "[encoded data removed]",
      "text/plain": [
       "<Figure size 720x504 with 1 Axes>"
      ]
     },
     "metadata": {
      "needs_background": "light"
     },
     "output_type": "display_data"
    }
   ],
   "source": [
    "# plot the scatter plot\n",
    "plt.figure(figsize=(10, 7))\n",
    "plt.scatter(X.iloc[:, 0], X.iloc[:, 1], c=X.cluster8)\n",
    "plt.grid()\n",
    "plt.xlabel('Average total business income')\n",
    "plt.ylabel('Average total business expenses')\n",
    "plt.show()"
   ]
  },
  {
   "cell_type": "code",
   "execution_count": 54,
   "id": "australian-thermal",
   "metadata": {},
   "outputs": [
    {
     "data": {
      "text/plain": [
       "KMeans(n_clusters=4, n_init=5, random_state=1)"
      ]
     },
     "execution_count": 54,
     "metadata": {},
     "output_type": "execute_result"
    }
   ],
   "source": [
    "# Re-train the k-means model but on the z-score-standardized data\n",
    "standard_scaler = StandardScaler()\n",
    "X_scaled = standard_scaler.fit_transform(X)\n",
    "\n",
    "kmeans = KMeans(random_state=1, n_clusters=4, init='k-means++', n_init=5)\n",
    "kmeans.fit(X_scaled)"
   ]
  },
  {
   "cell_type": "code",
   "execution_count": 55,
   "id": "postal-forum",
   "metadata": {},
   "outputs": [],
   "source": [
    "# make predictions\n",
    "X['cluster9'] = kmeans.predict(X_scaled)"
   ]
  },
  {
   "cell_type": "code",
   "execution_count": 56,
   "id": "broke-placement",
   "metadata": {},
   "outputs": [
    {
     "data": {
      "image/png": "[encoded data removed]",
      "text/plain": [
       "<Figure size 720x504 with 1 Axes>"
      ]
     },
     "metadata": {
      "needs_background": "light"
     },
     "output_type": "display_data"
    }
   ],
   "source": [
    "# plot the scatter plot\n",
    "plt.figure(figsize=(10, 7))\n",
    "plt.scatter(X.iloc[:, 0], X.iloc[:, 1], c=X.cluster9)\n",
    "plt.grid()\n",
    "plt.xlabel('Average total business income')\n",
    "plt.ylabel('Average total business expenses')\n",
    "plt.show()"
   ]
  }
 ],
 "metadata": {
  "kernelspec": {
   "display_name": "Python 3",
   "language": "python",
   "name": "python3"
  },
  "language_info": {
   "codemirror_mode": {
    "name": "ipython",
    "version": 3
   },
   "file_extension": ".py",
   "mimetype": "text/x-python",
   "name": "python",
   "nbconvert_exporter": "python",
   "pygments_lexer": "ipython3",
   "version": "3.7.7"
  }
 },
 "nbformat": 4,
 "nbformat_minor": 5
}
