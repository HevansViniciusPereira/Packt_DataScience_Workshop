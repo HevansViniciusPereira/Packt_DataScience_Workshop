{
 "cells": [
  {
   "cell_type": "markdown",
   "id": "proved-differential",
   "metadata": {},
   "source": [
    "# Manual Hyperparameter Tuning for a k-NN Classifier"
   ]
  },
  {
   "cell_type": "code",
   "execution_count": 1,
   "id": "strong-capital",
   "metadata": {},
   "outputs": [],
   "source": [
    "# import packages\n",
    "from sklearn import neighbors, datasets, model_selection"
   ]
  },
  {
   "cell_type": "code",
   "execution_count": 2,
   "id": "loved-child",
   "metadata": {},
   "outputs": [],
   "source": [
    "# load the data\n",
    "cancer = datasets.load_breast_cancer()"
   ]
  },
  {
   "cell_type": "code",
   "execution_count": 3,
   "id": "friendly-buffer",
   "metadata": {},
   "outputs": [],
   "source": [
    "# split data\n",
    "X = cancer.data\n",
    "y = cancer.target"
   ]
  },
  {
   "cell_type": "code",
   "execution_count": 4,
   "id": "external-advisory",
   "metadata": {},
   "outputs": [],
   "source": [
    "# create the model\n",
    "knn = neighbors.KNeighborsClassifier()"
   ]
  },
  {
   "cell_type": "code",
   "execution_count": 5,
   "id": "returning-vulnerability",
   "metadata": {},
   "outputs": [],
   "source": [
    "# Feed this classifier into a 10-fold cross-validation\n",
    "cv = model_selection.cross_val_score(knn, X, y, cv=10, scoring='precision')"
   ]
  },
  {
   "cell_type": "code",
   "execution_count": 6,
   "id": "adapted-thirty",
   "metadata": {},
   "outputs": [
    {
     "name": "stdout",
     "output_type": "stream",
     "text": [
      "[0.91666667 0.85       0.91666667 0.94736842 0.94594595 0.94444444\n",
      " 0.97222222 0.92105263 0.96969697 0.97142857]\n"
     ]
    }
   ],
   "source": [
    "# Printing cv shows the precision score calculated for each fold\n",
    "print(cv)"
   ]
  },
  {
   "cell_type": "code",
   "execution_count": 7,
   "id": "legendary-future",
   "metadata": {},
   "outputs": [
    {
     "name": "stdout",
     "output_type": "stream",
     "text": [
      "0.94\n"
     ]
    }
   ],
   "source": [
    "# Calculate and print the mean precision score for all folds\n",
    "print(round(cv.mean(), 2))"
   ]
  },
  {
   "cell_type": "code",
   "execution_count": 8,
   "id": "adjusted-husband",
   "metadata": {},
   "outputs": [],
   "source": [
    "# create the model\n",
    "knn = neighbors.KNeighborsClassifier(n_neighbors=15)"
   ]
  },
  {
   "cell_type": "code",
   "execution_count": 9,
   "id": "controlling-weather",
   "metadata": {},
   "outputs": [
    {
     "name": "stdout",
     "output_type": "stream",
     "text": [
      "0.93\n"
     ]
    }
   ],
   "source": [
    "# Feed this classifier into a 10-fold cross-validation\n",
    "cv = model_selection.cross_val_score(knn, X, y, cv=10, scoring='precision')\n",
    "print(round(cv.mean(), 2))"
   ]
  },
  {
   "cell_type": "code",
   "execution_count": 10,
   "id": "union-export",
   "metadata": {},
   "outputs": [],
   "source": [
    "# create a function to train the model\n",
    "def evaluate_knn(k):\n",
    "    knn = neighbors.KNeighborsClassifier(n_neighbors=k)\n",
    "    cv = model_selection.cross_val_score(knn, X, y, cv=10, scoring='precision')\n",
    "    print(round(cv.mean(), 2))"
   ]
  },
  {
   "cell_type": "code",
   "execution_count": 11,
   "id": "digital-swaziland",
   "metadata": {},
   "outputs": [
    {
     "name": "stdout",
     "output_type": "stream",
     "text": [
      "0.93\n",
      "0.93\n",
      "0.92\n"
     ]
    }
   ],
   "source": [
    "# Try again with k = 7, 3, and 1\n",
    "evaluate_knn(7)\n",
    "evaluate_knn(3)\n",
    "evaluate_knn(1)"
   ]
  },
  {
   "cell_type": "code",
   "execution_count": 12,
   "id": "synthetic-container",
   "metadata": {},
   "outputs": [],
   "source": [
    "# create a new model\n",
    "knn = neighbors.KNeighborsClassifier(n_neighbors=5, weights='distance')\n",
    "cv = model_selection.cross_val_score(knn, X, y, cv=10, scoring='precision')"
   ]
  },
  {
   "cell_type": "code",
   "execution_count": 13,
   "id": "nonprofit-moses",
   "metadata": {},
   "outputs": [
    {
     "name": "stdout",
     "output_type": "stream",
     "text": [
      "0.93\n"
     ]
    }
   ],
   "source": [
    "print(round(cv.mean(), 2))"
   ]
  },
  {
   "cell_type": "markdown",
   "id": "induced-composite",
   "metadata": {},
   "source": [
    "# Grid Search Hyperparameter Tuning for an SVM"
   ]
  },
  {
   "cell_type": "code",
   "execution_count": 14,
   "id": "capital-divorce",
   "metadata": {},
   "outputs": [],
   "source": [
    "# import packages\n",
    "import pandas as pd\n",
    "import matplotlib.pyplot as plt\n",
    "from sklearn import datasets, svm, model_selection"
   ]
  },
  {
   "cell_type": "code",
   "execution_count": 15,
   "id": "younger-chamber",
   "metadata": {},
   "outputs": [],
   "source": [
    "# load the data\n",
    "digits = datasets.load_digits()\n",
    "y = digits.target\n",
    "X = digits.data"
   ]
  },
  {
   "cell_type": "code",
   "execution_count": 16,
   "id": "according-control",
   "metadata": {},
   "outputs": [],
   "source": [
    "# create he model\n",
    "clf = svm.SVC(gamma='scale')"
   ]
  },
  {
   "cell_type": "code",
   "execution_count": 17,
   "id": "assured-target",
   "metadata": {},
   "outputs": [],
   "source": [
    "# define the grid\n",
    "grid = [{'kernel':['linear']}, \n",
    "       {'kernel':['poly'], 'degree':[2, 3, 4]}]"
   ]
  },
  {
   "cell_type": "code",
   "execution_count": 18,
   "id": "operating-civilian",
   "metadata": {},
   "outputs": [],
   "source": [
    "# Set up grid search k-fold cross-validation with 10 folds\n",
    "cv_spec = model_selection.GridSearchCV(estimator=clf,\n",
    "                                      param_grid=grid,\n",
    "                                      scoring='accuracy',\n",
    "                                      cv=10)"
   ]
  },
  {
   "cell_type": "code",
   "execution_count": 19,
   "id": "attended-wichita",
   "metadata": {},
   "outputs": [
    {
     "data": {
      "text/plain": [
       "GridSearchCV(cv=10, estimator=SVC(),\n",
       "             param_grid=[{'kernel': ['linear']},\n",
       "                         {'degree': [2, 3, 4], 'kernel': ['poly']}],\n",
       "             scoring='accuracy')"
      ]
     },
     "execution_count": 19,
     "metadata": {},
     "output_type": "execute_result"
    }
   ],
   "source": [
    "# train the model\n",
    "cv_spec.fit(X, y)"
   ]
  },
  {
   "cell_type": "code",
   "execution_count": 20,
   "id": "legitimate-phase",
   "metadata": {},
   "outputs": [
    {
     "name": "stdout",
     "output_type": "stream",
     "text": [
      "dict_keys(['mean_fit_time', 'std_fit_time', 'mean_score_time', 'std_score_time', 'param_kernel', 'param_degree', 'params', 'split0_test_score', 'split1_test_score', 'split2_test_score', 'split3_test_score', 'split4_test_score', 'split5_test_score', 'split6_test_score', 'split7_test_score', 'split8_test_score', 'split9_test_score', 'mean_test_score', 'std_test_score', 'rank_test_score'])\n"
     ]
    }
   ],
   "source": [
    "# checking the results\n",
    "print(cv_spec.cv_results_.keys())"
   ]
  },
  {
   "cell_type": "code",
   "execution_count": 21,
   "id": "certain-heath",
   "metadata": {},
   "outputs": [
    {
     "name": "stdout",
     "output_type": "stream",
     "text": [
      "                            params  mean_test_score\n",
      "2  {'degree': 3, 'kernel': 'poly'}         0.977734\n",
      "3  {'degree': 4, 'kernel': 'poly'}         0.973284\n",
      "1  {'degree': 2, 'kernel': 'poly'}         0.970500\n",
      "0             {'kernel': 'linear'}         0.960487\n"
     ]
    }
   ],
   "source": [
    "# convert the results dictionary to a pandas DataFrame\n",
    "results = pd.DataFrame(cv_spec.cv_results_)\n",
    "print(results.loc[:, ['params', 'mean_test_score']].sort_values('mean_test_score', ascending=False))"
   ]
  },
  {
   "cell_type": "code",
   "execution_count": 22,
   "id": "labeled-rolling",
   "metadata": {},
   "outputs": [
    {
     "data": {
      "image/png": "[encoded data removed]",
      "text/plain": [
       "<Figure size 432x288 with 1 Axes>"
      ]
     },
     "metadata": {
      "needs_background": "light"
     },
     "output_type": "display_data"
    }
   ],
   "source": [
    "# visualizing\n",
    "results.loc[:, ['params', 'mean_test_score']].sort_values('mean_test_score', ascending=True).plot.barh(x='params', xlim=(0.8))\n",
    "plt.show()"
   ]
  },
  {
   "cell_type": "markdown",
   "id": "capital-insider",
   "metadata": {},
   "source": [
    "# Random Search Hyperparameter Tuning for a Random Forest Classifier"
   ]
  },
  {
   "cell_type": "code",
   "execution_count": 23,
   "id": "aboriginal-bacon",
   "metadata": {},
   "outputs": [],
   "source": [
    "# create the model\n",
    "from sklearn.ensemble import RandomForestClassifier\n",
    "rfc = RandomForestClassifier(n_estimators=100, random_state=100)"
   ]
  },
  {
   "cell_type": "code",
   "execution_count": 24,
   "id": "unnecessary-completion",
   "metadata": {},
   "outputs": [
    {
     "data": {
      "text/plain": [
       "64"
      ]
     },
     "execution_count": 24,
     "metadata": {},
     "output_type": "execute_result"
    }
   ],
   "source": [
    "# find out the value of features\n",
    "X.shape[1]"
   ]
  },
  {
   "cell_type": "code",
   "execution_count": 25,
   "id": "seeing-recruitment",
   "metadata": {},
   "outputs": [],
   "source": [
    "# Set a discrete uniform distribution covering the range 1 to 64\n",
    "from scipy import stats\n",
    "\n",
    "param_dict = {'criterion': ['gini', 'entropy'],\n",
    "             'max_features': stats.randint(low=1, high=X.shape[1])}"
   ]
  },
  {
   "cell_type": "code",
   "execution_count": 26,
   "id": "applicable-theology",
   "metadata": {},
   "outputs": [],
   "source": [
    "# set up the randomized search process\n",
    "rscv = model_selection.RandomizedSearchCV(estimator=rfc,\n",
    "                                         param_distributions=param_dict,\n",
    "                                         n_iter=50,\n",
    "                                         cv=5,\n",
    "                                         scoring='accuracy',\n",
    "                                         random_state=100)"
   ]
  },
  {
   "cell_type": "code",
   "execution_count": 27,
   "id": "confused-evolution",
   "metadata": {},
   "outputs": [
    {
     "data": {
      "text/plain": [
       "RandomizedSearchCV(cv=5, estimator=RandomForestClassifier(random_state=100),\n",
       "                   n_iter=50,\n",
       "                   param_distributions={'criterion': ['gini', 'entropy'],\n",
       "                                        'max_features': <scipy.stats._distn_infrastructure.rv_frozen object at 0x000002E051CD7388>},\n",
       "                   random_state=100, scoring='accuracy')"
      ]
     },
     "execution_count": 27,
     "metadata": {},
     "output_type": "execute_result"
    }
   ],
   "source": [
    "# fit the model\n",
    "rscv.fit(X, y)"
   ]
  },
  {
   "cell_type": "code",
   "execution_count": 28,
   "id": "gothic-floor",
   "metadata": {},
   "outputs": [],
   "source": [
    "# Create a pandas DataFrame from the results attribute\n",
    "results = pd.DataFrame(rscv.cv_results_)"
   ]
  },
  {
   "cell_type": "code",
   "execution_count": 29,
   "id": "medical-manner",
   "metadata": {},
   "outputs": [
    {
     "data": {
      "text/html": [
       "<div>\n",
       "<style scoped>\n",
       "    .dataframe tbody tr th:only-of-type {\n",
       "        vertical-align: middle;\n",
       "    }\n",
       "\n",
       "    .dataframe tbody tr th {\n",
       "        vertical-align: top;\n",
       "    }\n",
       "\n",
       "    .dataframe thead th {\n",
       "        text-align: right;\n",
       "    }\n",
       "</style>\n",
       "<table border=\"1\" class=\"dataframe\">\n",
       "  <thead>\n",
       "    <tr style=\"text-align: right;\">\n",
       "      <th></th>\n",
       "      <th>params</th>\n",
       "      <th>mean_test_score</th>\n",
       "    </tr>\n",
       "  </thead>\n",
       "  <tbody>\n",
       "    <tr>\n",
       "      <th>3</th>\n",
       "      <td>{'criterion': 'gini', 'max_features': 11}</td>\n",
       "      <td>0.940470</td>\n",
       "    </tr>\n",
       "    <tr>\n",
       "      <th>48</th>\n",
       "      <td>{'criterion': 'gini', 'max_features': 4}</td>\n",
       "      <td>0.939913</td>\n",
       "    </tr>\n",
       "    <tr>\n",
       "      <th>19</th>\n",
       "      <td>{'criterion': 'gini', 'max_features': 5}</td>\n",
       "      <td>0.937700</td>\n",
       "    </tr>\n",
       "    <tr>\n",
       "      <th>14</th>\n",
       "      <td>{'criterion': 'gini', 'max_features': 3}</td>\n",
       "      <td>0.937694</td>\n",
       "    </tr>\n",
       "    <tr>\n",
       "      <th>21</th>\n",
       "      <td>{'criterion': 'entropy', 'max_features': 8}</td>\n",
       "      <td>0.936582</td>\n",
       "    </tr>\n",
       "  </tbody>\n",
       "</table>\n",
       "</div>"
      ],
      "text/plain": [
       "                                         params  mean_test_score\n",
       "3     {'criterion': 'gini', 'max_features': 11}         0.940470\n",
       "48     {'criterion': 'gini', 'max_features': 4}         0.939913\n",
       "19     {'criterion': 'gini', 'max_features': 5}         0.937700\n",
       "14     {'criterion': 'gini', 'max_features': 3}         0.937694\n",
       "21  {'criterion': 'entropy', 'max_features': 8}         0.936582"
      ]
     },
     "execution_count": 29,
     "metadata": {},
     "output_type": "execute_result"
    }
   ],
   "source": [
    "# remove hyperparameter duplicates\n",
    "distinct_results = results.loc[:, ['params', 'mean_test_score']]\n",
    "distinct_results.loc[:, 'params'] = distinct_results.loc[:, 'params'].astype('str')\n",
    "distinct_results.drop_duplicates(inplace=True)\n",
    "distinct_results.sort_values('mean_test_score', ascending=False).head()"
   ]
  },
  {
   "cell_type": "code",
   "execution_count": 30,
   "id": "pending-consideration",
   "metadata": {},
   "outputs": [
    {
     "data": {
      "image/png": "[encoded data removed]",
      "text/plain": [
       "<Figure size 432x288 with 1 Axes>"
      ]
     },
     "metadata": {
      "needs_background": "light"
     },
     "output_type": "display_data"
    }
   ],
   "source": [
    "# visualize the result\n",
    "distinct_results[distinct_results.mean_test_score > 0.93].sort_values('mean_test_score').plot.barh(x='params', xlim=(0.9))\n",
    "plt.show()"
   ]
  }
 ],
 "metadata": {
  "kernelspec": {
   "display_name": "Python 3",
   "language": "python",
   "name": "python3"
  },
  "language_info": {
   "codemirror_mode": {
    "name": "ipython",
    "version": 3
   },
   "file_extension": ".py",
   "mimetype": "text/x-python",
   "name": "python",
   "nbconvert_exporter": "python",
   "pygments_lexer": "ipython3",
   "version": "3.7.7"
  }
 },
 "nbformat": 4,
 "nbformat_minor": 5
}
