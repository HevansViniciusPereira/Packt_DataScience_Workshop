{
 "cells": [
  {
   "cell_type": "markdown",
   "id": "vocational-burner",
   "metadata": {},
   "source": [
    "# Business Hypothesis Testing to Find Employment Status versus Propensity for Term Deposits"
   ]
  },
  {
   "cell_type": "markdown",
   "id": "informative-burns",
   "metadata": {},
   "source": [
    "<b> Formulate the hypothesis between employment status and the propensity for term deposits. Let the hypothesis be as follows: High paying employees prefer term deposits than other categories of employees. </b>"
   ]
  },
  {
   "cell_type": "markdown",
   "id": "responsible-principle",
   "metadata": {},
   "source": [
    "<b> Install and import the necessary libraries </b>"
   ]
  },
  {
   "cell_type": "code",
   "execution_count": 1,
   "id": "tight-divide",
   "metadata": {},
   "outputs": [],
   "source": [
    "import pandas as pd\n",
    "import altair as alt\n",
    "import warnings\n",
    "warnings.filterwarnings('ignore')"
   ]
  },
  {
   "cell_type": "markdown",
   "id": "precious-europe",
   "metadata": {},
   "source": [
    "<b> From the banking DataFrame, bankData, find the distribution of employment status using the .groupby(), .agg() and .reset_index() methods.\n",
    "\n",
    "Group the data with respect to employment status using the .groupby() method and find the total count of propensities for each employment status using the .agg() method. </b>"
   ]
  },
  {
   "cell_type": "code",
   "execution_count": 2,
   "id": "incredible-curve",
   "metadata": {},
   "outputs": [],
   "source": [
    "# data url path\n",
    "file_url = 'https://raw.githubusercontent.com/PacktWorkshops/The-Data-Science-Workshop/master/Chapter03/bank-full.csv'"
   ]
  },
  {
   "cell_type": "code",
   "execution_count": 3,
   "id": "enabling-israel",
   "metadata": {},
   "outputs": [
    {
     "data": {
      "text/html": [
       "<div>\n",
       "<style scoped>\n",
       "    .dataframe tbody tr th:only-of-type {\n",
       "        vertical-align: middle;\n",
       "    }\n",
       "\n",
       "    .dataframe tbody tr th {\n",
       "        vertical-align: top;\n",
       "    }\n",
       "\n",
       "    .dataframe thead th {\n",
       "        text-align: right;\n",
       "    }\n",
       "</style>\n",
       "<table border=\"1\" class=\"dataframe\">\n",
       "  <thead>\n",
       "    <tr style=\"text-align: right;\">\n",
       "      <th></th>\n",
       "      <th>age</th>\n",
       "      <th>job</th>\n",
       "      <th>marital</th>\n",
       "      <th>education</th>\n",
       "      <th>default</th>\n",
       "      <th>balance</th>\n",
       "      <th>housing</th>\n",
       "      <th>loan</th>\n",
       "      <th>contact</th>\n",
       "      <th>day</th>\n",
       "      <th>month</th>\n",
       "      <th>duration</th>\n",
       "      <th>campaign</th>\n",
       "      <th>pdays</th>\n",
       "      <th>previous</th>\n",
       "      <th>poutcome</th>\n",
       "      <th>y</th>\n",
       "    </tr>\n",
       "  </thead>\n",
       "  <tbody>\n",
       "    <tr>\n",
       "      <th>0</th>\n",
       "      <td>58</td>\n",
       "      <td>management</td>\n",
       "      <td>married</td>\n",
       "      <td>tertiary</td>\n",
       "      <td>no</td>\n",
       "      <td>2143</td>\n",
       "      <td>yes</td>\n",
       "      <td>no</td>\n",
       "      <td>unknown</td>\n",
       "      <td>5</td>\n",
       "      <td>may</td>\n",
       "      <td>261</td>\n",
       "      <td>1</td>\n",
       "      <td>-1</td>\n",
       "      <td>0</td>\n",
       "      <td>unknown</td>\n",
       "      <td>no</td>\n",
       "    </tr>\n",
       "    <tr>\n",
       "      <th>1</th>\n",
       "      <td>44</td>\n",
       "      <td>technician</td>\n",
       "      <td>single</td>\n",
       "      <td>secondary</td>\n",
       "      <td>no</td>\n",
       "      <td>29</td>\n",
       "      <td>yes</td>\n",
       "      <td>no</td>\n",
       "      <td>unknown</td>\n",
       "      <td>5</td>\n",
       "      <td>may</td>\n",
       "      <td>151</td>\n",
       "      <td>1</td>\n",
       "      <td>-1</td>\n",
       "      <td>0</td>\n",
       "      <td>unknown</td>\n",
       "      <td>no</td>\n",
       "    </tr>\n",
       "    <tr>\n",
       "      <th>2</th>\n",
       "      <td>33</td>\n",
       "      <td>entrepreneur</td>\n",
       "      <td>married</td>\n",
       "      <td>secondary</td>\n",
       "      <td>no</td>\n",
       "      <td>2</td>\n",
       "      <td>yes</td>\n",
       "      <td>yes</td>\n",
       "      <td>unknown</td>\n",
       "      <td>5</td>\n",
       "      <td>may</td>\n",
       "      <td>76</td>\n",
       "      <td>1</td>\n",
       "      <td>-1</td>\n",
       "      <td>0</td>\n",
       "      <td>unknown</td>\n",
       "      <td>no</td>\n",
       "    </tr>\n",
       "    <tr>\n",
       "      <th>3</th>\n",
       "      <td>47</td>\n",
       "      <td>blue-collar</td>\n",
       "      <td>married</td>\n",
       "      <td>unknown</td>\n",
       "      <td>no</td>\n",
       "      <td>1506</td>\n",
       "      <td>yes</td>\n",
       "      <td>no</td>\n",
       "      <td>unknown</td>\n",
       "      <td>5</td>\n",
       "      <td>may</td>\n",
       "      <td>92</td>\n",
       "      <td>1</td>\n",
       "      <td>-1</td>\n",
       "      <td>0</td>\n",
       "      <td>unknown</td>\n",
       "      <td>no</td>\n",
       "    </tr>\n",
       "    <tr>\n",
       "      <th>4</th>\n",
       "      <td>33</td>\n",
       "      <td>unknown</td>\n",
       "      <td>single</td>\n",
       "      <td>unknown</td>\n",
       "      <td>no</td>\n",
       "      <td>1</td>\n",
       "      <td>no</td>\n",
       "      <td>no</td>\n",
       "      <td>unknown</td>\n",
       "      <td>5</td>\n",
       "      <td>may</td>\n",
       "      <td>198</td>\n",
       "      <td>1</td>\n",
       "      <td>-1</td>\n",
       "      <td>0</td>\n",
       "      <td>unknown</td>\n",
       "      <td>no</td>\n",
       "    </tr>\n",
       "  </tbody>\n",
       "</table>\n",
       "</div>"
      ],
      "text/plain": [
       "   age           job  marital  education default  balance housing loan  \\\n",
       "0   58    management  married   tertiary      no     2143     yes   no   \n",
       "1   44    technician   single  secondary      no       29     yes   no   \n",
       "2   33  entrepreneur  married  secondary      no        2     yes  yes   \n",
       "3   47   blue-collar  married    unknown      no     1506     yes   no   \n",
       "4   33       unknown   single    unknown      no        1      no   no   \n",
       "\n",
       "   contact  day month  duration  campaign  pdays  previous poutcome   y  \n",
       "0  unknown    5   may       261         1     -1         0  unknown  no  \n",
       "1  unknown    5   may       151         1     -1         0  unknown  no  \n",
       "2  unknown    5   may        76         1     -1         0  unknown  no  \n",
       "3  unknown    5   may        92         1     -1         0  unknown  no  \n",
       "4  unknown    5   may       198         1     -1         0  unknown  no  "
      ]
     },
     "execution_count": 3,
     "metadata": {},
     "output_type": "execute_result"
    }
   ],
   "source": [
    "# load data\n",
    "bankData = pd.read_csv(file_url, sep=';')\n",
    "bankData.head()"
   ]
  },
  {
   "cell_type": "code",
   "execution_count": 4,
   "id": "consolidated-entity",
   "metadata": {},
   "outputs": [
    {
     "data": {
      "text/html": [
       "<div>\n",
       "<style scoped>\n",
       "    .dataframe tbody tr th:only-of-type {\n",
       "        vertical-align: middle;\n",
       "    }\n",
       "\n",
       "    .dataframe tbody tr th {\n",
       "        vertical-align: top;\n",
       "    }\n",
       "\n",
       "    .dataframe thead th {\n",
       "        text-align: right;\n",
       "    }\n",
       "</style>\n",
       "<table border=\"1\" class=\"dataframe\">\n",
       "  <thead>\n",
       "    <tr style=\"text-align: right;\">\n",
       "      <th></th>\n",
       "      <th>job</th>\n",
       "      <th>jobTot</th>\n",
       "    </tr>\n",
       "  </thead>\n",
       "  <tbody>\n",
       "    <tr>\n",
       "      <th>0</th>\n",
       "      <td>admin.</td>\n",
       "      <td>5171</td>\n",
       "    </tr>\n",
       "    <tr>\n",
       "      <th>1</th>\n",
       "      <td>blue-collar</td>\n",
       "      <td>9732</td>\n",
       "    </tr>\n",
       "    <tr>\n",
       "      <th>2</th>\n",
       "      <td>entrepreneur</td>\n",
       "      <td>1487</td>\n",
       "    </tr>\n",
       "    <tr>\n",
       "      <th>3</th>\n",
       "      <td>housemaid</td>\n",
       "      <td>1240</td>\n",
       "    </tr>\n",
       "    <tr>\n",
       "      <th>4</th>\n",
       "      <td>management</td>\n",
       "      <td>9458</td>\n",
       "    </tr>\n",
       "  </tbody>\n",
       "</table>\n",
       "</div>"
      ],
      "text/plain": [
       "            job  jobTot\n",
       "0        admin.    5171\n",
       "1   blue-collar    9732\n",
       "2  entrepreneur    1487\n",
       "3     housemaid    1240\n",
       "4    management    9458"
      ]
     },
     "execution_count": 4,
     "metadata": {},
     "output_type": "execute_result"
    }
   ],
   "source": [
    "# Group the data per age \n",
    "jobTot = bankData.groupby('job')['y'].agg(jobTot='count').reset_index()\n",
    "jobTot.head()"
   ]
  },
  {
   "cell_type": "code",
   "execution_count": 5,
   "id": "damaged-christmas",
   "metadata": {},
   "outputs": [],
   "source": [
    "jobProp = bankData.groupby(['job', 'y'])['y'].agg(jobCat='count').reset_index()"
   ]
  },
  {
   "cell_type": "markdown",
   "id": "atomic-participant",
   "metadata": {},
   "source": [
    "<b> Merge both DataFrames and then find the propensity count by calculating the proportion of propensity for each type of employment status. When creating the new variable for finding the propensity proportion. </b>"
   ]
  },
  {
   "cell_type": "code",
   "execution_count": 6,
   "id": "viral-photography",
   "metadata": {},
   "outputs": [
    {
     "data": {
      "text/html": [
       "<div>\n",
       "<style scoped>\n",
       "    .dataframe tbody tr th:only-of-type {\n",
       "        vertical-align: middle;\n",
       "    }\n",
       "\n",
       "    .dataframe tbody tr th {\n",
       "        vertical-align: top;\n",
       "    }\n",
       "\n",
       "    .dataframe thead th {\n",
       "        text-align: right;\n",
       "    }\n",
       "</style>\n",
       "<table border=\"1\" class=\"dataframe\">\n",
       "  <thead>\n",
       "    <tr style=\"text-align: right;\">\n",
       "      <th></th>\n",
       "      <th>job</th>\n",
       "      <th>y</th>\n",
       "      <th>jobCat</th>\n",
       "      <th>jobTot</th>\n",
       "      <th>catProp</th>\n",
       "    </tr>\n",
       "  </thead>\n",
       "  <tbody>\n",
       "    <tr>\n",
       "      <th>0</th>\n",
       "      <td>admin.</td>\n",
       "      <td>no</td>\n",
       "      <td>4540</td>\n",
       "      <td>5171</td>\n",
       "      <td>87.797331</td>\n",
       "    </tr>\n",
       "    <tr>\n",
       "      <th>1</th>\n",
       "      <td>admin.</td>\n",
       "      <td>yes</td>\n",
       "      <td>631</td>\n",
       "      <td>5171</td>\n",
       "      <td>12.202669</td>\n",
       "    </tr>\n",
       "    <tr>\n",
       "      <th>2</th>\n",
       "      <td>blue-collar</td>\n",
       "      <td>no</td>\n",
       "      <td>9024</td>\n",
       "      <td>9732</td>\n",
       "      <td>92.725031</td>\n",
       "    </tr>\n",
       "    <tr>\n",
       "      <th>3</th>\n",
       "      <td>blue-collar</td>\n",
       "      <td>yes</td>\n",
       "      <td>708</td>\n",
       "      <td>9732</td>\n",
       "      <td>7.274969</td>\n",
       "    </tr>\n",
       "    <tr>\n",
       "      <th>4</th>\n",
       "      <td>entrepreneur</td>\n",
       "      <td>no</td>\n",
       "      <td>1364</td>\n",
       "      <td>1487</td>\n",
       "      <td>91.728312</td>\n",
       "    </tr>\n",
       "  </tbody>\n",
       "</table>\n",
       "</div>"
      ],
      "text/plain": [
       "            job    y  jobCat  jobTot    catProp\n",
       "0        admin.   no    4540    5171  87.797331\n",
       "1        admin.  yes     631    5171  12.202669\n",
       "2   blue-collar   no    9024    9732  92.725031\n",
       "3   blue-collar  yes     708    9732   7.274969\n",
       "4  entrepreneur   no    1364    1487  91.728312"
      ]
     },
     "execution_count": 6,
     "metadata": {},
     "output_type": "execute_result"
    }
   ],
   "source": [
    "jobComb = pd.merge(jobProp, jobTot, on=['job'])\n",
    "jobComb['catProp'] = (jobComb.jobCat/jobComb.jobTot)*100\n",
    "\n",
    "jobComb.head()"
   ]
  },
  {
   "cell_type": "markdown",
   "id": "visible-feeding",
   "metadata": {},
   "source": [
    "<b> Plot the data and summarize intuitions from the plot using matplotlib. Use the stacked bar chart for this activity. </b>"
   ]
  },
  {
   "cell_type": "code",
   "execution_count": 7,
   "id": "alleged-wyoming",
   "metadata": {},
   "outputs": [
    {
     "data": {
      "image/png": "[encoded data removed]",
      "text/plain": [
       "<Figure size 432x288 with 1 Axes>"
      ]
     },
     "metadata": {
      "needs_background": "light"
     },
     "output_type": "display_data"
    }
   ],
   "source": [
    "import matplotlib.pyplot as plt\n",
    "import numpy as np\n",
    "\n",
    "# Create seperate data frames for Yes and No\n",
    "jobcombYes = jobComb[jobComb['y'] == 'yes']\n",
    "jobcombNo = jobComb[jobComb['y'] == 'no']\n",
    "\n",
    "# Get the length of the xaxis labels \n",
    "xlabels = jobTot['job'].nunique()\n",
    "\n",
    "# Get the proportion values \n",
    "jobYes = jobcombYes['catProp'].unique()\n",
    "jobNo = jobcombNo['catProp'].unique()\n",
    "\n",
    "# Arrange the indexes of x asix\n",
    "ind = np.arange(xlabels)\n",
    "\n",
    "# Get the width of each bar\n",
    "width = 0.35  \n",
    "\n",
    "# Getting the plots\n",
    "p1 = plt.bar(ind, jobYes, width)\n",
    "p2 = plt.bar(ind, jobNo, width,bottom=jobYes)\n",
    "\n",
    "plt.ylabel('Propensity Proportion')\n",
    "plt.title('Propensity of purchase by Job')\n",
    "\n",
    "# Defining the x label indexes and y label indexes\n",
    "plt.xticks(ind, jobTot['job'].unique())\n",
    "plt.yticks(np.arange(0, 100, 10))\n",
    "\n",
    "# Defining the legends\n",
    "plt.legend((p1[0], p2[0]), ('Yes', 'No'))\n",
    "\n",
    "# To rotate the axis labels \n",
    "plt.xticks(rotation=90)\n",
    "plt.show()"
   ]
  },
  {
   "cell_type": "markdown",
   "id": "prescribed-china",
   "metadata": {},
   "source": [
    "# Logistic Regression Model with Feature Engineered Variables"
   ]
  },
  {
   "cell_type": "markdown",
   "id": "alone-sponsorship",
   "metadata": {},
   "source": [
    "<b> Create dummy variables for the categorical variables and exclude original raw variables such as loan and housing, which were used to create the new variable, assetIndex </b>"
   ]
  },
  {
   "cell_type": "code",
   "execution_count": 8,
   "id": "competitive-riding",
   "metadata": {},
   "outputs": [
    {
     "data": {
      "text/plain": [
       "(45211, 44)"
      ]
     },
     "execution_count": 8,
     "metadata": {},
     "output_type": "execute_result"
    }
   ],
   "source": [
    "bankCat = pd.get_dummies(bankData[['job', 'marital', 'education', 'default', 'housing', 'loan', 'contact', 'month', 'poutcome']])\n",
    "bankCat.shape"
   ]
  },
  {
   "cell_type": "code",
   "execution_count": 9,
   "id": "polar-europe",
   "metadata": {},
   "outputs": [],
   "source": [
    "#  normalize the numerical variables\n",
    "from sklearn import preprocessing\n",
    "x = bankData[['balance']].values.astype(float)\n",
    "\n",
    "minmaxScaler = preprocessing.MinMaxScaler()\n",
    "bankData['balanceTran'] = minmaxScaler.fit_transform(x)"
   ]
  },
  {
   "cell_type": "code",
   "execution_count": 10,
   "id": "cosmetic-sunset",
   "metadata": {},
   "outputs": [],
   "source": [
    "# add a small value of 0.001 so as to eliminate the 0 values in the variable\n",
    "bankData['balanceTran'] = bankData['balanceTran'] + 0.00001"
   ]
  },
  {
   "cell_type": "code",
   "execution_count": 11,
   "id": "noble-glass",
   "metadata": {},
   "outputs": [],
   "source": [
    "# add two additional columns for introducing the transformed variables for loans and housing\n",
    "bankData['loanTran'] = 1\n",
    "# Giving a weight of 5 if there is no loan\n",
    "bankData.loc[bankData['loan'] == 'no', 'loanTran'] = 5"
   ]
  },
  {
   "cell_type": "code",
   "execution_count": 12,
   "id": "received-agreement",
   "metadata": {},
   "outputs": [],
   "source": [
    "# transform values for the Housing data\n",
    "bankData['houseTran'] = 5\n",
    "bankData.loc[bankData['housing'] == 'no', 'houseTran'] = 1"
   ]
  },
  {
   "cell_type": "code",
   "execution_count": 13,
   "id": "dying-thanksgiving",
   "metadata": {},
   "outputs": [],
   "source": [
    "bankData['assetIndex'] = bankData['balanceTran'] * bankData['loanTran'] * bankData['houseTran']"
   ]
  },
  {
   "cell_type": "markdown",
   "id": "connected-heather",
   "metadata": {},
   "source": [
    "<b> Select the numerical variables including the new feature engineered variable, assetIndex </b>"
   ]
  },
  {
   "cell_type": "code",
   "execution_count": 14,
   "id": "surgical-saying",
   "metadata": {},
   "outputs": [
    {
     "data": {
      "text/html": [
       "<div>\n",
       "<style scoped>\n",
       "    .dataframe tbody tr th:only-of-type {\n",
       "        vertical-align: middle;\n",
       "    }\n",
       "\n",
       "    .dataframe tbody tr th {\n",
       "        vertical-align: top;\n",
       "    }\n",
       "\n",
       "    .dataframe thead th {\n",
       "        text-align: right;\n",
       "    }\n",
       "</style>\n",
       "<table border=\"1\" class=\"dataframe\">\n",
       "  <thead>\n",
       "    <tr style=\"text-align: right;\">\n",
       "      <th></th>\n",
       "      <th>age</th>\n",
       "      <th>balance</th>\n",
       "      <th>day</th>\n",
       "      <th>duration</th>\n",
       "      <th>campaign</th>\n",
       "      <th>pdays</th>\n",
       "      <th>previous</th>\n",
       "      <th>assetIndex</th>\n",
       "    </tr>\n",
       "  </thead>\n",
       "  <tbody>\n",
       "    <tr>\n",
       "      <th>0</th>\n",
       "      <td>58</td>\n",
       "      <td>2143</td>\n",
       "      <td>5</td>\n",
       "      <td>261</td>\n",
       "      <td>1</td>\n",
       "      <td>-1</td>\n",
       "      <td>0</td>\n",
       "      <td>2.306734</td>\n",
       "    </tr>\n",
       "    <tr>\n",
       "      <th>1</th>\n",
       "      <td>44</td>\n",
       "      <td>29</td>\n",
       "      <td>5</td>\n",
       "      <td>151</td>\n",
       "      <td>1</td>\n",
       "      <td>-1</td>\n",
       "      <td>0</td>\n",
       "      <td>1.826916</td>\n",
       "    </tr>\n",
       "    <tr>\n",
       "      <th>2</th>\n",
       "      <td>33</td>\n",
       "      <td>2</td>\n",
       "      <td>5</td>\n",
       "      <td>76</td>\n",
       "      <td>1</td>\n",
       "      <td>-1</td>\n",
       "      <td>0</td>\n",
       "      <td>0.364158</td>\n",
       "    </tr>\n",
       "    <tr>\n",
       "      <th>3</th>\n",
       "      <td>47</td>\n",
       "      <td>1506</td>\n",
       "      <td>5</td>\n",
       "      <td>92</td>\n",
       "      <td>1</td>\n",
       "      <td>-1</td>\n",
       "      <td>0</td>\n",
       "      <td>2.162153</td>\n",
       "    </tr>\n",
       "    <tr>\n",
       "      <th>4</th>\n",
       "      <td>33</td>\n",
       "      <td>1</td>\n",
       "      <td>5</td>\n",
       "      <td>198</td>\n",
       "      <td>1</td>\n",
       "      <td>-1</td>\n",
       "      <td>0</td>\n",
       "      <td>0.364112</td>\n",
       "    </tr>\n",
       "  </tbody>\n",
       "</table>\n",
       "</div>"
      ],
      "text/plain": [
       "   age  balance  day  duration  campaign  pdays  previous  assetIndex\n",
       "0   58     2143    5       261         1     -1         0    2.306734\n",
       "1   44       29    5       151         1     -1         0    1.826916\n",
       "2   33        2    5        76         1     -1         0    0.364158\n",
       "3   47     1506    5        92         1     -1         0    2.162153\n",
       "4   33        1    5       198         1     -1         0    0.364112"
      ]
     },
     "execution_count": 14,
     "metadata": {},
     "output_type": "execute_result"
    }
   ],
   "source": [
    "bankNum = bankData[['age', 'balance', 'day', 'duration', 'campaign', 'pdays', 'previous', 'assetIndex']]\n",
    "bankNum.head()"
   ]
  },
  {
   "cell_type": "markdown",
   "id": "included-finger",
   "metadata": {},
   "source": [
    "<b> Transform some of the numerical variables by normalizing them using the MinMaxScaler() function </b>"
   ]
  },
  {
   "cell_type": "code",
   "execution_count": 15,
   "id": "photographic-importance",
   "metadata": {},
   "outputs": [],
   "source": [
    "minmaxScaler = preprocessing.MinMaxScaler()\n",
    "\n",
    "ageT1 = bankNum[['age']].values.astype(float)\n",
    "dayT1 = bankNum[['day']].values.astype(float)\n",
    "durT1 = bankNum[['duration']].values.astype(float)\n",
    "\n",
    "bankNum['ageTran'] = minmaxScaler.fit_transform(ageT1)\n",
    "bankNum['dayTran'] = minmaxScaler.fit_transform(dayT1)\n",
    "bankNum['durTran'] = minmaxScaler.fit_transform(durT1)"
   ]
  },
  {
   "cell_type": "code",
   "execution_count": 16,
   "id": "eleven-prevention",
   "metadata": {},
   "outputs": [
    {
     "data": {
      "text/html": [
       "<div>\n",
       "<style scoped>\n",
       "    .dataframe tbody tr th:only-of-type {\n",
       "        vertical-align: middle;\n",
       "    }\n",
       "\n",
       "    .dataframe tbody tr th {\n",
       "        vertical-align: top;\n",
       "    }\n",
       "\n",
       "    .dataframe thead th {\n",
       "        text-align: right;\n",
       "    }\n",
       "</style>\n",
       "<table border=\"1\" class=\"dataframe\">\n",
       "  <thead>\n",
       "    <tr style=\"text-align: right;\">\n",
       "      <th></th>\n",
       "      <th>ageTran</th>\n",
       "      <th>dayTran</th>\n",
       "      <th>durTran</th>\n",
       "      <th>campaign</th>\n",
       "      <th>pdays</th>\n",
       "      <th>previous</th>\n",
       "      <th>assetIndex</th>\n",
       "    </tr>\n",
       "  </thead>\n",
       "  <tbody>\n",
       "    <tr>\n",
       "      <th>0</th>\n",
       "      <td>0.519481</td>\n",
       "      <td>0.133333</td>\n",
       "      <td>0.053070</td>\n",
       "      <td>1</td>\n",
       "      <td>-1</td>\n",
       "      <td>0</td>\n",
       "      <td>2.306734</td>\n",
       "    </tr>\n",
       "    <tr>\n",
       "      <th>1</th>\n",
       "      <td>0.337662</td>\n",
       "      <td>0.133333</td>\n",
       "      <td>0.030704</td>\n",
       "      <td>1</td>\n",
       "      <td>-1</td>\n",
       "      <td>0</td>\n",
       "      <td>1.826916</td>\n",
       "    </tr>\n",
       "    <tr>\n",
       "      <th>2</th>\n",
       "      <td>0.194805</td>\n",
       "      <td>0.133333</td>\n",
       "      <td>0.015453</td>\n",
       "      <td>1</td>\n",
       "      <td>-1</td>\n",
       "      <td>0</td>\n",
       "      <td>0.364158</td>\n",
       "    </tr>\n",
       "    <tr>\n",
       "      <th>3</th>\n",
       "      <td>0.376623</td>\n",
       "      <td>0.133333</td>\n",
       "      <td>0.018707</td>\n",
       "      <td>1</td>\n",
       "      <td>-1</td>\n",
       "      <td>0</td>\n",
       "      <td>2.162153</td>\n",
       "    </tr>\n",
       "    <tr>\n",
       "      <th>4</th>\n",
       "      <td>0.194805</td>\n",
       "      <td>0.133333</td>\n",
       "      <td>0.040260</td>\n",
       "      <td>1</td>\n",
       "      <td>-1</td>\n",
       "      <td>0</td>\n",
       "      <td>0.364112</td>\n",
       "    </tr>\n",
       "  </tbody>\n",
       "</table>\n",
       "</div>"
      ],
      "text/plain": [
       "    ageTran   dayTran   durTran  campaign  pdays  previous  assetIndex\n",
       "0  0.519481  0.133333  0.053070         1     -1         0    2.306734\n",
       "1  0.337662  0.133333  0.030704         1     -1         0    1.826916\n",
       "2  0.194805  0.133333  0.015453         1     -1         0    0.364158\n",
       "3  0.376623  0.133333  0.018707         1     -1         0    2.162153\n",
       "4  0.194805  0.133333  0.040260         1     -1         0    0.364112"
      ]
     },
     "execution_count": 16,
     "metadata": {},
     "output_type": "execute_result"
    }
   ],
   "source": [
    "bankNum2 = bankNum[['ageTran','dayTran','durTran','campaign','pdays','previous','assetIndex']]\n",
    "bankNum2.head()"
   ]
  },
  {
   "cell_type": "markdown",
   "id": "departmental-touch",
   "metadata": {},
   "source": [
    "<b> Concatenate the numerical variables and categorical variables and then create X and Y variables </b>"
   ]
  },
  {
   "cell_type": "code",
   "execution_count": 17,
   "id": "subsequent-religion",
   "metadata": {},
   "outputs": [
    {
     "name": "stdout",
     "output_type": "stream",
     "text": [
      "(45211, 51)\n",
      "(45211,)\n"
     ]
    }
   ],
   "source": [
    "X = pd.concat([bankCat, bankNum2], axis=1)\n",
    "print(X.shape)\n",
    "# Preparing the Y variable\n",
    "Y = bankData['y']\n",
    "print(Y.shape)"
   ]
  },
  {
   "cell_type": "markdown",
   "id": "joined-behalf",
   "metadata": {},
   "source": [
    "<b> Split the dataset in train and test and then fit a new model using the LogisticRegression() model on the new features </b>"
   ]
  },
  {
   "cell_type": "code",
   "execution_count": 18,
   "id": "commercial-calvin",
   "metadata": {},
   "outputs": [],
   "source": [
    "from sklearn.model_selection import train_test_split\n",
    "X_train, X_test, y_train, y_test = train_test_split(X, Y, test_size=0.3, random_state=123)"
   ]
  },
  {
   "cell_type": "code",
   "execution_count": 19,
   "id": "liberal-manchester",
   "metadata": {},
   "outputs": [
    {
     "data": {
      "text/plain": [
       "LogisticRegression()"
      ]
     },
     "execution_count": 19,
     "metadata": {},
     "output_type": "execute_result"
    }
   ],
   "source": [
    "from sklearn.linear_model import LogisticRegression\n",
    "model = LogisticRegression()\n",
    "model.fit(X_train, y_train)"
   ]
  },
  {
   "cell_type": "code",
   "execution_count": 20,
   "id": "attended-chicken",
   "metadata": {},
   "outputs": [],
   "source": [
    "pred = model.predict(X_test)"
   ]
  },
  {
   "cell_type": "markdown",
   "id": "major-scheduling",
   "metadata": {},
   "source": [
    "<b> Analyze the results after generating the confusion matrix and classification report</b>"
   ]
  },
  {
   "cell_type": "code",
   "execution_count": 21,
   "id": "placed-navigator",
   "metadata": {},
   "outputs": [],
   "source": [
    "from sklearn.metrics import confusion_matrix, classification_report"
   ]
  },
  {
   "cell_type": "code",
   "execution_count": 22,
   "id": "fuzzy-forest",
   "metadata": {},
   "outputs": [
    {
     "name": "stdout",
     "output_type": "stream",
     "text": [
      "[[11842   156]\n",
      " [ 1279   287]]\n"
     ]
    }
   ],
   "source": [
    "confusionMatrix = confusion_matrix(y_test ,pred)\n",
    "print(confusionMatrix)"
   ]
  },
  {
   "cell_type": "code",
   "execution_count": 23,
   "id": "desperate-sunrise",
   "metadata": {},
   "outputs": [
    {
     "name": "stdout",
     "output_type": "stream",
     "text": [
      "              precision    recall  f1-score   support\n",
      "\n",
      "          no       0.90      0.99      0.94     11998\n",
      "         yes       0.65      0.18      0.29      1566\n",
      "\n",
      "    accuracy                           0.89     13564\n",
      "   macro avg       0.78      0.59      0.61     13564\n",
      "weighted avg       0.87      0.89      0.87     13564\n",
      "\n"
     ]
    }
   ],
   "source": [
    "print(classification_report(y_test, pred))"
   ]
  }
 ],
 "metadata": {
  "kernelspec": {
   "display_name": "Python 3",
   "language": "python",
   "name": "python3"
  },
  "language_info": {
   "codemirror_mode": {
    "name": "ipython",
    "version": 3
   },
   "file_extension": ".py",
   "mimetype": "text/x-python",
   "name": "python",
   "nbconvert_exporter": "python",
   "pygments_lexer": "ipython3",
   "version": "3.7.7"
  }
 },
 "nbformat": 4,
 "nbformat_minor": 5
}
