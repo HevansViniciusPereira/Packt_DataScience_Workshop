{
 "cells": [
  {
   "cell_type": "markdown",
   "id": "precise-conjunction",
   "metadata": {},
   "source": [
    "# Train a Random Forest Classifier on the ISOLET Dataset"
   ]
  },
  {
   "cell_type": "markdown",
   "id": "guilty-georgia",
   "metadata": {},
   "source": [
    "<b> Download and load the dataset </b>"
   ]
  },
  {
   "cell_type": "code",
   "execution_count": 1,
   "id": "liquid-print",
   "metadata": {},
   "outputs": [],
   "source": [
    "# import packages\n",
    "import pandas as pd\n",
    "from sklearn.metrics import accuracy_score\n",
    "from sklearn.ensemble import RandomForestClassifier\n",
    "from sklearn.model_selection import train_test_split"
   ]
  },
  {
   "cell_type": "code",
   "execution_count": 2,
   "id": "verified-agenda",
   "metadata": {},
   "outputs": [],
   "source": [
    "# url path\n",
    "file_url = 'https://raw.githubusercontent.com/PacktWorkshops/The-Data-Science-Workshop/master/Chapter04/Dataset/phpB0xrNj.csv'"
   ]
  },
  {
   "cell_type": "code",
   "execution_count": 3,
   "id": "unusual-tracy",
   "metadata": {},
   "outputs": [
    {
     "data": {
      "text/html": [
       "<div>\n",
       "<style scoped>\n",
       "    .dataframe tbody tr th:only-of-type {\n",
       "        vertical-align: middle;\n",
       "    }\n",
       "\n",
       "    .dataframe tbody tr th {\n",
       "        vertical-align: top;\n",
       "    }\n",
       "\n",
       "    .dataframe thead th {\n",
       "        text-align: right;\n",
       "    }\n",
       "</style>\n",
       "<table border=\"1\" class=\"dataframe\">\n",
       "  <thead>\n",
       "    <tr style=\"text-align: right;\">\n",
       "      <th></th>\n",
       "      <th>f1</th>\n",
       "      <th>f2</th>\n",
       "      <th>f3</th>\n",
       "      <th>f4</th>\n",
       "      <th>f5</th>\n",
       "      <th>f6</th>\n",
       "      <th>f7</th>\n",
       "      <th>f8</th>\n",
       "      <th>f9</th>\n",
       "      <th>f10</th>\n",
       "      <th>...</th>\n",
       "      <th>f609</th>\n",
       "      <th>f610</th>\n",
       "      <th>f611</th>\n",
       "      <th>f612</th>\n",
       "      <th>f613</th>\n",
       "      <th>f614</th>\n",
       "      <th>f615</th>\n",
       "      <th>f616</th>\n",
       "      <th>f617</th>\n",
       "      <th>class</th>\n",
       "    </tr>\n",
       "  </thead>\n",
       "  <tbody>\n",
       "    <tr>\n",
       "      <th>0</th>\n",
       "      <td>-0.4394</td>\n",
       "      <td>-0.0930</td>\n",
       "      <td>0.1718</td>\n",
       "      <td>0.4620</td>\n",
       "      <td>0.6226</td>\n",
       "      <td>0.4704</td>\n",
       "      <td>0.3578</td>\n",
       "      <td>0.0478</td>\n",
       "      <td>-0.1184</td>\n",
       "      <td>-0.2310</td>\n",
       "      <td>...</td>\n",
       "      <td>0.4102</td>\n",
       "      <td>0.2052</td>\n",
       "      <td>0.3846</td>\n",
       "      <td>0.3590</td>\n",
       "      <td>0.5898</td>\n",
       "      <td>0.3334</td>\n",
       "      <td>0.6410</td>\n",
       "      <td>0.5898</td>\n",
       "      <td>-0.4872</td>\n",
       "      <td>'1'</td>\n",
       "    </tr>\n",
       "    <tr>\n",
       "      <th>1</th>\n",
       "      <td>-0.4348</td>\n",
       "      <td>-0.1198</td>\n",
       "      <td>0.2474</td>\n",
       "      <td>0.4036</td>\n",
       "      <td>0.5026</td>\n",
       "      <td>0.6328</td>\n",
       "      <td>0.4948</td>\n",
       "      <td>0.0338</td>\n",
       "      <td>-0.0520</td>\n",
       "      <td>-0.1302</td>\n",
       "      <td>...</td>\n",
       "      <td>0.0000</td>\n",
       "      <td>0.2954</td>\n",
       "      <td>0.2046</td>\n",
       "      <td>0.4772</td>\n",
       "      <td>0.0454</td>\n",
       "      <td>0.2046</td>\n",
       "      <td>0.4318</td>\n",
       "      <td>0.4546</td>\n",
       "      <td>-0.0910</td>\n",
       "      <td>'1'</td>\n",
       "    </tr>\n",
       "    <tr>\n",
       "      <th>2</th>\n",
       "      <td>-0.2330</td>\n",
       "      <td>0.2124</td>\n",
       "      <td>0.5014</td>\n",
       "      <td>0.5222</td>\n",
       "      <td>-0.3422</td>\n",
       "      <td>-0.5840</td>\n",
       "      <td>-0.7168</td>\n",
       "      <td>-0.6342</td>\n",
       "      <td>-0.8614</td>\n",
       "      <td>-0.8318</td>\n",
       "      <td>...</td>\n",
       "      <td>-0.1112</td>\n",
       "      <td>-0.0476</td>\n",
       "      <td>-0.1746</td>\n",
       "      <td>0.0318</td>\n",
       "      <td>-0.0476</td>\n",
       "      <td>0.1112</td>\n",
       "      <td>0.2540</td>\n",
       "      <td>0.1588</td>\n",
       "      <td>-0.4762</td>\n",
       "      <td>'2'</td>\n",
       "    </tr>\n",
       "    <tr>\n",
       "      <th>3</th>\n",
       "      <td>-0.3808</td>\n",
       "      <td>-0.0096</td>\n",
       "      <td>0.2602</td>\n",
       "      <td>0.2554</td>\n",
       "      <td>-0.4290</td>\n",
       "      <td>-0.6746</td>\n",
       "      <td>-0.6868</td>\n",
       "      <td>-0.6650</td>\n",
       "      <td>-0.8410</td>\n",
       "      <td>-0.9614</td>\n",
       "      <td>...</td>\n",
       "      <td>-0.0504</td>\n",
       "      <td>-0.0360</td>\n",
       "      <td>-0.1224</td>\n",
       "      <td>0.1366</td>\n",
       "      <td>0.2950</td>\n",
       "      <td>0.0792</td>\n",
       "      <td>-0.0072</td>\n",
       "      <td>0.0936</td>\n",
       "      <td>-0.1510</td>\n",
       "      <td>'2'</td>\n",
       "    </tr>\n",
       "    <tr>\n",
       "      <th>4</th>\n",
       "      <td>-0.3412</td>\n",
       "      <td>0.0946</td>\n",
       "      <td>0.6082</td>\n",
       "      <td>0.6216</td>\n",
       "      <td>-0.1622</td>\n",
       "      <td>-0.3784</td>\n",
       "      <td>-0.4324</td>\n",
       "      <td>-0.4358</td>\n",
       "      <td>-0.4966</td>\n",
       "      <td>-0.5406</td>\n",
       "      <td>...</td>\n",
       "      <td>0.1562</td>\n",
       "      <td>0.3124</td>\n",
       "      <td>0.2500</td>\n",
       "      <td>-0.0938</td>\n",
       "      <td>0.1562</td>\n",
       "      <td>0.3124</td>\n",
       "      <td>0.3124</td>\n",
       "      <td>0.2188</td>\n",
       "      <td>-0.2500</td>\n",
       "      <td>'3'</td>\n",
       "    </tr>\n",
       "  </tbody>\n",
       "</table>\n",
       "<p>5 rows × 618 columns</p>\n",
       "</div>"
      ],
      "text/plain": [
       "       f1      f2      f3      f4      f5      f6      f7      f8      f9  \\\n",
       "0 -0.4394 -0.0930  0.1718  0.4620  0.6226  0.4704  0.3578  0.0478 -0.1184   \n",
       "1 -0.4348 -0.1198  0.2474  0.4036  0.5026  0.6328  0.4948  0.0338 -0.0520   \n",
       "2 -0.2330  0.2124  0.5014  0.5222 -0.3422 -0.5840 -0.7168 -0.6342 -0.8614   \n",
       "3 -0.3808 -0.0096  0.2602  0.2554 -0.4290 -0.6746 -0.6868 -0.6650 -0.8410   \n",
       "4 -0.3412  0.0946  0.6082  0.6216 -0.1622 -0.3784 -0.4324 -0.4358 -0.4966   \n",
       "\n",
       "      f10  ...    f609    f610    f611    f612    f613    f614    f615  \\\n",
       "0 -0.2310  ...  0.4102  0.2052  0.3846  0.3590  0.5898  0.3334  0.6410   \n",
       "1 -0.1302  ...  0.0000  0.2954  0.2046  0.4772  0.0454  0.2046  0.4318   \n",
       "2 -0.8318  ... -0.1112 -0.0476 -0.1746  0.0318 -0.0476  0.1112  0.2540   \n",
       "3 -0.9614  ... -0.0504 -0.0360 -0.1224  0.1366  0.2950  0.0792 -0.0072   \n",
       "4 -0.5406  ...  0.1562  0.3124  0.2500 -0.0938  0.1562  0.3124  0.3124   \n",
       "\n",
       "     f616    f617  class  \n",
       "0  0.5898 -0.4872    '1'  \n",
       "1  0.4546 -0.0910    '1'  \n",
       "2  0.1588 -0.4762    '2'  \n",
       "3  0.0936 -0.1510    '2'  \n",
       "4  0.2188 -0.2500    '3'  \n",
       "\n",
       "[5 rows x 618 columns]"
      ]
     },
     "execution_count": 3,
     "metadata": {},
     "output_type": "execute_result"
    }
   ],
   "source": [
    "df = pd.read_csv(file_url)\n",
    "df.head()"
   ]
  },
  {
   "cell_type": "markdown",
   "id": "metropolitan-audit",
   "metadata": {},
   "source": [
    "<b> Extract the response variable</b>"
   ]
  },
  {
   "cell_type": "code",
   "execution_count": 4,
   "id": "pregnant-intellectual",
   "metadata": {},
   "outputs": [],
   "source": [
    "y = df.pop('class')"
   ]
  },
  {
   "cell_type": "markdown",
   "id": "accessible-property",
   "metadata": {},
   "source": [
    "<b> Split the dataset into training and test sets </b>"
   ]
  },
  {
   "cell_type": "code",
   "execution_count": 5,
   "id": "useful-barrier",
   "metadata": {},
   "outputs": [],
   "source": [
    "X_train, X_test, y_train, y_test = train_test_split(df, y, test_size=0.3, random_state=888)"
   ]
  },
  {
   "cell_type": "markdown",
   "id": "sustainable-filter",
   "metadata": {},
   "source": [
    "<b> Create a function that will instantiate and fit a RandomForestClassifier </b>"
   ]
  },
  {
   "cell_type": "code",
   "execution_count": 6,
   "id": "common-findings",
   "metadata": {},
   "outputs": [],
   "source": [
    "def rf_model(X, y, random_state=888, n_estimators=10, max_depth=None, min_samples_leaf=1, max_features='sqrt'):\n",
    "    rf_model = RandomForestClassifier(random_state=random_state,\n",
    "                                  n_estimators=n_estimators,\n",
    "                                  max_depth=max_depth,\n",
    "                                  min_samples_leaf=min_samples_leaf,\n",
    "                                  max_features=max_features)\n",
    "    rf_model.fit(X_train, y_train)\n",
    "    return rf_model"
   ]
  },
  {
   "cell_type": "markdown",
   "id": "parental-collapse",
   "metadata": {},
   "source": [
    "<b> Create a function that will predict the outcome for the training and testing sets </b>"
   ]
  },
  {
   "cell_type": "code",
   "execution_count": 7,
   "id": "falling-stocks",
   "metadata": {},
   "outputs": [],
   "source": [
    "def predictions(model, X_train, X_test):\n",
    "    train_preds = model.predict(X_train)\n",
    "    test_preds = model.predict(X_test)\n",
    "    return train_preds, test_preds"
   ]
  },
  {
   "cell_type": "markdown",
   "id": "after-repair",
   "metadata": {},
   "source": [
    "<b> Create a function that will print the accuracy score for the training and testing sets </b>"
   ]
  },
  {
   "cell_type": "code",
   "execution_count": 8,
   "id": "accurate-assets",
   "metadata": {},
   "outputs": [],
   "source": [
    "def accuracy_total(y_train_default, train_preds_default, y_test_default, test_preds_default):\n",
    "    train_acc = accuracy_score(y_train_default, train_preds_default)\n",
    "    test_acc = accuracy_score(y_test_default, test_preds_default)\n",
    "    print(train_acc)\n",
    "    print(test_acc)"
   ]
  },
  {
   "cell_type": "markdown",
   "id": "serial-phrase",
   "metadata": {},
   "source": [
    "<b> Train and get the accuracy score for a range of different hyperparameters </b>"
   ]
  },
  {
   "cell_type": "markdown",
   "id": "conservative-canal",
   "metadata": {},
   "source": [
    "Model 1"
   ]
  },
  {
   "cell_type": "code",
   "execution_count": 9,
   "id": "therapeutic-bhutan",
   "metadata": {},
   "outputs": [],
   "source": [
    "rf_1 = rf_model(X_train, y_train)\n",
    "#rf_1.get_params()"
   ]
  },
  {
   "cell_type": "code",
   "execution_count": 10,
   "id": "cardiovascular-inside",
   "metadata": {},
   "outputs": [],
   "source": [
    "train_preds, test_preds = predictions(rf_1, X_train, X_test)"
   ]
  },
  {
   "cell_type": "code",
   "execution_count": 11,
   "id": "optional-static",
   "metadata": {},
   "outputs": [
    {
     "name": "stdout",
     "output_type": "stream",
     "text": [
      "0.9981674912955837\n",
      "0.8935897435897436\n"
     ]
    }
   ],
   "source": [
    "accuracy_total(y_train, train_preds, y_test, test_preds)"
   ]
  },
  {
   "cell_type": "markdown",
   "id": "least-moscow",
   "metadata": {},
   "source": [
    "Model 2"
   ]
  },
  {
   "cell_type": "code",
   "execution_count": 12,
   "id": "critical-simon",
   "metadata": {},
   "outputs": [],
   "source": [
    "rf_2 = rf_model(X_train, y_train, n_estimators=20)"
   ]
  },
  {
   "cell_type": "code",
   "execution_count": 13,
   "id": "selective-partner",
   "metadata": {},
   "outputs": [],
   "source": [
    "train_preds2, test_preds2 = predictions(rf_2, X_train, X_test)"
   ]
  },
  {
   "cell_type": "code",
   "execution_count": 14,
   "id": "scheduled-frequency",
   "metadata": {},
   "outputs": [
    {
     "name": "stdout",
     "output_type": "stream",
     "text": [
      "0.9998167491295583\n",
      "0.9192307692307692\n"
     ]
    }
   ],
   "source": [
    "accuracy_total(y_train, train_preds2, y_test, test_preds2)"
   ]
  },
  {
   "cell_type": "markdown",
   "id": "tight-paragraph",
   "metadata": {},
   "source": [
    "Model 3"
   ]
  },
  {
   "cell_type": "code",
   "execution_count": 15,
   "id": "corporate-staff",
   "metadata": {},
   "outputs": [],
   "source": [
    "rf_3 = rf_model(X_train, y_train, n_estimators=50)"
   ]
  },
  {
   "cell_type": "code",
   "execution_count": 16,
   "id": "absent-attempt",
   "metadata": {},
   "outputs": [],
   "source": [
    "train_preds3, test_preds3 = predictions(rf_3, X_train, X_test)"
   ]
  },
  {
   "cell_type": "code",
   "execution_count": 17,
   "id": "ethical-slope",
   "metadata": {},
   "outputs": [
    {
     "name": "stdout",
     "output_type": "stream",
     "text": [
      "1.0\n",
      "0.9333333333333333\n"
     ]
    }
   ],
   "source": [
    "accuracy_total(y_train, train_preds3, y_test, test_preds3)"
   ]
  },
  {
   "cell_type": "markdown",
   "id": "empirical-vertex",
   "metadata": {},
   "source": [
    "Model 4"
   ]
  },
  {
   "cell_type": "code",
   "execution_count": 18,
   "id": "entitled-nitrogen",
   "metadata": {},
   "outputs": [],
   "source": [
    "rf_4 = rf_model(X_train, y_train, n_estimators=50, max_depth=5)"
   ]
  },
  {
   "cell_type": "code",
   "execution_count": 19,
   "id": "white-gossip",
   "metadata": {},
   "outputs": [],
   "source": [
    "train_preds4, test_preds4 = predictions(rf_4, X_train, X_test)"
   ]
  },
  {
   "cell_type": "code",
   "execution_count": 20,
   "id": "extreme-experience",
   "metadata": {},
   "outputs": [
    {
     "name": "stdout",
     "output_type": "stream",
     "text": [
      "0.8552318123511087\n",
      "0.8213675213675213\n"
     ]
    }
   ],
   "source": [
    "accuracy_total(y_train, train_preds4, y_test, test_preds4)"
   ]
  },
  {
   "cell_type": "markdown",
   "id": "mighty-oxide",
   "metadata": {},
   "source": [
    "Model 5"
   ]
  },
  {
   "cell_type": "code",
   "execution_count": 21,
   "id": "detailed-phase",
   "metadata": {},
   "outputs": [],
   "source": [
    "rf_5 = rf_model(X_train, y_train, n_estimators=50, max_depth=10)"
   ]
  },
  {
   "cell_type": "code",
   "execution_count": 22,
   "id": "disciplinary-marriage",
   "metadata": {},
   "outputs": [],
   "source": [
    "train_preds5, test_preds5 = predictions(rf_5, X_train, X_test)"
   ]
  },
  {
   "cell_type": "code",
   "execution_count": 23,
   "id": "stone-jurisdiction",
   "metadata": {},
   "outputs": [
    {
     "name": "stdout",
     "output_type": "stream",
     "text": [
      "0.9844236760124611\n",
      "0.9260683760683761\n"
     ]
    }
   ],
   "source": [
    "accuracy_total(y_train, train_preds5, y_test, test_preds5)"
   ]
  },
  {
   "cell_type": "markdown",
   "id": "institutional-ribbon",
   "metadata": {},
   "source": [
    "Model 6"
   ]
  },
  {
   "cell_type": "code",
   "execution_count": 24,
   "id": "forty-repository",
   "metadata": {},
   "outputs": [],
   "source": [
    "rf_6 = rf_model(X_train, y_train, n_estimators=50, max_depth=10, min_samples_leaf=10)"
   ]
  },
  {
   "cell_type": "code",
   "execution_count": 25,
   "id": "revised-humor",
   "metadata": {},
   "outputs": [],
   "source": [
    "train_preds6, test_preds6 = predictions(rf_6, X_train, X_test)"
   ]
  },
  {
   "cell_type": "code",
   "execution_count": 26,
   "id": "encouraging-notice",
   "metadata": {},
   "outputs": [
    {
     "name": "stdout",
     "output_type": "stream",
     "text": [
      "0.9622503206890233\n",
      "0.9192307692307692\n"
     ]
    }
   ],
   "source": [
    "accuracy_total(y_train, train_preds6, y_test, test_preds6)"
   ]
  },
  {
   "cell_type": "markdown",
   "id": "charged-appearance",
   "metadata": {},
   "source": [
    "Model 7"
   ]
  },
  {
   "cell_type": "code",
   "execution_count": 27,
   "id": "located-reward",
   "metadata": {},
   "outputs": [],
   "source": [
    "rf_7 = rf_model(X_train, y_train, n_estimators=50, max_depth=10, min_samples_leaf=50)"
   ]
  },
  {
   "cell_type": "code",
   "execution_count": 28,
   "id": "emotional-handling",
   "metadata": {},
   "outputs": [],
   "source": [
    "train_preds7, test_preds7 = predictions(rf_7, X_train, X_test)"
   ]
  },
  {
   "cell_type": "code",
   "execution_count": 29,
   "id": "finnish-damages",
   "metadata": {},
   "outputs": [
    {
     "name": "stdout",
     "output_type": "stream",
     "text": [
      "0.9184533626534725\n",
      "0.8940170940170941\n"
     ]
    }
   ],
   "source": [
    "accuracy_total(y_train, train_preds7, y_test, test_preds7)"
   ]
  },
  {
   "cell_type": "markdown",
   "id": "buried-victor",
   "metadata": {},
   "source": [
    "Model 8"
   ]
  },
  {
   "cell_type": "code",
   "execution_count": 30,
   "id": "bright-package",
   "metadata": {},
   "outputs": [],
   "source": [
    "rf_8 = rf_model(X_train, y_train, n_estimators=50, max_depth=10, min_samples_leaf=50, max_features=0.5)"
   ]
  },
  {
   "cell_type": "code",
   "execution_count": 31,
   "id": "built-catholic",
   "metadata": {},
   "outputs": [],
   "source": [
    "train_preds8, test_preds8 = predictions(rf_8, X_train, X_test)"
   ]
  },
  {
   "cell_type": "code",
   "execution_count": 32,
   "id": "vanilla-spice",
   "metadata": {},
   "outputs": [
    {
     "name": "stdout",
     "output_type": "stream",
     "text": [
      "0.8926149899212021\n",
      "0.867948717948718\n"
     ]
    }
   ],
   "source": [
    "accuracy_total(y_train, train_preds8, y_test, test_preds8)"
   ]
  },
  {
   "cell_type": "markdown",
   "id": "lesser-bradley",
   "metadata": {},
   "source": [
    "Model 9"
   ]
  },
  {
   "cell_type": "code",
   "execution_count": 33,
   "id": "heated-merchandise",
   "metadata": {},
   "outputs": [],
   "source": [
    "rf_9 = rf_model(X_train, y_train, n_estimators=50, max_depth=10, min_samples_leaf=50, max_features=0.3)"
   ]
  },
  {
   "cell_type": "code",
   "execution_count": 34,
   "id": "everyday-shape",
   "metadata": {},
   "outputs": [],
   "source": [
    "train_preds9, test_preds9 = predictions(rf_9, X_train, X_test)"
   ]
  },
  {
   "cell_type": "code",
   "execution_count": 35,
   "id": "nonprofit-skirt",
   "metadata": {},
   "outputs": [
    {
     "name": "stdout",
     "output_type": "stream",
     "text": [
      "0.9008612790910757\n",
      "0.8717948717948718\n"
     ]
    }
   ],
   "source": [
    "accuracy_total(y_train, train_preds9, y_test, test_preds9)"
   ]
  },
  {
   "cell_type": "markdown",
   "id": "resident-contrast",
   "metadata": {},
   "source": [
    "<b> Select the best hyperparameter value </b>"
   ]
  },
  {
   "cell_type": "markdown",
   "id": "unexpected-treaty",
   "metadata": {},
   "source": [
    "This final set of hyperparameters still doesn't achieve better results than the one we find with n_estimators=50, max_depth=10, min_samples_leaf=50, max_features=0.5."
   ]
  }
 ],
 "metadata": {
  "kernelspec": {
   "display_name": "Python 3",
   "language": "python",
   "name": "python3"
  },
  "language_info": {
   "codemirror_mode": {
    "name": "ipython",
    "version": 3
   },
   "file_extension": ".py",
   "mimetype": "text/x-python",
   "name": "python",
   "nbconvert_exporter": "python",
   "pygments_lexer": "ipython3",
   "version": "3.7.7"
  }
 },
 "nbformat": 4,
 "nbformat_minor": 5
}
