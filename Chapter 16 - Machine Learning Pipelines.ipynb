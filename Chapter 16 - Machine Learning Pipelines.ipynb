{
 "cells": [
  {
   "cell_type": "markdown",
   "id": "possible-rings",
   "metadata": {},
   "source": [
    "# Preparing the Dataset to Implement Pipelines"
   ]
  },
  {
   "cell_type": "code",
   "execution_count": 1,
   "id": "listed-conducting",
   "metadata": {},
   "outputs": [],
   "source": [
    "# import packages\n",
    "import pandas as pd"
   ]
  },
  {
   "cell_type": "code",
   "execution_count": 2,
   "id": "smaller-nicholas",
   "metadata": {},
   "outputs": [],
   "source": [
    "# url path\n",
    "url_path = 'https://raw.githubusercontent.com/PacktWorkshops/The-Data-Science-Workshop/master/Chapter15/Dataset/crx.data'"
   ]
  },
  {
   "cell_type": "code",
   "execution_count": 3,
   "id": "harmful-cylinder",
   "metadata": {},
   "outputs": [
    {
     "data": {
      "text/html": [
       "<div>\n",
       "<style scoped>\n",
       "    .dataframe tbody tr th:only-of-type {\n",
       "        vertical-align: middle;\n",
       "    }\n",
       "\n",
       "    .dataframe tbody tr th {\n",
       "        vertical-align: top;\n",
       "    }\n",
       "\n",
       "    .dataframe thead th {\n",
       "        text-align: right;\n",
       "    }\n",
       "</style>\n",
       "<table border=\"1\" class=\"dataframe\">\n",
       "  <thead>\n",
       "    <tr style=\"text-align: right;\">\n",
       "      <th></th>\n",
       "      <th>0</th>\n",
       "      <th>1</th>\n",
       "      <th>2</th>\n",
       "      <th>3</th>\n",
       "      <th>4</th>\n",
       "      <th>5</th>\n",
       "      <th>6</th>\n",
       "      <th>7</th>\n",
       "      <th>8</th>\n",
       "      <th>9</th>\n",
       "      <th>10</th>\n",
       "      <th>11</th>\n",
       "      <th>12</th>\n",
       "      <th>13</th>\n",
       "      <th>14</th>\n",
       "      <th>15</th>\n",
       "    </tr>\n",
       "  </thead>\n",
       "  <tbody>\n",
       "    <tr>\n",
       "      <th>0</th>\n",
       "      <td>b</td>\n",
       "      <td>30.83</td>\n",
       "      <td>0.000</td>\n",
       "      <td>u</td>\n",
       "      <td>g</td>\n",
       "      <td>w</td>\n",
       "      <td>v</td>\n",
       "      <td>1.25</td>\n",
       "      <td>t</td>\n",
       "      <td>t</td>\n",
       "      <td>1</td>\n",
       "      <td>f</td>\n",
       "      <td>g</td>\n",
       "      <td>202.0</td>\n",
       "      <td>0</td>\n",
       "      <td>+</td>\n",
       "    </tr>\n",
       "    <tr>\n",
       "      <th>1</th>\n",
       "      <td>a</td>\n",
       "      <td>58.67</td>\n",
       "      <td>4.460</td>\n",
       "      <td>u</td>\n",
       "      <td>g</td>\n",
       "      <td>q</td>\n",
       "      <td>h</td>\n",
       "      <td>3.04</td>\n",
       "      <td>t</td>\n",
       "      <td>t</td>\n",
       "      <td>6</td>\n",
       "      <td>f</td>\n",
       "      <td>g</td>\n",
       "      <td>43.0</td>\n",
       "      <td>560</td>\n",
       "      <td>+</td>\n",
       "    </tr>\n",
       "    <tr>\n",
       "      <th>2</th>\n",
       "      <td>a</td>\n",
       "      <td>24.50</td>\n",
       "      <td>0.500</td>\n",
       "      <td>u</td>\n",
       "      <td>g</td>\n",
       "      <td>q</td>\n",
       "      <td>h</td>\n",
       "      <td>1.50</td>\n",
       "      <td>t</td>\n",
       "      <td>f</td>\n",
       "      <td>0</td>\n",
       "      <td>f</td>\n",
       "      <td>g</td>\n",
       "      <td>280.0</td>\n",
       "      <td>824</td>\n",
       "      <td>+</td>\n",
       "    </tr>\n",
       "    <tr>\n",
       "      <th>3</th>\n",
       "      <td>b</td>\n",
       "      <td>27.83</td>\n",
       "      <td>1.540</td>\n",
       "      <td>u</td>\n",
       "      <td>g</td>\n",
       "      <td>w</td>\n",
       "      <td>v</td>\n",
       "      <td>3.75</td>\n",
       "      <td>t</td>\n",
       "      <td>t</td>\n",
       "      <td>5</td>\n",
       "      <td>t</td>\n",
       "      <td>g</td>\n",
       "      <td>100.0</td>\n",
       "      <td>3</td>\n",
       "      <td>+</td>\n",
       "    </tr>\n",
       "    <tr>\n",
       "      <th>4</th>\n",
       "      <td>b</td>\n",
       "      <td>20.17</td>\n",
       "      <td>5.625</td>\n",
       "      <td>u</td>\n",
       "      <td>g</td>\n",
       "      <td>w</td>\n",
       "      <td>v</td>\n",
       "      <td>1.71</td>\n",
       "      <td>t</td>\n",
       "      <td>f</td>\n",
       "      <td>0</td>\n",
       "      <td>f</td>\n",
       "      <td>s</td>\n",
       "      <td>120.0</td>\n",
       "      <td>0</td>\n",
       "      <td>+</td>\n",
       "    </tr>\n",
       "  </tbody>\n",
       "</table>\n",
       "</div>"
      ],
      "text/plain": [
       "  0      1      2  3  4  5  6     7  8  9   10 11 12     13   14 15\n",
       "0  b  30.83  0.000  u  g  w  v  1.25  t  t   1  f  g  202.0    0  +\n",
       "1  a  58.67  4.460  u  g  q  h  3.04  t  t   6  f  g   43.0  560  +\n",
       "2  a  24.50  0.500  u  g  q  h  1.50  t  f   0  f  g  280.0  824  +\n",
       "3  b  27.83  1.540  u  g  w  v  3.75  t  t   5  t  g  100.0    3  +\n",
       "4  b  20.17  5.625  u  g  w  v  1.71  t  f   0  f  s  120.0    0  +"
      ]
     },
     "execution_count": 3,
     "metadata": {},
     "output_type": "execute_result"
    }
   ],
   "source": [
    "# load the data\n",
    "credData = pd.read_csv(url_path, header=None, na_values='?')\n",
    "credData.head()"
   ]
  },
  {
   "cell_type": "code",
   "execution_count": 4,
   "id": "disturbed-singing",
   "metadata": {},
   "outputs": [
    {
     "data": {
      "text/html": [
       "<div>\n",
       "<style scoped>\n",
       "    .dataframe tbody tr th:only-of-type {\n",
       "        vertical-align: middle;\n",
       "    }\n",
       "\n",
       "    .dataframe tbody tr th {\n",
       "        vertical-align: top;\n",
       "    }\n",
       "\n",
       "    .dataframe thead th {\n",
       "        text-align: right;\n",
       "    }\n",
       "</style>\n",
       "<table border=\"1\" class=\"dataframe\">\n",
       "  <thead>\n",
       "    <tr style=\"text-align: right;\">\n",
       "      <th></th>\n",
       "      <th>0</th>\n",
       "      <th>1</th>\n",
       "      <th>2</th>\n",
       "      <th>3</th>\n",
       "      <th>4</th>\n",
       "      <th>5</th>\n",
       "      <th>6</th>\n",
       "      <th>7</th>\n",
       "      <th>8</th>\n",
       "      <th>9</th>\n",
       "      <th>10</th>\n",
       "      <th>11</th>\n",
       "      <th>12</th>\n",
       "      <th>13</th>\n",
       "      <th>14</th>\n",
       "      <th>15</th>\n",
       "    </tr>\n",
       "  </thead>\n",
       "  <tbody>\n",
       "    <tr>\n",
       "      <th>0</th>\n",
       "      <td>b</td>\n",
       "      <td>30.83</td>\n",
       "      <td>0.000</td>\n",
       "      <td>u</td>\n",
       "      <td>g</td>\n",
       "      <td>w</td>\n",
       "      <td>v</td>\n",
       "      <td>1.25</td>\n",
       "      <td>t</td>\n",
       "      <td>t</td>\n",
       "      <td>1</td>\n",
       "      <td>f</td>\n",
       "      <td>g</td>\n",
       "      <td>202.0</td>\n",
       "      <td>0</td>\n",
       "      <td>1</td>\n",
       "    </tr>\n",
       "    <tr>\n",
       "      <th>1</th>\n",
       "      <td>a</td>\n",
       "      <td>58.67</td>\n",
       "      <td>4.460</td>\n",
       "      <td>u</td>\n",
       "      <td>g</td>\n",
       "      <td>q</td>\n",
       "      <td>h</td>\n",
       "      <td>3.04</td>\n",
       "      <td>t</td>\n",
       "      <td>t</td>\n",
       "      <td>6</td>\n",
       "      <td>f</td>\n",
       "      <td>g</td>\n",
       "      <td>43.0</td>\n",
       "      <td>560</td>\n",
       "      <td>1</td>\n",
       "    </tr>\n",
       "    <tr>\n",
       "      <th>2</th>\n",
       "      <td>a</td>\n",
       "      <td>24.50</td>\n",
       "      <td>0.500</td>\n",
       "      <td>u</td>\n",
       "      <td>g</td>\n",
       "      <td>q</td>\n",
       "      <td>h</td>\n",
       "      <td>1.50</td>\n",
       "      <td>t</td>\n",
       "      <td>f</td>\n",
       "      <td>0</td>\n",
       "      <td>f</td>\n",
       "      <td>g</td>\n",
       "      <td>280.0</td>\n",
       "      <td>824</td>\n",
       "      <td>1</td>\n",
       "    </tr>\n",
       "    <tr>\n",
       "      <th>3</th>\n",
       "      <td>b</td>\n",
       "      <td>27.83</td>\n",
       "      <td>1.540</td>\n",
       "      <td>u</td>\n",
       "      <td>g</td>\n",
       "      <td>w</td>\n",
       "      <td>v</td>\n",
       "      <td>3.75</td>\n",
       "      <td>t</td>\n",
       "      <td>t</td>\n",
       "      <td>5</td>\n",
       "      <td>t</td>\n",
       "      <td>g</td>\n",
       "      <td>100.0</td>\n",
       "      <td>3</td>\n",
       "      <td>1</td>\n",
       "    </tr>\n",
       "    <tr>\n",
       "      <th>4</th>\n",
       "      <td>b</td>\n",
       "      <td>20.17</td>\n",
       "      <td>5.625</td>\n",
       "      <td>u</td>\n",
       "      <td>g</td>\n",
       "      <td>w</td>\n",
       "      <td>v</td>\n",
       "      <td>1.71</td>\n",
       "      <td>t</td>\n",
       "      <td>f</td>\n",
       "      <td>0</td>\n",
       "      <td>f</td>\n",
       "      <td>s</td>\n",
       "      <td>120.0</td>\n",
       "      <td>0</td>\n",
       "      <td>1</td>\n",
       "    </tr>\n",
       "  </tbody>\n",
       "</table>\n",
       "</div>"
      ],
      "text/plain": [
       "  0      1      2  3  4  5  6     7  8  9   10 11 12     13   14 15\n",
       "0  b  30.83  0.000  u  g  w  v  1.25  t  t   1  f  g  202.0    0  1\n",
       "1  a  58.67  4.460  u  g  q  h  3.04  t  t   6  f  g   43.0  560  1\n",
       "2  a  24.50  0.500  u  g  q  h  1.50  t  f   0  f  g  280.0  824  1\n",
       "3  b  27.83  1.540  u  g  w  v  3.75  t  t   5  t  g  100.0    3  1\n",
       "4  b  20.17  5.625  u  g  w  v  1.71  t  f   0  f  s  120.0    0  1"
      ]
     },
     "execution_count": 4,
     "metadata": {},
     "output_type": "execute_result"
    }
   ],
   "source": [
    "# Change these to numerical values of 1 for approved and 0 for not approved\n",
    "credData.loc[credData[15] == '+', 15] = 1\n",
    "credData.loc[credData[15] == '-', 15] = 0\n",
    "credData.head()"
   ]
  },
  {
   "cell_type": "code",
   "execution_count": 5,
   "id": "accessory-excerpt",
   "metadata": {},
   "outputs": [
    {
     "data": {
      "text/plain": [
       "0     12\n",
       "1     12\n",
       "2      0\n",
       "3      6\n",
       "4      6\n",
       "5      9\n",
       "6      9\n",
       "7      0\n",
       "8      0\n",
       "9      0\n",
       "10     0\n",
       "11     0\n",
       "12     0\n",
       "13    13\n",
       "14     0\n",
       "15     0\n",
       "dtype: int64"
      ]
     },
     "execution_count": 5,
     "metadata": {},
     "output_type": "execute_result"
    }
   ],
   "source": [
    "# find the number of null values\n",
    "credData.isnull().sum()"
   ]
  },
  {
   "cell_type": "code",
   "execution_count": 6,
   "id": "departmental-small",
   "metadata": {},
   "outputs": [],
   "source": [
    "# remove na values\n",
    "credData.dropna(inplace=True, axis=0)"
   ]
  },
  {
   "cell_type": "code",
   "execution_count": 7,
   "id": "material-wisconsin",
   "metadata": {},
   "outputs": [],
   "source": [
    "# separate the X and y variables from the dataset\n",
    "X = credData.loc[:, 0:14]\n",
    "y = credData[15].astype('int')"
   ]
  },
  {
   "cell_type": "code",
   "execution_count": 8,
   "id": "failing-remove",
   "metadata": {},
   "outputs": [],
   "source": [
    "# split the dataset into training and testing sets\n",
    "from sklearn.model_selection import train_test_split\n",
    "\n",
    "X_train, X_test, y_train, y_test = train_test_split(X, y, test_size=0.3, random_state=123)"
   ]
  },
  {
   "cell_type": "markdown",
   "id": "stopped-fantasy",
   "metadata": {},
   "source": [
    "# Applying Pipelines for Feature Extraction to the Dataset"
   ]
  },
  {
   "cell_type": "code",
   "execution_count": 9,
   "id": "surprising-essence",
   "metadata": {},
   "outputs": [],
   "source": [
    "# import packages\n",
    "from sklearn.pipeline import Pipeline\n",
    "from sklearn.preprocessing import StandardScaler\n",
    "from sklearn.preprocessing import OneHotEncoder"
   ]
  },
  {
   "cell_type": "code",
   "execution_count": 10,
   "id": "recorded-system",
   "metadata": {},
   "outputs": [],
   "source": [
    "# Define different transformations using the steps argument inside the Pipeline function\n",
    "catTransformer = Pipeline(steps=[('onehot', OneHotEncoder(handle_unknown='ignore'))])"
   ]
  },
  {
   "cell_type": "code",
   "execution_count": 11,
   "id": "earned-eligibility",
   "metadata": {},
   "outputs": [],
   "source": [
    "# normalize the numerical variables\n",
    "numTransformer = Pipeline(steps=[('scaler', StandardScaler())])"
   ]
  },
  {
   "cell_type": "code",
   "execution_count": 12,
   "id": "developing-container",
   "metadata": {},
   "outputs": [
    {
     "data": {
      "text/plain": [
       "0      object\n",
       "1     float64\n",
       "2     float64\n",
       "3      object\n",
       "4      object\n",
       "5      object\n",
       "6      object\n",
       "7     float64\n",
       "8      object\n",
       "9      object\n",
       "10      int64\n",
       "11     object\n",
       "12     object\n",
       "13    float64\n",
       "14      int64\n",
       "dtype: object"
      ]
     },
     "execution_count": 12,
     "metadata": {},
     "output_type": "execute_result"
    }
   ],
   "source": [
    "# print the different data types\n",
    "X.dtypes"
   ]
  },
  {
   "cell_type": "code",
   "execution_count": 13,
   "id": "sharp-stopping",
   "metadata": {},
   "outputs": [
    {
     "data": {
      "text/plain": [
       "Int64Index([1, 2, 7, 10, 13, 14], dtype='int64')"
      ]
     },
     "execution_count": 13,
     "metadata": {},
     "output_type": "execute_result"
    }
   ],
   "source": [
    "# Select the numerical features\n",
    "numFeatures = X.select_dtypes(include=['int64', 'float64']).columns\n",
    "numFeatures"
   ]
  },
  {
   "cell_type": "code",
   "execution_count": 14,
   "id": "atomic-toyota",
   "metadata": {},
   "outputs": [
    {
     "data": {
      "text/plain": [
       "Int64Index([0, 3, 4, 5, 6, 8, 9, 11, 12], dtype='int64')"
      ]
     },
     "execution_count": 14,
     "metadata": {},
     "output_type": "execute_result"
    }
   ],
   "source": [
    "# select the categorical features\n",
    "catFeatures = X.select_dtypes(include='object').columns\n",
    "catFeatures"
   ]
  },
  {
   "cell_type": "code",
   "execution_count": 15,
   "id": "current-penetration",
   "metadata": {},
   "outputs": [],
   "source": [
    "# Create a transformation engine\n",
    "from sklearn.compose import ColumnTransformer\n",
    "\n",
    "preprocessor = ColumnTransformer(transformers=[('numeric', numTransformer, numFeatures), ('categoric', catTransformer, catFeatures)])"
   ]
  },
  {
   "cell_type": "code",
   "execution_count": 16,
   "id": "fiscal-maryland",
   "metadata": {},
   "outputs": [
    {
     "data": {
      "text/html": [
       "<div>\n",
       "<style scoped>\n",
       "    .dataframe tbody tr th:only-of-type {\n",
       "        vertical-align: middle;\n",
       "    }\n",
       "\n",
       "    .dataframe tbody tr th {\n",
       "        vertical-align: top;\n",
       "    }\n",
       "\n",
       "    .dataframe thead th {\n",
       "        text-align: right;\n",
       "    }\n",
       "</style>\n",
       "<table border=\"1\" class=\"dataframe\">\n",
       "  <thead>\n",
       "    <tr style=\"text-align: right;\">\n",
       "      <th></th>\n",
       "      <th>0</th>\n",
       "      <th>1</th>\n",
       "      <th>2</th>\n",
       "      <th>3</th>\n",
       "      <th>4</th>\n",
       "      <th>5</th>\n",
       "      <th>6</th>\n",
       "      <th>7</th>\n",
       "      <th>8</th>\n",
       "      <th>9</th>\n",
       "      <th>...</th>\n",
       "      <th>36</th>\n",
       "      <th>37</th>\n",
       "      <th>38</th>\n",
       "      <th>39</th>\n",
       "      <th>40</th>\n",
       "      <th>41</th>\n",
       "      <th>42</th>\n",
       "      <th>43</th>\n",
       "      <th>44</th>\n",
       "      <th>45</th>\n",
       "    </tr>\n",
       "  </thead>\n",
       "  <tbody>\n",
       "    <tr>\n",
       "      <th>0</th>\n",
       "      <td>0.105658</td>\n",
       "      <td>-0.444900</td>\n",
       "      <td>1.377002</td>\n",
       "      <td>-0.553206</td>\n",
       "      <td>0.570065</td>\n",
       "      <td>-0.174241</td>\n",
       "      <td>0.0</td>\n",
       "      <td>1.0</td>\n",
       "      <td>0.0</td>\n",
       "      <td>0.0</td>\n",
       "      <td>...</td>\n",
       "      <td>0.0</td>\n",
       "      <td>1.0</td>\n",
       "      <td>0.0</td>\n",
       "      <td>1.0</td>\n",
       "      <td>0.0</td>\n",
       "      <td>0.0</td>\n",
       "      <td>1.0</td>\n",
       "      <td>1.0</td>\n",
       "      <td>0.0</td>\n",
       "      <td>0.0</td>\n",
       "    </tr>\n",
       "    <tr>\n",
       "      <th>1</th>\n",
       "      <td>-1.084238</td>\n",
       "      <td>1.115032</td>\n",
       "      <td>-0.528306</td>\n",
       "      <td>-0.553206</td>\n",
       "      <td>-0.602470</td>\n",
       "      <td>-0.167337</td>\n",
       "      <td>1.0</td>\n",
       "      <td>0.0</td>\n",
       "      <td>0.0</td>\n",
       "      <td>1.0</td>\n",
       "      <td>...</td>\n",
       "      <td>0.0</td>\n",
       "      <td>1.0</td>\n",
       "      <td>0.0</td>\n",
       "      <td>1.0</td>\n",
       "      <td>0.0</td>\n",
       "      <td>1.0</td>\n",
       "      <td>0.0</td>\n",
       "      <td>1.0</td>\n",
       "      <td>0.0</td>\n",
       "      <td>0.0</td>\n",
       "    </tr>\n",
       "    <tr>\n",
       "      <th>2</th>\n",
       "      <td>-0.416675</td>\n",
       "      <td>-0.080916</td>\n",
       "      <td>0.592889</td>\n",
       "      <td>-0.327276</td>\n",
       "      <td>-0.367963</td>\n",
       "      <td>-0.174241</td>\n",
       "      <td>0.0</td>\n",
       "      <td>1.0</td>\n",
       "      <td>0.0</td>\n",
       "      <td>1.0</td>\n",
       "      <td>...</td>\n",
       "      <td>0.0</td>\n",
       "      <td>0.0</td>\n",
       "      <td>1.0</td>\n",
       "      <td>0.0</td>\n",
       "      <td>1.0</td>\n",
       "      <td>0.0</td>\n",
       "      <td>1.0</td>\n",
       "      <td>1.0</td>\n",
       "      <td>0.0</td>\n",
       "      <td>0.0</td>\n",
       "    </tr>\n",
       "    <tr>\n",
       "      <th>3</th>\n",
       "      <td>-0.795428</td>\n",
       "      <td>1.418699</td>\n",
       "      <td>-0.189778</td>\n",
       "      <td>-0.553206</td>\n",
       "      <td>-0.485217</td>\n",
       "      <td>0.024974</td>\n",
       "      <td>0.0</td>\n",
       "      <td>1.0</td>\n",
       "      <td>0.0</td>\n",
       "      <td>1.0</td>\n",
       "      <td>...</td>\n",
       "      <td>0.0</td>\n",
       "      <td>1.0</td>\n",
       "      <td>0.0</td>\n",
       "      <td>1.0</td>\n",
       "      <td>0.0</td>\n",
       "      <td>0.0</td>\n",
       "      <td>1.0</td>\n",
       "      <td>1.0</td>\n",
       "      <td>0.0</td>\n",
       "      <td>0.0</td>\n",
       "    </tr>\n",
       "    <tr>\n",
       "      <th>4</th>\n",
       "      <td>-1.125497</td>\n",
       "      <td>0.439061</td>\n",
       "      <td>-0.636809</td>\n",
       "      <td>-0.553206</td>\n",
       "      <td>-0.250710</td>\n",
       "      <td>-0.174241</td>\n",
       "      <td>0.0</td>\n",
       "      <td>1.0</td>\n",
       "      <td>0.0</td>\n",
       "      <td>0.0</td>\n",
       "      <td>...</td>\n",
       "      <td>0.0</td>\n",
       "      <td>1.0</td>\n",
       "      <td>0.0</td>\n",
       "      <td>1.0</td>\n",
       "      <td>0.0</td>\n",
       "      <td>1.0</td>\n",
       "      <td>0.0</td>\n",
       "      <td>1.0</td>\n",
       "      <td>0.0</td>\n",
       "      <td>0.0</td>\n",
       "    </tr>\n",
       "  </tbody>\n",
       "</table>\n",
       "<p>5 rows × 46 columns</p>\n",
       "</div>"
      ],
      "text/plain": [
       "         0         1         2         3         4         5    6    7    8   \\\n",
       "0  0.105658 -0.444900  1.377002 -0.553206  0.570065 -0.174241  0.0  1.0  0.0   \n",
       "1 -1.084238  1.115032 -0.528306 -0.553206 -0.602470 -0.167337  1.0  0.0  0.0   \n",
       "2 -0.416675 -0.080916  0.592889 -0.327276 -0.367963 -0.174241  0.0  1.0  0.0   \n",
       "3 -0.795428  1.418699 -0.189778 -0.553206 -0.485217  0.024974  0.0  1.0  0.0   \n",
       "4 -1.125497  0.439061 -0.636809 -0.553206 -0.250710 -0.174241  0.0  1.0  0.0   \n",
       "\n",
       "    9   ...   36   37   38   39   40   41   42   43   44   45  \n",
       "0  0.0  ...  0.0  1.0  0.0  1.0  0.0  0.0  1.0  1.0  0.0  0.0  \n",
       "1  1.0  ...  0.0  1.0  0.0  1.0  0.0  1.0  0.0  1.0  0.0  0.0  \n",
       "2  1.0  ...  0.0  0.0  1.0  0.0  1.0  0.0  1.0  1.0  0.0  0.0  \n",
       "3  1.0  ...  0.0  1.0  0.0  1.0  0.0  0.0  1.0  1.0  0.0  0.0  \n",
       "4  0.0  ...  0.0  1.0  0.0  1.0  0.0  1.0  0.0  1.0  0.0  0.0  \n",
       "\n",
       "[5 rows x 46 columns]"
      ]
     },
     "execution_count": 16,
     "metadata": {},
     "output_type": "execute_result"
    }
   ],
   "source": [
    "# apply this engine to transform training data\n",
    "X_train_trans = pd.DataFrame(preprocessor.fit_transform(X_train))\n",
    "X_train_trans.head()"
   ]
  },
  {
   "cell_type": "code",
   "execution_count": 17,
   "id": "incorporated-blocking",
   "metadata": {},
   "outputs": [
    {
     "data": {
      "text/html": [
       "<div>\n",
       "<style scoped>\n",
       "    .dataframe tbody tr th:only-of-type {\n",
       "        vertical-align: middle;\n",
       "    }\n",
       "\n",
       "    .dataframe tbody tr th {\n",
       "        vertical-align: top;\n",
       "    }\n",
       "\n",
       "    .dataframe thead th {\n",
       "        text-align: right;\n",
       "    }\n",
       "</style>\n",
       "<table border=\"1\" class=\"dataframe\">\n",
       "  <thead>\n",
       "    <tr style=\"text-align: right;\">\n",
       "      <th></th>\n",
       "      <th>0</th>\n",
       "      <th>1</th>\n",
       "      <th>2</th>\n",
       "      <th>3</th>\n",
       "      <th>4</th>\n",
       "      <th>5</th>\n",
       "      <th>6</th>\n",
       "      <th>7</th>\n",
       "      <th>8</th>\n",
       "      <th>9</th>\n",
       "      <th>...</th>\n",
       "      <th>36</th>\n",
       "      <th>37</th>\n",
       "      <th>38</th>\n",
       "      <th>39</th>\n",
       "      <th>40</th>\n",
       "      <th>41</th>\n",
       "      <th>42</th>\n",
       "      <th>43</th>\n",
       "      <th>44</th>\n",
       "      <th>45</th>\n",
       "    </tr>\n",
       "  </thead>\n",
       "  <tbody>\n",
       "    <tr>\n",
       "      <th>0</th>\n",
       "      <td>-0.059376</td>\n",
       "      <td>-0.531217</td>\n",
       "      <td>-0.623789</td>\n",
       "      <td>-0.553206</td>\n",
       "      <td>0.687319</td>\n",
       "      <td>-0.174241</td>\n",
       "      <td>0.0</td>\n",
       "      <td>1.0</td>\n",
       "      <td>0.0</td>\n",
       "      <td>1.0</td>\n",
       "      <td>...</td>\n",
       "      <td>0.0</td>\n",
       "      <td>1.0</td>\n",
       "      <td>0.0</td>\n",
       "      <td>1.0</td>\n",
       "      <td>0.0</td>\n",
       "      <td>1.0</td>\n",
       "      <td>0.0</td>\n",
       "      <td>1.0</td>\n",
       "      <td>0.0</td>\n",
       "      <td>0.0</td>\n",
       "    </tr>\n",
       "    <tr>\n",
       "      <th>1</th>\n",
       "      <td>-1.063609</td>\n",
       "      <td>-0.878562</td>\n",
       "      <td>-0.600642</td>\n",
       "      <td>-0.327276</td>\n",
       "      <td>0.101051</td>\n",
       "      <td>-0.174076</td>\n",
       "      <td>0.0</td>\n",
       "      <td>1.0</td>\n",
       "      <td>0.0</td>\n",
       "      <td>0.0</td>\n",
       "      <td>...</td>\n",
       "      <td>0.0</td>\n",
       "      <td>1.0</td>\n",
       "      <td>0.0</td>\n",
       "      <td>0.0</td>\n",
       "      <td>1.0</td>\n",
       "      <td>1.0</td>\n",
       "      <td>0.0</td>\n",
       "      <td>1.0</td>\n",
       "      <td>0.0</td>\n",
       "      <td>0.0</td>\n",
       "    </tr>\n",
       "    <tr>\n",
       "      <th>2</th>\n",
       "      <td>0.648620</td>\n",
       "      <td>1.929316</td>\n",
       "      <td>1.847181</td>\n",
       "      <td>0.802371</td>\n",
       "      <td>-0.661097</td>\n",
       "      <td>-0.174241</td>\n",
       "      <td>0.0</td>\n",
       "      <td>1.0</td>\n",
       "      <td>0.0</td>\n",
       "      <td>1.0</td>\n",
       "      <td>...</td>\n",
       "      <td>0.0</td>\n",
       "      <td>0.0</td>\n",
       "      <td>1.0</td>\n",
       "      <td>0.0</td>\n",
       "      <td>1.0</td>\n",
       "      <td>0.0</td>\n",
       "      <td>1.0</td>\n",
       "      <td>1.0</td>\n",
       "      <td>0.0</td>\n",
       "      <td>0.0</td>\n",
       "    </tr>\n",
       "    <tr>\n",
       "      <th>3</th>\n",
       "      <td>2.203242</td>\n",
       "      <td>3.402933</td>\n",
       "      <td>2.245025</td>\n",
       "      <td>2.383877</td>\n",
       "      <td>-1.071485</td>\n",
       "      <td>0.927028</td>\n",
       "      <td>1.0</td>\n",
       "      <td>0.0</td>\n",
       "      <td>0.0</td>\n",
       "      <td>1.0</td>\n",
       "      <td>...</td>\n",
       "      <td>0.0</td>\n",
       "      <td>0.0</td>\n",
       "      <td>1.0</td>\n",
       "      <td>0.0</td>\n",
       "      <td>1.0</td>\n",
       "      <td>1.0</td>\n",
       "      <td>0.0</td>\n",
       "      <td>1.0</td>\n",
       "      <td>0.0</td>\n",
       "      <td>0.0</td>\n",
       "    </tr>\n",
       "    <tr>\n",
       "      <th>4</th>\n",
       "      <td>-0.451332</td>\n",
       "      <td>-0.644572</td>\n",
       "      <td>-0.612215</td>\n",
       "      <td>-0.553206</td>\n",
       "      <td>-0.485217</td>\n",
       "      <td>-0.174241</td>\n",
       "      <td>0.0</td>\n",
       "      <td>1.0</td>\n",
       "      <td>0.0</td>\n",
       "      <td>1.0</td>\n",
       "      <td>...</td>\n",
       "      <td>0.0</td>\n",
       "      <td>1.0</td>\n",
       "      <td>0.0</td>\n",
       "      <td>1.0</td>\n",
       "      <td>0.0</td>\n",
       "      <td>1.0</td>\n",
       "      <td>0.0</td>\n",
       "      <td>1.0</td>\n",
       "      <td>0.0</td>\n",
       "      <td>0.0</td>\n",
       "    </tr>\n",
       "  </tbody>\n",
       "</table>\n",
       "<p>5 rows × 46 columns</p>\n",
       "</div>"
      ],
      "text/plain": [
       "         0         1         2         3         4         5    6    7    8   \\\n",
       "0 -0.059376 -0.531217 -0.623789 -0.553206  0.687319 -0.174241  0.0  1.0  0.0   \n",
       "1 -1.063609 -0.878562 -0.600642 -0.327276  0.101051 -0.174076  0.0  1.0  0.0   \n",
       "2  0.648620  1.929316  1.847181  0.802371 -0.661097 -0.174241  0.0  1.0  0.0   \n",
       "3  2.203242  3.402933  2.245025  2.383877 -1.071485  0.927028  1.0  0.0  0.0   \n",
       "4 -0.451332 -0.644572 -0.612215 -0.553206 -0.485217 -0.174241  0.0  1.0  0.0   \n",
       "\n",
       "    9   ...   36   37   38   39   40   41   42   43   44   45  \n",
       "0  1.0  ...  0.0  1.0  0.0  1.0  0.0  1.0  0.0  1.0  0.0  0.0  \n",
       "1  0.0  ...  0.0  1.0  0.0  0.0  1.0  1.0  0.0  1.0  0.0  0.0  \n",
       "2  1.0  ...  0.0  0.0  1.0  0.0  1.0  0.0  1.0  1.0  0.0  0.0  \n",
       "3  1.0  ...  0.0  0.0  1.0  0.0  1.0  1.0  0.0  1.0  0.0  0.0  \n",
       "4  1.0  ...  0.0  1.0  0.0  1.0  0.0  1.0  0.0  1.0  0.0  0.0  \n",
       "\n",
       "[5 rows x 46 columns]"
      ]
     },
     "execution_count": 17,
     "metadata": {},
     "output_type": "execute_result"
    }
   ],
   "source": [
    "# transform the test set using the preprocessing engine\n",
    "X_test_trans = pd.DataFrame(preprocessor.transform(X_test))\n",
    "X_test_trans.head()"
   ]
  },
  {
   "cell_type": "markdown",
   "id": "partial-insider",
   "metadata": {},
   "source": [
    "# Adding Dimensionality Reduction to the Feature Extraction Pipeline"
   ]
  },
  {
   "cell_type": "code",
   "execution_count": 18,
   "id": "electronic-gateway",
   "metadata": {},
   "outputs": [],
   "source": [
    "# import package\n",
    "from sklearn.decomposition import PCA"
   ]
  },
  {
   "cell_type": "code",
   "execution_count": 19,
   "id": "defensive-outline",
   "metadata": {},
   "outputs": [],
   "source": [
    "# add the reduce dimensions to the pipeline\n",
    "estimator = Pipeline([('preprocessor', preprocessor), ('dimred', PCA(10))])"
   ]
  },
  {
   "cell_type": "code",
   "execution_count": 20,
   "id": "circular-pressing",
   "metadata": {},
   "outputs": [
    {
     "data": {
      "text/html": [
       "<div>\n",
       "<style scoped>\n",
       "    .dataframe tbody tr th:only-of-type {\n",
       "        vertical-align: middle;\n",
       "    }\n",
       "\n",
       "    .dataframe tbody tr th {\n",
       "        vertical-align: top;\n",
       "    }\n",
       "\n",
       "    .dataframe thead th {\n",
       "        text-align: right;\n",
       "    }\n",
       "</style>\n",
       "<table border=\"1\" class=\"dataframe\">\n",
       "  <thead>\n",
       "    <tr style=\"text-align: right;\">\n",
       "      <th></th>\n",
       "      <th>0</th>\n",
       "      <th>1</th>\n",
       "      <th>2</th>\n",
       "      <th>3</th>\n",
       "      <th>4</th>\n",
       "      <th>5</th>\n",
       "      <th>6</th>\n",
       "      <th>7</th>\n",
       "      <th>8</th>\n",
       "      <th>9</th>\n",
       "    </tr>\n",
       "  </thead>\n",
       "  <tbody>\n",
       "    <tr>\n",
       "      <th>0</th>\n",
       "      <td>-0.456911</td>\n",
       "      <td>0.857577</td>\n",
       "      <td>-1.231989</td>\n",
       "      <td>0.902396</td>\n",
       "      <td>1.604191</td>\n",
       "      <td>-0.284921</td>\n",
       "      <td>-0.595444</td>\n",
       "      <td>0.206836</td>\n",
       "      <td>0.027712</td>\n",
       "      <td>0.742267</td>\n",
       "    </tr>\n",
       "    <tr>\n",
       "      <th>1</th>\n",
       "      <td>-0.758102</td>\n",
       "      <td>-1.279315</td>\n",
       "      <td>1.162158</td>\n",
       "      <td>0.397572</td>\n",
       "      <td>0.031973</td>\n",
       "      <td>1.236864</td>\n",
       "      <td>0.353098</td>\n",
       "      <td>-0.020558</td>\n",
       "      <td>0.561482</td>\n",
       "      <td>0.613476</td>\n",
       "    </tr>\n",
       "    <tr>\n",
       "      <th>2</th>\n",
       "      <td>0.387754</td>\n",
       "      <td>-0.022255</td>\n",
       "      <td>-0.082482</td>\n",
       "      <td>-0.524931</td>\n",
       "      <td>0.089300</td>\n",
       "      <td>0.300113</td>\n",
       "      <td>-1.257660</td>\n",
       "      <td>-0.191124</td>\n",
       "      <td>-0.376516</td>\n",
       "      <td>-0.367365</td>\n",
       "    </tr>\n",
       "    <tr>\n",
       "      <th>3</th>\n",
       "      <td>-0.332061</td>\n",
       "      <td>-0.636192</td>\n",
       "      <td>0.825248</td>\n",
       "      <td>0.798001</td>\n",
       "      <td>0.435375</td>\n",
       "      <td>1.377995</td>\n",
       "      <td>-0.578766</td>\n",
       "      <td>0.030524</td>\n",
       "      <td>-0.900729</td>\n",
       "      <td>0.620234</td>\n",
       "    </tr>\n",
       "    <tr>\n",
       "      <th>4</th>\n",
       "      <td>-1.412780</td>\n",
       "      <td>-0.707406</td>\n",
       "      <td>0.607928</td>\n",
       "      <td>0.549580</td>\n",
       "      <td>1.582078</td>\n",
       "      <td>-0.119710</td>\n",
       "      <td>0.496112</td>\n",
       "      <td>0.597986</td>\n",
       "      <td>-0.133551</td>\n",
       "      <td>0.032972</td>\n",
       "    </tr>\n",
       "  </tbody>\n",
       "</table>\n",
       "</div>"
      ],
      "text/plain": [
       "          0         1         2         3         4         5         6  \\\n",
       "0 -0.456911  0.857577 -1.231989  0.902396  1.604191 -0.284921 -0.595444   \n",
       "1 -0.758102 -1.279315  1.162158  0.397572  0.031973  1.236864  0.353098   \n",
       "2  0.387754 -0.022255 -0.082482 -0.524931  0.089300  0.300113 -1.257660   \n",
       "3 -0.332061 -0.636192  0.825248  0.798001  0.435375  1.377995 -0.578766   \n",
       "4 -1.412780 -0.707406  0.607928  0.549580  1.582078 -0.119710  0.496112   \n",
       "\n",
       "          7         8         9  \n",
       "0  0.206836  0.027712  0.742267  \n",
       "1 -0.020558  0.561482  0.613476  \n",
       "2 -0.191124 -0.376516 -0.367365  \n",
       "3  0.030524 -0.900729  0.620234  \n",
       "4  0.597986 -0.133551  0.032972  "
      ]
     },
     "execution_count": 20,
     "metadata": {},
     "output_type": "execute_result"
    }
   ],
   "source": [
    "# fit the training data\n",
    "X_train_trans = pd.DataFrame(estimator.fit_transform(X_train))\n",
    "X_train_trans.head()"
   ]
  },
  {
   "cell_type": "code",
   "execution_count": 21,
   "id": "preceding-repair",
   "metadata": {},
   "outputs": [
    {
     "data": {
      "text/html": [
       "<div>\n",
       "<style scoped>\n",
       "    .dataframe tbody tr th:only-of-type {\n",
       "        vertical-align: middle;\n",
       "    }\n",
       "\n",
       "    .dataframe tbody tr th {\n",
       "        vertical-align: top;\n",
       "    }\n",
       "\n",
       "    .dataframe thead th {\n",
       "        text-align: right;\n",
       "    }\n",
       "</style>\n",
       "<table border=\"1\" class=\"dataframe\">\n",
       "  <thead>\n",
       "    <tr style=\"text-align: right;\">\n",
       "      <th></th>\n",
       "      <th>0</th>\n",
       "      <th>1</th>\n",
       "      <th>2</th>\n",
       "      <th>3</th>\n",
       "      <th>4</th>\n",
       "      <th>5</th>\n",
       "      <th>6</th>\n",
       "      <th>7</th>\n",
       "      <th>8</th>\n",
       "      <th>9</th>\n",
       "    </tr>\n",
       "  </thead>\n",
       "  <tbody>\n",
       "    <tr>\n",
       "      <th>0</th>\n",
       "      <td>-1.299051</td>\n",
       "      <td>0.187772</td>\n",
       "      <td>-0.231370</td>\n",
       "      <td>0.112879</td>\n",
       "      <td>-0.484604</td>\n",
       "      <td>0.369499</td>\n",
       "      <td>0.282160</td>\n",
       "      <td>1.091150</td>\n",
       "      <td>-0.062456</td>\n",
       "      <td>0.077569</td>\n",
       "    </tr>\n",
       "    <tr>\n",
       "      <th>1</th>\n",
       "      <td>-1.494398</td>\n",
       "      <td>-0.200785</td>\n",
       "      <td>0.231369</td>\n",
       "      <td>-0.609630</td>\n",
       "      <td>1.235941</td>\n",
       "      <td>-1.063417</td>\n",
       "      <td>0.259277</td>\n",
       "      <td>0.779575</td>\n",
       "      <td>0.086378</td>\n",
       "      <td>0.078710</td>\n",
       "    </tr>\n",
       "    <tr>\n",
       "      <th>2</th>\n",
       "      <td>2.829701</td>\n",
       "      <td>-0.298786</td>\n",
       "      <td>-0.099139</td>\n",
       "      <td>0.245610</td>\n",
       "      <td>0.638466</td>\n",
       "      <td>0.991274</td>\n",
       "      <td>-0.769735</td>\n",
       "      <td>0.040185</td>\n",
       "      <td>-0.614251</td>\n",
       "      <td>0.164817</td>\n",
       "    </tr>\n",
       "    <tr>\n",
       "      <th>3</th>\n",
       "      <td>5.259748</td>\n",
       "      <td>-0.456795</td>\n",
       "      <td>0.789554</td>\n",
       "      <td>1.150056</td>\n",
       "      <td>-0.033996</td>\n",
       "      <td>0.487041</td>\n",
       "      <td>1.095085</td>\n",
       "      <td>-0.113758</td>\n",
       "      <td>0.515659</td>\n",
       "      <td>0.520806</td>\n",
       "    </tr>\n",
       "    <tr>\n",
       "      <th>4</th>\n",
       "      <td>-1.310730</td>\n",
       "      <td>-0.695854</td>\n",
       "      <td>0.141460</td>\n",
       "      <td>0.215672</td>\n",
       "      <td>-0.506067</td>\n",
       "      <td>0.058389</td>\n",
       "      <td>-0.324188</td>\n",
       "      <td>0.963671</td>\n",
       "      <td>0.032933</td>\n",
       "      <td>0.043535</td>\n",
       "    </tr>\n",
       "  </tbody>\n",
       "</table>\n",
       "</div>"
      ],
      "text/plain": [
       "          0         1         2         3         4         5         6  \\\n",
       "0 -1.299051  0.187772 -0.231370  0.112879 -0.484604  0.369499  0.282160   \n",
       "1 -1.494398 -0.200785  0.231369 -0.609630  1.235941 -1.063417  0.259277   \n",
       "2  2.829701 -0.298786 -0.099139  0.245610  0.638466  0.991274 -0.769735   \n",
       "3  5.259748 -0.456795  0.789554  1.150056 -0.033996  0.487041  1.095085   \n",
       "4 -1.310730 -0.695854  0.141460  0.215672 -0.506067  0.058389 -0.324188   \n",
       "\n",
       "          7         8         9  \n",
       "0  1.091150 -0.062456  0.077569  \n",
       "1  0.779575  0.086378  0.078710  \n",
       "2  0.040185 -0.614251  0.164817  \n",
       "3 -0.113758  0.515659  0.520806  \n",
       "4  0.963671  0.032933  0.043535  "
      ]
     },
     "execution_count": 21,
     "metadata": {},
     "output_type": "execute_result"
    }
   ],
   "source": [
    "# transform the test set\n",
    "X_test_trans = pd.DataFrame(estimator.transform(X_test))\n",
    "X_test_trans.head()"
   ]
  },
  {
   "cell_type": "markdown",
   "id": "behavioral-marks",
   "metadata": {},
   "source": [
    "# Modeling and Predictions Using ML Pipelines"
   ]
  },
  {
   "cell_type": "code",
   "execution_count": 22,
   "id": "western-humanitarian",
   "metadata": {},
   "outputs": [],
   "source": [
    "# import packages\n",
    "from sklearn.linear_model import LogisticRegression"
   ]
  },
  {
   "cell_type": "code",
   "execution_count": 23,
   "id": "personal-question",
   "metadata": {},
   "outputs": [],
   "source": [
    "# create an estimator\n",
    "estimator = Pipeline(steps=[('preprocessor', preprocessor),\n",
    "                           ('dimred', PCA(10)),\n",
    "                           ('clf', LogisticRegression(random_state=123))])"
   ]
  },
  {
   "cell_type": "code",
   "execution_count": 24,
   "id": "automated-rover",
   "metadata": {},
   "outputs": [
    {
     "data": {
      "text/plain": [
       "Pipeline(steps=[('preprocessor',\n",
       "                 ColumnTransformer(transformers=[('numeric',\n",
       "                                                  Pipeline(steps=[('scaler',\n",
       "                                                                   StandardScaler())]),\n",
       "                                                  Int64Index([1, 2, 7, 10, 13, 14], dtype='int64')),\n",
       "                                                 ('categoric',\n",
       "                                                  Pipeline(steps=[('onehot',\n",
       "                                                                   OneHotEncoder(handle_unknown='ignore'))]),\n",
       "                                                  Int64Index([0, 3, 4, 5, 6, 8, 9, 11, 12], dtype='int64'))])),\n",
       "                ('dimred', PCA(n_components=10)),\n",
       "                ('clf', LogisticRegression(random_state=123))])"
      ]
     },
     "execution_count": 24,
     "metadata": {},
     "output_type": "execute_result"
    }
   ],
   "source": [
    "# fit the model\n",
    "estimator.fit(X_train, y_train)"
   ]
  },
  {
   "cell_type": "code",
   "execution_count": 25,
   "id": "hungarian-india",
   "metadata": {},
   "outputs": [
    {
     "data": {
      "text/plain": [
       "0.8877551020408163"
      ]
     },
     "execution_count": 25,
     "metadata": {},
     "output_type": "execute_result"
    }
   ],
   "source": [
    "# print the accuracy score\n",
    "estimator.score(X_test, y_test)"
   ]
  },
  {
   "cell_type": "code",
   "execution_count": 26,
   "id": "adaptive-holocaust",
   "metadata": {},
   "outputs": [],
   "source": [
    "# make predictions\n",
    "pred = estimator.predict(X_test)"
   ]
  },
  {
   "cell_type": "code",
   "execution_count": 27,
   "id": "mental-argument",
   "metadata": {},
   "outputs": [
    {
     "name": "stdout",
     "output_type": "stream",
     "text": [
      "              precision    recall  f1-score   support\n",
      "\n",
      "           0       0.90      0.90      0.90       107\n",
      "           1       0.88      0.88      0.88        89\n",
      "\n",
      "    accuracy                           0.89       196\n",
      "   macro avg       0.89      0.89      0.89       196\n",
      "weighted avg       0.89      0.89      0.89       196\n",
      "\n"
     ]
    }
   ],
   "source": [
    "# classification report\n",
    "from sklearn.metrics import classification_report\n",
    "\n",
    "print(classification_report(y_test, pred))"
   ]
  },
  {
   "cell_type": "code",
   "execution_count": 28,
   "id": "accompanied-pillow",
   "metadata": {},
   "outputs": [
    {
     "name": "stdout",
     "output_type": "stream",
     "text": [
      "[[96 11]\n",
      " [11 78]]\n"
     ]
    }
   ],
   "source": [
    "# confusion matrix\n",
    "from sklearn.metrics import confusion_matrix\n",
    "\n",
    "print(confusion_matrix(y_test, pred))"
   ]
  },
  {
   "cell_type": "markdown",
   "id": "subject-difference",
   "metadata": {},
   "source": [
    "We see that we have got an accuracy rate of 89%, which means that 89% (classification report) of the customers in the test set were correctly classified as creditworthy or not. Let's also look closely at the recall values for each class. We can see that the 0 class stands for those unworthy customers who had a recall value of 90%. This means that almost 10% (100%-90%) of unworthy customers were wrongly classified as worthy customers, which would be the risk the business will have to bear. On the other hand, the recall value for worthy customers is only 88%, which means that the business has missed an opportunity to the tune of 12% (100%-88%)."
   ]
  },
  {
   "cell_type": "markdown",
   "id": "appointed-nashville",
   "metadata": {},
   "source": [
    "# Spot-Checking Models Using ML Pipelines"
   ]
  },
  {
   "cell_type": "code",
   "execution_count": 29,
   "id": "sorted-motorcycle",
   "metadata": {},
   "outputs": [],
   "source": [
    "# import packages\n",
    "from sklearn.neighbors import KNeighborsClassifier\n",
    "from sklearn.ensemble import RandomForestClassifier, AdaBoostClassifier"
   ]
  },
  {
   "cell_type": "code",
   "execution_count": 30,
   "id": "exotic-portable",
   "metadata": {},
   "outputs": [],
   "source": [
    "# create a list of classifiers\n",
    "classifiers = [KNeighborsClassifier(5),\n",
    "              RandomForestClassifier(random_state=123),\n",
    "              AdaBoostClassifier(random_state=123),\n",
    "              LogisticRegression(random_state=123)]"
   ]
  },
  {
   "cell_type": "code",
   "execution_count": 31,
   "id": "final-bleeding",
   "metadata": {},
   "outputs": [
    {
     "name": "stdout",
     "output_type": "stream",
     "text": [
      "KNeighborsClassifier()\n",
      "Accuracy on test set: 0.826530612244898\n",
      "\n",
      "RandomForestClassifier(random_state=123)\n",
      "Accuracy on test set: 0.8622448979591837\n",
      "\n",
      "AdaBoostClassifier(random_state=123)\n",
      "Accuracy on test set: 0.8571428571428571\n",
      "\n",
      "LogisticRegression(random_state=123)\n",
      "Accuracy on test set: 0.8877551020408163\n",
      "\n"
     ]
    }
   ],
   "source": [
    "# initiate a for loop over the classifiers and then pass the respective classifiers into the estimator\n",
    "for classifier in classifiers:\n",
    "    estimator = Pipeline(steps=[('preprocessor', preprocessor),\n",
    "                               ('dimred', PCA(10)),\n",
    "                               ('classifier', classifier)])\n",
    "    \n",
    "    estimator.fit(X_train, y_train)\n",
    "    \n",
    "    print(classifier)\n",
    "    print(f'Accuracy on test set: {estimator.score(X_test, y_test)}\\n')"
   ]
  },
  {
   "cell_type": "markdown",
   "id": "valid-coast",
   "metadata": {},
   "source": [
    "# Grid Search and Cross-Validation with ML Pipelines"
   ]
  },
  {
   "cell_type": "code",
   "execution_count": 32,
   "id": "accepted-warren",
   "metadata": {},
   "outputs": [],
   "source": [
    "# Create a pipeline using AdaBoostClassifier\n",
    "pipe = Pipeline(steps=[('preprocessor', preprocessor),\n",
    "                      ('dimred', PCA()),\n",
    "                      ('classifier', AdaBoostClassifier(random_state=123))])"
   ]
  },
  {
   "cell_type": "code",
   "execution_count": 33,
   "id": "dimensional-chemical",
   "metadata": {},
   "outputs": [],
   "source": [
    "# Define the parameters as a dictionary\n",
    "grid_params = {'dimred__n_components':[10,12,15],\\\n",
    "              \"classifier__n_estimators\": [50, 100,200],\\\n",
    "              \"classifier__learning_rate\":[0.7,0.6,1.0]}"
   ]
  },
  {
   "cell_type": "code",
   "execution_count": 34,
   "id": "twenty-canyon",
   "metadata": {},
   "outputs": [],
   "source": [
    "# create the estimator function using the GridSearchCv function\n",
    "from sklearn.model_selection import GridSearchCV\n",
    "\n",
    "estimator = GridSearchCV(pipe, cv=10, param_grid=grid_params)"
   ]
  },
  {
   "cell_type": "code",
   "execution_count": 35,
   "id": "endangered-netscape",
   "metadata": {},
   "outputs": [
    {
     "data": {
      "text/plain": [
       "GridSearchCV(cv=10,\n",
       "             estimator=Pipeline(steps=[('preprocessor',\n",
       "                                        ColumnTransformer(transformers=[('numeric',\n",
       "                                                                         Pipeline(steps=[('scaler',\n",
       "                                                                                          StandardScaler())]),\n",
       "                                                                         Int64Index([1, 2, 7, 10, 13, 14], dtype='int64')),\n",
       "                                                                        ('categoric',\n",
       "                                                                         Pipeline(steps=[('onehot',\n",
       "                                                                                          OneHotEncoder(handle_unknown='ignore'))]),\n",
       "                                                                         Int64Index([0, 3, 4, 5, 6, 8, 9, 11, 12], dtype='int64'))])),\n",
       "                                       ('dimred', PCA()),\n",
       "                                       ('classifier',\n",
       "                                        AdaBoostClassifier(random_state=123))]),\n",
       "             param_grid={'classifier__learning_rate': [0.7, 0.6, 1.0],\n",
       "                         'classifier__n_estimators': [50, 100, 200],\n",
       "                         'dimred__n_components': [10, 12, 15]})"
      ]
     },
     "execution_count": 35,
     "metadata": {},
     "output_type": "execute_result"
    }
   ],
   "source": [
    "# fit the estimator\n",
    "estimator.fit(X_train, y_train)"
   ]
  },
  {
   "cell_type": "code",
   "execution_count": 36,
   "id": "several-dollar",
   "metadata": {},
   "outputs": [
    {
     "name": "stdout",
     "output_type": "stream",
     "text": [
      "Best: 0.8424637681159421 using {'classifier__learning_rate': 0.7, 'classifier__n_estimators': 50, 'dimred__n_components': 15}\n"
     ]
    }
   ],
   "source": [
    "# print out the best parameters and the best score obtained\n",
    "print(f'Best: {estimator.best_score_} using {estimator.best_params_}')"
   ]
  },
  {
   "cell_type": "code",
   "execution_count": 37,
   "id": "sacred-maintenance",
   "metadata": {},
   "outputs": [],
   "source": [
    "# make predictions\n",
    "pred = estimator.predict(X_test)"
   ]
  },
  {
   "cell_type": "code",
   "execution_count": 38,
   "id": "anonymous-reason",
   "metadata": {},
   "outputs": [
    {
     "name": "stdout",
     "output_type": "stream",
     "text": [
      "              precision    recall  f1-score   support\n",
      "\n",
      "           0       0.87      0.84      0.85       107\n",
      "           1       0.82      0.84      0.83        89\n",
      "\n",
      "    accuracy                           0.84       196\n",
      "   macro avg       0.84      0.84      0.84       196\n",
      "weighted avg       0.84      0.84      0.84       196\n",
      "\n"
     ]
    }
   ],
   "source": [
    "# classification report\n",
    "print(classification_report(y_test, pred))"
   ]
  }
 ],
 "metadata": {
  "kernelspec": {
   "display_name": "Python 3",
   "language": "python",
   "name": "python3"
  },
  "language_info": {
   "codemirror_mode": {
    "name": "ipython",
    "version": 3
   },
   "file_extension": ".py",
   "mimetype": "text/x-python",
   "name": "python",
   "nbconvert_exporter": "python",
   "pygments_lexer": "ipython3",
   "version": "3.7.7"
  }
 },
 "nbformat": 4,
 "nbformat_minor": 5
}
