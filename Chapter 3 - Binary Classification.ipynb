{
 "cells": [
  {
   "cell_type": "markdown",
   "id": "dynamic-section",
   "metadata": {},
   "source": [
    "# Loading and Exploring the Data from the Dataset"
   ]
  },
  {
   "cell_type": "code",
   "execution_count": 1,
   "id": "amazing-translation",
   "metadata": {},
   "outputs": [],
   "source": [
    "# import packages\n",
    "import pandas as pd\n",
    "import warnings\n",
    "warnings.filterwarnings('ignore')"
   ]
  },
  {
   "cell_type": "code",
   "execution_count": 2,
   "id": "square-segment",
   "metadata": {},
   "outputs": [],
   "source": [
    "# data url path\n",
    "file_url = 'https://raw.githubusercontent.com/PacktWorkshops/The-Data-Science-Workshop/master/Chapter03/bank-full.csv'"
   ]
  },
  {
   "cell_type": "code",
   "execution_count": 3,
   "id": "isolated-bridge",
   "metadata": {},
   "outputs": [
    {
     "data": {
      "text/html": [
       "<div>\n",
       "<style scoped>\n",
       "    .dataframe tbody tr th:only-of-type {\n",
       "        vertical-align: middle;\n",
       "    }\n",
       "\n",
       "    .dataframe tbody tr th {\n",
       "        vertical-align: top;\n",
       "    }\n",
       "\n",
       "    .dataframe thead th {\n",
       "        text-align: right;\n",
       "    }\n",
       "</style>\n",
       "<table border=\"1\" class=\"dataframe\">\n",
       "  <thead>\n",
       "    <tr style=\"text-align: right;\">\n",
       "      <th></th>\n",
       "      <th>age</th>\n",
       "      <th>job</th>\n",
       "      <th>marital</th>\n",
       "      <th>education</th>\n",
       "      <th>default</th>\n",
       "      <th>balance</th>\n",
       "      <th>housing</th>\n",
       "      <th>loan</th>\n",
       "      <th>contact</th>\n",
       "      <th>day</th>\n",
       "      <th>month</th>\n",
       "      <th>duration</th>\n",
       "      <th>campaign</th>\n",
       "      <th>pdays</th>\n",
       "      <th>previous</th>\n",
       "      <th>poutcome</th>\n",
       "      <th>y</th>\n",
       "    </tr>\n",
       "  </thead>\n",
       "  <tbody>\n",
       "    <tr>\n",
       "      <th>0</th>\n",
       "      <td>58</td>\n",
       "      <td>management</td>\n",
       "      <td>married</td>\n",
       "      <td>tertiary</td>\n",
       "      <td>no</td>\n",
       "      <td>2143</td>\n",
       "      <td>yes</td>\n",
       "      <td>no</td>\n",
       "      <td>unknown</td>\n",
       "      <td>5</td>\n",
       "      <td>may</td>\n",
       "      <td>261</td>\n",
       "      <td>1</td>\n",
       "      <td>-1</td>\n",
       "      <td>0</td>\n",
       "      <td>unknown</td>\n",
       "      <td>no</td>\n",
       "    </tr>\n",
       "    <tr>\n",
       "      <th>1</th>\n",
       "      <td>44</td>\n",
       "      <td>technician</td>\n",
       "      <td>single</td>\n",
       "      <td>secondary</td>\n",
       "      <td>no</td>\n",
       "      <td>29</td>\n",
       "      <td>yes</td>\n",
       "      <td>no</td>\n",
       "      <td>unknown</td>\n",
       "      <td>5</td>\n",
       "      <td>may</td>\n",
       "      <td>151</td>\n",
       "      <td>1</td>\n",
       "      <td>-1</td>\n",
       "      <td>0</td>\n",
       "      <td>unknown</td>\n",
       "      <td>no</td>\n",
       "    </tr>\n",
       "    <tr>\n",
       "      <th>2</th>\n",
       "      <td>33</td>\n",
       "      <td>entrepreneur</td>\n",
       "      <td>married</td>\n",
       "      <td>secondary</td>\n",
       "      <td>no</td>\n",
       "      <td>2</td>\n",
       "      <td>yes</td>\n",
       "      <td>yes</td>\n",
       "      <td>unknown</td>\n",
       "      <td>5</td>\n",
       "      <td>may</td>\n",
       "      <td>76</td>\n",
       "      <td>1</td>\n",
       "      <td>-1</td>\n",
       "      <td>0</td>\n",
       "      <td>unknown</td>\n",
       "      <td>no</td>\n",
       "    </tr>\n",
       "    <tr>\n",
       "      <th>3</th>\n",
       "      <td>47</td>\n",
       "      <td>blue-collar</td>\n",
       "      <td>married</td>\n",
       "      <td>unknown</td>\n",
       "      <td>no</td>\n",
       "      <td>1506</td>\n",
       "      <td>yes</td>\n",
       "      <td>no</td>\n",
       "      <td>unknown</td>\n",
       "      <td>5</td>\n",
       "      <td>may</td>\n",
       "      <td>92</td>\n",
       "      <td>1</td>\n",
       "      <td>-1</td>\n",
       "      <td>0</td>\n",
       "      <td>unknown</td>\n",
       "      <td>no</td>\n",
       "    </tr>\n",
       "    <tr>\n",
       "      <th>4</th>\n",
       "      <td>33</td>\n",
       "      <td>unknown</td>\n",
       "      <td>single</td>\n",
       "      <td>unknown</td>\n",
       "      <td>no</td>\n",
       "      <td>1</td>\n",
       "      <td>no</td>\n",
       "      <td>no</td>\n",
       "      <td>unknown</td>\n",
       "      <td>5</td>\n",
       "      <td>may</td>\n",
       "      <td>198</td>\n",
       "      <td>1</td>\n",
       "      <td>-1</td>\n",
       "      <td>0</td>\n",
       "      <td>unknown</td>\n",
       "      <td>no</td>\n",
       "    </tr>\n",
       "  </tbody>\n",
       "</table>\n",
       "</div>"
      ],
      "text/plain": [
       "   age           job  marital  education default  balance housing loan  \\\n",
       "0   58    management  married   tertiary      no     2143     yes   no   \n",
       "1   44    technician   single  secondary      no       29     yes   no   \n",
       "2   33  entrepreneur  married  secondary      no        2     yes  yes   \n",
       "3   47   blue-collar  married    unknown      no     1506     yes   no   \n",
       "4   33       unknown   single    unknown      no        1      no   no   \n",
       "\n",
       "   contact  day month  duration  campaign  pdays  previous poutcome   y  \n",
       "0  unknown    5   may       261         1     -1         0  unknown  no  \n",
       "1  unknown    5   may       151         1     -1         0  unknown  no  \n",
       "2  unknown    5   may        76         1     -1         0  unknown  no  \n",
       "3  unknown    5   may        92         1     -1         0  unknown  no  \n",
       "4  unknown    5   may       198         1     -1         0  unknown  no  "
      ]
     },
     "execution_count": 3,
     "metadata": {},
     "output_type": "execute_result"
    }
   ],
   "source": [
    "# load data\n",
    "bankData = pd.read_csv(file_url, sep=';')\n",
    "bankData.head()"
   ]
  },
  {
   "cell_type": "code",
   "execution_count": 4,
   "id": "liable-amsterdam",
   "metadata": {},
   "outputs": [
    {
     "name": "stdout",
     "output_type": "stream",
     "text": [
      "(45211, 17)\n"
     ]
    }
   ],
   "source": [
    "# print the shape of the data\n",
    "print(bankData.shape)"
   ]
  },
  {
   "cell_type": "code",
   "execution_count": 5,
   "id": "parliamentary-squad",
   "metadata": {},
   "outputs": [
    {
     "data": {
      "text/html": [
       "<div>\n",
       "<style scoped>\n",
       "    .dataframe tbody tr th:only-of-type {\n",
       "        vertical-align: middle;\n",
       "    }\n",
       "\n",
       "    .dataframe tbody tr th {\n",
       "        vertical-align: top;\n",
       "    }\n",
       "\n",
       "    .dataframe thead th {\n",
       "        text-align: right;\n",
       "    }\n",
       "</style>\n",
       "<table border=\"1\" class=\"dataframe\">\n",
       "  <thead>\n",
       "    <tr style=\"text-align: right;\">\n",
       "      <th></th>\n",
       "      <th>age</th>\n",
       "      <th>balance</th>\n",
       "      <th>day</th>\n",
       "      <th>duration</th>\n",
       "      <th>campaign</th>\n",
       "      <th>pdays</th>\n",
       "      <th>previous</th>\n",
       "    </tr>\n",
       "  </thead>\n",
       "  <tbody>\n",
       "    <tr>\n",
       "      <th>count</th>\n",
       "      <td>45211.000000</td>\n",
       "      <td>45211.000000</td>\n",
       "      <td>45211.000000</td>\n",
       "      <td>45211.000000</td>\n",
       "      <td>45211.000000</td>\n",
       "      <td>45211.000000</td>\n",
       "      <td>45211.000000</td>\n",
       "    </tr>\n",
       "    <tr>\n",
       "      <th>mean</th>\n",
       "      <td>40.936210</td>\n",
       "      <td>1362.272058</td>\n",
       "      <td>15.806419</td>\n",
       "      <td>258.163080</td>\n",
       "      <td>2.763841</td>\n",
       "      <td>40.197828</td>\n",
       "      <td>0.580323</td>\n",
       "    </tr>\n",
       "    <tr>\n",
       "      <th>std</th>\n",
       "      <td>10.618762</td>\n",
       "      <td>3044.765829</td>\n",
       "      <td>8.322476</td>\n",
       "      <td>257.527812</td>\n",
       "      <td>3.098021</td>\n",
       "      <td>100.128746</td>\n",
       "      <td>2.303441</td>\n",
       "    </tr>\n",
       "    <tr>\n",
       "      <th>min</th>\n",
       "      <td>18.000000</td>\n",
       "      <td>-8019.000000</td>\n",
       "      <td>1.000000</td>\n",
       "      <td>0.000000</td>\n",
       "      <td>1.000000</td>\n",
       "      <td>-1.000000</td>\n",
       "      <td>0.000000</td>\n",
       "    </tr>\n",
       "    <tr>\n",
       "      <th>25%</th>\n",
       "      <td>33.000000</td>\n",
       "      <td>72.000000</td>\n",
       "      <td>8.000000</td>\n",
       "      <td>103.000000</td>\n",
       "      <td>1.000000</td>\n",
       "      <td>-1.000000</td>\n",
       "      <td>0.000000</td>\n",
       "    </tr>\n",
       "    <tr>\n",
       "      <th>50%</th>\n",
       "      <td>39.000000</td>\n",
       "      <td>448.000000</td>\n",
       "      <td>16.000000</td>\n",
       "      <td>180.000000</td>\n",
       "      <td>2.000000</td>\n",
       "      <td>-1.000000</td>\n",
       "      <td>0.000000</td>\n",
       "    </tr>\n",
       "    <tr>\n",
       "      <th>75%</th>\n",
       "      <td>48.000000</td>\n",
       "      <td>1428.000000</td>\n",
       "      <td>21.000000</td>\n",
       "      <td>319.000000</td>\n",
       "      <td>3.000000</td>\n",
       "      <td>-1.000000</td>\n",
       "      <td>0.000000</td>\n",
       "    </tr>\n",
       "    <tr>\n",
       "      <th>max</th>\n",
       "      <td>95.000000</td>\n",
       "      <td>102127.000000</td>\n",
       "      <td>31.000000</td>\n",
       "      <td>4918.000000</td>\n",
       "      <td>63.000000</td>\n",
       "      <td>871.000000</td>\n",
       "      <td>275.000000</td>\n",
       "    </tr>\n",
       "  </tbody>\n",
       "</table>\n",
       "</div>"
      ],
      "text/plain": [
       "                age        balance           day      duration      campaign  \\\n",
       "count  45211.000000   45211.000000  45211.000000  45211.000000  45211.000000   \n",
       "mean      40.936210    1362.272058     15.806419    258.163080      2.763841   \n",
       "std       10.618762    3044.765829      8.322476    257.527812      3.098021   \n",
       "min       18.000000   -8019.000000      1.000000      0.000000      1.000000   \n",
       "25%       33.000000      72.000000      8.000000    103.000000      1.000000   \n",
       "50%       39.000000     448.000000     16.000000    180.000000      2.000000   \n",
       "75%       48.000000    1428.000000     21.000000    319.000000      3.000000   \n",
       "max       95.000000  102127.000000     31.000000   4918.000000     63.000000   \n",
       "\n",
       "              pdays      previous  \n",
       "count  45211.000000  45211.000000  \n",
       "mean      40.197828      0.580323  \n",
       "std      100.128746      2.303441  \n",
       "min       -1.000000      0.000000  \n",
       "25%       -1.000000      0.000000  \n",
       "50%       -1.000000      0.000000  \n",
       "75%       -1.000000      0.000000  \n",
       "max      871.000000    275.000000  "
      ]
     },
     "execution_count": 5,
     "metadata": {},
     "output_type": "execute_result"
    }
   ],
   "source": [
    "# summary of numerical raw data\n",
    "bankData.describe()"
   ]
  },
  {
   "cell_type": "markdown",
   "id": "announced-acrobat",
   "metadata": {},
   "source": [
    "# Business Hypothesis Testing for Age versus Propensity for a Term Loan"
   ]
  },
  {
   "cell_type": "code",
   "execution_count": 6,
   "id": "blessed-passport",
   "metadata": {},
   "outputs": [],
   "source": [
    "# import package\n",
    "import altair as alt"
   ]
  },
  {
   "cell_type": "code",
   "execution_count": 7,
   "id": "finnish-experience",
   "metadata": {},
   "outputs": [],
   "source": [
    "# count the number of records for each age group\n",
    "filter_mask = bankData['y'] == 'yes'\n",
    "\n",
    "bankSub1 = bankData[filter_mask].groupby('age')['y'].agg(agegrp='count').reset_index()"
   ]
  },
  {
   "cell_type": "code",
   "execution_count": 8,
   "id": "balanced-wiring",
   "metadata": {},
   "outputs": [
    {
     "data": {
      "application/vnd.vegalite.v3+json": {
       "$schema": "https://vega.github.io/schema/vega-lite/v3.4.0.json",
       "config": {
        "mark": {
         "tooltip": null
        },
        "view": {
         "height": 300,
         "width": 400
        }
       },
       "data": {
        "name": "data-6ffef09df38b640058f0f70d394258ab"
       },
       "datasets": {
        "data-6ffef09df38b640058f0f70d394258ab": [
         {
          "age": 18,
          "agegrp": 7
         },
         {
          "age": 19,
          "agegrp": 11
         },
         {
          "age": 20,
          "agegrp": 15
         },
         {
          "age": 21,
          "agegrp": 22
         },
         {
          "age": 22,
          "agegrp": 40
         },
         {
          "age": 23,
          "agegrp": 44
         },
         {
          "age": 24,
          "agegrp": 68
         },
         {
          "age": 25,
          "agegrp": 113
         },
         {
          "age": 26,
          "agegrp": 134
         },
         {
          "age": 27,
          "agegrp": 141
         },
         {
          "age": 28,
          "agegrp": 162
         },
         {
          "age": 29,
          "agegrp": 171
         },
         {
          "age": 30,
          "agegrp": 217
         },
         {
          "age": 31,
          "agegrp": 206
         },
         {
          "age": 32,
          "agegrp": 221
         },
         {
          "age": 33,
          "agegrp": 210
         },
         {
          "age": 34,
          "agegrp": 198
         },
         {
          "age": 35,
          "agegrp": 209
         },
         {
          "age": 36,
          "agegrp": 195
         },
         {
          "age": 37,
          "agegrp": 170
         },
         {
          "age": 38,
          "agegrp": 144
         },
         {
          "age": 39,
          "agegrp": 143
         },
         {
          "age": 40,
          "agegrp": 116
         },
         {
          "age": 41,
          "agegrp": 120
         },
         {
          "age": 42,
          "agegrp": 111
         },
         {
          "age": 43,
          "agegrp": 103
         },
         {
          "age": 44,
          "agegrp": 93
         },
         {
          "age": 45,
          "agegrp": 106
         },
         {
          "age": 46,
          "agegrp": 118
         },
         {
          "age": 47,
          "agegrp": 113
         },
         {
          "age": 48,
          "agegrp": 82
         },
         {
          "age": 49,
          "agegrp": 101
         },
         {
          "age": 50,
          "agegrp": 72
         },
         {
          "age": 51,
          "agegrp": 77
         },
         {
          "age": 52,
          "agegrp": 85
         },
         {
          "age": 53,
          "agegrp": 85
         },
         {
          "age": 54,
          "agegrp": 84
         },
         {
          "age": 55,
          "agegrp": 76
         },
         {
          "age": 56,
          "agegrp": 68
         },
         {
          "age": 57,
          "agegrp": 78
         },
         {
          "age": 58,
          "agegrp": 72
         },
         {
          "age": 59,
          "agegrp": 88
         },
         {
          "age": 60,
          "agegrp": 98
         },
         {
          "age": 61,
          "agegrp": 57
         },
         {
          "age": 62,
          "agegrp": 39
         },
         {
          "age": 63,
          "agegrp": 30
         },
         {
          "age": 64,
          "agegrp": 35
         },
         {
          "age": 65,
          "agegrp": 21
         },
         {
          "age": 66,
          "agegrp": 24
         },
         {
          "age": 67,
          "agegrp": 23
         },
         {
          "age": 68,
          "agegrp": 21
         },
         {
          "age": 69,
          "agegrp": 17
         },
         {
          "age": 70,
          "agegrp": 17
         },
         {
          "age": 71,
          "agegrp": 25
         },
         {
          "age": 72,
          "agegrp": 24
         },
         {
          "age": 73,
          "agegrp": 24
         },
         {
          "age": 74,
          "agegrp": 13
         },
         {
          "age": 75,
          "agegrp": 15
         },
         {
          "age": 76,
          "agegrp": 16
         },
         {
          "age": 77,
          "agegrp": 22
         },
         {
          "age": 78,
          "agegrp": 14
         },
         {
          "age": 79,
          "agegrp": 10
         },
         {
          "age": 80,
          "agegrp": 12
         },
         {
          "age": 81,
          "agegrp": 6
         },
         {
          "age": 82,
          "agegrp": 8
         },
         {
          "age": 83,
          "agegrp": 6
         },
         {
          "age": 84,
          "agegrp": 5
         },
         {
          "age": 85,
          "agegrp": 4
         },
         {
          "age": 86,
          "agegrp": 4
         },
         {
          "age": 87,
          "agegrp": 3
         },
         {
          "age": 90,
          "agegrp": 2
         },
         {
          "age": 92,
          "agegrp": 2
         },
         {
          "age": 93,
          "agegrp": 2
         },
         {
          "age": 95,
          "agegrp": 1
         }
        ]
       },
       "encoding": {
        "x": {
         "field": "age",
         "type": "quantitative"
        },
        "y": {
         "field": "agegrp",
         "type": "quantitative"
        }
       },
       "mark": "line"
      },
      "text/plain": [
       "<VegaLite 3 object>\n",
       "\n",
       "If you see this message, it means the renderer has not been properly enabled\n",
       "for the frontend that you are using. For more information, see\n",
       "https://altair-viz.github.io/user_guide/troubleshooting.html\n"
      ]
     },
     "execution_count": 8,
     "metadata": {},
     "output_type": "execute_result"
    }
   ],
   "source": [
    "# plot a line chart using altair\n",
    "alt.Chart(bankSub1).mark_line().encode(x='age', y='agegrp')"
   ]
  },
  {
   "cell_type": "code",
   "execution_count": 9,
   "id": "unauthorized-sculpture",
   "metadata": {},
   "outputs": [
    {
     "data": {
      "text/html": [
       "<div>\n",
       "<style scoped>\n",
       "    .dataframe tbody tr th:only-of-type {\n",
       "        vertical-align: middle;\n",
       "    }\n",
       "\n",
       "    .dataframe tbody tr th {\n",
       "        vertical-align: top;\n",
       "    }\n",
       "\n",
       "    .dataframe thead th {\n",
       "        text-align: right;\n",
       "    }\n",
       "</style>\n",
       "<table border=\"1\" class=\"dataframe\">\n",
       "  <thead>\n",
       "    <tr style=\"text-align: right;\">\n",
       "      <th></th>\n",
       "      <th>age</th>\n",
       "      <th>ageTot</th>\n",
       "    </tr>\n",
       "  </thead>\n",
       "  <tbody>\n",
       "    <tr>\n",
       "      <th>0</th>\n",
       "      <td>18</td>\n",
       "      <td>12</td>\n",
       "    </tr>\n",
       "    <tr>\n",
       "      <th>1</th>\n",
       "      <td>19</td>\n",
       "      <td>35</td>\n",
       "    </tr>\n",
       "    <tr>\n",
       "      <th>2</th>\n",
       "      <td>20</td>\n",
       "      <td>50</td>\n",
       "    </tr>\n",
       "    <tr>\n",
       "      <th>3</th>\n",
       "      <td>21</td>\n",
       "      <td>79</td>\n",
       "    </tr>\n",
       "    <tr>\n",
       "      <th>4</th>\n",
       "      <td>22</td>\n",
       "      <td>129</td>\n",
       "    </tr>\n",
       "  </tbody>\n",
       "</table>\n",
       "</div>"
      ],
      "text/plain": [
       "   age  ageTot\n",
       "0   18      12\n",
       "1   19      35\n",
       "2   20      50\n",
       "3   21      79\n",
       "4   22     129"
      ]
     },
     "execution_count": 9,
     "metadata": {},
     "output_type": "execute_result"
    }
   ],
   "source": [
    "# Group the data per age \n",
    "ageTot = bankData.groupby('age')['y'].agg(ageTot='count').reset_index()\n",
    "ageTot.head()"
   ]
  },
  {
   "cell_type": "code",
   "execution_count": 10,
   "id": "protecting-gamma",
   "metadata": {},
   "outputs": [
    {
     "data": {
      "text/html": [
       "<div>\n",
       "<style scoped>\n",
       "    .dataframe tbody tr th:only-of-type {\n",
       "        vertical-align: middle;\n",
       "    }\n",
       "\n",
       "    .dataframe tbody tr th {\n",
       "        vertical-align: top;\n",
       "    }\n",
       "\n",
       "    .dataframe thead th {\n",
       "        text-align: right;\n",
       "    }\n",
       "</style>\n",
       "<table border=\"1\" class=\"dataframe\">\n",
       "  <thead>\n",
       "    <tr style=\"text-align: right;\">\n",
       "      <th></th>\n",
       "      <th>age</th>\n",
       "      <th>y</th>\n",
       "      <th>ageCat</th>\n",
       "    </tr>\n",
       "  </thead>\n",
       "  <tbody>\n",
       "    <tr>\n",
       "      <th>0</th>\n",
       "      <td>18</td>\n",
       "      <td>no</td>\n",
       "      <td>5</td>\n",
       "    </tr>\n",
       "    <tr>\n",
       "      <th>1</th>\n",
       "      <td>18</td>\n",
       "      <td>yes</td>\n",
       "      <td>7</td>\n",
       "    </tr>\n",
       "    <tr>\n",
       "      <th>2</th>\n",
       "      <td>19</td>\n",
       "      <td>no</td>\n",
       "      <td>24</td>\n",
       "    </tr>\n",
       "    <tr>\n",
       "      <th>3</th>\n",
       "      <td>19</td>\n",
       "      <td>yes</td>\n",
       "      <td>11</td>\n",
       "    </tr>\n",
       "    <tr>\n",
       "      <th>4</th>\n",
       "      <td>20</td>\n",
       "      <td>no</td>\n",
       "      <td>35</td>\n",
       "    </tr>\n",
       "  </tbody>\n",
       "</table>\n",
       "</div>"
      ],
      "text/plain": [
       "   age    y  ageCat\n",
       "0   18   no       5\n",
       "1   18  yes       7\n",
       "2   19   no      24\n",
       "3   19  yes      11\n",
       "4   20   no      35"
      ]
     },
     "execution_count": 10,
     "metadata": {},
     "output_type": "execute_result"
    }
   ],
   "source": [
    "# group the data by both age and propensity of purchase\n",
    "ageProp = bankData.groupby(['age', 'y'])['y'].agg(ageCat='count').reset_index()\n",
    "ageProp.head()"
   ]
  },
  {
   "cell_type": "code",
   "execution_count": 11,
   "id": "entertaining-transsexual",
   "metadata": {},
   "outputs": [
    {
     "data": {
      "text/html": [
       "<div>\n",
       "<style scoped>\n",
       "    .dataframe tbody tr th:only-of-type {\n",
       "        vertical-align: middle;\n",
       "    }\n",
       "\n",
       "    .dataframe tbody tr th {\n",
       "        vertical-align: top;\n",
       "    }\n",
       "\n",
       "    .dataframe thead th {\n",
       "        text-align: right;\n",
       "    }\n",
       "</style>\n",
       "<table border=\"1\" class=\"dataframe\">\n",
       "  <thead>\n",
       "    <tr style=\"text-align: right;\">\n",
       "      <th></th>\n",
       "      <th>age</th>\n",
       "      <th>y</th>\n",
       "      <th>ageCat</th>\n",
       "      <th>ageTot</th>\n",
       "      <th>catProp</th>\n",
       "    </tr>\n",
       "  </thead>\n",
       "  <tbody>\n",
       "    <tr>\n",
       "      <th>0</th>\n",
       "      <td>18</td>\n",
       "      <td>no</td>\n",
       "      <td>5</td>\n",
       "      <td>12</td>\n",
       "      <td>41.666667</td>\n",
       "    </tr>\n",
       "    <tr>\n",
       "      <th>1</th>\n",
       "      <td>18</td>\n",
       "      <td>yes</td>\n",
       "      <td>7</td>\n",
       "      <td>12</td>\n",
       "      <td>58.333333</td>\n",
       "    </tr>\n",
       "    <tr>\n",
       "      <th>2</th>\n",
       "      <td>19</td>\n",
       "      <td>no</td>\n",
       "      <td>24</td>\n",
       "      <td>35</td>\n",
       "      <td>68.571429</td>\n",
       "    </tr>\n",
       "    <tr>\n",
       "      <th>3</th>\n",
       "      <td>19</td>\n",
       "      <td>yes</td>\n",
       "      <td>11</td>\n",
       "      <td>35</td>\n",
       "      <td>31.428571</td>\n",
       "    </tr>\n",
       "    <tr>\n",
       "      <th>4</th>\n",
       "      <td>20</td>\n",
       "      <td>no</td>\n",
       "      <td>35</td>\n",
       "      <td>50</td>\n",
       "      <td>70.000000</td>\n",
       "    </tr>\n",
       "  </tbody>\n",
       "</table>\n",
       "</div>"
      ],
      "text/plain": [
       "   age    y  ageCat  ageTot    catProp\n",
       "0   18   no       5      12  41.666667\n",
       "1   18  yes       7      12  58.333333\n",
       "2   19   no      24      35  68.571429\n",
       "3   19  yes      11      35  31.428571\n",
       "4   20   no      35      50  70.000000"
      ]
     },
     "execution_count": 11,
     "metadata": {},
     "output_type": "execute_result"
    }
   ],
   "source": [
    "# Merge both of these DataFrames and then divide each category of propensity \n",
    "# within each age group by the total customers in the respective age group to get the proportion of customers\n",
    "ageComb = pd.merge(ageProp, ageTot, left_on=['age'], right_on=['age'])\n",
    "ageComb['catProp'] = (ageComb.ageCat/ageComb.ageTot)*100\n",
    "ageComb.head()"
   ]
  },
  {
   "cell_type": "code",
   "execution_count": 12,
   "id": "present-milan",
   "metadata": {},
   "outputs": [
    {
     "data": {
      "application/vnd.vegalite.v3+json": {
       "$schema": "https://vega.github.io/schema/vega-lite/v3.4.0.json",
       "config": {
        "mark": {
         "tooltip": null
        },
        "view": {
         "height": 300,
         "width": 400
        }
       },
       "data": {
        "name": "data-b28c5e3ea9bb3d5b28c12489bdb7d181"
       },
       "datasets": {
        "data-b28c5e3ea9bb3d5b28c12489bdb7d181": [
         {
          "age": 18,
          "ageCat": 5,
          "ageTot": 12,
          "catProp": 41.66666666666667,
          "y": "no"
         },
         {
          "age": 18,
          "ageCat": 7,
          "ageTot": 12,
          "catProp": 58.333333333333336,
          "y": "yes"
         },
         {
          "age": 19,
          "ageCat": 24,
          "ageTot": 35,
          "catProp": 68.57142857142857,
          "y": "no"
         },
         {
          "age": 19,
          "ageCat": 11,
          "ageTot": 35,
          "catProp": 31.428571428571427,
          "y": "yes"
         },
         {
          "age": 20,
          "ageCat": 35,
          "ageTot": 50,
          "catProp": 70,
          "y": "no"
         },
         {
          "age": 20,
          "ageCat": 15,
          "ageTot": 50,
          "catProp": 30,
          "y": "yes"
         },
         {
          "age": 21,
          "ageCat": 57,
          "ageTot": 79,
          "catProp": 72.15189873417721,
          "y": "no"
         },
         {
          "age": 21,
          "ageCat": 22,
          "ageTot": 79,
          "catProp": 27.848101265822784,
          "y": "yes"
         },
         {
          "age": 22,
          "ageCat": 89,
          "ageTot": 129,
          "catProp": 68.9922480620155,
          "y": "no"
         },
         {
          "age": 22,
          "ageCat": 40,
          "ageTot": 129,
          "catProp": 31.007751937984494,
          "y": "yes"
         },
         {
          "age": 23,
          "ageCat": 158,
          "ageTot": 202,
          "catProp": 78.21782178217822,
          "y": "no"
         },
         {
          "age": 23,
          "ageCat": 44,
          "ageTot": 202,
          "catProp": 21.782178217821784,
          "y": "yes"
         },
         {
          "age": 24,
          "ageCat": 234,
          "ageTot": 302,
          "catProp": 77.48344370860927,
          "y": "no"
         },
         {
          "age": 24,
          "ageCat": 68,
          "ageTot": 302,
          "catProp": 22.516556291390728,
          "y": "yes"
         },
         {
          "age": 25,
          "ageCat": 414,
          "ageTot": 527,
          "catProp": 78.55787476280834,
          "y": "no"
         },
         {
          "age": 25,
          "ageCat": 113,
          "ageTot": 527,
          "catProp": 21.44212523719165,
          "y": "yes"
         },
         {
          "age": 26,
          "ageCat": 671,
          "ageTot": 805,
          "catProp": 83.35403726708076,
          "y": "no"
         },
         {
          "age": 26,
          "ageCat": 134,
          "ageTot": 805,
          "catProp": 16.645962732919255,
          "y": "yes"
         },
         {
          "age": 27,
          "ageCat": 768,
          "ageTot": 909,
          "catProp": 84.48844884488449,
          "y": "no"
         },
         {
          "age": 27,
          "ageCat": 141,
          "ageTot": 909,
          "catProp": 15.51155115511551,
          "y": "yes"
         },
         {
          "age": 28,
          "ageCat": 876,
          "ageTot": 1038,
          "catProp": 84.39306358381504,
          "y": "no"
         },
         {
          "age": 28,
          "ageCat": 162,
          "ageTot": 1038,
          "catProp": 15.606936416184972,
          "y": "yes"
         },
         {
          "age": 29,
          "ageCat": 1014,
          "ageTot": 1185,
          "catProp": 85.56962025316456,
          "y": "no"
         },
         {
          "age": 29,
          "ageCat": 171,
          "ageTot": 1185,
          "catProp": 14.430379746835442,
          "y": "yes"
         },
         {
          "age": 30,
          "ageCat": 1540,
          "ageTot": 1757,
          "catProp": 87.64940239043824,
          "y": "no"
         },
         {
          "age": 30,
          "ageCat": 217,
          "ageTot": 1757,
          "catProp": 12.350597609561753,
          "y": "yes"
         },
         {
          "age": 31,
          "ageCat": 1790,
          "ageTot": 1996,
          "catProp": 89.67935871743487,
          "y": "no"
         },
         {
          "age": 31,
          "ageCat": 206,
          "ageTot": 1996,
          "catProp": 10.32064128256513,
          "y": "yes"
         },
         {
          "age": 32,
          "ageCat": 1864,
          "ageTot": 2085,
          "catProp": 89.40047961630695,
          "y": "no"
         },
         {
          "age": 32,
          "ageCat": 221,
          "ageTot": 2085,
          "catProp": 10.599520383693045,
          "y": "yes"
         },
         {
          "age": 33,
          "ageCat": 1762,
          "ageTot": 1972,
          "catProp": 89.35091277890467,
          "y": "no"
         },
         {
          "age": 33,
          "ageCat": 210,
          "ageTot": 1972,
          "catProp": 10.649087221095336,
          "y": "yes"
         },
         {
          "age": 34,
          "ageCat": 1732,
          "ageTot": 1930,
          "catProp": 89.74093264248705,
          "y": "no"
         },
         {
          "age": 34,
          "ageCat": 198,
          "ageTot": 1930,
          "catProp": 10.259067357512954,
          "y": "yes"
         },
         {
          "age": 35,
          "ageCat": 1685,
          "ageTot": 1894,
          "catProp": 88.96515311510032,
          "y": "no"
         },
         {
          "age": 35,
          "ageCat": 209,
          "ageTot": 1894,
          "catProp": 11.034846884899684,
          "y": "yes"
         },
         {
          "age": 36,
          "ageCat": 1611,
          "ageTot": 1806,
          "catProp": 89.20265780730897,
          "y": "no"
         },
         {
          "age": 36,
          "ageCat": 195,
          "ageTot": 1806,
          "catProp": 10.79734219269103,
          "y": "yes"
         },
         {
          "age": 37,
          "ageCat": 1526,
          "ageTot": 1696,
          "catProp": 89.97641509433963,
          "y": "no"
         },
         {
          "age": 37,
          "ageCat": 170,
          "ageTot": 1696,
          "catProp": 10.023584905660378,
          "y": "yes"
         },
         {
          "age": 38,
          "ageCat": 1322,
          "ageTot": 1466,
          "catProp": 90.17735334242838,
          "y": "no"
         },
         {
          "age": 38,
          "ageCat": 144,
          "ageTot": 1466,
          "catProp": 9.822646657571624,
          "y": "yes"
         },
         {
          "age": 39,
          "ageCat": 1344,
          "ageTot": 1487,
          "catProp": 90.38332212508406,
          "y": "no"
         },
         {
          "age": 39,
          "ageCat": 143,
          "ageTot": 1487,
          "catProp": 9.616677874915938,
          "y": "yes"
         },
         {
          "age": 40,
          "ageCat": 1239,
          "ageTot": 1355,
          "catProp": 91.43911439114392,
          "y": "no"
         },
         {
          "age": 40,
          "ageCat": 116,
          "ageTot": 1355,
          "catProp": 8.56088560885609,
          "y": "yes"
         },
         {
          "age": 41,
          "ageCat": 1171,
          "ageTot": 1291,
          "catProp": 90.70487993803253,
          "y": "no"
         },
         {
          "age": 41,
          "ageCat": 120,
          "ageTot": 1291,
          "catProp": 9.295120061967467,
          "y": "yes"
         },
         {
          "age": 42,
          "ageCat": 1131,
          "ageTot": 1242,
          "catProp": 91.06280193236715,
          "y": "no"
         },
         {
          "age": 42,
          "ageCat": 111,
          "ageTot": 1242,
          "catProp": 8.937198067632849,
          "y": "yes"
         },
         {
          "age": 43,
          "ageCat": 1058,
          "ageTot": 1161,
          "catProp": 91.12833763996555,
          "y": "no"
         },
         {
          "age": 43,
          "ageCat": 103,
          "ageTot": 1161,
          "catProp": 8.871662360034453,
          "y": "yes"
         },
         {
          "age": 44,
          "ageCat": 1043,
          "ageTot": 1136,
          "catProp": 91.81338028169014,
          "y": "no"
         },
         {
          "age": 44,
          "ageCat": 93,
          "ageTot": 1136,
          "catProp": 8.18661971830986,
          "y": "yes"
         },
         {
          "age": 45,
          "ageCat": 1110,
          "ageTot": 1216,
          "catProp": 91.2828947368421,
          "y": "no"
         },
         {
          "age": 45,
          "ageCat": 106,
          "ageTot": 1216,
          "catProp": 8.717105263157894,
          "y": "yes"
         },
         {
          "age": 46,
          "ageCat": 1057,
          "ageTot": 1175,
          "catProp": 89.95744680851064,
          "y": "no"
         },
         {
          "age": 46,
          "ageCat": 118,
          "ageTot": 1175,
          "catProp": 10.042553191489361,
          "y": "yes"
         },
         {
          "age": 47,
          "ageCat": 975,
          "ageTot": 1088,
          "catProp": 89.61397058823529,
          "y": "no"
         },
         {
          "age": 47,
          "ageCat": 113,
          "ageTot": 1088,
          "catProp": 10.386029411764707,
          "y": "yes"
         },
         {
          "age": 48,
          "ageCat": 915,
          "ageTot": 997,
          "catProp": 91.7753259779338,
          "y": "no"
         },
         {
          "age": 48,
          "ageCat": 82,
          "ageTot": 997,
          "catProp": 8.224674022066198,
          "y": "yes"
         },
         {
          "age": 49,
          "ageCat": 893,
          "ageTot": 994,
          "catProp": 89.83903420523139,
          "y": "no"
         },
         {
          "age": 49,
          "ageCat": 101,
          "ageTot": 994,
          "catProp": 10.160965794768611,
          "y": "yes"
         },
         {
          "age": 50,
          "ageCat": 867,
          "ageTot": 939,
          "catProp": 92.33226837060703,
          "y": "no"
         },
         {
          "age": 50,
          "ageCat": 72,
          "ageTot": 939,
          "catProp": 7.667731629392971,
          "y": "yes"
         },
         {
          "age": 51,
          "ageCat": 859,
          "ageTot": 936,
          "catProp": 91.77350427350427,
          "y": "no"
         },
         {
          "age": 51,
          "ageCat": 77,
          "ageTot": 936,
          "catProp": 8.226495726495726,
          "y": "yes"
         },
         {
          "age": 52,
          "ageCat": 826,
          "ageTot": 911,
          "catProp": 90.66959385290889,
          "y": "no"
         },
         {
          "age": 52,
          "ageCat": 85,
          "ageTot": 911,
          "catProp": 9.330406147091107,
          "y": "yes"
         },
         {
          "age": 53,
          "ageCat": 806,
          "ageTot": 891,
          "catProp": 90.46015712682379,
          "y": "no"
         },
         {
          "age": 53,
          "ageCat": 85,
          "ageTot": 891,
          "catProp": 9.539842873176205,
          "y": "yes"
         },
         {
          "age": 54,
          "ageCat": 727,
          "ageTot": 811,
          "catProp": 89.64241676942046,
          "y": "no"
         },
         {
          "age": 54,
          "ageCat": 84,
          "ageTot": 811,
          "catProp": 10.35758323057953,
          "y": "yes"
         },
         {
          "age": 55,
          "ageCat": 730,
          "ageTot": 806,
          "catProp": 90.57071960297766,
          "y": "no"
         },
         {
          "age": 55,
          "ageCat": 76,
          "ageTot": 806,
          "catProp": 9.429280397022332,
          "y": "yes"
         },
         {
          "age": 56,
          "ageCat": 710,
          "ageTot": 778,
          "catProp": 91.25964010282776,
          "y": "no"
         },
         {
          "age": 56,
          "ageCat": 68,
          "ageTot": 778,
          "catProp": 8.740359897172237,
          "y": "yes"
         },
         {
          "age": 57,
          "ageCat": 750,
          "ageTot": 828,
          "catProp": 90.57971014492753,
          "y": "no"
         },
         {
          "age": 57,
          "ageCat": 78,
          "ageTot": 828,
          "catProp": 9.420289855072465,
          "y": "yes"
         },
         {
          "age": 58,
          "ageCat": 668,
          "ageTot": 740,
          "catProp": 90.27027027027027,
          "y": "no"
         },
         {
          "age": 58,
          "ageCat": 72,
          "ageTot": 740,
          "catProp": 9.72972972972973,
          "y": "yes"
         },
         {
          "age": 59,
          "ageCat": 682,
          "ageTot": 770,
          "catProp": 88.57142857142857,
          "y": "no"
         },
         {
          "age": 59,
          "ageCat": 88,
          "ageTot": 770,
          "catProp": 11.428571428571429,
          "y": "yes"
         },
         {
          "age": 60,
          "ageCat": 498,
          "ageTot": 596,
          "catProp": 83.55704697986577,
          "y": "no"
         },
         {
          "age": 60,
          "ageCat": 98,
          "ageTot": 596,
          "catProp": 16.44295302013423,
          "y": "yes"
         },
         {
          "age": 61,
          "ageCat": 90,
          "ageTot": 147,
          "catProp": 61.224489795918366,
          "y": "no"
         },
         {
          "age": 61,
          "ageCat": 57,
          "ageTot": 147,
          "catProp": 38.775510204081634,
          "y": "yes"
         },
         {
          "age": 62,
          "ageCat": 41,
          "ageTot": 80,
          "catProp": 51.24999999999999,
          "y": "no"
         },
         {
          "age": 62,
          "ageCat": 39,
          "ageTot": 80,
          "catProp": 48.75,
          "y": "yes"
         },
         {
          "age": 63,
          "ageCat": 47,
          "ageTot": 77,
          "catProp": 61.038961038961034,
          "y": "no"
         },
         {
          "age": 63,
          "ageCat": 30,
          "ageTot": 77,
          "catProp": 38.961038961038966,
          "y": "yes"
         },
         {
          "age": 64,
          "ageCat": 39,
          "ageTot": 74,
          "catProp": 52.702702702702695,
          "y": "no"
         },
         {
          "age": 64,
          "ageCat": 35,
          "ageTot": 74,
          "catProp": 47.2972972972973,
          "y": "yes"
         },
         {
          "age": 65,
          "ageCat": 38,
          "ageTot": 59,
          "catProp": 64.40677966101694,
          "y": "no"
         },
         {
          "age": 65,
          "ageCat": 21,
          "ageTot": 59,
          "catProp": 35.59322033898305,
          "y": "yes"
         },
         {
          "age": 66,
          "ageCat": 39,
          "ageTot": 63,
          "catProp": 61.904761904761905,
          "y": "no"
         },
         {
          "age": 66,
          "ageCat": 24,
          "ageTot": 63,
          "catProp": 38.095238095238095,
          "y": "yes"
         },
         {
          "age": 67,
          "ageCat": 31,
          "ageTot": 54,
          "catProp": 57.407407407407405,
          "y": "no"
         },
         {
          "age": 67,
          "ageCat": 23,
          "ageTot": 54,
          "catProp": 42.592592592592595,
          "y": "yes"
         },
         {
          "age": 68,
          "ageCat": 15,
          "ageTot": 36,
          "catProp": 41.66666666666667,
          "y": "no"
         },
         {
          "age": 68,
          "ageCat": 21,
          "ageTot": 36,
          "catProp": 58.333333333333336,
          "y": "yes"
         },
         {
          "age": 69,
          "ageCat": 27,
          "ageTot": 44,
          "catProp": 61.36363636363637,
          "y": "no"
         },
         {
          "age": 69,
          "ageCat": 17,
          "ageTot": 44,
          "catProp": 38.63636363636363,
          "y": "yes"
         },
         {
          "age": 70,
          "ageCat": 50,
          "ageTot": 67,
          "catProp": 74.6268656716418,
          "y": "no"
         },
         {
          "age": 70,
          "ageCat": 17,
          "ageTot": 67,
          "catProp": 25.37313432835821,
          "y": "yes"
         },
         {
          "age": 71,
          "ageCat": 29,
          "ageTot": 54,
          "catProp": 53.70370370370371,
          "y": "no"
         },
         {
          "age": 71,
          "ageCat": 25,
          "ageTot": 54,
          "catProp": 46.2962962962963,
          "y": "yes"
         },
         {
          "age": 72,
          "ageCat": 28,
          "ageTot": 52,
          "catProp": 53.84615384615385,
          "y": "no"
         },
         {
          "age": 72,
          "ageCat": 24,
          "ageTot": 52,
          "catProp": 46.15384615384615,
          "y": "yes"
         },
         {
          "age": 73,
          "ageCat": 20,
          "ageTot": 44,
          "catProp": 45.45454545454545,
          "y": "no"
         },
         {
          "age": 73,
          "ageCat": 24,
          "ageTot": 44,
          "catProp": 54.54545454545454,
          "y": "yes"
         },
         {
          "age": 74,
          "ageCat": 24,
          "ageTot": 37,
          "catProp": 64.86486486486487,
          "y": "no"
         },
         {
          "age": 74,
          "ageCat": 13,
          "ageTot": 37,
          "catProp": 35.13513513513514,
          "y": "yes"
         },
         {
          "age": 75,
          "ageCat": 24,
          "ageTot": 39,
          "catProp": 61.53846153846154,
          "y": "no"
         },
         {
          "age": 75,
          "ageCat": 15,
          "ageTot": 39,
          "catProp": 38.46153846153847,
          "y": "yes"
         },
         {
          "age": 76,
          "ageCat": 16,
          "ageTot": 32,
          "catProp": 50,
          "y": "no"
         },
         {
          "age": 76,
          "ageCat": 16,
          "ageTot": 32,
          "catProp": 50,
          "y": "yes"
         },
         {
          "age": 77,
          "ageCat": 22,
          "ageTot": 44,
          "catProp": 50,
          "y": "no"
         },
         {
          "age": 77,
          "ageCat": 22,
          "ageTot": 44,
          "catProp": 50,
          "y": "yes"
         },
         {
          "age": 78,
          "ageCat": 16,
          "ageTot": 30,
          "catProp": 53.333333333333336,
          "y": "no"
         },
         {
          "age": 78,
          "ageCat": 14,
          "ageTot": 30,
          "catProp": 46.666666666666664,
          "y": "yes"
         },
         {
          "age": 79,
          "ageCat": 15,
          "ageTot": 25,
          "catProp": 60,
          "y": "no"
         },
         {
          "age": 79,
          "ageCat": 10,
          "ageTot": 25,
          "catProp": 40,
          "y": "yes"
         },
         {
          "age": 80,
          "ageCat": 19,
          "ageTot": 31,
          "catProp": 61.29032258064516,
          "y": "no"
         },
         {
          "age": 80,
          "ageCat": 12,
          "ageTot": 31,
          "catProp": 38.70967741935484,
          "y": "yes"
         },
         {
          "age": 81,
          "ageCat": 11,
          "ageTot": 17,
          "catProp": 64.70588235294117,
          "y": "no"
         },
         {
          "age": 81,
          "ageCat": 6,
          "ageTot": 17,
          "catProp": 35.294117647058826,
          "y": "yes"
         },
         {
          "age": 82,
          "ageCat": 11,
          "ageTot": 19,
          "catProp": 57.89473684210527,
          "y": "no"
         },
         {
          "age": 82,
          "ageCat": 8,
          "ageTot": 19,
          "catProp": 42.10526315789473,
          "y": "yes"
         },
         {
          "age": 83,
          "ageCat": 16,
          "ageTot": 22,
          "catProp": 72.72727272727273,
          "y": "no"
         },
         {
          "age": 83,
          "ageCat": 6,
          "ageTot": 22,
          "catProp": 27.27272727272727,
          "y": "yes"
         },
         {
          "age": 84,
          "ageCat": 4,
          "ageTot": 9,
          "catProp": 44.44444444444444,
          "y": "no"
         },
         {
          "age": 84,
          "ageCat": 5,
          "ageTot": 9,
          "catProp": 55.55555555555556,
          "y": "yes"
         },
         {
          "age": 85,
          "ageCat": 1,
          "ageTot": 5,
          "catProp": 20,
          "y": "no"
         },
         {
          "age": 85,
          "ageCat": 4,
          "ageTot": 5,
          "catProp": 80,
          "y": "yes"
         },
         {
          "age": 86,
          "ageCat": 5,
          "ageTot": 9,
          "catProp": 55.55555555555556,
          "y": "no"
         },
         {
          "age": 86,
          "ageCat": 4,
          "ageTot": 9,
          "catProp": 44.44444444444444,
          "y": "yes"
         },
         {
          "age": 87,
          "ageCat": 1,
          "ageTot": 4,
          "catProp": 25,
          "y": "no"
         },
         {
          "age": 87,
          "ageCat": 3,
          "ageTot": 4,
          "catProp": 75,
          "y": "yes"
         },
         {
          "age": 88,
          "ageCat": 2,
          "ageTot": 2,
          "catProp": 100,
          "y": "no"
         },
         {
          "age": 89,
          "ageCat": 3,
          "ageTot": 3,
          "catProp": 100,
          "y": "no"
         },
         {
          "age": 90,
          "ageCat": 2,
          "ageTot": 2,
          "catProp": 100,
          "y": "yes"
         },
         {
          "age": 92,
          "ageCat": 2,
          "ageTot": 2,
          "catProp": 100,
          "y": "yes"
         },
         {
          "age": 93,
          "ageCat": 2,
          "ageTot": 2,
          "catProp": 100,
          "y": "yes"
         },
         {
          "age": 94,
          "ageCat": 1,
          "ageTot": 1,
          "catProp": 100,
          "y": "no"
         },
         {
          "age": 95,
          "ageCat": 1,
          "ageTot": 2,
          "catProp": 50,
          "y": "no"
         },
         {
          "age": 95,
          "ageCat": 1,
          "ageTot": 2,
          "catProp": 50,
          "y": "yes"
         }
        ]
       },
       "facet": {
        "column": {
         "field": "y",
         "type": "nominal"
        }
       },
       "spec": {
        "encoding": {
         "x": {
          "field": "age",
          "type": "quantitative"
         },
         "y": {
          "field": "catProp",
          "type": "quantitative"
         }
        },
        "mark": "line"
       }
      },
      "text/plain": [
       "<VegaLite 3 object>\n",
       "\n",
       "If you see this message, it means the renderer has not been properly enabled\n",
       "for the frontend that you are using. For more information, see\n",
       "https://altair-viz.github.io/user_guide/troubleshooting.html\n"
      ]
     },
     "execution_count": 12,
     "metadata": {},
     "output_type": "execute_result"
    }
   ],
   "source": [
    "# display the proportion where you plot both categories (yes and no) as separate plots\n",
    "alt.Chart(ageComb).mark_line().encode(x='age', y='catProp').facet(column='y')"
   ]
  },
  {
   "cell_type": "markdown",
   "id": "cordless-galaxy",
   "metadata": {},
   "source": [
    "# Feature Engineering – Exploration of Individual Feature"
   ]
  },
  {
   "cell_type": "code",
   "execution_count": 13,
   "id": "environmental-interface",
   "metadata": {},
   "outputs": [
    {
     "data": {
      "text/html": [
       "<div>\n",
       "<style scoped>\n",
       "    .dataframe tbody tr th:only-of-type {\n",
       "        vertical-align: middle;\n",
       "    }\n",
       "\n",
       "    .dataframe tbody tr th {\n",
       "        vertical-align: top;\n",
       "    }\n",
       "\n",
       "    .dataframe thead th {\n",
       "        text-align: right;\n",
       "    }\n",
       "</style>\n",
       "<table border=\"1\" class=\"dataframe\">\n",
       "  <thead>\n",
       "    <tr style=\"text-align: right;\">\n",
       "      <th></th>\n",
       "      <th>housing</th>\n",
       "      <th>y</th>\n",
       "      <th>houseTot</th>\n",
       "    </tr>\n",
       "  </thead>\n",
       "  <tbody>\n",
       "    <tr>\n",
       "      <th>0</th>\n",
       "      <td>no</td>\n",
       "      <td>no</td>\n",
       "      <td>16727</td>\n",
       "    </tr>\n",
       "    <tr>\n",
       "      <th>1</th>\n",
       "      <td>no</td>\n",
       "      <td>yes</td>\n",
       "      <td>3354</td>\n",
       "    </tr>\n",
       "    <tr>\n",
       "      <th>2</th>\n",
       "      <td>yes</td>\n",
       "      <td>no</td>\n",
       "      <td>23195</td>\n",
       "    </tr>\n",
       "    <tr>\n",
       "      <th>3</th>\n",
       "      <td>yes</td>\n",
       "      <td>yes</td>\n",
       "      <td>1935</td>\n",
       "    </tr>\n",
       "  </tbody>\n",
       "</table>\n",
       "</div>"
      ],
      "text/plain": [
       "  housing    y  houseTot\n",
       "0      no   no     16727\n",
       "1      no  yes      3354\n",
       "2     yes   no     23195\n",
       "3     yes  yes      1935"
      ]
     },
     "execution_count": 13,
     "metadata": {},
     "output_type": "execute_result"
    }
   ],
   "source": [
    "# find a relationship between housing and the propensity for term deposits\n",
    "bankData.groupby(['housing', 'y'])['y'].agg(houseTot='count').reset_index()"
   ]
  },
  {
   "cell_type": "code",
   "execution_count": 14,
   "id": "exceptional-allowance",
   "metadata": {},
   "outputs": [
    {
     "data": {
      "text/html": [
       "<div>\n",
       "<style scoped>\n",
       "    .dataframe tbody tr th:only-of-type {\n",
       "        vertical-align: middle;\n",
       "    }\n",
       "\n",
       "    .dataframe tbody tr th {\n",
       "        vertical-align: top;\n",
       "    }\n",
       "\n",
       "    .dataframe thead th {\n",
       "        text-align: right;\n",
       "    }\n",
       "</style>\n",
       "<table border=\"1\" class=\"dataframe\">\n",
       "  <thead>\n",
       "    <tr style=\"text-align: right;\">\n",
       "      <th></th>\n",
       "      <th>loan</th>\n",
       "      <th>y</th>\n",
       "      <th>loanTot</th>\n",
       "    </tr>\n",
       "  </thead>\n",
       "  <tbody>\n",
       "    <tr>\n",
       "      <th>0</th>\n",
       "      <td>no</td>\n",
       "      <td>no</td>\n",
       "      <td>33162</td>\n",
       "    </tr>\n",
       "    <tr>\n",
       "      <th>1</th>\n",
       "      <td>no</td>\n",
       "      <td>yes</td>\n",
       "      <td>4805</td>\n",
       "    </tr>\n",
       "    <tr>\n",
       "      <th>2</th>\n",
       "      <td>yes</td>\n",
       "      <td>no</td>\n",
       "      <td>6760</td>\n",
       "    </tr>\n",
       "    <tr>\n",
       "      <th>3</th>\n",
       "      <td>yes</td>\n",
       "      <td>yes</td>\n",
       "      <td>484</td>\n",
       "    </tr>\n",
       "  </tbody>\n",
       "</table>\n",
       "</div>"
      ],
      "text/plain": [
       "  loan    y  loanTot\n",
       "0   no   no    33162\n",
       "1   no  yes     4805\n",
       "2  yes   no     6760\n",
       "3  yes  yes      484"
      ]
     },
     "execution_count": 14,
     "metadata": {},
     "output_type": "execute_result"
    }
   ],
   "source": [
    "# Explore the 'loan' variable to find its relationship with the propensity for a term deposit\n",
    "bankData.groupby(['loan', 'y'])['y'].agg(loanTot='count').reset_index()"
   ]
  },
  {
   "cell_type": "code",
   "execution_count": 15,
   "id": "alike-calvin",
   "metadata": {},
   "outputs": [
    {
     "data": {
      "text/plain": [
       "array([  72.,  448., 1428.])"
      ]
     },
     "execution_count": 15,
     "metadata": {},
     "output_type": "execute_result"
    }
   ],
   "source": [
    "# find quantile values\n",
    "import numpy as np\n",
    "np.quantile(bankData['balance'], [0.25, 0.5, 0.75])"
   ]
  },
  {
   "cell_type": "code",
   "execution_count": 16,
   "id": "orange-devices",
   "metadata": {},
   "outputs": [
    {
     "data": {
      "text/html": [
       "<div>\n",
       "<style scoped>\n",
       "    .dataframe tbody tr th:only-of-type {\n",
       "        vertical-align: middle;\n",
       "    }\n",
       "\n",
       "    .dataframe tbody tr th {\n",
       "        vertical-align: top;\n",
       "    }\n",
       "\n",
       "    .dataframe thead th {\n",
       "        text-align: right;\n",
       "    }\n",
       "</style>\n",
       "<table border=\"1\" class=\"dataframe\">\n",
       "  <thead>\n",
       "    <tr style=\"text-align: right;\">\n",
       "      <th></th>\n",
       "      <th>age</th>\n",
       "      <th>job</th>\n",
       "      <th>marital</th>\n",
       "      <th>education</th>\n",
       "      <th>default</th>\n",
       "      <th>balance</th>\n",
       "      <th>housing</th>\n",
       "      <th>loan</th>\n",
       "      <th>contact</th>\n",
       "      <th>day</th>\n",
       "      <th>month</th>\n",
       "      <th>duration</th>\n",
       "      <th>campaign</th>\n",
       "      <th>pdays</th>\n",
       "      <th>previous</th>\n",
       "      <th>poutcome</th>\n",
       "      <th>y</th>\n",
       "      <th>balanceClass</th>\n",
       "    </tr>\n",
       "  </thead>\n",
       "  <tbody>\n",
       "    <tr>\n",
       "      <th>0</th>\n",
       "      <td>58</td>\n",
       "      <td>management</td>\n",
       "      <td>married</td>\n",
       "      <td>tertiary</td>\n",
       "      <td>no</td>\n",
       "      <td>2143</td>\n",
       "      <td>yes</td>\n",
       "      <td>no</td>\n",
       "      <td>unknown</td>\n",
       "      <td>5</td>\n",
       "      <td>may</td>\n",
       "      <td>261</td>\n",
       "      <td>1</td>\n",
       "      <td>-1</td>\n",
       "      <td>0</td>\n",
       "      <td>unknown</td>\n",
       "      <td>no</td>\n",
       "      <td>Quant4</td>\n",
       "    </tr>\n",
       "    <tr>\n",
       "      <th>1</th>\n",
       "      <td>44</td>\n",
       "      <td>technician</td>\n",
       "      <td>single</td>\n",
       "      <td>secondary</td>\n",
       "      <td>no</td>\n",
       "      <td>29</td>\n",
       "      <td>yes</td>\n",
       "      <td>no</td>\n",
       "      <td>unknown</td>\n",
       "      <td>5</td>\n",
       "      <td>may</td>\n",
       "      <td>151</td>\n",
       "      <td>1</td>\n",
       "      <td>-1</td>\n",
       "      <td>0</td>\n",
       "      <td>unknown</td>\n",
       "      <td>no</td>\n",
       "      <td>Quant1</td>\n",
       "    </tr>\n",
       "    <tr>\n",
       "      <th>2</th>\n",
       "      <td>33</td>\n",
       "      <td>entrepreneur</td>\n",
       "      <td>married</td>\n",
       "      <td>secondary</td>\n",
       "      <td>no</td>\n",
       "      <td>2</td>\n",
       "      <td>yes</td>\n",
       "      <td>yes</td>\n",
       "      <td>unknown</td>\n",
       "      <td>5</td>\n",
       "      <td>may</td>\n",
       "      <td>76</td>\n",
       "      <td>1</td>\n",
       "      <td>-1</td>\n",
       "      <td>0</td>\n",
       "      <td>unknown</td>\n",
       "      <td>no</td>\n",
       "      <td>Quant1</td>\n",
       "    </tr>\n",
       "    <tr>\n",
       "      <th>3</th>\n",
       "      <td>47</td>\n",
       "      <td>blue-collar</td>\n",
       "      <td>married</td>\n",
       "      <td>unknown</td>\n",
       "      <td>no</td>\n",
       "      <td>1506</td>\n",
       "      <td>yes</td>\n",
       "      <td>no</td>\n",
       "      <td>unknown</td>\n",
       "      <td>5</td>\n",
       "      <td>may</td>\n",
       "      <td>92</td>\n",
       "      <td>1</td>\n",
       "      <td>-1</td>\n",
       "      <td>0</td>\n",
       "      <td>unknown</td>\n",
       "      <td>no</td>\n",
       "      <td>Quant4</td>\n",
       "    </tr>\n",
       "    <tr>\n",
       "      <th>4</th>\n",
       "      <td>33</td>\n",
       "      <td>unknown</td>\n",
       "      <td>single</td>\n",
       "      <td>unknown</td>\n",
       "      <td>no</td>\n",
       "      <td>1</td>\n",
       "      <td>no</td>\n",
       "      <td>no</td>\n",
       "      <td>unknown</td>\n",
       "      <td>5</td>\n",
       "      <td>may</td>\n",
       "      <td>198</td>\n",
       "      <td>1</td>\n",
       "      <td>-1</td>\n",
       "      <td>0</td>\n",
       "      <td>unknown</td>\n",
       "      <td>no</td>\n",
       "      <td>Quant1</td>\n",
       "    </tr>\n",
       "  </tbody>\n",
       "</table>\n",
       "</div>"
      ],
      "text/plain": [
       "   age           job  marital  education default  balance housing loan  \\\n",
       "0   58    management  married   tertiary      no     2143     yes   no   \n",
       "1   44    technician   single  secondary      no       29     yes   no   \n",
       "2   33  entrepreneur  married  secondary      no        2     yes  yes   \n",
       "3   47   blue-collar  married    unknown      no     1506     yes   no   \n",
       "4   33       unknown   single    unknown      no        1      no   no   \n",
       "\n",
       "   contact  day month  duration  campaign  pdays  previous poutcome   y  \\\n",
       "0  unknown    5   may       261         1     -1         0  unknown  no   \n",
       "1  unknown    5   may       151         1     -1         0  unknown  no   \n",
       "2  unknown    5   may        76         1     -1         0  unknown  no   \n",
       "3  unknown    5   may        92         1     -1         0  unknown  no   \n",
       "4  unknown    5   may       198         1     -1         0  unknown  no   \n",
       "\n",
       "  balanceClass  \n",
       "0       Quant4  \n",
       "1       Quant1  \n",
       "2       Quant1  \n",
       "3       Quant4  \n",
       "4       Quant1  "
      ]
     },
     "execution_count": 16,
     "metadata": {},
     "output_type": "execute_result"
    }
   ],
   "source": [
    "# convert numerical values into categorical values\n",
    "bankData['balanceClass'] = 'Quant1'\n",
    "bankData.loc[(bankData['balance'] > 72) & (bankData['balance'] < 448), 'balanceClass'] = 'Quant2'\n",
    "bankData.loc[(bankData['balance'] > 448) & (bankData['balance'] < 1428), 'balanceClass'] = 'Quant3'\n",
    "bankData.loc[bankData['balance'] > 1428, 'balanceClass'] = 'Quant4'\n",
    "bankData.head()"
   ]
  },
  {
   "cell_type": "code",
   "execution_count": 17,
   "id": "periodic-gender",
   "metadata": {},
   "outputs": [
    {
     "data": {
      "text/html": [
       "<div>\n",
       "<style scoped>\n",
       "    .dataframe tbody tr th:only-of-type {\n",
       "        vertical-align: middle;\n",
       "    }\n",
       "\n",
       "    .dataframe tbody tr th {\n",
       "        vertical-align: top;\n",
       "    }\n",
       "\n",
       "    .dataframe thead th {\n",
       "        text-align: right;\n",
       "    }\n",
       "</style>\n",
       "<table border=\"1\" class=\"dataframe\">\n",
       "  <thead>\n",
       "    <tr style=\"text-align: right;\">\n",
       "      <th></th>\n",
       "      <th>balanceClass</th>\n",
       "      <th>balanceTot</th>\n",
       "    </tr>\n",
       "  </thead>\n",
       "  <tbody>\n",
       "    <tr>\n",
       "      <th>0</th>\n",
       "      <td>Quant1</td>\n",
       "      <td>11340</td>\n",
       "    </tr>\n",
       "    <tr>\n",
       "      <th>1</th>\n",
       "      <td>Quant2</td>\n",
       "      <td>11275</td>\n",
       "    </tr>\n",
       "    <tr>\n",
       "      <th>2</th>\n",
       "      <td>Quant3</td>\n",
       "      <td>11299</td>\n",
       "    </tr>\n",
       "    <tr>\n",
       "      <th>3</th>\n",
       "      <td>Quant4</td>\n",
       "      <td>11297</td>\n",
       "    </tr>\n",
       "  </tbody>\n",
       "</table>\n",
       "</div>"
      ],
      "text/plain": [
       "  balanceClass  balanceTot\n",
       "0       Quant1       11340\n",
       "1       Quant2       11275\n",
       "2       Quant3       11299\n",
       "3       Quant4       11297"
      ]
     },
     "execution_count": 17,
     "metadata": {},
     "output_type": "execute_result"
    }
   ],
   "source": [
    "#  find the propensity of term deposit purchases based on each quantile the customers fall into\n",
    "balanceTot = bankData.groupby(['balanceClass'])['y'].agg(balanceTot='count').reset_index()\n",
    "balanceTot"
   ]
  },
  {
   "cell_type": "code",
   "execution_count": 18,
   "id": "innocent-morocco",
   "metadata": {},
   "outputs": [
    {
     "data": {
      "text/html": [
       "<div>\n",
       "<style scoped>\n",
       "    .dataframe tbody tr th:only-of-type {\n",
       "        vertical-align: middle;\n",
       "    }\n",
       "\n",
       "    .dataframe tbody tr th {\n",
       "        vertical-align: top;\n",
       "    }\n",
       "\n",
       "    .dataframe thead th {\n",
       "        text-align: right;\n",
       "    }\n",
       "</style>\n",
       "<table border=\"1\" class=\"dataframe\">\n",
       "  <thead>\n",
       "    <tr style=\"text-align: right;\">\n",
       "      <th></th>\n",
       "      <th>balanceClass</th>\n",
       "      <th>y</th>\n",
       "      <th>balanceCat</th>\n",
       "    </tr>\n",
       "  </thead>\n",
       "  <tbody>\n",
       "    <tr>\n",
       "      <th>0</th>\n",
       "      <td>Quant1</td>\n",
       "      <td>no</td>\n",
       "      <td>10517</td>\n",
       "    </tr>\n",
       "    <tr>\n",
       "      <th>1</th>\n",
       "      <td>Quant1</td>\n",
       "      <td>yes</td>\n",
       "      <td>823</td>\n",
       "    </tr>\n",
       "    <tr>\n",
       "      <th>2</th>\n",
       "      <td>Quant2</td>\n",
       "      <td>no</td>\n",
       "      <td>10049</td>\n",
       "    </tr>\n",
       "    <tr>\n",
       "      <th>3</th>\n",
       "      <td>Quant2</td>\n",
       "      <td>yes</td>\n",
       "      <td>1226</td>\n",
       "    </tr>\n",
       "    <tr>\n",
       "      <th>4</th>\n",
       "      <td>Quant3</td>\n",
       "      <td>no</td>\n",
       "      <td>9884</td>\n",
       "    </tr>\n",
       "    <tr>\n",
       "      <th>5</th>\n",
       "      <td>Quant3</td>\n",
       "      <td>yes</td>\n",
       "      <td>1415</td>\n",
       "    </tr>\n",
       "    <tr>\n",
       "      <th>6</th>\n",
       "      <td>Quant4</td>\n",
       "      <td>no</td>\n",
       "      <td>9472</td>\n",
       "    </tr>\n",
       "    <tr>\n",
       "      <th>7</th>\n",
       "      <td>Quant4</td>\n",
       "      <td>yes</td>\n",
       "      <td>1825</td>\n",
       "    </tr>\n",
       "  </tbody>\n",
       "</table>\n",
       "</div>"
      ],
      "text/plain": [
       "  balanceClass    y  balanceCat\n",
       "0       Quant1   no       10517\n",
       "1       Quant1  yes         823\n",
       "2       Quant2   no       10049\n",
       "3       Quant2  yes        1226\n",
       "4       Quant3   no        9884\n",
       "5       Quant3  yes        1415\n",
       "6       Quant4   no        9472\n",
       "7       Quant4  yes        1825"
      ]
     },
     "execution_count": 18,
     "metadata": {},
     "output_type": "execute_result"
    }
   ],
   "source": [
    "# calculate the total number of customers categorized by quantile and propensity classification\n",
    "balanceProp = bankData.groupby(['balanceClass', 'y'])['y'].agg(balanceCat='count').reset_index()\n",
    "balanceProp"
   ]
  },
  {
   "cell_type": "code",
   "execution_count": 19,
   "id": "dynamic-cliff",
   "metadata": {},
   "outputs": [
    {
     "data": {
      "text/html": [
       "<div>\n",
       "<style scoped>\n",
       "    .dataframe tbody tr th:only-of-type {\n",
       "        vertical-align: middle;\n",
       "    }\n",
       "\n",
       "    .dataframe tbody tr th {\n",
       "        vertical-align: top;\n",
       "    }\n",
       "\n",
       "    .dataframe thead th {\n",
       "        text-align: right;\n",
       "    }\n",
       "</style>\n",
       "<table border=\"1\" class=\"dataframe\">\n",
       "  <thead>\n",
       "    <tr style=\"text-align: right;\">\n",
       "      <th></th>\n",
       "      <th>balanceClass</th>\n",
       "      <th>y</th>\n",
       "      <th>balanceCat</th>\n",
       "      <th>balanceTot</th>\n",
       "      <th>catProp</th>\n",
       "    </tr>\n",
       "  </thead>\n",
       "  <tbody>\n",
       "    <tr>\n",
       "      <th>0</th>\n",
       "      <td>Quant1</td>\n",
       "      <td>no</td>\n",
       "      <td>10517</td>\n",
       "      <td>11340</td>\n",
       "      <td>92.742504</td>\n",
       "    </tr>\n",
       "    <tr>\n",
       "      <th>1</th>\n",
       "      <td>Quant1</td>\n",
       "      <td>yes</td>\n",
       "      <td>823</td>\n",
       "      <td>11340</td>\n",
       "      <td>7.257496</td>\n",
       "    </tr>\n",
       "    <tr>\n",
       "      <th>2</th>\n",
       "      <td>Quant2</td>\n",
       "      <td>no</td>\n",
       "      <td>10049</td>\n",
       "      <td>11275</td>\n",
       "      <td>89.126386</td>\n",
       "    </tr>\n",
       "    <tr>\n",
       "      <th>3</th>\n",
       "      <td>Quant2</td>\n",
       "      <td>yes</td>\n",
       "      <td>1226</td>\n",
       "      <td>11275</td>\n",
       "      <td>10.873614</td>\n",
       "    </tr>\n",
       "    <tr>\n",
       "      <th>4</th>\n",
       "      <td>Quant3</td>\n",
       "      <td>no</td>\n",
       "      <td>9884</td>\n",
       "      <td>11299</td>\n",
       "      <td>87.476768</td>\n",
       "    </tr>\n",
       "    <tr>\n",
       "      <th>5</th>\n",
       "      <td>Quant3</td>\n",
       "      <td>yes</td>\n",
       "      <td>1415</td>\n",
       "      <td>11299</td>\n",
       "      <td>12.523232</td>\n",
       "    </tr>\n",
       "    <tr>\n",
       "      <th>6</th>\n",
       "      <td>Quant4</td>\n",
       "      <td>no</td>\n",
       "      <td>9472</td>\n",
       "      <td>11297</td>\n",
       "      <td>83.845269</td>\n",
       "    </tr>\n",
       "    <tr>\n",
       "      <th>7</th>\n",
       "      <td>Quant4</td>\n",
       "      <td>yes</td>\n",
       "      <td>1825</td>\n",
       "      <td>11297</td>\n",
       "      <td>16.154731</td>\n",
       "    </tr>\n",
       "  </tbody>\n",
       "</table>\n",
       "</div>"
      ],
      "text/plain": [
       "  balanceClass    y  balanceCat  balanceTot    catProp\n",
       "0       Quant1   no       10517       11340  92.742504\n",
       "1       Quant1  yes         823       11340   7.257496\n",
       "2       Quant2   no       10049       11275  89.126386\n",
       "3       Quant2  yes        1226       11275  10.873614\n",
       "4       Quant3   no        9884       11299  87.476768\n",
       "5       Quant3  yes        1415       11299  12.523232\n",
       "6       Quant4   no        9472       11297  83.845269\n",
       "7       Quant4  yes        1825       11297  16.154731"
      ]
     },
     "execution_count": 19,
     "metadata": {},
     "output_type": "execute_result"
    }
   ],
   "source": [
    "# merge both dataframes\n",
    "balanceComb = pd.merge(balanceProp, balanceTot, on=['balanceClass'])\n",
    "balanceComb['catProp'] = (balanceComb.balanceCat / balanceComb.balanceTot) * 100\n",
    "balanceComb"
   ]
  },
  {
   "cell_type": "markdown",
   "id": "mental-pointer",
   "metadata": {},
   "source": [
    "# Feature Engineering – Creating New Features from Existing Ones"
   ]
  },
  {
   "cell_type": "code",
   "execution_count": 20,
   "id": "partial-alarm",
   "metadata": {},
   "outputs": [],
   "source": [
    "#  normalize the numerical variables\n",
    "from sklearn import preprocessing\n",
    "x = bankData[['balance']].values.astype(float)\n",
    "\n",
    "minmaxScaler = preprocessing.MinMaxScaler()\n",
    "bankData['balanceTran'] = minmaxScaler.fit_transform(x)"
   ]
  },
  {
   "cell_type": "code",
   "execution_count": 21,
   "id": "connected-pavilion",
   "metadata": {},
   "outputs": [
    {
     "data": {
      "text/html": [
       "<div>\n",
       "<style scoped>\n",
       "    .dataframe tbody tr th:only-of-type {\n",
       "        vertical-align: middle;\n",
       "    }\n",
       "\n",
       "    .dataframe tbody tr th {\n",
       "        vertical-align: top;\n",
       "    }\n",
       "\n",
       "    .dataframe thead th {\n",
       "        text-align: right;\n",
       "    }\n",
       "</style>\n",
       "<table border=\"1\" class=\"dataframe\">\n",
       "  <thead>\n",
       "    <tr style=\"text-align: right;\">\n",
       "      <th></th>\n",
       "      <th>age</th>\n",
       "      <th>job</th>\n",
       "      <th>marital</th>\n",
       "      <th>education</th>\n",
       "      <th>default</th>\n",
       "      <th>balance</th>\n",
       "      <th>housing</th>\n",
       "      <th>loan</th>\n",
       "      <th>contact</th>\n",
       "      <th>day</th>\n",
       "      <th>month</th>\n",
       "      <th>duration</th>\n",
       "      <th>campaign</th>\n",
       "      <th>pdays</th>\n",
       "      <th>previous</th>\n",
       "      <th>poutcome</th>\n",
       "      <th>y</th>\n",
       "      <th>balanceClass</th>\n",
       "      <th>balanceTran</th>\n",
       "    </tr>\n",
       "  </thead>\n",
       "  <tbody>\n",
       "    <tr>\n",
       "      <th>0</th>\n",
       "      <td>58</td>\n",
       "      <td>management</td>\n",
       "      <td>married</td>\n",
       "      <td>tertiary</td>\n",
       "      <td>no</td>\n",
       "      <td>2143</td>\n",
       "      <td>yes</td>\n",
       "      <td>no</td>\n",
       "      <td>unknown</td>\n",
       "      <td>5</td>\n",
       "      <td>may</td>\n",
       "      <td>261</td>\n",
       "      <td>1</td>\n",
       "      <td>-1</td>\n",
       "      <td>0</td>\n",
       "      <td>unknown</td>\n",
       "      <td>no</td>\n",
       "      <td>Quant4</td>\n",
       "      <td>0.092259</td>\n",
       "    </tr>\n",
       "    <tr>\n",
       "      <th>1</th>\n",
       "      <td>44</td>\n",
       "      <td>technician</td>\n",
       "      <td>single</td>\n",
       "      <td>secondary</td>\n",
       "      <td>no</td>\n",
       "      <td>29</td>\n",
       "      <td>yes</td>\n",
       "      <td>no</td>\n",
       "      <td>unknown</td>\n",
       "      <td>5</td>\n",
       "      <td>may</td>\n",
       "      <td>151</td>\n",
       "      <td>1</td>\n",
       "      <td>-1</td>\n",
       "      <td>0</td>\n",
       "      <td>unknown</td>\n",
       "      <td>no</td>\n",
       "      <td>Quant1</td>\n",
       "      <td>0.073067</td>\n",
       "    </tr>\n",
       "    <tr>\n",
       "      <th>2</th>\n",
       "      <td>33</td>\n",
       "      <td>entrepreneur</td>\n",
       "      <td>married</td>\n",
       "      <td>secondary</td>\n",
       "      <td>no</td>\n",
       "      <td>2</td>\n",
       "      <td>yes</td>\n",
       "      <td>yes</td>\n",
       "      <td>unknown</td>\n",
       "      <td>5</td>\n",
       "      <td>may</td>\n",
       "      <td>76</td>\n",
       "      <td>1</td>\n",
       "      <td>-1</td>\n",
       "      <td>0</td>\n",
       "      <td>unknown</td>\n",
       "      <td>no</td>\n",
       "      <td>Quant1</td>\n",
       "      <td>0.072822</td>\n",
       "    </tr>\n",
       "    <tr>\n",
       "      <th>3</th>\n",
       "      <td>47</td>\n",
       "      <td>blue-collar</td>\n",
       "      <td>married</td>\n",
       "      <td>unknown</td>\n",
       "      <td>no</td>\n",
       "      <td>1506</td>\n",
       "      <td>yes</td>\n",
       "      <td>no</td>\n",
       "      <td>unknown</td>\n",
       "      <td>5</td>\n",
       "      <td>may</td>\n",
       "      <td>92</td>\n",
       "      <td>1</td>\n",
       "      <td>-1</td>\n",
       "      <td>0</td>\n",
       "      <td>unknown</td>\n",
       "      <td>no</td>\n",
       "      <td>Quant4</td>\n",
       "      <td>0.086476</td>\n",
       "    </tr>\n",
       "    <tr>\n",
       "      <th>4</th>\n",
       "      <td>33</td>\n",
       "      <td>unknown</td>\n",
       "      <td>single</td>\n",
       "      <td>unknown</td>\n",
       "      <td>no</td>\n",
       "      <td>1</td>\n",
       "      <td>no</td>\n",
       "      <td>no</td>\n",
       "      <td>unknown</td>\n",
       "      <td>5</td>\n",
       "      <td>may</td>\n",
       "      <td>198</td>\n",
       "      <td>1</td>\n",
       "      <td>-1</td>\n",
       "      <td>0</td>\n",
       "      <td>unknown</td>\n",
       "      <td>no</td>\n",
       "      <td>Quant1</td>\n",
       "      <td>0.072812</td>\n",
       "    </tr>\n",
       "  </tbody>\n",
       "</table>\n",
       "</div>"
      ],
      "text/plain": [
       "   age           job  marital  education default  balance housing loan  \\\n",
       "0   58    management  married   tertiary      no     2143     yes   no   \n",
       "1   44    technician   single  secondary      no       29     yes   no   \n",
       "2   33  entrepreneur  married  secondary      no        2     yes  yes   \n",
       "3   47   blue-collar  married    unknown      no     1506     yes   no   \n",
       "4   33       unknown   single    unknown      no        1      no   no   \n",
       "\n",
       "   contact  day month  duration  campaign  pdays  previous poutcome   y  \\\n",
       "0  unknown    5   may       261         1     -1         0  unknown  no   \n",
       "1  unknown    5   may       151         1     -1         0  unknown  no   \n",
       "2  unknown    5   may        76         1     -1         0  unknown  no   \n",
       "3  unknown    5   may        92         1     -1         0  unknown  no   \n",
       "4  unknown    5   may       198         1     -1         0  unknown  no   \n",
       "\n",
       "  balanceClass  balanceTran  \n",
       "0       Quant4     0.092259  \n",
       "1       Quant1     0.073067  \n",
       "2       Quant1     0.072822  \n",
       "3       Quant4     0.086476  \n",
       "4       Quant1     0.072812  "
      ]
     },
     "execution_count": 21,
     "metadata": {},
     "output_type": "execute_result"
    }
   ],
   "source": [
    "bankData.head()"
   ]
  },
  {
   "cell_type": "code",
   "execution_count": 22,
   "id": "leading-specification",
   "metadata": {},
   "outputs": [],
   "source": [
    "# add a small value of 0.001 so as to eliminate the 0 values in the variable\n",
    "bankData['balanceTran'] = bankData['balanceTran'] + 0.00001"
   ]
  },
  {
   "cell_type": "markdown",
   "id": "humanitarian-vaccine",
   "metadata": {},
   "source": [
    "The purpose of adding this small value is because, in the subsequent steps, we will be multiplying three transformed variables together to form a composite index. The small value is added to avoid the variable values becoming 0 during the multiplying operation."
   ]
  },
  {
   "cell_type": "code",
   "execution_count": 23,
   "id": "impaired-candy",
   "metadata": {},
   "outputs": [
    {
     "data": {
      "text/html": [
       "<div>\n",
       "<style scoped>\n",
       "    .dataframe tbody tr th:only-of-type {\n",
       "        vertical-align: middle;\n",
       "    }\n",
       "\n",
       "    .dataframe tbody tr th {\n",
       "        vertical-align: top;\n",
       "    }\n",
       "\n",
       "    .dataframe thead th {\n",
       "        text-align: right;\n",
       "    }\n",
       "</style>\n",
       "<table border=\"1\" class=\"dataframe\">\n",
       "  <thead>\n",
       "    <tr style=\"text-align: right;\">\n",
       "      <th></th>\n",
       "      <th>age</th>\n",
       "      <th>job</th>\n",
       "      <th>marital</th>\n",
       "      <th>education</th>\n",
       "      <th>default</th>\n",
       "      <th>balance</th>\n",
       "      <th>housing</th>\n",
       "      <th>loan</th>\n",
       "      <th>contact</th>\n",
       "      <th>day</th>\n",
       "      <th>month</th>\n",
       "      <th>duration</th>\n",
       "      <th>campaign</th>\n",
       "      <th>pdays</th>\n",
       "      <th>previous</th>\n",
       "      <th>poutcome</th>\n",
       "      <th>y</th>\n",
       "      <th>balanceClass</th>\n",
       "      <th>balanceTran</th>\n",
       "      <th>loanTran</th>\n",
       "    </tr>\n",
       "  </thead>\n",
       "  <tbody>\n",
       "    <tr>\n",
       "      <th>0</th>\n",
       "      <td>58</td>\n",
       "      <td>management</td>\n",
       "      <td>married</td>\n",
       "      <td>tertiary</td>\n",
       "      <td>no</td>\n",
       "      <td>2143</td>\n",
       "      <td>yes</td>\n",
       "      <td>no</td>\n",
       "      <td>unknown</td>\n",
       "      <td>5</td>\n",
       "      <td>may</td>\n",
       "      <td>261</td>\n",
       "      <td>1</td>\n",
       "      <td>-1</td>\n",
       "      <td>0</td>\n",
       "      <td>unknown</td>\n",
       "      <td>no</td>\n",
       "      <td>Quant4</td>\n",
       "      <td>0.092269</td>\n",
       "      <td>5</td>\n",
       "    </tr>\n",
       "    <tr>\n",
       "      <th>1</th>\n",
       "      <td>44</td>\n",
       "      <td>technician</td>\n",
       "      <td>single</td>\n",
       "      <td>secondary</td>\n",
       "      <td>no</td>\n",
       "      <td>29</td>\n",
       "      <td>yes</td>\n",
       "      <td>no</td>\n",
       "      <td>unknown</td>\n",
       "      <td>5</td>\n",
       "      <td>may</td>\n",
       "      <td>151</td>\n",
       "      <td>1</td>\n",
       "      <td>-1</td>\n",
       "      <td>0</td>\n",
       "      <td>unknown</td>\n",
       "      <td>no</td>\n",
       "      <td>Quant1</td>\n",
       "      <td>0.073077</td>\n",
       "      <td>5</td>\n",
       "    </tr>\n",
       "    <tr>\n",
       "      <th>2</th>\n",
       "      <td>33</td>\n",
       "      <td>entrepreneur</td>\n",
       "      <td>married</td>\n",
       "      <td>secondary</td>\n",
       "      <td>no</td>\n",
       "      <td>2</td>\n",
       "      <td>yes</td>\n",
       "      <td>yes</td>\n",
       "      <td>unknown</td>\n",
       "      <td>5</td>\n",
       "      <td>may</td>\n",
       "      <td>76</td>\n",
       "      <td>1</td>\n",
       "      <td>-1</td>\n",
       "      <td>0</td>\n",
       "      <td>unknown</td>\n",
       "      <td>no</td>\n",
       "      <td>Quant1</td>\n",
       "      <td>0.072832</td>\n",
       "      <td>1</td>\n",
       "    </tr>\n",
       "    <tr>\n",
       "      <th>3</th>\n",
       "      <td>47</td>\n",
       "      <td>blue-collar</td>\n",
       "      <td>married</td>\n",
       "      <td>unknown</td>\n",
       "      <td>no</td>\n",
       "      <td>1506</td>\n",
       "      <td>yes</td>\n",
       "      <td>no</td>\n",
       "      <td>unknown</td>\n",
       "      <td>5</td>\n",
       "      <td>may</td>\n",
       "      <td>92</td>\n",
       "      <td>1</td>\n",
       "      <td>-1</td>\n",
       "      <td>0</td>\n",
       "      <td>unknown</td>\n",
       "      <td>no</td>\n",
       "      <td>Quant4</td>\n",
       "      <td>0.086486</td>\n",
       "      <td>5</td>\n",
       "    </tr>\n",
       "    <tr>\n",
       "      <th>4</th>\n",
       "      <td>33</td>\n",
       "      <td>unknown</td>\n",
       "      <td>single</td>\n",
       "      <td>unknown</td>\n",
       "      <td>no</td>\n",
       "      <td>1</td>\n",
       "      <td>no</td>\n",
       "      <td>no</td>\n",
       "      <td>unknown</td>\n",
       "      <td>5</td>\n",
       "      <td>may</td>\n",
       "      <td>198</td>\n",
       "      <td>1</td>\n",
       "      <td>-1</td>\n",
       "      <td>0</td>\n",
       "      <td>unknown</td>\n",
       "      <td>no</td>\n",
       "      <td>Quant1</td>\n",
       "      <td>0.072822</td>\n",
       "      <td>5</td>\n",
       "    </tr>\n",
       "  </tbody>\n",
       "</table>\n",
       "</div>"
      ],
      "text/plain": [
       "   age           job  marital  education default  balance housing loan  \\\n",
       "0   58    management  married   tertiary      no     2143     yes   no   \n",
       "1   44    technician   single  secondary      no       29     yes   no   \n",
       "2   33  entrepreneur  married  secondary      no        2     yes  yes   \n",
       "3   47   blue-collar  married    unknown      no     1506     yes   no   \n",
       "4   33       unknown   single    unknown      no        1      no   no   \n",
       "\n",
       "   contact  day month  duration  campaign  pdays  previous poutcome   y  \\\n",
       "0  unknown    5   may       261         1     -1         0  unknown  no   \n",
       "1  unknown    5   may       151         1     -1         0  unknown  no   \n",
       "2  unknown    5   may        76         1     -1         0  unknown  no   \n",
       "3  unknown    5   may        92         1     -1         0  unknown  no   \n",
       "4  unknown    5   may       198         1     -1         0  unknown  no   \n",
       "\n",
       "  balanceClass  balanceTran  loanTran  \n",
       "0       Quant4     0.092269         5  \n",
       "1       Quant1     0.073077         5  \n",
       "2       Quant1     0.072832         1  \n",
       "3       Quant4     0.086486         5  \n",
       "4       Quant1     0.072822         5  "
      ]
     },
     "execution_count": 23,
     "metadata": {},
     "output_type": "execute_result"
    }
   ],
   "source": [
    "# add two additional columns for introducing the transformed variables for loans and housing\n",
    "bankData['loanTran'] = 1\n",
    "# Giving a weight of 5 if there is no loan\n",
    "bankData.loc[bankData['loan'] == 'no', 'loanTran'] = 5\n",
    "bankData.head()"
   ]
  },
  {
   "cell_type": "markdown",
   "id": "economic-elite",
   "metadata": {},
   "source": [
    "We transformed values for the loan data as per the weighting approach. When a customer has a loan, it is given a weight of 1, and when there's no loan, the weight assigned is 5. The value of 1 and 5 are intuitive weights we are assigning. What values we assign can vary based on the business context you may be provided with."
   ]
  },
  {
   "cell_type": "code",
   "execution_count": 24,
   "id": "acute-recovery",
   "metadata": {},
   "outputs": [],
   "source": [
    "# transform values for the Housing data\n",
    "bankData['houseTran'] = 5"
   ]
  },
  {
   "cell_type": "code",
   "execution_count": 25,
   "id": "modified-christian",
   "metadata": {},
   "outputs": [
    {
     "data": {
      "text/html": [
       "<div>\n",
       "<style scoped>\n",
       "    .dataframe tbody tr th:only-of-type {\n",
       "        vertical-align: middle;\n",
       "    }\n",
       "\n",
       "    .dataframe tbody tr th {\n",
       "        vertical-align: top;\n",
       "    }\n",
       "\n",
       "    .dataframe thead th {\n",
       "        text-align: right;\n",
       "    }\n",
       "</style>\n",
       "<table border=\"1\" class=\"dataframe\">\n",
       "  <thead>\n",
       "    <tr style=\"text-align: right;\">\n",
       "      <th></th>\n",
       "      <th>age</th>\n",
       "      <th>job</th>\n",
       "      <th>marital</th>\n",
       "      <th>education</th>\n",
       "      <th>default</th>\n",
       "      <th>balance</th>\n",
       "      <th>housing</th>\n",
       "      <th>loan</th>\n",
       "      <th>contact</th>\n",
       "      <th>day</th>\n",
       "      <th>...</th>\n",
       "      <th>duration</th>\n",
       "      <th>campaign</th>\n",
       "      <th>pdays</th>\n",
       "      <th>previous</th>\n",
       "      <th>poutcome</th>\n",
       "      <th>y</th>\n",
       "      <th>balanceClass</th>\n",
       "      <th>balanceTran</th>\n",
       "      <th>loanTran</th>\n",
       "      <th>houseTran</th>\n",
       "    </tr>\n",
       "  </thead>\n",
       "  <tbody>\n",
       "    <tr>\n",
       "      <th>0</th>\n",
       "      <td>58</td>\n",
       "      <td>management</td>\n",
       "      <td>married</td>\n",
       "      <td>tertiary</td>\n",
       "      <td>no</td>\n",
       "      <td>2143</td>\n",
       "      <td>yes</td>\n",
       "      <td>no</td>\n",
       "      <td>unknown</td>\n",
       "      <td>5</td>\n",
       "      <td>...</td>\n",
       "      <td>261</td>\n",
       "      <td>1</td>\n",
       "      <td>-1</td>\n",
       "      <td>0</td>\n",
       "      <td>unknown</td>\n",
       "      <td>no</td>\n",
       "      <td>Quant4</td>\n",
       "      <td>0.092269</td>\n",
       "      <td>5</td>\n",
       "      <td>5</td>\n",
       "    </tr>\n",
       "    <tr>\n",
       "      <th>1</th>\n",
       "      <td>44</td>\n",
       "      <td>technician</td>\n",
       "      <td>single</td>\n",
       "      <td>secondary</td>\n",
       "      <td>no</td>\n",
       "      <td>29</td>\n",
       "      <td>yes</td>\n",
       "      <td>no</td>\n",
       "      <td>unknown</td>\n",
       "      <td>5</td>\n",
       "      <td>...</td>\n",
       "      <td>151</td>\n",
       "      <td>1</td>\n",
       "      <td>-1</td>\n",
       "      <td>0</td>\n",
       "      <td>unknown</td>\n",
       "      <td>no</td>\n",
       "      <td>Quant1</td>\n",
       "      <td>0.073077</td>\n",
       "      <td>5</td>\n",
       "      <td>5</td>\n",
       "    </tr>\n",
       "    <tr>\n",
       "      <th>2</th>\n",
       "      <td>33</td>\n",
       "      <td>entrepreneur</td>\n",
       "      <td>married</td>\n",
       "      <td>secondary</td>\n",
       "      <td>no</td>\n",
       "      <td>2</td>\n",
       "      <td>yes</td>\n",
       "      <td>yes</td>\n",
       "      <td>unknown</td>\n",
       "      <td>5</td>\n",
       "      <td>...</td>\n",
       "      <td>76</td>\n",
       "      <td>1</td>\n",
       "      <td>-1</td>\n",
       "      <td>0</td>\n",
       "      <td>unknown</td>\n",
       "      <td>no</td>\n",
       "      <td>Quant1</td>\n",
       "      <td>0.072832</td>\n",
       "      <td>1</td>\n",
       "      <td>5</td>\n",
       "    </tr>\n",
       "    <tr>\n",
       "      <th>3</th>\n",
       "      <td>47</td>\n",
       "      <td>blue-collar</td>\n",
       "      <td>married</td>\n",
       "      <td>unknown</td>\n",
       "      <td>no</td>\n",
       "      <td>1506</td>\n",
       "      <td>yes</td>\n",
       "      <td>no</td>\n",
       "      <td>unknown</td>\n",
       "      <td>5</td>\n",
       "      <td>...</td>\n",
       "      <td>92</td>\n",
       "      <td>1</td>\n",
       "      <td>-1</td>\n",
       "      <td>0</td>\n",
       "      <td>unknown</td>\n",
       "      <td>no</td>\n",
       "      <td>Quant4</td>\n",
       "      <td>0.086486</td>\n",
       "      <td>5</td>\n",
       "      <td>5</td>\n",
       "    </tr>\n",
       "    <tr>\n",
       "      <th>4</th>\n",
       "      <td>33</td>\n",
       "      <td>unknown</td>\n",
       "      <td>single</td>\n",
       "      <td>unknown</td>\n",
       "      <td>no</td>\n",
       "      <td>1</td>\n",
       "      <td>no</td>\n",
       "      <td>no</td>\n",
       "      <td>unknown</td>\n",
       "      <td>5</td>\n",
       "      <td>...</td>\n",
       "      <td>198</td>\n",
       "      <td>1</td>\n",
       "      <td>-1</td>\n",
       "      <td>0</td>\n",
       "      <td>unknown</td>\n",
       "      <td>no</td>\n",
       "      <td>Quant1</td>\n",
       "      <td>0.072822</td>\n",
       "      <td>5</td>\n",
       "      <td>1</td>\n",
       "    </tr>\n",
       "  </tbody>\n",
       "</table>\n",
       "<p>5 rows × 21 columns</p>\n",
       "</div>"
      ],
      "text/plain": [
       "   age           job  marital  education default  balance housing loan  \\\n",
       "0   58    management  married   tertiary      no     2143     yes   no   \n",
       "1   44    technician   single  secondary      no       29     yes   no   \n",
       "2   33  entrepreneur  married  secondary      no        2     yes  yes   \n",
       "3   47   blue-collar  married    unknown      no     1506     yes   no   \n",
       "4   33       unknown   single    unknown      no        1      no   no   \n",
       "\n",
       "   contact  day  ... duration  campaign  pdays  previous  poutcome   y  \\\n",
       "0  unknown    5  ...      261         1     -1         0   unknown  no   \n",
       "1  unknown    5  ...      151         1     -1         0   unknown  no   \n",
       "2  unknown    5  ...       76         1     -1         0   unknown  no   \n",
       "3  unknown    5  ...       92         1     -1         0   unknown  no   \n",
       "4  unknown    5  ...      198         1     -1         0   unknown  no   \n",
       "\n",
       "  balanceClass balanceTran  loanTran  houseTran  \n",
       "0       Quant4    0.092269         5          5  \n",
       "1       Quant1    0.073077         5          5  \n",
       "2       Quant1    0.072832         1          5  \n",
       "3       Quant4    0.086486         5          5  \n",
       "4       Quant1    0.072822         5          1  \n",
       "\n",
       "[5 rows x 21 columns]"
      ]
     },
     "execution_count": 25,
     "metadata": {},
     "output_type": "execute_result"
    }
   ],
   "source": [
    "# Give a weight of 1 if the customer has a house\n",
    "bankData.loc[bankData['housing'] == 'no', 'houseTran'] = 1\n",
    "bankData.head()"
   ]
  },
  {
   "cell_type": "markdown",
   "id": "finnish-reflection",
   "metadata": {},
   "source": [
    "Once all the transformed variables are created, we can multiply all of the transformed variables together to create a new index called assetIndex. This is a composite index that represents the combined effect of all three variables."
   ]
  },
  {
   "cell_type": "code",
   "execution_count": 26,
   "id": "fiscal-danish",
   "metadata": {},
   "outputs": [
    {
     "data": {
      "text/html": [
       "<div>\n",
       "<style scoped>\n",
       "    .dataframe tbody tr th:only-of-type {\n",
       "        vertical-align: middle;\n",
       "    }\n",
       "\n",
       "    .dataframe tbody tr th {\n",
       "        vertical-align: top;\n",
       "    }\n",
       "\n",
       "    .dataframe thead th {\n",
       "        text-align: right;\n",
       "    }\n",
       "</style>\n",
       "<table border=\"1\" class=\"dataframe\">\n",
       "  <thead>\n",
       "    <tr style=\"text-align: right;\">\n",
       "      <th></th>\n",
       "      <th>age</th>\n",
       "      <th>job</th>\n",
       "      <th>marital</th>\n",
       "      <th>education</th>\n",
       "      <th>default</th>\n",
       "      <th>balance</th>\n",
       "      <th>housing</th>\n",
       "      <th>loan</th>\n",
       "      <th>contact</th>\n",
       "      <th>day</th>\n",
       "      <th>...</th>\n",
       "      <th>campaign</th>\n",
       "      <th>pdays</th>\n",
       "      <th>previous</th>\n",
       "      <th>poutcome</th>\n",
       "      <th>y</th>\n",
       "      <th>balanceClass</th>\n",
       "      <th>balanceTran</th>\n",
       "      <th>loanTran</th>\n",
       "      <th>houseTran</th>\n",
       "      <th>assetIndex</th>\n",
       "    </tr>\n",
       "  </thead>\n",
       "  <tbody>\n",
       "    <tr>\n",
       "      <th>0</th>\n",
       "      <td>58</td>\n",
       "      <td>management</td>\n",
       "      <td>married</td>\n",
       "      <td>tertiary</td>\n",
       "      <td>no</td>\n",
       "      <td>2143</td>\n",
       "      <td>yes</td>\n",
       "      <td>no</td>\n",
       "      <td>unknown</td>\n",
       "      <td>5</td>\n",
       "      <td>...</td>\n",
       "      <td>1</td>\n",
       "      <td>-1</td>\n",
       "      <td>0</td>\n",
       "      <td>unknown</td>\n",
       "      <td>no</td>\n",
       "      <td>Quant4</td>\n",
       "      <td>0.092269</td>\n",
       "      <td>5</td>\n",
       "      <td>5</td>\n",
       "      <td>2.306734</td>\n",
       "    </tr>\n",
       "    <tr>\n",
       "      <th>1</th>\n",
       "      <td>44</td>\n",
       "      <td>technician</td>\n",
       "      <td>single</td>\n",
       "      <td>secondary</td>\n",
       "      <td>no</td>\n",
       "      <td>29</td>\n",
       "      <td>yes</td>\n",
       "      <td>no</td>\n",
       "      <td>unknown</td>\n",
       "      <td>5</td>\n",
       "      <td>...</td>\n",
       "      <td>1</td>\n",
       "      <td>-1</td>\n",
       "      <td>0</td>\n",
       "      <td>unknown</td>\n",
       "      <td>no</td>\n",
       "      <td>Quant1</td>\n",
       "      <td>0.073077</td>\n",
       "      <td>5</td>\n",
       "      <td>5</td>\n",
       "      <td>1.826916</td>\n",
       "    </tr>\n",
       "    <tr>\n",
       "      <th>2</th>\n",
       "      <td>33</td>\n",
       "      <td>entrepreneur</td>\n",
       "      <td>married</td>\n",
       "      <td>secondary</td>\n",
       "      <td>no</td>\n",
       "      <td>2</td>\n",
       "      <td>yes</td>\n",
       "      <td>yes</td>\n",
       "      <td>unknown</td>\n",
       "      <td>5</td>\n",
       "      <td>...</td>\n",
       "      <td>1</td>\n",
       "      <td>-1</td>\n",
       "      <td>0</td>\n",
       "      <td>unknown</td>\n",
       "      <td>no</td>\n",
       "      <td>Quant1</td>\n",
       "      <td>0.072832</td>\n",
       "      <td>1</td>\n",
       "      <td>5</td>\n",
       "      <td>0.364158</td>\n",
       "    </tr>\n",
       "    <tr>\n",
       "      <th>3</th>\n",
       "      <td>47</td>\n",
       "      <td>blue-collar</td>\n",
       "      <td>married</td>\n",
       "      <td>unknown</td>\n",
       "      <td>no</td>\n",
       "      <td>1506</td>\n",
       "      <td>yes</td>\n",
       "      <td>no</td>\n",
       "      <td>unknown</td>\n",
       "      <td>5</td>\n",
       "      <td>...</td>\n",
       "      <td>1</td>\n",
       "      <td>-1</td>\n",
       "      <td>0</td>\n",
       "      <td>unknown</td>\n",
       "      <td>no</td>\n",
       "      <td>Quant4</td>\n",
       "      <td>0.086486</td>\n",
       "      <td>5</td>\n",
       "      <td>5</td>\n",
       "      <td>2.162153</td>\n",
       "    </tr>\n",
       "    <tr>\n",
       "      <th>4</th>\n",
       "      <td>33</td>\n",
       "      <td>unknown</td>\n",
       "      <td>single</td>\n",
       "      <td>unknown</td>\n",
       "      <td>no</td>\n",
       "      <td>1</td>\n",
       "      <td>no</td>\n",
       "      <td>no</td>\n",
       "      <td>unknown</td>\n",
       "      <td>5</td>\n",
       "      <td>...</td>\n",
       "      <td>1</td>\n",
       "      <td>-1</td>\n",
       "      <td>0</td>\n",
       "      <td>unknown</td>\n",
       "      <td>no</td>\n",
       "      <td>Quant1</td>\n",
       "      <td>0.072822</td>\n",
       "      <td>5</td>\n",
       "      <td>1</td>\n",
       "      <td>0.364112</td>\n",
       "    </tr>\n",
       "  </tbody>\n",
       "</table>\n",
       "<p>5 rows × 22 columns</p>\n",
       "</div>"
      ],
      "text/plain": [
       "   age           job  marital  education default  balance housing loan  \\\n",
       "0   58    management  married   tertiary      no     2143     yes   no   \n",
       "1   44    technician   single  secondary      no       29     yes   no   \n",
       "2   33  entrepreneur  married  secondary      no        2     yes  yes   \n",
       "3   47   blue-collar  married    unknown      no     1506     yes   no   \n",
       "4   33       unknown   single    unknown      no        1      no   no   \n",
       "\n",
       "   contact  day  ... campaign  pdays  previous  poutcome   y balanceClass  \\\n",
       "0  unknown    5  ...        1     -1         0   unknown  no       Quant4   \n",
       "1  unknown    5  ...        1     -1         0   unknown  no       Quant1   \n",
       "2  unknown    5  ...        1     -1         0   unknown  no       Quant1   \n",
       "3  unknown    5  ...        1     -1         0   unknown  no       Quant4   \n",
       "4  unknown    5  ...        1     -1         0   unknown  no       Quant1   \n",
       "\n",
       "  balanceTran loanTran  houseTran  assetIndex  \n",
       "0    0.092269        5          5    2.306734  \n",
       "1    0.073077        5          5    1.826916  \n",
       "2    0.072832        1          5    0.364158  \n",
       "3    0.086486        5          5    2.162153  \n",
       "4    0.072822        5          1    0.364112  \n",
       "\n",
       "[5 rows x 22 columns]"
      ]
     },
     "execution_count": 26,
     "metadata": {},
     "output_type": "execute_result"
    }
   ],
   "source": [
    "bankData['assetIndex'] = bankData['balanceTran'] * bankData['loanTran'] * bankData['houseTran']\n",
    "bankData.head()"
   ]
  },
  {
   "cell_type": "code",
   "execution_count": 27,
   "id": "inside-recipient",
   "metadata": {},
   "outputs": [
    {
     "data": {
      "text/html": [
       "<div>\n",
       "<style scoped>\n",
       "    .dataframe tbody tr th:only-of-type {\n",
       "        vertical-align: middle;\n",
       "    }\n",
       "\n",
       "    .dataframe tbody tr th {\n",
       "        vertical-align: top;\n",
       "    }\n",
       "\n",
       "    .dataframe thead th {\n",
       "        text-align: right;\n",
       "    }\n",
       "</style>\n",
       "<table border=\"1\" class=\"dataframe\">\n",
       "  <thead>\n",
       "    <tr style=\"text-align: right;\">\n",
       "      <th></th>\n",
       "      <th>age</th>\n",
       "      <th>job</th>\n",
       "      <th>marital</th>\n",
       "      <th>education</th>\n",
       "      <th>default</th>\n",
       "      <th>balance</th>\n",
       "      <th>housing</th>\n",
       "      <th>loan</th>\n",
       "      <th>contact</th>\n",
       "      <th>day</th>\n",
       "      <th>...</th>\n",
       "      <th>pdays</th>\n",
       "      <th>previous</th>\n",
       "      <th>poutcome</th>\n",
       "      <th>y</th>\n",
       "      <th>balanceClass</th>\n",
       "      <th>balanceTran</th>\n",
       "      <th>loanTran</th>\n",
       "      <th>houseTran</th>\n",
       "      <th>assetIndex</th>\n",
       "      <th>assetClass</th>\n",
       "    </tr>\n",
       "  </thead>\n",
       "  <tbody>\n",
       "    <tr>\n",
       "      <th>0</th>\n",
       "      <td>58</td>\n",
       "      <td>management</td>\n",
       "      <td>married</td>\n",
       "      <td>tertiary</td>\n",
       "      <td>no</td>\n",
       "      <td>2143</td>\n",
       "      <td>yes</td>\n",
       "      <td>no</td>\n",
       "      <td>unknown</td>\n",
       "      <td>5</td>\n",
       "      <td>...</td>\n",
       "      <td>-1</td>\n",
       "      <td>0</td>\n",
       "      <td>unknown</td>\n",
       "      <td>no</td>\n",
       "      <td>Quant4</td>\n",
       "      <td>0.092269</td>\n",
       "      <td>5</td>\n",
       "      <td>5</td>\n",
       "      <td>2.306734</td>\n",
       "      <td>Quant4</td>\n",
       "    </tr>\n",
       "    <tr>\n",
       "      <th>1</th>\n",
       "      <td>44</td>\n",
       "      <td>technician</td>\n",
       "      <td>single</td>\n",
       "      <td>secondary</td>\n",
       "      <td>no</td>\n",
       "      <td>29</td>\n",
       "      <td>yes</td>\n",
       "      <td>no</td>\n",
       "      <td>unknown</td>\n",
       "      <td>5</td>\n",
       "      <td>...</td>\n",
       "      <td>-1</td>\n",
       "      <td>0</td>\n",
       "      <td>unknown</td>\n",
       "      <td>no</td>\n",
       "      <td>Quant1</td>\n",
       "      <td>0.073077</td>\n",
       "      <td>5</td>\n",
       "      <td>5</td>\n",
       "      <td>1.826916</td>\n",
       "      <td>Quant3</td>\n",
       "    </tr>\n",
       "    <tr>\n",
       "      <th>2</th>\n",
       "      <td>33</td>\n",
       "      <td>entrepreneur</td>\n",
       "      <td>married</td>\n",
       "      <td>secondary</td>\n",
       "      <td>no</td>\n",
       "      <td>2</td>\n",
       "      <td>yes</td>\n",
       "      <td>yes</td>\n",
       "      <td>unknown</td>\n",
       "      <td>5</td>\n",
       "      <td>...</td>\n",
       "      <td>-1</td>\n",
       "      <td>0</td>\n",
       "      <td>unknown</td>\n",
       "      <td>no</td>\n",
       "      <td>Quant1</td>\n",
       "      <td>0.072832</td>\n",
       "      <td>1</td>\n",
       "      <td>5</td>\n",
       "      <td>0.364158</td>\n",
       "      <td>Quant1</td>\n",
       "    </tr>\n",
       "    <tr>\n",
       "      <th>3</th>\n",
       "      <td>47</td>\n",
       "      <td>blue-collar</td>\n",
       "      <td>married</td>\n",
       "      <td>unknown</td>\n",
       "      <td>no</td>\n",
       "      <td>1506</td>\n",
       "      <td>yes</td>\n",
       "      <td>no</td>\n",
       "      <td>unknown</td>\n",
       "      <td>5</td>\n",
       "      <td>...</td>\n",
       "      <td>-1</td>\n",
       "      <td>0</td>\n",
       "      <td>unknown</td>\n",
       "      <td>no</td>\n",
       "      <td>Quant4</td>\n",
       "      <td>0.086486</td>\n",
       "      <td>5</td>\n",
       "      <td>5</td>\n",
       "      <td>2.162153</td>\n",
       "      <td>Quant4</td>\n",
       "    </tr>\n",
       "    <tr>\n",
       "      <th>4</th>\n",
       "      <td>33</td>\n",
       "      <td>unknown</td>\n",
       "      <td>single</td>\n",
       "      <td>unknown</td>\n",
       "      <td>no</td>\n",
       "      <td>1</td>\n",
       "      <td>no</td>\n",
       "      <td>no</td>\n",
       "      <td>unknown</td>\n",
       "      <td>5</td>\n",
       "      <td>...</td>\n",
       "      <td>-1</td>\n",
       "      <td>0</td>\n",
       "      <td>unknown</td>\n",
       "      <td>no</td>\n",
       "      <td>Quant1</td>\n",
       "      <td>0.072822</td>\n",
       "      <td>5</td>\n",
       "      <td>1</td>\n",
       "      <td>0.364112</td>\n",
       "      <td>Quant1</td>\n",
       "    </tr>\n",
       "  </tbody>\n",
       "</table>\n",
       "<p>5 rows × 23 columns</p>\n",
       "</div>"
      ],
      "text/plain": [
       "   age           job  marital  education default  balance housing loan  \\\n",
       "0   58    management  married   tertiary      no     2143     yes   no   \n",
       "1   44    technician   single  secondary      no       29     yes   no   \n",
       "2   33  entrepreneur  married  secondary      no        2     yes  yes   \n",
       "3   47   blue-collar  married    unknown      no     1506     yes   no   \n",
       "4   33       unknown   single    unknown      no        1      no   no   \n",
       "\n",
       "   contact  day  ... pdays  previous  poutcome   y  balanceClass balanceTran  \\\n",
       "0  unknown    5  ...    -1         0   unknown  no        Quant4    0.092269   \n",
       "1  unknown    5  ...    -1         0   unknown  no        Quant1    0.073077   \n",
       "2  unknown    5  ...    -1         0   unknown  no        Quant1    0.072832   \n",
       "3  unknown    5  ...    -1         0   unknown  no        Quant4    0.086486   \n",
       "4  unknown    5  ...    -1         0   unknown  no        Quant1    0.072822   \n",
       "\n",
       "  loanTran houseTran  assetIndex  assetClass  \n",
       "0        5         5    2.306734      Quant4  \n",
       "1        5         5    1.826916      Quant3  \n",
       "2        1         5    0.364158      Quant1  \n",
       "3        5         5    2.162153      Quant4  \n",
       "4        5         1    0.364112      Quant1  \n",
       "\n",
       "[5 rows x 23 columns]"
      ]
     },
     "execution_count": 27,
     "metadata": {},
     "output_type": "execute_result"
    }
   ],
   "source": [
    "# Explore the propensity with respect to the composite index\n",
    "np.quantile(bankData['assetIndex'],[0.25,0.5,0.75])\n",
    "\n",
    "bankData['assetClass'] = 'Quant1'\n",
    "bankData.loc[(bankData['assetIndex'] > 0.38) & (bankData['assetIndex'] < 0.57), 'assetClass'] = 'Quant2'\n",
    "bankData.loc[(bankData['assetIndex'] > 0.57) & (bankData['assetIndex'] < 1.9), 'assetClass'] = 'Quant3'\n",
    "bankData.loc[bankData['assetIndex'] > 1.9, 'assetClass'] = 'Quant4'\n",
    "bankData.assetClass[bankData['assetIndex'] > 1.9] = 'Quant4'\n",
    "bankData.head()"
   ]
  },
  {
   "cell_type": "code",
   "execution_count": 28,
   "id": "municipal-provision",
   "metadata": {},
   "outputs": [],
   "source": [
    "# Calculate the total of each asset class and the category-wise counts\n",
    "assetTot = bankData.groupby('assetClass')['y'].agg(assetTot='count').reset_index()\n",
    "assetProp = bankData.groupby(['assetClass', 'y'])['y'].agg(assetCat='count').reset_index()"
   ]
  },
  {
   "cell_type": "code",
   "execution_count": 29,
   "id": "light-alert",
   "metadata": {},
   "outputs": [
    {
     "data": {
      "text/html": [
       "<div>\n",
       "<style scoped>\n",
       "    .dataframe tbody tr th:only-of-type {\n",
       "        vertical-align: middle;\n",
       "    }\n",
       "\n",
       "    .dataframe tbody tr th {\n",
       "        vertical-align: top;\n",
       "    }\n",
       "\n",
       "    .dataframe thead th {\n",
       "        text-align: right;\n",
       "    }\n",
       "</style>\n",
       "<table border=\"1\" class=\"dataframe\">\n",
       "  <thead>\n",
       "    <tr style=\"text-align: right;\">\n",
       "      <th></th>\n",
       "      <th>assetClass</th>\n",
       "      <th>y</th>\n",
       "      <th>assetCat</th>\n",
       "      <th>assetTot</th>\n",
       "      <th>catProp</th>\n",
       "    </tr>\n",
       "  </thead>\n",
       "  <tbody>\n",
       "    <tr>\n",
       "      <th>0</th>\n",
       "      <td>Quant1</td>\n",
       "      <td>no</td>\n",
       "      <td>10921</td>\n",
       "      <td>12212</td>\n",
       "      <td>89.428431</td>\n",
       "    </tr>\n",
       "    <tr>\n",
       "      <th>1</th>\n",
       "      <td>Quant1</td>\n",
       "      <td>yes</td>\n",
       "      <td>1291</td>\n",
       "      <td>12212</td>\n",
       "      <td>10.571569</td>\n",
       "    </tr>\n",
       "    <tr>\n",
       "      <th>2</th>\n",
       "      <td>Quant2</td>\n",
       "      <td>no</td>\n",
       "      <td>8436</td>\n",
       "      <td>10400</td>\n",
       "      <td>81.115385</td>\n",
       "    </tr>\n",
       "    <tr>\n",
       "      <th>3</th>\n",
       "      <td>Quant2</td>\n",
       "      <td>yes</td>\n",
       "      <td>1964</td>\n",
       "      <td>10400</td>\n",
       "      <td>18.884615</td>\n",
       "    </tr>\n",
       "    <tr>\n",
       "      <th>4</th>\n",
       "      <td>Quant3</td>\n",
       "      <td>no</td>\n",
       "      <td>10144</td>\n",
       "      <td>11121</td>\n",
       "      <td>91.214819</td>\n",
       "    </tr>\n",
       "    <tr>\n",
       "      <th>5</th>\n",
       "      <td>Quant3</td>\n",
       "      <td>yes</td>\n",
       "      <td>977</td>\n",
       "      <td>11121</td>\n",
       "      <td>8.785181</td>\n",
       "    </tr>\n",
       "    <tr>\n",
       "      <th>6</th>\n",
       "      <td>Quant4</td>\n",
       "      <td>no</td>\n",
       "      <td>10421</td>\n",
       "      <td>11478</td>\n",
       "      <td>90.791079</td>\n",
       "    </tr>\n",
       "    <tr>\n",
       "      <th>7</th>\n",
       "      <td>Quant4</td>\n",
       "      <td>yes</td>\n",
       "      <td>1057</td>\n",
       "      <td>11478</td>\n",
       "      <td>9.208921</td>\n",
       "    </tr>\n",
       "  </tbody>\n",
       "</table>\n",
       "</div>"
      ],
      "text/plain": [
       "  assetClass    y  assetCat  assetTot    catProp\n",
       "0     Quant1   no     10921     12212  89.428431\n",
       "1     Quant1  yes      1291     12212  10.571569\n",
       "2     Quant2   no      8436     10400  81.115385\n",
       "3     Quant2  yes      1964     10400  18.884615\n",
       "4     Quant3   no     10144     11121  91.214819\n",
       "5     Quant3  yes       977     11121   8.785181\n",
       "6     Quant4   no     10421     11478  90.791079\n",
       "7     Quant4  yes      1057     11478   9.208921"
      ]
     },
     "execution_count": 29,
     "metadata": {},
     "output_type": "execute_result"
    }
   ],
   "source": [
    "# merge both dataframes\n",
    "assetComb = pd.merge(assetProp, assetTot, on=['assetClass'])\n",
    "assetComb['catProp'] = (assetComb.assetCat / assetComb.assetTot) * 100\n",
    "assetComb"
   ]
  },
  {
   "cell_type": "markdown",
   "id": "bizarre-cherry",
   "metadata": {},
   "source": [
    "# Finding the Correlation in Data to Generate a Correlation Plot Using Bank Data"
   ]
  },
  {
   "cell_type": "code",
   "execution_count": 30,
   "id": "solved-lightning",
   "metadata": {},
   "outputs": [],
   "source": [
    "# import package\n",
    "from pandas import set_option"
   ]
  },
  {
   "cell_type": "code",
   "execution_count": 31,
   "id": "filled-bottle",
   "metadata": {},
   "outputs": [],
   "source": [
    "# create a variable that would store numerical variables\n",
    "bankNumeric = bankData[['age', 'balance', 'day', 'duration', 'campaign', 'pdays', 'previous']]"
   ]
  },
  {
   "cell_type": "code",
   "execution_count": 32,
   "id": "historical-title",
   "metadata": {},
   "outputs": [
    {
     "data": {
      "text/html": [
       "<div>\n",
       "<style scoped>\n",
       "    .dataframe tbody tr th:only-of-type {\n",
       "        vertical-align: middle;\n",
       "    }\n",
       "\n",
       "    .dataframe tbody tr th {\n",
       "        vertical-align: top;\n",
       "    }\n",
       "\n",
       "    .dataframe thead th {\n",
       "        text-align: right;\n",
       "    }\n",
       "</style>\n",
       "<table border=\"1\" class=\"dataframe\">\n",
       "  <thead>\n",
       "    <tr style=\"text-align: right;\">\n",
       "      <th></th>\n",
       "      <th>age</th>\n",
       "      <th>balance</th>\n",
       "      <th>day</th>\n",
       "      <th>duration</th>\n",
       "      <th>campaign</th>\n",
       "      <th>pdays</th>\n",
       "      <th>previous</th>\n",
       "    </tr>\n",
       "  </thead>\n",
       "  <tbody>\n",
       "    <tr>\n",
       "      <th>age</th>\n",
       "      <td>1.000</td>\n",
       "      <td>0.098</td>\n",
       "      <td>-0.009</td>\n",
       "      <td>-0.005</td>\n",
       "      <td>0.005</td>\n",
       "      <td>-0.024</td>\n",
       "      <td>0.001</td>\n",
       "    </tr>\n",
       "    <tr>\n",
       "      <th>balance</th>\n",
       "      <td>0.098</td>\n",
       "      <td>1.000</td>\n",
       "      <td>0.005</td>\n",
       "      <td>0.022</td>\n",
       "      <td>-0.015</td>\n",
       "      <td>0.003</td>\n",
       "      <td>0.017</td>\n",
       "    </tr>\n",
       "    <tr>\n",
       "      <th>day</th>\n",
       "      <td>-0.009</td>\n",
       "      <td>0.005</td>\n",
       "      <td>1.000</td>\n",
       "      <td>-0.030</td>\n",
       "      <td>0.162</td>\n",
       "      <td>-0.093</td>\n",
       "      <td>-0.052</td>\n",
       "    </tr>\n",
       "    <tr>\n",
       "      <th>duration</th>\n",
       "      <td>-0.005</td>\n",
       "      <td>0.022</td>\n",
       "      <td>-0.030</td>\n",
       "      <td>1.000</td>\n",
       "      <td>-0.085</td>\n",
       "      <td>-0.002</td>\n",
       "      <td>0.001</td>\n",
       "    </tr>\n",
       "    <tr>\n",
       "      <th>campaign</th>\n",
       "      <td>0.005</td>\n",
       "      <td>-0.015</td>\n",
       "      <td>0.162</td>\n",
       "      <td>-0.085</td>\n",
       "      <td>1.000</td>\n",
       "      <td>-0.089</td>\n",
       "      <td>-0.033</td>\n",
       "    </tr>\n",
       "    <tr>\n",
       "      <th>pdays</th>\n",
       "      <td>-0.024</td>\n",
       "      <td>0.003</td>\n",
       "      <td>-0.093</td>\n",
       "      <td>-0.002</td>\n",
       "      <td>-0.089</td>\n",
       "      <td>1.000</td>\n",
       "      <td>0.455</td>\n",
       "    </tr>\n",
       "    <tr>\n",
       "      <th>previous</th>\n",
       "      <td>0.001</td>\n",
       "      <td>0.017</td>\n",
       "      <td>-0.052</td>\n",
       "      <td>0.001</td>\n",
       "      <td>-0.033</td>\n",
       "      <td>0.455</td>\n",
       "      <td>1.000</td>\n",
       "    </tr>\n",
       "  </tbody>\n",
       "</table>\n",
       "</div>"
      ],
      "text/plain": [
       "            age  balance    day  duration  campaign  pdays  previous\n",
       "age       1.000    0.098 -0.009    -0.005     0.005 -0.024     0.001\n",
       "balance   0.098    1.000  0.005     0.022    -0.015  0.003     0.017\n",
       "day      -0.009    0.005  1.000    -0.030     0.162 -0.093    -0.052\n",
       "duration -0.005    0.022 -0.030     1.000    -0.085 -0.002     0.001\n",
       "campaign  0.005   -0.015  0.162    -0.085     1.000 -0.089    -0.033\n",
       "pdays    -0.024    0.003 -0.093    -0.002    -0.089  1.000     0.455\n",
       "previous  0.001    0.017 -0.052     0.001    -0.033  0.455     1.000"
      ]
     },
     "execution_count": 32,
     "metadata": {},
     "output_type": "execute_result"
    }
   ],
   "source": [
    "# use the .corr() function\n",
    "set_option('display.width', 150)\n",
    "set_option('precision', 3)\n",
    "bankCorr = bankNumeric.corr(method = 'pearson')\n",
    "bankCorr"
   ]
  },
  {
   "cell_type": "code",
   "execution_count": 33,
   "id": "wound-vietnam",
   "metadata": {},
   "outputs": [
    {
     "data": {
      "image/png": "[encoded data removed]",
      "text/plain": [
       "<Figure size 432x288 with 2 Axes>"
      ]
     },
     "metadata": {
      "needs_background": "light"
     },
     "output_type": "display_data"
    }
   ],
   "source": [
    "# plot the correlation matrix (heatmap)\n",
    "from matplotlib import pyplot\n",
    "corFig = pyplot.figure()\n",
    "figAxis = corFig.add_subplot(111)\n",
    "corAx = figAxis.matshow(bankCorr, vmin=-1, vmax=1)\n",
    "corFig.colorbar(corAx)\n",
    "pyplot.show()"
   ]
  },
  {
   "cell_type": "markdown",
   "id": "infectious-ivory",
   "metadata": {},
   "source": [
    "# A Logistic Regression Model for Predicting the Propensity of Term Deposit Purchases in a Bank"
   ]
  },
  {
   "cell_type": "code",
   "execution_count": 34,
   "id": "cathedral-bread",
   "metadata": {},
   "outputs": [],
   "source": [
    "# import packages\n",
    "from sklearn.linear_model import LogisticRegression\n",
    "from sklearn.model_selection import train_test_split"
   ]
  },
  {
   "cell_type": "code",
   "execution_count": 35,
   "id": "bright-possible",
   "metadata": {},
   "outputs": [
    {
     "data": {
      "text/plain": [
       "age               int64\n",
       "job              object\n",
       "marital          object\n",
       "education        object\n",
       "default          object\n",
       "balance           int64\n",
       "housing          object\n",
       "loan             object\n",
       "contact          object\n",
       "day               int64\n",
       "month            object\n",
       "duration          int64\n",
       "campaign          int64\n",
       "pdays             int64\n",
       "previous          int64\n",
       "poutcome         object\n",
       "y                object\n",
       "balanceClass     object\n",
       "balanceTran     float64\n",
       "loanTran          int64\n",
       "houseTran         int64\n",
       "assetIndex      float64\n",
       "assetClass       object\n",
       "dtype: object"
      ]
     },
     "execution_count": 35,
     "metadata": {},
     "output_type": "execute_result"
    }
   ],
   "source": [
    "# find the data types\n",
    "bankData.dtypes"
   ]
  },
  {
   "cell_type": "code",
   "execution_count": 36,
   "id": "dominican-gather",
   "metadata": {},
   "outputs": [
    {
     "data": {
      "text/plain": [
       "(45211, 44)"
      ]
     },
     "execution_count": 36,
     "metadata": {},
     "output_type": "execute_result"
    }
   ],
   "source": [
    "# Convert the ordinal data into dummy data\n",
    "bankCat = pd.get_dummies(bankData[['job', 'marital', 'education', 'default', 'housing', 'loan', 'contact', 'month', 'poutcome']])\n",
    "bankCat.shape"
   ]
  },
  {
   "cell_type": "code",
   "execution_count": 37,
   "id": "terminal-insight",
   "metadata": {},
   "outputs": [
    {
     "data": {
      "text/plain": [
       "(45211, 7)"
      ]
     },
     "execution_count": 37,
     "metadata": {},
     "output_type": "execute_result"
    }
   ],
   "source": [
    "# separate the numerical variables\n",
    "bankNum = bankData[['age', 'balance', 'day', 'duration', 'campaign', 'pdays', 'previous']]\n",
    "bankNum.shape"
   ]
  },
  {
   "cell_type": "code",
   "execution_count": 38,
   "id": "subtle-bones",
   "metadata": {},
   "outputs": [
    {
     "name": "stdout",
     "output_type": "stream",
     "text": [
      "(45211, 51)\n",
      "(45211,)\n"
     ]
    }
   ],
   "source": [
    "# prepare the X and Y variables\n",
    "X = pd.concat([bankCat, bankNum], axis=1)\n",
    "print(X.shape)\n",
    "y = bankData['y']\n",
    "print(y.shape)"
   ]
  },
  {
   "cell_type": "code",
   "execution_count": 39,
   "id": "veterinary-training",
   "metadata": {},
   "outputs": [],
   "source": [
    "# split the data into train and test sets\n",
    "X_train, X_test, y_train, y_test = train_test_split(X, y, test_size=0.3, random_state=123)"
   ]
  },
  {
   "cell_type": "code",
   "execution_count": 40,
   "id": "union-buddy",
   "metadata": {},
   "outputs": [
    {
     "data": {
      "text/plain": [
       "LogisticRegression()"
      ]
     },
     "execution_count": 40,
     "metadata": {},
     "output_type": "execute_result"
    }
   ],
   "source": [
    "# create the LogisticRegression model\n",
    "bankModel = LogisticRegression()\n",
    "bankModel.fit(X_train, y_train)"
   ]
  },
  {
   "cell_type": "code",
   "execution_count": 41,
   "id": "divided-saver",
   "metadata": {},
   "outputs": [
    {
     "name": "stdout",
     "output_type": "stream",
     "text": [
      "Accuracy of Logistic Regression Model prediction on test set: 0.89\n"
     ]
    }
   ],
   "source": [
    "# make predictions and calculate accuracy\n",
    "pred = bankModel.predict(X_test)\n",
    "print(f'Accuracy of Logistic Regression Model prediction on test set: {round(bankModel.score(X_test, y_test), 2)}')"
   ]
  },
  {
   "cell_type": "code",
   "execution_count": 42,
   "id": "emotional-better",
   "metadata": {},
   "outputs": [
    {
     "name": "stdout",
     "output_type": "stream",
     "text": [
      "[[11754   244]\n",
      " [ 1242   324]]\n"
     ]
    }
   ],
   "source": [
    "# print the confusion matrix\n",
    "from sklearn.metrics import confusion_matrix\n",
    "confusionMatrix = confusion_matrix(y_test ,pred)\n",
    "print(confusionMatrix)"
   ]
  },
  {
   "cell_type": "code",
   "execution_count": 43,
   "id": "stable-montgomery",
   "metadata": {},
   "outputs": [
    {
     "name": "stdout",
     "output_type": "stream",
     "text": [
      "              precision    recall  f1-score   support\n",
      "\n",
      "          no       0.90      0.98      0.94     11998\n",
      "         yes       0.57      0.21      0.30      1566\n",
      "\n",
      "    accuracy                           0.89     13564\n",
      "   macro avg       0.74      0.59      0.62     13564\n",
      "weighted avg       0.87      0.89      0.87     13564\n",
      "\n"
     ]
    }
   ],
   "source": [
    "# generate classification report\n",
    "from sklearn.metrics import classification_report\n",
    "print(classification_report(y_test, pred))"
   ]
  }
 ],
 "metadata": {
  "kernelspec": {
   "display_name": "Python 3",
   "language": "python",
   "name": "python3"
  },
  "language_info": {
   "codemirror_mode": {
    "name": "ipython",
    "version": 3
   },
   "file_extension": ".py",
   "mimetype": "text/x-python",
   "name": "python",
   "nbconvert_exporter": "python",
   "pygments_lexer": "ipython3",
   "version": "3.7.7"
  }
 },
 "nbformat": 4,
 "nbformat_minor": 5
}
