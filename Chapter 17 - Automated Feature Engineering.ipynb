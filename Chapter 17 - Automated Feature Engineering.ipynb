{
 "cells": [
  {
   "cell_type": "markdown",
   "id": "prepared-tuning",
   "metadata": {},
   "source": [
    "# Defining Entities and Establishing Relationships"
   ]
  },
  {
   "cell_type": "code",
   "execution_count": 1,
   "id": "exterior-potential",
   "metadata": {},
   "outputs": [],
   "source": [
    "# import packages\n",
    "import pandas as pd"
   ]
  },
  {
   "cell_type": "code",
   "execution_count": 2,
   "id": "endangered-campus",
   "metadata": {},
   "outputs": [],
   "source": [
    "#url path\n",
    "url_path = 'https://raw.githubusercontent.com/PacktWorkshops/The-Data-Science-Workshop/master/Chapter17/Datasets/bank-full.csv'"
   ]
  },
  {
   "cell_type": "code",
   "execution_count": 3,
   "id": "organized-mercury",
   "metadata": {},
   "outputs": [
    {
     "data": {
      "text/html": [
       "<div>\n",
       "<style scoped>\n",
       "    .dataframe tbody tr th:only-of-type {\n",
       "        vertical-align: middle;\n",
       "    }\n",
       "\n",
       "    .dataframe tbody tr th {\n",
       "        vertical-align: top;\n",
       "    }\n",
       "\n",
       "    .dataframe thead th {\n",
       "        text-align: right;\n",
       "    }\n",
       "</style>\n",
       "<table border=\"1\" class=\"dataframe\">\n",
       "  <thead>\n",
       "    <tr style=\"text-align: right;\">\n",
       "      <th></th>\n",
       "      <th>age</th>\n",
       "      <th>job</th>\n",
       "      <th>marital</th>\n",
       "      <th>education</th>\n",
       "      <th>default</th>\n",
       "      <th>balance</th>\n",
       "      <th>housing</th>\n",
       "      <th>loan</th>\n",
       "      <th>contact</th>\n",
       "      <th>day</th>\n",
       "      <th>month</th>\n",
       "      <th>duration</th>\n",
       "      <th>campaign</th>\n",
       "      <th>pdays</th>\n",
       "      <th>previous</th>\n",
       "      <th>poutcome</th>\n",
       "      <th>y</th>\n",
       "    </tr>\n",
       "  </thead>\n",
       "  <tbody>\n",
       "    <tr>\n",
       "      <th>0</th>\n",
       "      <td>58</td>\n",
       "      <td>management</td>\n",
       "      <td>married</td>\n",
       "      <td>tertiary</td>\n",
       "      <td>no</td>\n",
       "      <td>2143</td>\n",
       "      <td>yes</td>\n",
       "      <td>no</td>\n",
       "      <td>unknown</td>\n",
       "      <td>5</td>\n",
       "      <td>may</td>\n",
       "      <td>261</td>\n",
       "      <td>1</td>\n",
       "      <td>-1</td>\n",
       "      <td>0</td>\n",
       "      <td>unknown</td>\n",
       "      <td>no</td>\n",
       "    </tr>\n",
       "    <tr>\n",
       "      <th>1</th>\n",
       "      <td>44</td>\n",
       "      <td>technician</td>\n",
       "      <td>single</td>\n",
       "      <td>secondary</td>\n",
       "      <td>no</td>\n",
       "      <td>29</td>\n",
       "      <td>yes</td>\n",
       "      <td>no</td>\n",
       "      <td>unknown</td>\n",
       "      <td>5</td>\n",
       "      <td>may</td>\n",
       "      <td>151</td>\n",
       "      <td>1</td>\n",
       "      <td>-1</td>\n",
       "      <td>0</td>\n",
       "      <td>unknown</td>\n",
       "      <td>no</td>\n",
       "    </tr>\n",
       "    <tr>\n",
       "      <th>2</th>\n",
       "      <td>33</td>\n",
       "      <td>entrepreneur</td>\n",
       "      <td>married</td>\n",
       "      <td>secondary</td>\n",
       "      <td>no</td>\n",
       "      <td>2</td>\n",
       "      <td>yes</td>\n",
       "      <td>yes</td>\n",
       "      <td>unknown</td>\n",
       "      <td>5</td>\n",
       "      <td>may</td>\n",
       "      <td>76</td>\n",
       "      <td>1</td>\n",
       "      <td>-1</td>\n",
       "      <td>0</td>\n",
       "      <td>unknown</td>\n",
       "      <td>no</td>\n",
       "    </tr>\n",
       "    <tr>\n",
       "      <th>3</th>\n",
       "      <td>47</td>\n",
       "      <td>blue-collar</td>\n",
       "      <td>married</td>\n",
       "      <td>unknown</td>\n",
       "      <td>no</td>\n",
       "      <td>1506</td>\n",
       "      <td>yes</td>\n",
       "      <td>no</td>\n",
       "      <td>unknown</td>\n",
       "      <td>5</td>\n",
       "      <td>may</td>\n",
       "      <td>92</td>\n",
       "      <td>1</td>\n",
       "      <td>-1</td>\n",
       "      <td>0</td>\n",
       "      <td>unknown</td>\n",
       "      <td>no</td>\n",
       "    </tr>\n",
       "    <tr>\n",
       "      <th>4</th>\n",
       "      <td>33</td>\n",
       "      <td>unknown</td>\n",
       "      <td>single</td>\n",
       "      <td>unknown</td>\n",
       "      <td>no</td>\n",
       "      <td>1</td>\n",
       "      <td>no</td>\n",
       "      <td>no</td>\n",
       "      <td>unknown</td>\n",
       "      <td>5</td>\n",
       "      <td>may</td>\n",
       "      <td>198</td>\n",
       "      <td>1</td>\n",
       "      <td>-1</td>\n",
       "      <td>0</td>\n",
       "      <td>unknown</td>\n",
       "      <td>no</td>\n",
       "    </tr>\n",
       "  </tbody>\n",
       "</table>\n",
       "</div>"
      ],
      "text/plain": [
       "   age           job  marital  education default  balance housing loan  \\\n",
       "0   58    management  married   tertiary      no     2143     yes   no   \n",
       "1   44    technician   single  secondary      no       29     yes   no   \n",
       "2   33  entrepreneur  married  secondary      no        2     yes  yes   \n",
       "3   47   blue-collar  married    unknown      no     1506     yes   no   \n",
       "4   33       unknown   single    unknown      no        1      no   no   \n",
       "\n",
       "   contact  day month  duration  campaign  pdays  previous poutcome   y  \n",
       "0  unknown    5   may       261         1     -1         0  unknown  no  \n",
       "1  unknown    5   may       151         1     -1         0  unknown  no  \n",
       "2  unknown    5   may        76         1     -1         0  unknown  no  \n",
       "3  unknown    5   may        92         1     -1         0  unknown  no  \n",
       "4  unknown    5   may       198         1     -1         0  unknown  no  "
      ]
     },
     "execution_count": 3,
     "metadata": {},
     "output_type": "execute_result"
    }
   ],
   "source": [
    "# load the data\n",
    "bankData = pd.read_csv(url_path, sep=';')\n",
    "bankData.head()"
   ]
  },
  {
   "cell_type": "code",
   "execution_count": 4,
   "id": "front-editor",
   "metadata": {},
   "outputs": [],
   "source": [
    "# The y target variable is not required for creating features, we will remove it\n",
    "Y = bankData.pop('y')"
   ]
  },
  {
   "cell_type": "code",
   "execution_count": 5,
   "id": "comparable-newport",
   "metadata": {},
   "outputs": [],
   "source": [
    "# Create an ID for the Demographic entity\n",
    "bankData['custID'] = bankData.index.values\n",
    "bankData['custID'] = 'cust' + bankData['custID'].astype('str')"
   ]
  },
  {
   "cell_type": "code",
   "execution_count": 6,
   "id": "owned-prisoner",
   "metadata": {},
   "outputs": [],
   "source": [
    "# Create an ID for Assets\n",
    "bankData['AssetID'] = 0\n",
    "bankData.loc[bankData.housing == 'yes', 'AssetID'] = 1"
   ]
  },
  {
   "cell_type": "code",
   "execution_count": 7,
   "id": "assumed-royalty",
   "metadata": {},
   "outputs": [],
   "source": [
    "# create an ID for Loans\n",
    "bankData['loanID'] = 0\n",
    "bankData.loc[bankData.loan == 'yes', 'loanID'] = 1"
   ]
  },
  {
   "cell_type": "code",
   "execution_count": 8,
   "id": "associate-leave",
   "metadata": {},
   "outputs": [],
   "source": [
    "# Create an ID for Financial Behavior\n",
    "bankData['FinbehID'] = 0\n",
    "bankData.loc[bankData.default == 'yes', 'FinbehID'] = 1"
   ]
  },
  {
   "cell_type": "code",
   "execution_count": 9,
   "id": "occupational-combat",
   "metadata": {},
   "outputs": [
    {
     "data": {
      "text/html": [
       "<div>\n",
       "<style scoped>\n",
       "    .dataframe tbody tr th:only-of-type {\n",
       "        vertical-align: middle;\n",
       "    }\n",
       "\n",
       "    .dataframe tbody tr th {\n",
       "        vertical-align: top;\n",
       "    }\n",
       "\n",
       "    .dataframe thead th {\n",
       "        text-align: right;\n",
       "    }\n",
       "</style>\n",
       "<table border=\"1\" class=\"dataframe\">\n",
       "  <thead>\n",
       "    <tr style=\"text-align: right;\">\n",
       "      <th></th>\n",
       "      <th>age</th>\n",
       "      <th>job</th>\n",
       "      <th>marital</th>\n",
       "      <th>education</th>\n",
       "      <th>default</th>\n",
       "      <th>balance</th>\n",
       "      <th>housing</th>\n",
       "      <th>loan</th>\n",
       "      <th>contact</th>\n",
       "      <th>day</th>\n",
       "      <th>month</th>\n",
       "      <th>duration</th>\n",
       "      <th>campaign</th>\n",
       "      <th>pdays</th>\n",
       "      <th>previous</th>\n",
       "      <th>poutcome</th>\n",
       "      <th>custID</th>\n",
       "      <th>AssetID</th>\n",
       "      <th>loanID</th>\n",
       "      <th>FinbehID</th>\n",
       "    </tr>\n",
       "  </thead>\n",
       "  <tbody>\n",
       "    <tr>\n",
       "      <th>0</th>\n",
       "      <td>58</td>\n",
       "      <td>management</td>\n",
       "      <td>married</td>\n",
       "      <td>tertiary</td>\n",
       "      <td>no</td>\n",
       "      <td>2143</td>\n",
       "      <td>yes</td>\n",
       "      <td>no</td>\n",
       "      <td>unknown</td>\n",
       "      <td>5</td>\n",
       "      <td>may</td>\n",
       "      <td>261</td>\n",
       "      <td>1</td>\n",
       "      <td>-1</td>\n",
       "      <td>0</td>\n",
       "      <td>unknown</td>\n",
       "      <td>cust0</td>\n",
       "      <td>1</td>\n",
       "      <td>0</td>\n",
       "      <td>0</td>\n",
       "    </tr>\n",
       "    <tr>\n",
       "      <th>1</th>\n",
       "      <td>44</td>\n",
       "      <td>technician</td>\n",
       "      <td>single</td>\n",
       "      <td>secondary</td>\n",
       "      <td>no</td>\n",
       "      <td>29</td>\n",
       "      <td>yes</td>\n",
       "      <td>no</td>\n",
       "      <td>unknown</td>\n",
       "      <td>5</td>\n",
       "      <td>may</td>\n",
       "      <td>151</td>\n",
       "      <td>1</td>\n",
       "      <td>-1</td>\n",
       "      <td>0</td>\n",
       "      <td>unknown</td>\n",
       "      <td>cust1</td>\n",
       "      <td>1</td>\n",
       "      <td>0</td>\n",
       "      <td>0</td>\n",
       "    </tr>\n",
       "    <tr>\n",
       "      <th>2</th>\n",
       "      <td>33</td>\n",
       "      <td>entrepreneur</td>\n",
       "      <td>married</td>\n",
       "      <td>secondary</td>\n",
       "      <td>no</td>\n",
       "      <td>2</td>\n",
       "      <td>yes</td>\n",
       "      <td>yes</td>\n",
       "      <td>unknown</td>\n",
       "      <td>5</td>\n",
       "      <td>may</td>\n",
       "      <td>76</td>\n",
       "      <td>1</td>\n",
       "      <td>-1</td>\n",
       "      <td>0</td>\n",
       "      <td>unknown</td>\n",
       "      <td>cust2</td>\n",
       "      <td>1</td>\n",
       "      <td>1</td>\n",
       "      <td>0</td>\n",
       "    </tr>\n",
       "    <tr>\n",
       "      <th>3</th>\n",
       "      <td>47</td>\n",
       "      <td>blue-collar</td>\n",
       "      <td>married</td>\n",
       "      <td>unknown</td>\n",
       "      <td>no</td>\n",
       "      <td>1506</td>\n",
       "      <td>yes</td>\n",
       "      <td>no</td>\n",
       "      <td>unknown</td>\n",
       "      <td>5</td>\n",
       "      <td>may</td>\n",
       "      <td>92</td>\n",
       "      <td>1</td>\n",
       "      <td>-1</td>\n",
       "      <td>0</td>\n",
       "      <td>unknown</td>\n",
       "      <td>cust3</td>\n",
       "      <td>1</td>\n",
       "      <td>0</td>\n",
       "      <td>0</td>\n",
       "    </tr>\n",
       "    <tr>\n",
       "      <th>4</th>\n",
       "      <td>33</td>\n",
       "      <td>unknown</td>\n",
       "      <td>single</td>\n",
       "      <td>unknown</td>\n",
       "      <td>no</td>\n",
       "      <td>1</td>\n",
       "      <td>no</td>\n",
       "      <td>no</td>\n",
       "      <td>unknown</td>\n",
       "      <td>5</td>\n",
       "      <td>may</td>\n",
       "      <td>198</td>\n",
       "      <td>1</td>\n",
       "      <td>-1</td>\n",
       "      <td>0</td>\n",
       "      <td>unknown</td>\n",
       "      <td>cust4</td>\n",
       "      <td>0</td>\n",
       "      <td>0</td>\n",
       "      <td>0</td>\n",
       "    </tr>\n",
       "  </tbody>\n",
       "</table>\n",
       "</div>"
      ],
      "text/plain": [
       "   age           job  marital  education default  balance housing loan  \\\n",
       "0   58    management  married   tertiary      no     2143     yes   no   \n",
       "1   44    technician   single  secondary      no       29     yes   no   \n",
       "2   33  entrepreneur  married  secondary      no        2     yes  yes   \n",
       "3   47   blue-collar  married    unknown      no     1506     yes   no   \n",
       "4   33       unknown   single    unknown      no        1      no   no   \n",
       "\n",
       "   contact  day month  duration  campaign  pdays  previous poutcome custID  \\\n",
       "0  unknown    5   may       261         1     -1         0  unknown  cust0   \n",
       "1  unknown    5   may       151         1     -1         0  unknown  cust1   \n",
       "2  unknown    5   may        76         1     -1         0  unknown  cust2   \n",
       "3  unknown    5   may        92         1     -1         0  unknown  cust3   \n",
       "4  unknown    5   may       198         1     -1         0  unknown  cust4   \n",
       "\n",
       "   AssetID  loanID  FinbehID  \n",
       "0        1       0         0  \n",
       "1        1       0         0  \n",
       "2        1       1         0  \n",
       "3        1       0         0  \n",
       "4        0       0         0  "
      ]
     },
     "execution_count": 9,
     "metadata": {},
     "output_type": "execute_result"
    }
   ],
   "source": [
    "# display the data frame\n",
    "bankData.head()"
   ]
  },
  {
   "cell_type": "code",
   "execution_count": 10,
   "id": "accessory-conversion",
   "metadata": {},
   "outputs": [],
   "source": [
    "# import packages\n",
    "import featuretools as ft\n",
    "import numpy as np"
   ]
  },
  {
   "cell_type": "code",
   "execution_count": 11,
   "id": "advised-donor",
   "metadata": {},
   "outputs": [],
   "source": [
    "# Initialize Entityset\n",
    "Bankentities = ft.EntitySet(id='Bank')"
   ]
  },
  {
   "cell_type": "code",
   "execution_count": 12,
   "id": "mobile-moisture",
   "metadata": {},
   "outputs": [
    {
     "data": {
      "text/plain": [
       "Entityset: Bank\n",
       "  Entities:\n",
       "    Demographic Data [Rows: 45211, Columns: 20]\n",
       "  Relationships:\n",
       "    No relationships"
      ]
     },
     "execution_count": 12,
     "metadata": {},
     "output_type": "execute_result"
    }
   ],
   "source": [
    "# Map the data frame to the entity set to create the parent entity\n",
    "Bankentities.entity_from_dataframe(entity_id='Demographic Data',\n",
    "                                  dataframe=bankData,\n",
    "                                  index='custID')"
   ]
  },
  {
   "cell_type": "code",
   "execution_count": 13,
   "id": "continuous-array",
   "metadata": {},
   "outputs": [
    {
     "data": {
      "text/plain": [
       "Entityset: Bank\n",
       "  Entities:\n",
       "    Demographic Data [Rows: 45211, Columns: 19]\n",
       "    Assets [Rows: 2, Columns: 2]\n",
       "  Relationships:\n",
       "    Demographic Data.AssetID -> Assets.AssetID"
      ]
     },
     "execution_count": 13,
     "metadata": {},
     "output_type": "execute_result"
    }
   ],
   "source": [
    "# Define the Assets entity and set the relationship\n",
    "Bankentities.normalize_entity(base_entity_id='Demographic Data',\n",
    "                              new_entity_id='Assets',\n",
    "                              index = 'AssetID',\n",
    "                              additional_variables = ['housing'])"
   ]
  },
  {
   "cell_type": "code",
   "execution_count": 14,
   "id": "excess-armstrong",
   "metadata": {},
   "outputs": [
    {
     "data": {
      "text/plain": [
       "Entityset: Bank\n",
       "  Entities:\n",
       "    Demographic Data [Rows: 45211, Columns: 17]\n",
       "    Assets [Rows: 2, Columns: 2]\n",
       "    Liability [Rows: 2, Columns: 2]\n",
       "    FinBehaviour [Rows: 2, Columns: 2]\n",
       "  Relationships:\n",
       "    Demographic Data.AssetID -> Assets.AssetID\n",
       "    Demographic Data.loanID -> Liability.loanID\n",
       "    Demographic Data.FinbehID -> FinBehaviour.FinbehID"
      ]
     },
     "execution_count": 14,
     "metadata": {},
     "output_type": "execute_result"
    }
   ],
   "source": [
    "# map the loan and financial behavior entities\n",
    "Bankentities.normalize_entity(base_entity_id='Demographic Data',\n",
    "                              new_entity_id='Liability',\n",
    "                              index = 'loanID',\n",
    "                              additional_variables = ['loan'])\n",
    "\n",
    "Bankentities.normalize_entity(base_entity_id='Demographic Data',\n",
    "                              new_entity_id='FinBehaviour',\n",
    "                              index = 'FinbehID',\n",
    "                              additional_variables = ['default'])"
   ]
  },
  {
   "cell_type": "markdown",
   "id": "considered-framework",
   "metadata": {},
   "source": [
    "# Creating New Features Using Deep Feature Synthesis"
   ]
  },
  {
   "cell_type": "code",
   "execution_count": 15,
   "id": "olympic-olympus",
   "metadata": {},
   "outputs": [
    {
     "name": "stdout",
     "output_type": "stream",
     "text": [
      "Built 196 features\n",
      "Elapsed: 00:04 | Progress: 100%|███████████████████████████████████████████████████████████████████████████████████████\n"
     ]
    }
   ],
   "source": [
    "# create automated features using DFS\n",
    "feature_set, feature_names = ft.dfs(entityset=Bankentities,\n",
    "                                   target_entity='Demographic Data',\n",
    "                                   max_depth=2,\n",
    "                                   verbose=1,\n",
    "                                   n_jobs=1)"
   ]
  },
  {
   "cell_type": "code",
   "execution_count": 16,
   "id": "protecting-junior",
   "metadata": {},
   "outputs": [],
   "source": [
    "# Reset the index of the features\n",
    "feature_set = feature_set.reindex(index=bankData['custID'])\n",
    "feature_set = feature_set.reset_index()"
   ]
  },
  {
   "cell_type": "code",
   "execution_count": 17,
   "id": "weighted-suspect",
   "metadata": {},
   "outputs": [
    {
     "data": {
      "text/html": [
       "<div>\n",
       "<style scoped>\n",
       "    .dataframe tbody tr th:only-of-type {\n",
       "        vertical-align: middle;\n",
       "    }\n",
       "\n",
       "    .dataframe tbody tr th {\n",
       "        vertical-align: top;\n",
       "    }\n",
       "\n",
       "    .dataframe thead th {\n",
       "        text-align: right;\n",
       "    }\n",
       "</style>\n",
       "<table border=\"1\" class=\"dataframe\">\n",
       "  <thead>\n",
       "    <tr style=\"text-align: right;\">\n",
       "      <th></th>\n",
       "      <th>custID</th>\n",
       "      <th>age</th>\n",
       "      <th>job</th>\n",
       "      <th>marital</th>\n",
       "      <th>education</th>\n",
       "      <th>balance</th>\n",
       "      <th>contact</th>\n",
       "      <th>day</th>\n",
       "      <th>month</th>\n",
       "      <th>duration</th>\n",
       "      <th>...</th>\n",
       "      <th>FinBehaviour.STD(Demographic Data.duration)</th>\n",
       "      <th>FinBehaviour.STD(Demographic Data.pdays)</th>\n",
       "      <th>FinBehaviour.STD(Demographic Data.previous)</th>\n",
       "      <th>FinBehaviour.SUM(Demographic Data.age)</th>\n",
       "      <th>FinBehaviour.SUM(Demographic Data.balance)</th>\n",
       "      <th>FinBehaviour.SUM(Demographic Data.campaign)</th>\n",
       "      <th>FinBehaviour.SUM(Demographic Data.day)</th>\n",
       "      <th>FinBehaviour.SUM(Demographic Data.duration)</th>\n",
       "      <th>FinBehaviour.SUM(Demographic Data.pdays)</th>\n",
       "      <th>FinBehaviour.SUM(Demographic Data.previous)</th>\n",
       "    </tr>\n",
       "  </thead>\n",
       "  <tbody>\n",
       "    <tr>\n",
       "      <th>0</th>\n",
       "      <td>cust0</td>\n",
       "      <td>58</td>\n",
       "      <td>management</td>\n",
       "      <td>married</td>\n",
       "      <td>tertiary</td>\n",
       "      <td>2143</td>\n",
       "      <td>unknown</td>\n",
       "      <td>5</td>\n",
       "      <td>may</td>\n",
       "      <td>261</td>\n",
       "      <td>...</td>\n",
       "      <td>258.239396</td>\n",
       "      <td>100.50463</td>\n",
       "      <td>2.313596</td>\n",
       "      <td>1818546</td>\n",
       "      <td>61701846</td>\n",
       "      <td>122390</td>\n",
       "      <td>701270</td>\n",
       "      <td>11476932</td>\n",
       "      <td>1802679</td>\n",
       "      <td>26018</td>\n",
       "    </tr>\n",
       "    <tr>\n",
       "      <th>1</th>\n",
       "      <td>cust1</td>\n",
       "      <td>44</td>\n",
       "      <td>technician</td>\n",
       "      <td>single</td>\n",
       "      <td>secondary</td>\n",
       "      <td>29</td>\n",
       "      <td>unknown</td>\n",
       "      <td>5</td>\n",
       "      <td>may</td>\n",
       "      <td>151</td>\n",
       "      <td>...</td>\n",
       "      <td>258.239396</td>\n",
       "      <td>100.50463</td>\n",
       "      <td>2.313596</td>\n",
       "      <td>1818546</td>\n",
       "      <td>61701846</td>\n",
       "      <td>122390</td>\n",
       "      <td>701270</td>\n",
       "      <td>11476932</td>\n",
       "      <td>1802679</td>\n",
       "      <td>26018</td>\n",
       "    </tr>\n",
       "    <tr>\n",
       "      <th>2</th>\n",
       "      <td>cust2</td>\n",
       "      <td>33</td>\n",
       "      <td>entrepreneur</td>\n",
       "      <td>married</td>\n",
       "      <td>secondary</td>\n",
       "      <td>2</td>\n",
       "      <td>unknown</td>\n",
       "      <td>5</td>\n",
       "      <td>may</td>\n",
       "      <td>76</td>\n",
       "      <td>...</td>\n",
       "      <td>258.239396</td>\n",
       "      <td>100.50463</td>\n",
       "      <td>2.313596</td>\n",
       "      <td>1818546</td>\n",
       "      <td>61701846</td>\n",
       "      <td>122390</td>\n",
       "      <td>701270</td>\n",
       "      <td>11476932</td>\n",
       "      <td>1802679</td>\n",
       "      <td>26018</td>\n",
       "    </tr>\n",
       "    <tr>\n",
       "      <th>3</th>\n",
       "      <td>cust3</td>\n",
       "      <td>47</td>\n",
       "      <td>blue-collar</td>\n",
       "      <td>married</td>\n",
       "      <td>unknown</td>\n",
       "      <td>1506</td>\n",
       "      <td>unknown</td>\n",
       "      <td>5</td>\n",
       "      <td>may</td>\n",
       "      <td>92</td>\n",
       "      <td>...</td>\n",
       "      <td>258.239396</td>\n",
       "      <td>100.50463</td>\n",
       "      <td>2.313596</td>\n",
       "      <td>1818546</td>\n",
       "      <td>61701846</td>\n",
       "      <td>122390</td>\n",
       "      <td>701270</td>\n",
       "      <td>11476932</td>\n",
       "      <td>1802679</td>\n",
       "      <td>26018</td>\n",
       "    </tr>\n",
       "    <tr>\n",
       "      <th>4</th>\n",
       "      <td>cust4</td>\n",
       "      <td>33</td>\n",
       "      <td>unknown</td>\n",
       "      <td>single</td>\n",
       "      <td>unknown</td>\n",
       "      <td>1</td>\n",
       "      <td>unknown</td>\n",
       "      <td>5</td>\n",
       "      <td>may</td>\n",
       "      <td>198</td>\n",
       "      <td>...</td>\n",
       "      <td>258.239396</td>\n",
       "      <td>100.50463</td>\n",
       "      <td>2.313596</td>\n",
       "      <td>1818546</td>\n",
       "      <td>61701846</td>\n",
       "      <td>122390</td>\n",
       "      <td>701270</td>\n",
       "      <td>11476932</td>\n",
       "      <td>1802679</td>\n",
       "      <td>26018</td>\n",
       "    </tr>\n",
       "  </tbody>\n",
       "</table>\n",
       "<p>5 rows × 197 columns</p>\n",
       "</div>"
      ],
      "text/plain": [
       "  custID  age           job  marital  education  balance  contact  day month  \\\n",
       "0  cust0   58    management  married   tertiary     2143  unknown    5   may   \n",
       "1  cust1   44    technician   single  secondary       29  unknown    5   may   \n",
       "2  cust2   33  entrepreneur  married  secondary        2  unknown    5   may   \n",
       "3  cust3   47   blue-collar  married    unknown     1506  unknown    5   may   \n",
       "4  cust4   33       unknown   single    unknown        1  unknown    5   may   \n",
       "\n",
       "   duration  ...  FinBehaviour.STD(Demographic Data.duration)  \\\n",
       "0       261  ...                                   258.239396   \n",
       "1       151  ...                                   258.239396   \n",
       "2        76  ...                                   258.239396   \n",
       "3        92  ...                                   258.239396   \n",
       "4       198  ...                                   258.239396   \n",
       "\n",
       "   FinBehaviour.STD(Demographic Data.pdays)  \\\n",
       "0                                 100.50463   \n",
       "1                                 100.50463   \n",
       "2                                 100.50463   \n",
       "3                                 100.50463   \n",
       "4                                 100.50463   \n",
       "\n",
       "   FinBehaviour.STD(Demographic Data.previous)  \\\n",
       "0                                     2.313596   \n",
       "1                                     2.313596   \n",
       "2                                     2.313596   \n",
       "3                                     2.313596   \n",
       "4                                     2.313596   \n",
       "\n",
       "  FinBehaviour.SUM(Demographic Data.age)  \\\n",
       "0                                1818546   \n",
       "1                                1818546   \n",
       "2                                1818546   \n",
       "3                                1818546   \n",
       "4                                1818546   \n",
       "\n",
       "   FinBehaviour.SUM(Demographic Data.balance)  \\\n",
       "0                                    61701846   \n",
       "1                                    61701846   \n",
       "2                                    61701846   \n",
       "3                                    61701846   \n",
       "4                                    61701846   \n",
       "\n",
       "   FinBehaviour.SUM(Demographic Data.campaign)  \\\n",
       "0                                       122390   \n",
       "1                                       122390   \n",
       "2                                       122390   \n",
       "3                                       122390   \n",
       "4                                       122390   \n",
       "\n",
       "   FinBehaviour.SUM(Demographic Data.day)  \\\n",
       "0                                  701270   \n",
       "1                                  701270   \n",
       "2                                  701270   \n",
       "3                                  701270   \n",
       "4                                  701270   \n",
       "\n",
       "  FinBehaviour.SUM(Demographic Data.duration)  \\\n",
       "0                                    11476932   \n",
       "1                                    11476932   \n",
       "2                                    11476932   \n",
       "3                                    11476932   \n",
       "4                                    11476932   \n",
       "\n",
       "  FinBehaviour.SUM(Demographic Data.pdays)  \\\n",
       "0                                  1802679   \n",
       "1                                  1802679   \n",
       "2                                  1802679   \n",
       "3                                  1802679   \n",
       "4                                  1802679   \n",
       "\n",
       "  FinBehaviour.SUM(Demographic Data.previous)  \n",
       "0                                       26018  \n",
       "1                                       26018  \n",
       "2                                       26018  \n",
       "3                                       26018  \n",
       "4                                       26018  \n",
       "\n",
       "[5 rows x 197 columns]"
      ]
     },
     "execution_count": 17,
     "metadata": {},
     "output_type": "execute_result"
    }
   ],
   "source": [
    "feature_set.head()"
   ]
  },
  {
   "cell_type": "code",
   "execution_count": 18,
   "id": "generous-copper",
   "metadata": {},
   "outputs": [],
   "source": [
    "# define the set of aggregation and transformation primitives\n",
    "aggPrimitives=['std', 'min', 'max', 'mean', 'last', 'count']\n",
    "tranPrimitives=['percentile', 'subtract_numeric', 'divide_numeric']"
   ]
  },
  {
   "cell_type": "code",
   "execution_count": 19,
   "id": "expected-binding",
   "metadata": {},
   "outputs": [
    {
     "name": "stdout",
     "output_type": "stream",
     "text": [
      "Built 224 features\n",
      "Elapsed: 00:04 | Progress: 100%|███████████████████████████████████████████████████████████████████████████████████████\n"
     ]
    }
   ],
   "source": [
    "# Create a new set of features with the custom primitive list\n",
    "feature_set, feature_names = ft.dfs(entityset=Bankentities,\n",
    "                                    target_entity='Demographic Data',\n",
    "                                    agg_primitives=aggPrimitives,\n",
    "                                    trans_primitives=tranPrimitives,\n",
    "                                    max_depth = 2,\n",
    "                                    verbose =  1,\n",
    "                                    n_jobs = 1)"
   ]
  },
  {
   "cell_type": "code",
   "execution_count": 20,
   "id": "trained-coordinator",
   "metadata": {},
   "outputs": [
    {
     "data": {
      "text/html": [
       "<div>\n",
       "<style scoped>\n",
       "    .dataframe tbody tr th:only-of-type {\n",
       "        vertical-align: middle;\n",
       "    }\n",
       "\n",
       "    .dataframe tbody tr th {\n",
       "        vertical-align: top;\n",
       "    }\n",
       "\n",
       "    .dataframe thead th {\n",
       "        text-align: right;\n",
       "    }\n",
       "</style>\n",
       "<table border=\"1\" class=\"dataframe\">\n",
       "  <thead>\n",
       "    <tr style=\"text-align: right;\">\n",
       "      <th></th>\n",
       "      <th>age</th>\n",
       "      <th>job</th>\n",
       "      <th>marital</th>\n",
       "      <th>education</th>\n",
       "      <th>balance</th>\n",
       "      <th>contact</th>\n",
       "      <th>day</th>\n",
       "      <th>month</th>\n",
       "      <th>duration</th>\n",
       "      <th>campaign</th>\n",
       "      <th>...</th>\n",
       "      <th>FinBehaviour.MIN(Demographic Data.duration)</th>\n",
       "      <th>FinBehaviour.MIN(Demographic Data.pdays)</th>\n",
       "      <th>FinBehaviour.MIN(Demographic Data.previous)</th>\n",
       "      <th>FinBehaviour.STD(Demographic Data.age)</th>\n",
       "      <th>FinBehaviour.STD(Demographic Data.balance)</th>\n",
       "      <th>FinBehaviour.STD(Demographic Data.campaign)</th>\n",
       "      <th>FinBehaviour.STD(Demographic Data.day)</th>\n",
       "      <th>FinBehaviour.STD(Demographic Data.duration)</th>\n",
       "      <th>FinBehaviour.STD(Demographic Data.pdays)</th>\n",
       "      <th>FinBehaviour.STD(Demographic Data.previous)</th>\n",
       "    </tr>\n",
       "    <tr>\n",
       "      <th>custID</th>\n",
       "      <th></th>\n",
       "      <th></th>\n",
       "      <th></th>\n",
       "      <th></th>\n",
       "      <th></th>\n",
       "      <th></th>\n",
       "      <th></th>\n",
       "      <th></th>\n",
       "      <th></th>\n",
       "      <th></th>\n",
       "      <th></th>\n",
       "      <th></th>\n",
       "      <th></th>\n",
       "      <th></th>\n",
       "      <th></th>\n",
       "      <th></th>\n",
       "      <th></th>\n",
       "      <th></th>\n",
       "      <th></th>\n",
       "      <th></th>\n",
       "      <th></th>\n",
       "    </tr>\n",
       "  </thead>\n",
       "  <tbody>\n",
       "    <tr>\n",
       "      <th>cust0</th>\n",
       "      <td>58</td>\n",
       "      <td>management</td>\n",
       "      <td>married</td>\n",
       "      <td>tertiary</td>\n",
       "      <td>2143</td>\n",
       "      <td>unknown</td>\n",
       "      <td>5</td>\n",
       "      <td>may</td>\n",
       "      <td>261</td>\n",
       "      <td>1</td>\n",
       "      <td>...</td>\n",
       "      <td>0</td>\n",
       "      <td>-1</td>\n",
       "      <td>0</td>\n",
       "      <td>10.638882</td>\n",
       "      <td>3063.275425</td>\n",
       "      <td>3.087038</td>\n",
       "      <td>8.317696</td>\n",
       "      <td>258.239396</td>\n",
       "      <td>100.50463</td>\n",
       "      <td>2.313596</td>\n",
       "    </tr>\n",
       "    <tr>\n",
       "      <th>cust1</th>\n",
       "      <td>44</td>\n",
       "      <td>technician</td>\n",
       "      <td>single</td>\n",
       "      <td>secondary</td>\n",
       "      <td>29</td>\n",
       "      <td>unknown</td>\n",
       "      <td>5</td>\n",
       "      <td>may</td>\n",
       "      <td>151</td>\n",
       "      <td>1</td>\n",
       "      <td>...</td>\n",
       "      <td>0</td>\n",
       "      <td>-1</td>\n",
       "      <td>0</td>\n",
       "      <td>10.638882</td>\n",
       "      <td>3063.275425</td>\n",
       "      <td>3.087038</td>\n",
       "      <td>8.317696</td>\n",
       "      <td>258.239396</td>\n",
       "      <td>100.50463</td>\n",
       "      <td>2.313596</td>\n",
       "    </tr>\n",
       "    <tr>\n",
       "      <th>cust2</th>\n",
       "      <td>33</td>\n",
       "      <td>entrepreneur</td>\n",
       "      <td>married</td>\n",
       "      <td>secondary</td>\n",
       "      <td>2</td>\n",
       "      <td>unknown</td>\n",
       "      <td>5</td>\n",
       "      <td>may</td>\n",
       "      <td>76</td>\n",
       "      <td>1</td>\n",
       "      <td>...</td>\n",
       "      <td>0</td>\n",
       "      <td>-1</td>\n",
       "      <td>0</td>\n",
       "      <td>10.638882</td>\n",
       "      <td>3063.275425</td>\n",
       "      <td>3.087038</td>\n",
       "      <td>8.317696</td>\n",
       "      <td>258.239396</td>\n",
       "      <td>100.50463</td>\n",
       "      <td>2.313596</td>\n",
       "    </tr>\n",
       "    <tr>\n",
       "      <th>cust3</th>\n",
       "      <td>47</td>\n",
       "      <td>blue-collar</td>\n",
       "      <td>married</td>\n",
       "      <td>unknown</td>\n",
       "      <td>1506</td>\n",
       "      <td>unknown</td>\n",
       "      <td>5</td>\n",
       "      <td>may</td>\n",
       "      <td>92</td>\n",
       "      <td>1</td>\n",
       "      <td>...</td>\n",
       "      <td>0</td>\n",
       "      <td>-1</td>\n",
       "      <td>0</td>\n",
       "      <td>10.638882</td>\n",
       "      <td>3063.275425</td>\n",
       "      <td>3.087038</td>\n",
       "      <td>8.317696</td>\n",
       "      <td>258.239396</td>\n",
       "      <td>100.50463</td>\n",
       "      <td>2.313596</td>\n",
       "    </tr>\n",
       "    <tr>\n",
       "      <th>cust4</th>\n",
       "      <td>33</td>\n",
       "      <td>unknown</td>\n",
       "      <td>single</td>\n",
       "      <td>unknown</td>\n",
       "      <td>1</td>\n",
       "      <td>unknown</td>\n",
       "      <td>5</td>\n",
       "      <td>may</td>\n",
       "      <td>198</td>\n",
       "      <td>1</td>\n",
       "      <td>...</td>\n",
       "      <td>0</td>\n",
       "      <td>-1</td>\n",
       "      <td>0</td>\n",
       "      <td>10.638882</td>\n",
       "      <td>3063.275425</td>\n",
       "      <td>3.087038</td>\n",
       "      <td>8.317696</td>\n",
       "      <td>258.239396</td>\n",
       "      <td>100.50463</td>\n",
       "      <td>2.313596</td>\n",
       "    </tr>\n",
       "  </tbody>\n",
       "</table>\n",
       "<p>5 rows × 224 columns</p>\n",
       "</div>"
      ],
      "text/plain": [
       "        age           job  marital  education  balance  contact  day month  \\\n",
       "custID                                                                       \n",
       "cust0    58    management  married   tertiary     2143  unknown    5   may   \n",
       "cust1    44    technician   single  secondary       29  unknown    5   may   \n",
       "cust2    33  entrepreneur  married  secondary        2  unknown    5   may   \n",
       "cust3    47   blue-collar  married    unknown     1506  unknown    5   may   \n",
       "cust4    33       unknown   single    unknown        1  unknown    5   may   \n",
       "\n",
       "        duration  campaign  ...  FinBehaviour.MIN(Demographic Data.duration)  \\\n",
       "custID                      ...                                                \n",
       "cust0        261         1  ...                                            0   \n",
       "cust1        151         1  ...                                            0   \n",
       "cust2         76         1  ...                                            0   \n",
       "cust3         92         1  ...                                            0   \n",
       "cust4        198         1  ...                                            0   \n",
       "\n",
       "        FinBehaviour.MIN(Demographic Data.pdays)  \\\n",
       "custID                                             \n",
       "cust0                                         -1   \n",
       "cust1                                         -1   \n",
       "cust2                                         -1   \n",
       "cust3                                         -1   \n",
       "cust4                                         -1   \n",
       "\n",
       "       FinBehaviour.MIN(Demographic Data.previous)  \\\n",
       "custID                                               \n",
       "cust0                                            0   \n",
       "cust1                                            0   \n",
       "cust2                                            0   \n",
       "cust3                                            0   \n",
       "cust4                                            0   \n",
       "\n",
       "        FinBehaviour.STD(Demographic Data.age)  \\\n",
       "custID                                           \n",
       "cust0                                10.638882   \n",
       "cust1                                10.638882   \n",
       "cust2                                10.638882   \n",
       "cust3                                10.638882   \n",
       "cust4                                10.638882   \n",
       "\n",
       "        FinBehaviour.STD(Demographic Data.balance)  \\\n",
       "custID                                               \n",
       "cust0                                  3063.275425   \n",
       "cust1                                  3063.275425   \n",
       "cust2                                  3063.275425   \n",
       "cust3                                  3063.275425   \n",
       "cust4                                  3063.275425   \n",
       "\n",
       "        FinBehaviour.STD(Demographic Data.campaign)  \\\n",
       "custID                                                \n",
       "cust0                                      3.087038   \n",
       "cust1                                      3.087038   \n",
       "cust2                                      3.087038   \n",
       "cust3                                      3.087038   \n",
       "cust4                                      3.087038   \n",
       "\n",
       "        FinBehaviour.STD(Demographic Data.day)  \\\n",
       "custID                                           \n",
       "cust0                                 8.317696   \n",
       "cust1                                 8.317696   \n",
       "cust2                                 8.317696   \n",
       "cust3                                 8.317696   \n",
       "cust4                                 8.317696   \n",
       "\n",
       "        FinBehaviour.STD(Demographic Data.duration)  \\\n",
       "custID                                                \n",
       "cust0                                    258.239396   \n",
       "cust1                                    258.239396   \n",
       "cust2                                    258.239396   \n",
       "cust3                                    258.239396   \n",
       "cust4                                    258.239396   \n",
       "\n",
       "        FinBehaviour.STD(Demographic Data.pdays)  \\\n",
       "custID                                             \n",
       "cust0                                  100.50463   \n",
       "cust1                                  100.50463   \n",
       "cust2                                  100.50463   \n",
       "cust3                                  100.50463   \n",
       "cust4                                  100.50463   \n",
       "\n",
       "        FinBehaviour.STD(Demographic Data.previous)  \n",
       "custID                                               \n",
       "cust0                                      2.313596  \n",
       "cust1                                      2.313596  \n",
       "cust2                                      2.313596  \n",
       "cust3                                      2.313596  \n",
       "cust4                                      2.313596  \n",
       "\n",
       "[5 rows x 224 columns]"
      ]
     },
     "execution_count": 20,
     "metadata": {},
     "output_type": "execute_result"
    }
   ],
   "source": [
    "feature_set.head()"
   ]
  },
  {
   "cell_type": "markdown",
   "id": "attempted-wildlife",
   "metadata": {},
   "source": [
    "# Classification Model After Automated Feature Generation"
   ]
  },
  {
   "cell_type": "code",
   "execution_count": 21,
   "id": "european-rubber",
   "metadata": {},
   "outputs": [],
   "source": [
    "# split the dataset into train and test sets\n",
    "from sklearn.model_selection import train_test_split\n",
    "\n",
    "X_train, X_test, y_train, y_test = train_test_split(bankData, Y, test_size=0.3, random_state=123)"
   ]
  },
  {
   "cell_type": "code",
   "execution_count": 22,
   "id": "younger-trader",
   "metadata": {},
   "outputs": [],
   "source": [
    "# use pipelines to transform the variables\n",
    "from sklearn.pipeline import Pipeline\n",
    "from sklearn.preprocessing import StandardScaler, OneHotEncoder\n",
    "\n",
    "cat_transformer = Pipeline(steps=[('onehot', OneHotEncoder(handle_unknown='ignore'))])\n",
    "num_transformer = Pipeline(steps=[('scaler', StandardScaler())])"
   ]
  },
  {
   "cell_type": "code",
   "execution_count": 23,
   "id": "narrative-uniform",
   "metadata": {},
   "outputs": [],
   "source": [
    "# define the categorical and numerical data types\n",
    "num_features = bankData.select_dtypes(include=['int64', 'float64']).columns\n",
    "cat_features = bankData.select_dtypes(include=['object']).columns"
   ]
  },
  {
   "cell_type": "code",
   "execution_count": 24,
   "id": "confident-turning",
   "metadata": {},
   "outputs": [],
   "source": [
    "# create the preprocessor pipeline using the ColumnTransformer() function\n",
    "from sklearn.compose import ColumnTransformer\n",
    "\n",
    "preprocessor = ColumnTransformer(transformers=[('num', num_transformer, num_features),\n",
    "                                              ('cat', cat_transformer, cat_features)])"
   ]
  },
  {
   "cell_type": "code",
   "execution_count": 25,
   "id": "conceptual-sampling",
   "metadata": {},
   "outputs": [],
   "source": [
    "# create the estimator that contains the preprocessor and logistic regression classifier\n",
    "from sklearn.linear_model import LogisticRegression\n",
    "\n",
    "estimator = Pipeline(steps=[('preprocessor', preprocessor),\n",
    "                           ('classifier', LogisticRegression(random_state=123))])"
   ]
  },
  {
   "cell_type": "code",
   "execution_count": 26,
   "id": "threaded-creature",
   "metadata": {},
   "outputs": [
    {
     "name": "stderr",
     "output_type": "stream",
     "text": [
      "C:\\Users\\Hevans\\AppData\\Roaming\\Python\\Python37\\site-packages\\sklearn\\linear_model\\_logistic.py:765: ConvergenceWarning: lbfgs failed to converge (status=1):\n",
      "STOP: TOTAL NO. of ITERATIONS REACHED LIMIT.\n",
      "\n",
      "Increase the number of iterations (max_iter) or scale the data as shown in:\n",
      "    https://scikit-learn.org/stable/modules/preprocessing.html\n",
      "Please also refer to the documentation for alternative solver options:\n",
      "    https://scikit-learn.org/stable/modules/linear_model.html#logistic-regression\n",
      "  extra_warning_msg=_LOGISTIC_SOLVER_CONVERGENCE_MSG)\n"
     ]
    },
    {
     "data": {
      "text/plain": [
       "Pipeline(steps=[('preprocessor',\n",
       "                 ColumnTransformer(transformers=[('num',\n",
       "                                                  Pipeline(steps=[('scaler',\n",
       "                                                                   StandardScaler())]),\n",
       "                                                  Index(['age', 'balance', 'day', 'duration', 'campaign', 'pdays', 'previous',\n",
       "       'AssetID', 'loanID', 'FinbehID'],\n",
       "      dtype='object')),\n",
       "                                                 ('cat',\n",
       "                                                  Pipeline(steps=[('onehot',\n",
       "                                                                   OneHotEncoder(handle_unknown='ignore'))]),\n",
       "                                                  Index(['job', 'marital', 'education', 'default', 'housing', 'loan', 'contact',\n",
       "       'month', 'poutcome', 'custID'],\n",
       "      dtype='object'))])),\n",
       "                ('classifier', LogisticRegression(random_state=123))])"
      ]
     },
     "execution_count": 26,
     "metadata": {},
     "output_type": "execute_result"
    }
   ],
   "source": [
    "# fit the estimator\n",
    "estimator.fit(X_train, y_train)"
   ]
  },
  {
   "cell_type": "code",
   "execution_count": 27,
   "id": "communist-agenda",
   "metadata": {},
   "outputs": [
    {
     "name": "stdout",
     "output_type": "stream",
     "text": [
      "Accuracy score of Logistic Regression Model: 0.8998083161309348\n"
     ]
    }
   ],
   "source": [
    "# calculate accuracy score\n",
    "print(f'Accuracy score of Logistic Regression Model: {estimator.score(X_test, y_test)}')"
   ]
  },
  {
   "cell_type": "code",
   "execution_count": 28,
   "id": "passing-account",
   "metadata": {},
   "outputs": [],
   "source": [
    "# make predictions\n",
    "pred = estimator.predict(X_test)"
   ]
  },
  {
   "cell_type": "code",
   "execution_count": 29,
   "id": "powered-speed",
   "metadata": {},
   "outputs": [
    {
     "name": "stdout",
     "output_type": "stream",
     "text": [
      "              precision    recall  f1-score   support\n",
      "\n",
      "          no       0.92      0.98      0.95     11998\n",
      "         yes       0.63      0.32      0.42      1566\n",
      "\n",
      "    accuracy                           0.90     13564\n",
      "   macro avg       0.77      0.65      0.68     13564\n",
      "weighted avg       0.88      0.90      0.88     13564\n",
      "\n"
     ]
    }
   ],
   "source": [
    "# classification report\n",
    "from sklearn.metrics import classification_report\n",
    "\n",
    "print(classification_report(y_test, pred))"
   ]
  },
  {
   "cell_type": "markdown",
   "id": "adequate-shelf",
   "metadata": {},
   "source": [
    "Once the benchmark model has been created without feature engineering, we will proceed and create some new features using Featuretools and then fit another model on the new set of features. Now, we'll proceed by defining the entities and their relationships."
   ]
  },
  {
   "cell_type": "code",
   "execution_count": 30,
   "id": "continued-nightmare",
   "metadata": {},
   "outputs": [],
   "source": [
    "# Create the customer ID\n",
    "bankData['custID'] = bankData.index.values\n",
    "bankData['custID'] = 'cust' + bankData['custID'].astype('str')"
   ]
  },
  {
   "cell_type": "code",
   "execution_count": 31,
   "id": "protective-accent",
   "metadata": {},
   "outputs": [],
   "source": [
    "# create the ID for Assets\n",
    "bankData['AssetID'] = 0\n",
    "bankData.loc[bankData.housing == 'yes', 'AssetID'] = 1"
   ]
  },
  {
   "cell_type": "code",
   "execution_count": 32,
   "id": "fatal-celebration",
   "metadata": {},
   "outputs": [],
   "source": [
    "# create LoanId\n",
    "bankData['loanID'] = 0\n",
    "bankData.loc[bankData.loan == 'yes', 'loanID'] = 1"
   ]
  },
  {
   "cell_type": "code",
   "execution_count": 33,
   "id": "tribal-might",
   "metadata": {},
   "outputs": [],
   "source": [
    "# create the ID for Financial Behavior\n",
    "bankData['FinbehID'] = 0\n",
    "bankData.loc[bankData.default == 'yes', 'FinbehID'] = 1"
   ]
  },
  {
   "cell_type": "code",
   "execution_count": 34,
   "id": "choice-luxembourg",
   "metadata": {},
   "outputs": [],
   "source": [
    "# import packages\n",
    "import featuretools as ft\n",
    "import numpy as np"
   ]
  },
  {
   "cell_type": "code",
   "execution_count": 35,
   "id": "informative-median",
   "metadata": {},
   "outputs": [],
   "source": [
    "#  initialize the entity set\n",
    "Bankentities = ft.EntitySet(id = 'Bank')"
   ]
  },
  {
   "cell_type": "code",
   "execution_count": 36,
   "id": "elegant-munich",
   "metadata": {},
   "outputs": [
    {
     "data": {
      "text/plain": [
       "Entityset: Bank\n",
       "  Entities:\n",
       "    Demographic Data [Rows: 45211, Columns: 20]\n",
       "  Relationships:\n",
       "    No relationships"
      ]
     },
     "execution_count": 36,
     "metadata": {},
     "output_type": "execute_result"
    }
   ],
   "source": [
    "# Map the parent entity to the data frame\n",
    "Bankentities.entity_from_dataframe(entity_id = 'Demographic Data',\n",
    "                                   dataframe = bankData,\n",
    "                                   index = 'custID')"
   ]
  },
  {
   "cell_type": "code",
   "execution_count": 37,
   "id": "thirty-greenhouse",
   "metadata": {},
   "outputs": [
    {
     "data": {
      "text/plain": [
       "Entityset: Bank\n",
       "  Entities:\n",
       "    Demographic Data [Rows: 45211, Columns: 17]\n",
       "    Assets [Rows: 2, Columns: 2]\n",
       "    Liability [Rows: 2, Columns: 2]\n",
       "    FinBehaviour [Rows: 2, Columns: 2]\n",
       "  Relationships:\n",
       "    Demographic Data.AssetID -> Assets.AssetID\n",
       "    Demographic Data.loanID -> Liability.loanID\n",
       "    Demographic Data.FinbehID -> FinBehaviour.FinbehID"
      ]
     },
     "execution_count": 37,
     "metadata": {},
     "output_type": "execute_result"
    }
   ],
   "source": [
    "# Map all the entities and set their relationships\n",
    "Bankentities.normalize_entity(base_entity_id='Demographic Data',\n",
    "                              new_entity_id='Assets',\n",
    "                              index = 'AssetID',\n",
    "                              additional_variables = ['housing'])\n",
    "\n",
    "Bankentities.normalize_entity(base_entity_id='Demographic Data',\n",
    "                              new_entity_id='Liability',\n",
    "                              index = 'loanID',\n",
    "                              additional_variables = ['loan'])\n",
    "\n",
    "Bankentities.normalize_entity(base_entity_id='Demographic Data',\n",
    "                              new_entity_id='FinBehaviour',\n",
    "                              index = 'FinbehID',\n",
    "                              additional_variables = ['default'])"
   ]
  },
  {
   "cell_type": "code",
   "execution_count": 38,
   "id": "burning-charm",
   "metadata": {},
   "outputs": [],
   "source": [
    "# create aggregation and transformation primitives\n",
    "aggPrimitives=['std', 'min', 'max', 'mean', 'last', 'count']\n",
    "tranPrimitives=['percentile', 'subtract_numeric', 'divide_numeric']"
   ]
  },
  {
   "cell_type": "code",
   "execution_count": 39,
   "id": "found-ministry",
   "metadata": {},
   "outputs": [
    {
     "name": "stdout",
     "output_type": "stream",
     "text": [
      "Built 224 features\n",
      "Elapsed: 00:04 | Progress: 100%|███████████████████████████████████████████████████████████████████████████████████████\n"
     ]
    }
   ],
   "source": [
    "# define the DFS with the created primitives\n",
    "feature_set, feature_names = ft.dfs(entityset=Bankentities,\n",
    "                                    target_entity='Demographic Data',\n",
    "                                    agg_primitives=aggPrimitives,\n",
    "                                    trans_primitives=tranPrimitives,\n",
    "                                    max_depth = 2,\n",
    "                                    verbose = 1,\n",
    "                                    n_jobs = 1)"
   ]
  },
  {
   "cell_type": "code",
   "execution_count": 40,
   "id": "confirmed-detector",
   "metadata": {},
   "outputs": [],
   "source": [
    "# reindex feature_set so that the index is similar to the original dataset\n",
    "feature_set = feature_set.reindex(index=bankData['custID'])\n",
    "feature_set = feature_set.reset_index()"
   ]
  },
  {
   "cell_type": "code",
   "execution_count": 41,
   "id": "curious-people",
   "metadata": {},
   "outputs": [],
   "source": [
    "# drop all the IDs\n",
    "X = feature_set[feature_set.columns[~feature_set.columns.str.contains('custID|AssetID|loanID|FinbehID')]]"
   ]
  },
  {
   "cell_type": "code",
   "execution_count": 42,
   "id": "several-exchange",
   "metadata": {},
   "outputs": [],
   "source": [
    "# Replace all infinity values with nan values\n",
    "X = X.replace([np.inf, -np.inf], np.nan)"
   ]
  },
  {
   "cell_type": "code",
   "execution_count": 43,
   "id": "comic-prisoner",
   "metadata": {},
   "outputs": [],
   "source": [
    "# Drop all the columns containing nan\n",
    "X = X.dropna(axis=1, how='any')"
   ]
  },
  {
   "cell_type": "code",
   "execution_count": 44,
   "id": "indie-french",
   "metadata": {},
   "outputs": [],
   "source": [
    "# split the new dataset into train and test sets\n",
    "X_train, X_test, y_train, y_test = train_test_split(X, Y, test_size=0.3, random_state=123)"
   ]
  },
  {
   "cell_type": "code",
   "execution_count": 45,
   "id": "lasting-venture",
   "metadata": {},
   "outputs": [],
   "source": [
    "# create the processing pipeline\n",
    "categorical_transformer  = Pipeline(steps=[('onehot', OneHotEncoder(handle_unknown='ignore'))])\n",
    "numeric_transformer = Pipeline(steps=[('scaler', StandardScaler())])\n",
    "\n",
    "numeric_features = X.select_dtypes(include=['int64', 'float64']).columns\n",
    "categorical_features = X.select_dtypes(include=['object']).columns\n",
    "\n",
    "preprocessor = ColumnTransformer(transformers=[('num', numeric_transformer, numeric_features),\n",
    "                                               ('cat', categorical_transformer, categorical_features)])"
   ]
  },
  {
   "cell_type": "code",
   "execution_count": 46,
   "id": "grateful-brazil",
   "metadata": {},
   "outputs": [
    {
     "name": "stderr",
     "output_type": "stream",
     "text": [
      "C:\\Users\\Hevans\\AppData\\Roaming\\Python\\Python37\\site-packages\\sklearn\\linear_model\\_logistic.py:765: ConvergenceWarning: lbfgs failed to converge (status=1):\n",
      "STOP: TOTAL NO. of ITERATIONS REACHED LIMIT.\n",
      "\n",
      "Increase the number of iterations (max_iter) or scale the data as shown in:\n",
      "    https://scikit-learn.org/stable/modules/preprocessing.html\n",
      "Please also refer to the documentation for alternative solver options:\n",
      "    https://scikit-learn.org/stable/modules/linear_model.html#logistic-regression\n",
      "  extra_warning_msg=_LOGISTIC_SOLVER_CONVERGENCE_MSG)\n"
     ]
    },
    {
     "data": {
      "text/plain": [
       "Pipeline(steps=[('preprocessor',\n",
       "                 ColumnTransformer(transformers=[('num',\n",
       "                                                  Pipeline(steps=[('scaler',\n",
       "                                                                   StandardScaler())]),\n",
       "                                                  Index(['age', 'balance', 'day', 'duration', 'campaign', 'pdays', 'previous',\n",
       "       'age / campaign', 'age / day', 'age / pdays',\n",
       "       ...\n",
       "       'FinBehaviour.MIN(Demographic Data.duration)',\n",
       "       'FinBehaviour.MIN(Demographic Data.pdays)',\n",
       "       'FinBehaviour.MIN(Demographic Data.pr...\n",
       "       'Liability.LAST(Demographic Data.poutcome)',\n",
       "       'FinBehaviour.LAST(Demographic Data.contact)',\n",
       "       'FinBehaviour.LAST(Demographic Data.education)',\n",
       "       'FinBehaviour.LAST(Demographic Data.job)',\n",
       "       'FinBehaviour.LAST(Demographic Data.marital)',\n",
       "       'FinBehaviour.LAST(Demographic Data.month)',\n",
       "       'FinBehaviour.LAST(Demographic Data.poutcome)'],\n",
       "      dtype='object'))])),\n",
       "                ('classifier', LogisticRegression(random_state=123))])"
      ]
     },
     "execution_count": 46,
     "metadata": {},
     "output_type": "execute_result"
    }
   ],
   "source": [
    "# create the estimator function\n",
    "estimator = Pipeline(steps=[('preprocessor', preprocessor),\n",
    "                            ('classifier', LogisticRegression(random_state=123))])\n",
    "estimator.fit(X_train, y_train)"
   ]
  },
  {
   "cell_type": "code",
   "execution_count": 47,
   "id": "premium-horror",
   "metadata": {},
   "outputs": [
    {
     "name": "stdout",
     "output_type": "stream",
     "text": [
      "model score: 0.9027572987319374\n"
     ]
    }
   ],
   "source": [
    "print(f\"model score: {estimator.score(X_test, y_test)}\")"
   ]
  },
  {
   "cell_type": "code",
   "execution_count": 48,
   "id": "favorite-mixture",
   "metadata": {},
   "outputs": [],
   "source": [
    "# make predictions\n",
    "pred = estimator.predict(X_test)"
   ]
  },
  {
   "cell_type": "code",
   "execution_count": 49,
   "id": "scheduled-writer",
   "metadata": {},
   "outputs": [
    {
     "name": "stdout",
     "output_type": "stream",
     "text": [
      "              precision    recall  f1-score   support\n",
      "\n",
      "          no       0.92      0.97      0.95     11998\n",
      "         yes       0.65      0.35      0.45      1566\n",
      "\n",
      "    accuracy                           0.90     13564\n",
      "   macro avg       0.78      0.66      0.70     13564\n",
      "weighted avg       0.89      0.90      0.89     13564\n",
      "\n"
     ]
    }
   ],
   "source": [
    "print(classification_report(y_test, pred))"
   ]
  },
  {
   "cell_type": "markdown",
   "id": "racial-anaheim",
   "metadata": {},
   "source": [
    "From the preceding output, we can see that the accuracy scores have remained the same. However, there is improvement in the precision, recall, and f1-score of the minority class (yes). All of these values have increased from 34%, 64%, and 43%, respectively. We should remember that this is an extremely unbalanced dataset. However, with the new features we generated, we were able to show marginal improvement in the performance of the minority class."
   ]
  }
 ],
 "metadata": {
  "kernelspec": {
   "display_name": "Python 3",
   "language": "python",
   "name": "python3"
  },
  "language_info": {
   "codemirror_mode": {
    "name": "ipython",
    "version": 3
   },
   "file_extension": ".py",
   "mimetype": "text/x-python",
   "name": "python",
   "nbconvert_exporter": "python",
   "pygments_lexer": "ipython3",
   "version": "3.7.7"
  }
 },
 "nbformat": 4,
 "nbformat_minor": 5
}
