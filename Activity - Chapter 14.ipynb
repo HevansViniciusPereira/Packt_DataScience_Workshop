{
 "cells": [
  {
   "cell_type": "markdown",
   "id": "blank-nylon",
   "metadata": {},
   "source": [
    "# Fitting a Logistic Regression Model on a High-Dimensional Dataset"
   ]
  },
  {
   "cell_type": "markdown",
   "id": "mounted-asian",
   "metadata": {},
   "source": [
    "<b> Implement all steps from Exercise 14.01 until the normalization of data. Derive the transformed independent X_tran variable </b>"
   ]
  },
  {
   "cell_type": "code",
   "execution_count": 1,
   "id": "brown-polls",
   "metadata": {},
   "outputs": [],
   "source": [
    "import pandas as pd\n",
    "import numpy as np\n",
    "from sklearn.preprocessing import MinMaxScaler\n",
    "from sklearn.model_selection import train_test_split\n",
    "from sklearn.linear_model import LogisticRegression\n",
    "from sklearn.metrics import confusion_matrix, classification_report\n",
    "import warnings\n",
    "warnings.filterwarnings('ignore')"
   ]
  },
  {
   "cell_type": "code",
   "execution_count": 2,
   "id": "committed-poland",
   "metadata": {},
   "outputs": [],
   "source": [
    "url_path = 'https://raw.githubusercontent.com/PacktWorkshops/The-Data-Science-Workshop/master/Chapter14/Dataset/ad.data'"
   ]
  },
  {
   "cell_type": "code",
   "execution_count": 3,
   "id": "relative-method",
   "metadata": {},
   "outputs": [
    {
     "data": {
      "text/html": [
       "<div>\n",
       "<style scoped>\n",
       "    .dataframe tbody tr th:only-of-type {\n",
       "        vertical-align: middle;\n",
       "    }\n",
       "\n",
       "    .dataframe tbody tr th {\n",
       "        vertical-align: top;\n",
       "    }\n",
       "\n",
       "    .dataframe thead th {\n",
       "        text-align: right;\n",
       "    }\n",
       "</style>\n",
       "<table border=\"1\" class=\"dataframe\">\n",
       "  <thead>\n",
       "    <tr style=\"text-align: right;\">\n",
       "      <th></th>\n",
       "      <th>0</th>\n",
       "      <th>1</th>\n",
       "      <th>2</th>\n",
       "      <th>3</th>\n",
       "      <th>4</th>\n",
       "      <th>5</th>\n",
       "      <th>6</th>\n",
       "      <th>7</th>\n",
       "      <th>8</th>\n",
       "      <th>9</th>\n",
       "      <th>...</th>\n",
       "      <th>1549</th>\n",
       "      <th>1550</th>\n",
       "      <th>1551</th>\n",
       "      <th>1552</th>\n",
       "      <th>1553</th>\n",
       "      <th>1554</th>\n",
       "      <th>1555</th>\n",
       "      <th>1556</th>\n",
       "      <th>1557</th>\n",
       "      <th>1558</th>\n",
       "    </tr>\n",
       "  </thead>\n",
       "  <tbody>\n",
       "    <tr>\n",
       "      <th>0</th>\n",
       "      <td>125</td>\n",
       "      <td>125</td>\n",
       "      <td>1.0</td>\n",
       "      <td>1</td>\n",
       "      <td>0</td>\n",
       "      <td>0</td>\n",
       "      <td>0</td>\n",
       "      <td>0</td>\n",
       "      <td>0</td>\n",
       "      <td>0</td>\n",
       "      <td>...</td>\n",
       "      <td>0</td>\n",
       "      <td>0</td>\n",
       "      <td>0</td>\n",
       "      <td>0</td>\n",
       "      <td>0</td>\n",
       "      <td>0</td>\n",
       "      <td>0</td>\n",
       "      <td>0</td>\n",
       "      <td>0</td>\n",
       "      <td>ad.</td>\n",
       "    </tr>\n",
       "    <tr>\n",
       "      <th>1</th>\n",
       "      <td>57</td>\n",
       "      <td>468</td>\n",
       "      <td>8.2105</td>\n",
       "      <td>1</td>\n",
       "      <td>0</td>\n",
       "      <td>0</td>\n",
       "      <td>0</td>\n",
       "      <td>0</td>\n",
       "      <td>0</td>\n",
       "      <td>0</td>\n",
       "      <td>...</td>\n",
       "      <td>0</td>\n",
       "      <td>0</td>\n",
       "      <td>0</td>\n",
       "      <td>0</td>\n",
       "      <td>0</td>\n",
       "      <td>0</td>\n",
       "      <td>0</td>\n",
       "      <td>0</td>\n",
       "      <td>0</td>\n",
       "      <td>ad.</td>\n",
       "    </tr>\n",
       "    <tr>\n",
       "      <th>2</th>\n",
       "      <td>33</td>\n",
       "      <td>230</td>\n",
       "      <td>6.9696</td>\n",
       "      <td>1</td>\n",
       "      <td>0</td>\n",
       "      <td>0</td>\n",
       "      <td>0</td>\n",
       "      <td>0</td>\n",
       "      <td>0</td>\n",
       "      <td>0</td>\n",
       "      <td>...</td>\n",
       "      <td>0</td>\n",
       "      <td>0</td>\n",
       "      <td>0</td>\n",
       "      <td>0</td>\n",
       "      <td>0</td>\n",
       "      <td>0</td>\n",
       "      <td>0</td>\n",
       "      <td>0</td>\n",
       "      <td>0</td>\n",
       "      <td>ad.</td>\n",
       "    </tr>\n",
       "    <tr>\n",
       "      <th>3</th>\n",
       "      <td>60</td>\n",
       "      <td>468</td>\n",
       "      <td>7.8</td>\n",
       "      <td>1</td>\n",
       "      <td>0</td>\n",
       "      <td>0</td>\n",
       "      <td>0</td>\n",
       "      <td>0</td>\n",
       "      <td>0</td>\n",
       "      <td>0</td>\n",
       "      <td>...</td>\n",
       "      <td>0</td>\n",
       "      <td>0</td>\n",
       "      <td>0</td>\n",
       "      <td>0</td>\n",
       "      <td>0</td>\n",
       "      <td>0</td>\n",
       "      <td>0</td>\n",
       "      <td>0</td>\n",
       "      <td>0</td>\n",
       "      <td>ad.</td>\n",
       "    </tr>\n",
       "    <tr>\n",
       "      <th>4</th>\n",
       "      <td>60</td>\n",
       "      <td>468</td>\n",
       "      <td>7.8</td>\n",
       "      <td>1</td>\n",
       "      <td>0</td>\n",
       "      <td>0</td>\n",
       "      <td>0</td>\n",
       "      <td>0</td>\n",
       "      <td>0</td>\n",
       "      <td>0</td>\n",
       "      <td>...</td>\n",
       "      <td>0</td>\n",
       "      <td>0</td>\n",
       "      <td>0</td>\n",
       "      <td>0</td>\n",
       "      <td>0</td>\n",
       "      <td>0</td>\n",
       "      <td>0</td>\n",
       "      <td>0</td>\n",
       "      <td>0</td>\n",
       "      <td>ad.</td>\n",
       "    </tr>\n",
       "  </tbody>\n",
       "</table>\n",
       "<p>5 rows × 1559 columns</p>\n",
       "</div>"
      ],
      "text/plain": [
       "   0     1       2    3     4     5     6     7     8     9     ...  1549  \\\n",
       "0   125   125     1.0    1     0     0     0     0     0     0  ...     0   \n",
       "1    57   468  8.2105    1     0     0     0     0     0     0  ...     0   \n",
       "2    33   230  6.9696    1     0     0     0     0     0     0  ...     0   \n",
       "3    60   468     7.8    1     0     0     0     0     0     0  ...     0   \n",
       "4    60   468     7.8    1     0     0     0     0     0     0  ...     0   \n",
       "\n",
       "   1550  1551  1552  1553  1554  1555  1556  1557  1558  \n",
       "0     0     0     0     0     0     0     0     0   ad.  \n",
       "1     0     0     0     0     0     0     0     0   ad.  \n",
       "2     0     0     0     0     0     0     0     0   ad.  \n",
       "3     0     0     0     0     0     0     0     0   ad.  \n",
       "4     0     0     0     0     0     0     0     0   ad.  \n",
       "\n",
       "[5 rows x 1559 columns]"
      ]
     },
     "execution_count": 3,
     "metadata": {},
     "output_type": "execute_result"
    }
   ],
   "source": [
    "adData = pd.read_csv(url_path, header=None, error_bad_lines=False)\n",
    "adData.head()"
   ]
  },
  {
   "cell_type": "code",
   "execution_count": 4,
   "id": "distributed-belly",
   "metadata": {},
   "outputs": [],
   "source": [
    "X = adData.loc[:, 0:1557]\n",
    "Y = adData[1558]"
   ]
  },
  {
   "cell_type": "code",
   "execution_count": 5,
   "id": "terminal-mystery",
   "metadata": {},
   "outputs": [
    {
     "name": "stdout",
     "output_type": "stream",
     "text": [
      "(3279, 1558)\n",
      "(3279,)\n"
     ]
    }
   ],
   "source": [
    "print(X.shape)\n",
    "print(Y.shape)"
   ]
  },
  {
   "cell_type": "code",
   "execution_count": 6,
   "id": "every-share",
   "metadata": {},
   "outputs": [],
   "source": [
    "for i in range(0,3):\n",
    "    X[i] = X[i].str.replace(\"?\", 'NaN').values.astype(float)"
   ]
  },
  {
   "cell_type": "code",
   "execution_count": 7,
   "id": "presidential-instrumentation",
   "metadata": {},
   "outputs": [],
   "source": [
    "for i in range(3,1557):\n",
    "    X[i] = X[i].replace(\"?\", 'NaN').values.astype(float)"
   ]
  },
  {
   "cell_type": "code",
   "execution_count": 8,
   "id": "presidential-extension",
   "metadata": {},
   "outputs": [],
   "source": [
    "for i in range(0,1557):\n",
    "    X[i] = X[i].fillna(X[i].mean())"
   ]
  },
  {
   "cell_type": "code",
   "execution_count": 9,
   "id": "featured-retrieval",
   "metadata": {},
   "outputs": [],
   "source": [
    "scaler = MinMaxScaler()\n",
    "X_tran = pd.DataFrame(scaler.fit_transform(X))"
   ]
  },
  {
   "cell_type": "markdown",
   "id": "based-brazil",
   "metadata": {},
   "source": [
    "<b> Create a high-dimensional dataset by replicating the columns 80 times using the pd.np.tile() function. Print the shape of the new dataset and observe the number of features in the new dataset </b>"
   ]
  },
  {
   "cell_type": "code",
   "execution_count": 10,
   "id": "closed-lafayette",
   "metadata": {},
   "outputs": [
    {
     "data": {
      "text/plain": [
       "(3279, 155800)"
      ]
     },
     "execution_count": 10,
     "metadata": {},
     "output_type": "execute_result"
    }
   ],
   "source": [
    "X_hd = pd.DataFrame(pd.np.tile(X_tran, (1, 80)))\n",
    "X_hd.shape"
   ]
  },
  {
   "cell_type": "markdown",
   "id": "incorrect-battlefield",
   "metadata": {},
   "source": [
    "<b> Split the dataset into train and test sets </b>"
   ]
  },
  {
   "cell_type": "code",
   "execution_count": 11,
   "id": "capital-david",
   "metadata": {},
   "outputs": [],
   "source": [
    "X_train, X_test, y_train, y_test = train_test_split(X_hd, Y, test_size=0.3, random_state=123)"
   ]
  },
  {
   "cell_type": "markdown",
   "id": "previous-january",
   "metadata": {},
   "source": [
    "<b> Fit a logistic regression model on the new dataset and note the time it takes to fit the model </b>"
   ]
  },
  {
   "cell_type": "code",
   "execution_count": 12,
   "id": "common-worthy",
   "metadata": {},
   "outputs": [
    {
     "name": "stdout",
     "output_type": "stream",
     "text": [
      "Wall time: 1min 24s\n",
      "Parser   : 270 ms\n"
     ]
    },
    {
     "data": {
      "text/plain": [
       "LogisticRegression()"
      ]
     },
     "execution_count": 12,
     "metadata": {},
     "output_type": "execute_result"
    }
   ],
   "source": [
    "%%time\n",
    "model = LogisticRegression()\n",
    "model.fit(X_train, y_train)"
   ]
  },
  {
   "cell_type": "markdown",
   "id": "engaged-anger",
   "metadata": {},
   "source": [
    "<b> Predict on the test set and print the classification report and confusion matrix </b>"
   ]
  },
  {
   "cell_type": "code",
   "execution_count": 13,
   "id": "mobile-venue",
   "metadata": {},
   "outputs": [],
   "source": [
    "pred = model.predict(X_test)"
   ]
  },
  {
   "cell_type": "code",
   "execution_count": 14,
   "id": "unable-galaxy",
   "metadata": {},
   "outputs": [
    {
     "name": "stdout",
     "output_type": "stream",
     "text": [
      "Accuracy on Logistic Regression model prediction on test set: 0.9715447154471545\n"
     ]
    }
   ],
   "source": [
    "print(f'Accuracy on Logistic Regression model prediction on test set: {model.score(X_test, y_test)}')"
   ]
  },
  {
   "cell_type": "code",
   "execution_count": 15,
   "id": "congressional-design",
   "metadata": {},
   "outputs": [
    {
     "name": "stdout",
     "output_type": "stream",
     "text": [
      "[[110  16]\n",
      " [ 12 846]]\n"
     ]
    }
   ],
   "source": [
    "print(confusion_matrix(y_test, pred))"
   ]
  },
  {
   "cell_type": "code",
   "execution_count": 16,
   "id": "vital-respect",
   "metadata": {},
   "outputs": [
    {
     "name": "stdout",
     "output_type": "stream",
     "text": [
      "              precision    recall  f1-score   support\n",
      "\n",
      "         ad.       0.90      0.87      0.89       126\n",
      "      nonad.       0.98      0.99      0.98       858\n",
      "\n",
      "    accuracy                           0.97       984\n",
      "   macro avg       0.94      0.93      0.94       984\n",
      "weighted avg       0.97      0.97      0.97       984\n",
      "\n"
     ]
    }
   ],
   "source": [
    "print(classification_report(y_test, pred))"
   ]
  },
  {
   "cell_type": "markdown",
   "id": "multiple-honolulu",
   "metadata": {},
   "source": [
    "# Comparison of Dimensionality Reduction Techniques on the Enhanced Ads Dataset"
   ]
  },
  {
   "cell_type": "markdown",
   "id": "adopted-musical",
   "metadata": {},
   "source": [
    "<b> Create a high-dimensional dataset by replicating the columns twice </b>"
   ]
  },
  {
   "cell_type": "code",
   "execution_count": 17,
   "id": "modular-cookbook",
   "metadata": {},
   "outputs": [
    {
     "data": {
      "text/plain": [
       "(3279, 3116)"
      ]
     },
     "execution_count": 17,
     "metadata": {},
     "output_type": "execute_result"
    }
   ],
   "source": [
    "X_hd = pd.DataFrame(pd.np.tile(X_tran, (1, 2)))\n",
    "X_hd.shape"
   ]
  },
  {
   "cell_type": "markdown",
   "id": "going-trout",
   "metadata": {},
   "source": [
    "<b> Create random samples from a normal distribution with mean = 0 and standard deviation = 0.1. Make the new dataset with the same shape as the high-dimensional dataset </b>"
   ]
  },
  {
   "cell_type": "code",
   "execution_count": 18,
   "id": "opposed-syntax",
   "metadata": {},
   "outputs": [],
   "source": [
    "# defining mean and standard deviation\n",
    "mu = 0\n",
    "sigma = 0.1"
   ]
  },
  {
   "cell_type": "code",
   "execution_count": 19,
   "id": "eleven-portuguese",
   "metadata": {},
   "outputs": [
    {
     "data": {
      "text/plain": [
       "(3279, 3116)"
      ]
     },
     "execution_count": 19,
     "metadata": {},
     "output_type": "execute_result"
    }
   ],
   "source": [
    "# Generate samples from the normal distribution\n",
    "noise = np.random.normal(mu, sigma, [3279, 3116])\n",
    "noise.shape"
   ]
  },
  {
   "cell_type": "markdown",
   "id": "integral-finland",
   "metadata": {},
   "source": [
    "<b> Add the high dimensional dataset and the random samples to get the new dataset </b>"
   ]
  },
  {
   "cell_type": "code",
   "execution_count": 20,
   "id": "narrative-microwave",
   "metadata": {},
   "outputs": [],
   "source": [
    "X_new = X_hd + noise"
   ]
  },
  {
   "cell_type": "markdown",
   "id": "controlled-links",
   "metadata": {},
   "source": [
    "<b> Split the dataset into train and test sets </b>"
   ]
  },
  {
   "cell_type": "code",
   "execution_count": 21,
   "id": "intended-explosion",
   "metadata": {},
   "outputs": [],
   "source": [
    "X_train, X_test, y_train, y_test = train_test_split(X_new, Y, test_size=0.3, random_state=123)"
   ]
  },
  {
   "cell_type": "markdown",
   "id": "acknowledged-opportunity",
   "metadata": {},
   "source": [
    "<b> Implement backward elimination </b>"
   ]
  },
  {
   "cell_type": "code",
   "execution_count": 22,
   "id": "innovative-democrat",
   "metadata": {},
   "outputs": [],
   "source": [
    "from sklearn.feature_selection import RFE"
   ]
  },
  {
   "cell_type": "code",
   "execution_count": 23,
   "id": "sorted-register",
   "metadata": {},
   "outputs": [],
   "source": [
    "backModel = LogisticRegression()\n",
    "rfe = RFE(backModel, 300)"
   ]
  },
  {
   "cell_type": "code",
   "execution_count": 24,
   "id": "subjective-emperor",
   "metadata": {},
   "outputs": [
    {
     "data": {
      "text/plain": [
       "RFE(estimator=LogisticRegression(), n_features_to_select=300)"
      ]
     },
     "execution_count": 24,
     "metadata": {},
     "output_type": "execute_result"
    }
   ],
   "source": [
    "rfe.fit(X_train, y_train)"
   ]
  },
  {
   "cell_type": "code",
   "execution_count": 25,
   "id": "neutral-housing",
   "metadata": {},
   "outputs": [
    {
     "data": {
      "text/plain": [
       "array([   1,   12,   14,   35,   53,   64,   73,   75,   88,   95,   98,\n",
       "         99,  119,  130,  134,  141,  158,  163,  166,  167,  172,  246,\n",
       "        251,  262,  271,  278,  284,  307,  317,  322,  338,  341,  351,\n",
       "        356,  365,  372,  380,  398,  402,  418,  424,  441,  457,  499,\n",
       "        508,  515,  541,  543,  556,  562,  593,  610,  638,  658,  679,\n",
       "        680,  686,  692,  698,  705,  709,  715,  717,  719,  721,  726,\n",
       "        731,  736,  737,  766,  769,  785,  803,  813,  815,  831,  840,\n",
       "        850,  860,  863,  865,  866,  874,  887,  910,  917,  937,  950,\n",
       "        968,  982,  983,  988,  999, 1000, 1002, 1004, 1021, 1023, 1034,\n",
       "       1035, 1043, 1060, 1081, 1106, 1107, 1111, 1134, 1146, 1147, 1167,\n",
       "       1184, 1196, 1202, 1203, 1210, 1229, 1243, 1247, 1249, 1256, 1271,\n",
       "       1276, 1288, 1292, 1306, 1309, 1310, 1326, 1327, 1339, 1344, 1346,\n",
       "       1351, 1357, 1359, 1380, 1385, 1388, 1399, 1403, 1409, 1417, 1424,\n",
       "       1434, 1437, 1445, 1454, 1465, 1471, 1478, 1484, 1492, 1493, 1504,\n",
       "       1518, 1527, 1531, 1532, 1534, 1552, 1559, 1591, 1607, 1662, 1678,\n",
       "       1684, 1697, 1709, 1719, 1725, 1726, 1732, 1733, 1739, 1740, 1741,\n",
       "       1747, 1757, 1776, 1802, 1804, 1823, 1827, 1850, 1865, 1869, 1886,\n",
       "       1889, 1894, 1904, 1909, 1915, 1924, 1926, 1947, 1956, 1964, 1975,\n",
       "       1976, 1978, 1984, 1992, 1993, 2001, 2002, 2009, 2013, 2015, 2019,\n",
       "       2028, 2060, 2066, 2095, 2107, 2114, 2132, 2147, 2150, 2167, 2182,\n",
       "       2192, 2206, 2211, 2216, 2219, 2221, 2281, 2308, 2346, 2370, 2377,\n",
       "       2378, 2379, 2388, 2404, 2409, 2439, 2464, 2477, 2484, 2498, 2501,\n",
       "       2523, 2526, 2538, 2541, 2545, 2555, 2571, 2573, 2576, 2580, 2593,\n",
       "       2594, 2609, 2616, 2618, 2658, 2674, 2697, 2706, 2732, 2750, 2751,\n",
       "       2760, 2782, 2787, 2801, 2812, 2813, 2814, 2834, 2836, 2841, 2844,\n",
       "       2882, 2898, 2899, 2924, 2925, 2932, 2938, 2945, 2957, 2971, 2976,\n",
       "       2983, 2985, 3003, 3012, 3013, 3016, 3020, 3041, 3053, 3065, 3094,\n",
       "       3097, 3104, 3113], dtype=int64)"
      ]
     },
     "execution_count": 25,
     "metadata": {},
     "output_type": "execute_result"
    }
   ],
   "source": [
    "rfe.get_support(indices=True)"
   ]
  },
  {
   "cell_type": "code",
   "execution_count": 26,
   "id": "fifth-remainder",
   "metadata": {},
   "outputs": [],
   "source": [
    "X_train_trans = rfe.transform(X_train)\n",
    "X_test_trans = rfe.transform(X_test)"
   ]
  },
  {
   "cell_type": "code",
   "execution_count": 27,
   "id": "alike-facing",
   "metadata": {},
   "outputs": [
    {
     "data": {
      "text/plain": [
       "LogisticRegression()"
      ]
     },
     "execution_count": 27,
     "metadata": {},
     "output_type": "execute_result"
    }
   ],
   "source": [
    "RfeModel = LogisticRegression()\n",
    "RfeModel.fit(X_train_trans, y_train)"
   ]
  },
  {
   "cell_type": "code",
   "execution_count": 28,
   "id": "characteristic-marijuana",
   "metadata": {},
   "outputs": [],
   "source": [
    "# make prediction\n",
    "pred = RfeModel.predict(X_test_trans)"
   ]
  },
  {
   "cell_type": "code",
   "execution_count": 29,
   "id": "minimal-christian",
   "metadata": {},
   "outputs": [
    {
     "name": "stdout",
     "output_type": "stream",
     "text": [
      "Accuracy of Logistic Regression model: 0.9644308943089431\n"
     ]
    }
   ],
   "source": [
    "# calculate the accuracy's model\n",
    "print(f'Accuracy of Logistic Regression model: {RfeModel.score(X_test_trans, y_test)}')"
   ]
  },
  {
   "cell_type": "code",
   "execution_count": 30,
   "id": "varied-testimony",
   "metadata": {},
   "outputs": [
    {
     "name": "stdout",
     "output_type": "stream",
     "text": [
      "[[ 95  31]\n",
      " [  4 854]]\n"
     ]
    }
   ],
   "source": [
    "# confusion matrix\n",
    "print(confusion_matrix(y_test, pred))"
   ]
  },
  {
   "cell_type": "code",
   "execution_count": 31,
   "id": "demanding-turner",
   "metadata": {},
   "outputs": [
    {
     "name": "stdout",
     "output_type": "stream",
     "text": [
      "              precision    recall  f1-score   support\n",
      "\n",
      "         ad.       0.96      0.75      0.84       126\n",
      "      nonad.       0.96      1.00      0.98       858\n",
      "\n",
      "    accuracy                           0.96       984\n",
      "   macro avg       0.96      0.87      0.91       984\n",
      "weighted avg       0.96      0.96      0.96       984\n",
      "\n"
     ]
    }
   ],
   "source": [
    "# classification report\n",
    "print(classification_report(y_test, pred))"
   ]
  },
  {
   "cell_type": "markdown",
   "id": "abandoned-cradle",
   "metadata": {},
   "source": [
    "<b> Implement the forward selection technique </b>"
   ]
  },
  {
   "cell_type": "code",
   "execution_count": 32,
   "id": "planned-setting",
   "metadata": {},
   "outputs": [],
   "source": [
    "from sklearn.feature_selection import SelectKBest"
   ]
  },
  {
   "cell_type": "code",
   "execution_count": 33,
   "id": "speaking-rates",
   "metadata": {},
   "outputs": [],
   "source": [
    "feats = SelectKBest(k=300)"
   ]
  },
  {
   "cell_type": "code",
   "execution_count": 34,
   "id": "neural-regular",
   "metadata": {},
   "outputs": [],
   "source": [
    "fit = feats.fit(X_train, y_train)"
   ]
  },
  {
   "cell_type": "code",
   "execution_count": 35,
   "id": "invisible-planner",
   "metadata": {},
   "outputs": [],
   "source": [
    "features_train = fit.transform(X_train)\n",
    "features_test = fit.transform(X_test)"
   ]
  },
  {
   "cell_type": "code",
   "execution_count": 36,
   "id": "helpful-helena",
   "metadata": {},
   "outputs": [
    {
     "data": {
      "text/plain": [
       "LogisticRegression()"
      ]
     },
     "execution_count": 36,
     "metadata": {},
     "output_type": "execute_result"
    }
   ],
   "source": [
    "forwardModel = LogisticRegression()\n",
    "forwardModel.fit(features_train, y_train)"
   ]
  },
  {
   "cell_type": "code",
   "execution_count": 37,
   "id": "mighty-footwear",
   "metadata": {},
   "outputs": [],
   "source": [
    "# make predictions\n",
    "pred = forwardModel.predict(features_test)"
   ]
  },
  {
   "cell_type": "code",
   "execution_count": 38,
   "id": "upper-communist",
   "metadata": {},
   "outputs": [
    {
     "name": "stdout",
     "output_type": "stream",
     "text": [
      "Accuracy of the Logistic Regression model: 0.9623983739837398\n"
     ]
    }
   ],
   "source": [
    "# accuracy's model\n",
    "print(f'Accuracy of the Logistic Regression model: {forwardModel.score(features_test, y_test)}')"
   ]
  },
  {
   "cell_type": "code",
   "execution_count": 39,
   "id": "former-weapon",
   "metadata": {},
   "outputs": [
    {
     "name": "stdout",
     "output_type": "stream",
     "text": [
      "[[ 90  36]\n",
      " [  1 857]]\n"
     ]
    }
   ],
   "source": [
    "# confusion matrix\n",
    "print(confusion_matrix(y_test, pred))"
   ]
  },
  {
   "cell_type": "code",
   "execution_count": 40,
   "id": "statistical-shopper",
   "metadata": {},
   "outputs": [
    {
     "name": "stdout",
     "output_type": "stream",
     "text": [
      "              precision    recall  f1-score   support\n",
      "\n",
      "         ad.       0.99      0.71      0.83       126\n",
      "      nonad.       0.96      1.00      0.98       858\n",
      "\n",
      "    accuracy                           0.96       984\n",
      "   macro avg       0.97      0.86      0.90       984\n",
      "weighted avg       0.96      0.96      0.96       984\n",
      "\n"
     ]
    }
   ],
   "source": [
    "# classification report\n",
    "print(classification_report(y_test, pred))"
   ]
  },
  {
   "cell_type": "markdown",
   "id": "organizational-springer",
   "metadata": {},
   "source": [
    "<b> Implement PCA </b>"
   ]
  },
  {
   "cell_type": "code",
   "execution_count": 41,
   "id": "owned-street",
   "metadata": {},
   "outputs": [],
   "source": [
    "from sklearn.decomposition import PCA"
   ]
  },
  {
   "cell_type": "code",
   "execution_count": 42,
   "id": "affected-crash",
   "metadata": {},
   "outputs": [],
   "source": [
    "pca = PCA().fit(X_train, y_train)"
   ]
  },
  {
   "cell_type": "code",
   "execution_count": 43,
   "id": "portuguese-trinidad",
   "metadata": {},
   "outputs": [
    {
     "data": {
      "image/png": "[encoded data removed]",
      "text/plain": [
       "<Figure size 432x288 with 1 Axes>"
      ]
     },
     "metadata": {
      "needs_background": "light"
     },
     "output_type": "display_data"
    }
   ],
   "source": [
    "import matplotlib.pyplot as plt\n",
    "\n",
    "plt.plot(pca.explained_variance_ratio_)\n",
    "plt.xlabel('Number of Principal Components')\n",
    "plt.ylabel('Cumulative explained variance')\n",
    "plt.show()"
   ]
  },
  {
   "cell_type": "code",
   "execution_count": 44,
   "id": "enormous-hartford",
   "metadata": {},
   "outputs": [],
   "source": [
    "pca = PCA(n_components=300).fit(X_train)"
   ]
  },
  {
   "cell_type": "code",
   "execution_count": 45,
   "id": "virtual-spider",
   "metadata": {},
   "outputs": [],
   "source": [
    "X_train_pca = pca.transform(X_train)\n",
    "X_test_pca = pca.transform(X_test)"
   ]
  },
  {
   "cell_type": "code",
   "execution_count": 46,
   "id": "overall-rhythm",
   "metadata": {},
   "outputs": [
    {
     "data": {
      "text/plain": [
       "LogisticRegression()"
      ]
     },
     "execution_count": 46,
     "metadata": {},
     "output_type": "execute_result"
    }
   ],
   "source": [
    "pcaModel = LogisticRegression()\n",
    "pcaModel.fit(X_train_pca, y_train)"
   ]
  },
  {
   "cell_type": "code",
   "execution_count": 47,
   "id": "after-yukon",
   "metadata": {},
   "outputs": [],
   "source": [
    "pred = pcaModel.predict(X_test_pca)"
   ]
  },
  {
   "cell_type": "code",
   "execution_count": 49,
   "id": "defined-liberal",
   "metadata": {},
   "outputs": [
    {
     "name": "stdout",
     "output_type": "stream",
     "text": [
      "Accuracy of the Logistic Regression model: 0.9684959349593496\n"
     ]
    }
   ],
   "source": [
    "# accuracy's model\n",
    "print(f'Accuracy of the Logistic Regression model: {pcaModel.score(X_test_pca, y_test)}')"
   ]
  },
  {
   "cell_type": "code",
   "execution_count": 50,
   "id": "wicked-italian",
   "metadata": {},
   "outputs": [
    {
     "name": "stdout",
     "output_type": "stream",
     "text": [
      "[[ 97  29]\n",
      " [  2 856]]\n"
     ]
    }
   ],
   "source": [
    "# confusion matrix\n",
    "print(confusion_matrix(y_test, pred))"
   ]
  },
  {
   "cell_type": "code",
   "execution_count": 51,
   "id": "blond-television",
   "metadata": {},
   "outputs": [
    {
     "name": "stdout",
     "output_type": "stream",
     "text": [
      "              precision    recall  f1-score   support\n",
      "\n",
      "         ad.       0.98      0.77      0.86       126\n",
      "      nonad.       0.97      1.00      0.98       858\n",
      "\n",
      "    accuracy                           0.97       984\n",
      "   macro avg       0.97      0.88      0.92       984\n",
      "weighted avg       0.97      0.97      0.97       984\n",
      "\n"
     ]
    }
   ],
   "source": [
    "# classification report\n",
    "print(classification_report(y_test, pred))"
   ]
  },
  {
   "cell_type": "markdown",
   "id": "touched-quantity",
   "metadata": {},
   "source": [
    "<b> Implement ICA </b>"
   ]
  },
  {
   "cell_type": "code",
   "execution_count": 53,
   "id": "experienced-consensus",
   "metadata": {},
   "outputs": [],
   "source": [
    "from sklearn.decomposition import FastICA"
   ]
  },
  {
   "cell_type": "code",
   "execution_count": 54,
   "id": "labeled-picking",
   "metadata": {},
   "outputs": [],
   "source": [
    "ICA = FastICA(n_components=300, random_state=123)"
   ]
  },
  {
   "cell_type": "code",
   "execution_count": 55,
   "id": "complimentary-strip",
   "metadata": {},
   "outputs": [],
   "source": [
    "X_train_ica = ICA.fit_transform(X_train)"
   ]
  },
  {
   "cell_type": "code",
   "execution_count": 56,
   "id": "future-cassette",
   "metadata": {},
   "outputs": [],
   "source": [
    "X_test_ica = ICA.transform(X_test)"
   ]
  },
  {
   "cell_type": "code",
   "execution_count": 57,
   "id": "related-flood",
   "metadata": {},
   "outputs": [
    {
     "data": {
      "text/plain": [
       "LogisticRegression()"
      ]
     },
     "execution_count": 57,
     "metadata": {},
     "output_type": "execute_result"
    }
   ],
   "source": [
    "icaModel = LogisticRegression()\n",
    "icaModel.fit(X_train_ica, y_train)"
   ]
  },
  {
   "cell_type": "code",
   "execution_count": 58,
   "id": "treated-serum",
   "metadata": {},
   "outputs": [],
   "source": [
    "pred = icaModel.predict(X_test_ica)"
   ]
  },
  {
   "cell_type": "code",
   "execution_count": 59,
   "id": "joint-quantum",
   "metadata": {},
   "outputs": [
    {
     "name": "stdout",
     "output_type": "stream",
     "text": [
      "Accuracy of the Logistic Regression model: 0.8719512195121951\n"
     ]
    }
   ],
   "source": [
    "# accuracy's model\n",
    "print(f'Accuracy of the Logistic Regression model: {icaModel.score(X_test_ica, y_test)}')"
   ]
  },
  {
   "cell_type": "code",
   "execution_count": 60,
   "id": "narrow-backing",
   "metadata": {},
   "outputs": [
    {
     "name": "stdout",
     "output_type": "stream",
     "text": [
      "[[  0 126]\n",
      " [  0 858]]\n"
     ]
    }
   ],
   "source": [
    "# confusion matrix\n",
    "print(confusion_matrix(y_test, pred))"
   ]
  },
  {
   "cell_type": "code",
   "execution_count": 61,
   "id": "american-exhaust",
   "metadata": {},
   "outputs": [
    {
     "name": "stdout",
     "output_type": "stream",
     "text": [
      "              precision    recall  f1-score   support\n",
      "\n",
      "         ad.       0.00      0.00      0.00       126\n",
      "      nonad.       0.87      1.00      0.93       858\n",
      "\n",
      "    accuracy                           0.87       984\n",
      "   macro avg       0.44      0.50      0.47       984\n",
      "weighted avg       0.76      0.87      0.81       984\n",
      "\n"
     ]
    }
   ],
   "source": [
    "# classification report\n",
    "print(classification_report(y_test, pred))"
   ]
  },
  {
   "cell_type": "markdown",
   "id": "signal-origin",
   "metadata": {},
   "source": [
    "<b> Implement factor analysis </b>"
   ]
  },
  {
   "cell_type": "code",
   "execution_count": 63,
   "id": "another-butter",
   "metadata": {},
   "outputs": [],
   "source": [
    "from sklearn.decomposition import FactorAnalysis"
   ]
  },
  {
   "cell_type": "code",
   "execution_count": 69,
   "id": "lonely-simulation",
   "metadata": {},
   "outputs": [],
   "source": [
    "fa = FactorAnalysis(n_components=30, random_state=123)"
   ]
  },
  {
   "cell_type": "code",
   "execution_count": 70,
   "id": "verbal-newsletter",
   "metadata": {},
   "outputs": [],
   "source": [
    "X_train_fa = fa.fit_transform(X_train)\n",
    "X_test_fa = fa.transform(X_test)"
   ]
  },
  {
   "cell_type": "code",
   "execution_count": 82,
   "id": "sharing-constitution",
   "metadata": {},
   "outputs": [],
   "source": [
    "faModel = LogisticRegression()"
   ]
  },
  {
   "cell_type": "code",
   "execution_count": 83,
   "id": "representative-projection",
   "metadata": {},
   "outputs": [
    {
     "data": {
      "text/plain": [
       "LogisticRegression()"
      ]
     },
     "execution_count": 83,
     "metadata": {},
     "output_type": "execute_result"
    }
   ],
   "source": [
    "faModel.fit(X_train_fa, y_train)"
   ]
  },
  {
   "cell_type": "code",
   "execution_count": 84,
   "id": "correct-aviation",
   "metadata": {},
   "outputs": [],
   "source": [
    "pred = faModel.predict(X_test_fa)"
   ]
  },
  {
   "cell_type": "code",
   "execution_count": 85,
   "id": "based-meaning",
   "metadata": {},
   "outputs": [
    {
     "name": "stdout",
     "output_type": "stream",
     "text": [
      "Accuracy of the Logistic Regression model: 0.959349593495935\n"
     ]
    }
   ],
   "source": [
    "# accuracy's model\n",
    "print(f'Accuracy of the Logistic Regression model: {faModel.score(X_test_fa, y_test)}')"
   ]
  },
  {
   "cell_type": "code",
   "execution_count": 86,
   "id": "natural-encounter",
   "metadata": {},
   "outputs": [
    {
     "name": "stdout",
     "output_type": "stream",
     "text": [
      "[[ 86  40]\n",
      " [  0 858]]\n"
     ]
    }
   ],
   "source": [
    "# confusion matrix\n",
    "print(confusion_matrix(y_test, pred))"
   ]
  },
  {
   "cell_type": "code",
   "execution_count": 87,
   "id": "bridal-diary",
   "metadata": {},
   "outputs": [
    {
     "name": "stdout",
     "output_type": "stream",
     "text": [
      "              precision    recall  f1-score   support\n",
      "\n",
      "         ad.       1.00      0.68      0.81       126\n",
      "      nonad.       0.96      1.00      0.98       858\n",
      "\n",
      "    accuracy                           0.96       984\n",
      "   macro avg       0.98      0.84      0.89       984\n",
      "weighted avg       0.96      0.96      0.96       984\n",
      "\n"
     ]
    }
   ],
   "source": [
    "# classification report\n",
    "print(classification_report(y_test, pred))"
   ]
  },
  {
   "cell_type": "markdown",
   "id": "enhanced-cuisine",
   "metadata": {},
   "source": [
    "<b> Compare the outputs of all the methods </b>"
   ]
  },
  {
   "cell_type": "markdown",
   "id": "tested-sacramento",
   "metadata": {},
   "source": [
    "We can see that three methods (backward elimination, forward selection, and PCA) have got the same accuracy scores. Therefore, the selection criteria for the best method should be based on the time taken to get the reduced dimension.\n",
    "\n",
    "We should strike a balance between accuracy and the time taken for dimensionality reduction. We can see that factor analysis and backward elimination have very close accuracy scores, 96% and 97% respectively."
   ]
  }
 ],
 "metadata": {
  "kernelspec": {
   "display_name": "Python 3",
   "language": "python",
   "name": "python3"
  },
  "language_info": {
   "codemirror_mode": {
    "name": "ipython",
    "version": 3
   },
   "file_extension": ".py",
   "mimetype": "text/x-python",
   "name": "python",
   "nbconvert_exporter": "python",
   "pygments_lexer": "ipython3",
   "version": "3.7.7"
  }
 },
 "nbformat": 4,
 "nbformat_minor": 5
}
