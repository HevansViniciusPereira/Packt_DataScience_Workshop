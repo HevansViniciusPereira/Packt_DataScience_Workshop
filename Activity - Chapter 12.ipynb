{
 "cells": [
  {
   "cell_type": "markdown",
   "id": "secret-latex",
   "metadata": {},
   "source": [
    "# Feature Engineering on a Financial Dataset"
   ]
  },
  {
   "cell_type": "markdown",
   "id": "organizational-retrieval",
   "metadata": {},
   "source": [
    "<b> Download and load the different tables from this dataset </b>"
   ]
  },
  {
   "cell_type": "code",
   "execution_count": 1,
   "id": "whole-state",
   "metadata": {},
   "outputs": [],
   "source": [
    "# import packages\n",
    "import pandas as pd\n",
    "import numpy as np"
   ]
  },
  {
   "cell_type": "code",
   "execution_count": 2,
   "id": "popular-contents",
   "metadata": {},
   "outputs": [],
   "source": [
    "# url paths\n",
    "disp_url = 'https://raw.githubusercontent.com/PacktWorkshops/The-Data-Science-Workshop/master/Chapter12/Dataset/disp.csv'\n",
    "trans_url = 'https://raw.githubusercontent.com/PacktWorkshops/The-Data-Science-Workshop/master/Chapter12/Dataset/trans.csv'\n",
    "account_url = 'https://raw.githubusercontent.com/PacktWorkshops/The-Data-Science-Workshop/master/Chapter12/Dataset/account.csv'\n",
    "client_url = 'https://raw.githubusercontent.com/PacktWorkshops/The-Data-Science-Workshop/master/Chapter12/Dataset/client.csv'"
   ]
  },
  {
   "cell_type": "code",
   "execution_count": 3,
   "id": "artificial-giant",
   "metadata": {},
   "outputs": [
    {
     "name": "stderr",
     "output_type": "stream",
     "text": [
      "C:\\Users\\Hevans\\AppData\\Roaming\\Python\\Python37\\site-packages\\IPython\\core\\interactiveshell.py:3147: DtypeWarning: Columns (8) have mixed types.Specify dtype option on import or set low_memory=False.\n",
      "  interactivity=interactivity, compiler=compiler, result=result)\n"
     ]
    }
   ],
   "source": [
    "# load the data\n",
    "df_disp = pd.read_csv(disp_url, sep=';')\n",
    "df_trans = pd.read_csv(trans_url, sep=';')\n",
    "df_account = pd.read_csv(account_url, sep=';')\n",
    "df_client = pd.read_csv(client_url, sep=';')"
   ]
  },
  {
   "cell_type": "markdown",
   "id": "rough-animal",
   "metadata": {},
   "source": [
    "<b> Analyze each table with the .shape and .head() methods </b>"
   ]
  },
  {
   "cell_type": "code",
   "execution_count": 4,
   "id": "tamil-collar",
   "metadata": {},
   "outputs": [
    {
     "name": "stdout",
     "output_type": "stream",
     "text": [
      "(5369, 4)\n",
      "(1056320, 10)\n",
      "(4500, 4)\n",
      "(5369, 3)\n"
     ]
    }
   ],
   "source": [
    "print(df_disp.shape)\n",
    "print(df_trans.shape)\n",
    "print(df_account.shape)\n",
    "print(df_client.shape)"
   ]
  },
  {
   "cell_type": "code",
   "execution_count": 5,
   "id": "processed-shelter",
   "metadata": {},
   "outputs": [
    {
     "data": {
      "text/html": [
       "<div>\n",
       "<style scoped>\n",
       "    .dataframe tbody tr th:only-of-type {\n",
       "        vertical-align: middle;\n",
       "    }\n",
       "\n",
       "    .dataframe tbody tr th {\n",
       "        vertical-align: top;\n",
       "    }\n",
       "\n",
       "    .dataframe thead th {\n",
       "        text-align: right;\n",
       "    }\n",
       "</style>\n",
       "<table border=\"1\" class=\"dataframe\">\n",
       "  <thead>\n",
       "    <tr style=\"text-align: right;\">\n",
       "      <th></th>\n",
       "      <th>disp_id</th>\n",
       "      <th>client_id</th>\n",
       "      <th>account_id</th>\n",
       "      <th>type</th>\n",
       "    </tr>\n",
       "  </thead>\n",
       "  <tbody>\n",
       "    <tr>\n",
       "      <th>0</th>\n",
       "      <td>1</td>\n",
       "      <td>1</td>\n",
       "      <td>1</td>\n",
       "      <td>OWNER</td>\n",
       "    </tr>\n",
       "    <tr>\n",
       "      <th>1</th>\n",
       "      <td>2</td>\n",
       "      <td>2</td>\n",
       "      <td>2</td>\n",
       "      <td>OWNER</td>\n",
       "    </tr>\n",
       "    <tr>\n",
       "      <th>2</th>\n",
       "      <td>3</td>\n",
       "      <td>3</td>\n",
       "      <td>2</td>\n",
       "      <td>DISPONENT</td>\n",
       "    </tr>\n",
       "    <tr>\n",
       "      <th>3</th>\n",
       "      <td>4</td>\n",
       "      <td>4</td>\n",
       "      <td>3</td>\n",
       "      <td>OWNER</td>\n",
       "    </tr>\n",
       "    <tr>\n",
       "      <th>4</th>\n",
       "      <td>5</td>\n",
       "      <td>5</td>\n",
       "      <td>3</td>\n",
       "      <td>DISPONENT</td>\n",
       "    </tr>\n",
       "  </tbody>\n",
       "</table>\n",
       "</div>"
      ],
      "text/plain": [
       "   disp_id  client_id  account_id       type\n",
       "0        1          1           1      OWNER\n",
       "1        2          2           2      OWNER\n",
       "2        3          3           2  DISPONENT\n",
       "3        4          4           3      OWNER\n",
       "4        5          5           3  DISPONENT"
      ]
     },
     "execution_count": 5,
     "metadata": {},
     "output_type": "execute_result"
    }
   ],
   "source": [
    "df_disp.head()"
   ]
  },
  {
   "cell_type": "code",
   "execution_count": 6,
   "id": "excellent-worker",
   "metadata": {},
   "outputs": [
    {
     "data": {
      "text/html": [
       "<div>\n",
       "<style scoped>\n",
       "    .dataframe tbody tr th:only-of-type {\n",
       "        vertical-align: middle;\n",
       "    }\n",
       "\n",
       "    .dataframe tbody tr th {\n",
       "        vertical-align: top;\n",
       "    }\n",
       "\n",
       "    .dataframe thead th {\n",
       "        text-align: right;\n",
       "    }\n",
       "</style>\n",
       "<table border=\"1\" class=\"dataframe\">\n",
       "  <thead>\n",
       "    <tr style=\"text-align: right;\">\n",
       "      <th></th>\n",
       "      <th>trans_id</th>\n",
       "      <th>account_id</th>\n",
       "      <th>date</th>\n",
       "      <th>type</th>\n",
       "      <th>operation</th>\n",
       "      <th>amount</th>\n",
       "      <th>balance</th>\n",
       "      <th>k_symbol</th>\n",
       "      <th>bank</th>\n",
       "      <th>account</th>\n",
       "    </tr>\n",
       "  </thead>\n",
       "  <tbody>\n",
       "    <tr>\n",
       "      <th>0</th>\n",
       "      <td>695247</td>\n",
       "      <td>2378</td>\n",
       "      <td>930101</td>\n",
       "      <td>PRIJEM</td>\n",
       "      <td>VKLAD</td>\n",
       "      <td>700.0</td>\n",
       "      <td>700.0</td>\n",
       "      <td>NaN</td>\n",
       "      <td>NaN</td>\n",
       "      <td>NaN</td>\n",
       "    </tr>\n",
       "    <tr>\n",
       "      <th>1</th>\n",
       "      <td>171812</td>\n",
       "      <td>576</td>\n",
       "      <td>930101</td>\n",
       "      <td>PRIJEM</td>\n",
       "      <td>VKLAD</td>\n",
       "      <td>900.0</td>\n",
       "      <td>900.0</td>\n",
       "      <td>NaN</td>\n",
       "      <td>NaN</td>\n",
       "      <td>NaN</td>\n",
       "    </tr>\n",
       "    <tr>\n",
       "      <th>2</th>\n",
       "      <td>207264</td>\n",
       "      <td>704</td>\n",
       "      <td>930101</td>\n",
       "      <td>PRIJEM</td>\n",
       "      <td>VKLAD</td>\n",
       "      <td>1000.0</td>\n",
       "      <td>1000.0</td>\n",
       "      <td>NaN</td>\n",
       "      <td>NaN</td>\n",
       "      <td>NaN</td>\n",
       "    </tr>\n",
       "    <tr>\n",
       "      <th>3</th>\n",
       "      <td>1117247</td>\n",
       "      <td>3818</td>\n",
       "      <td>930101</td>\n",
       "      <td>PRIJEM</td>\n",
       "      <td>VKLAD</td>\n",
       "      <td>600.0</td>\n",
       "      <td>600.0</td>\n",
       "      <td>NaN</td>\n",
       "      <td>NaN</td>\n",
       "      <td>NaN</td>\n",
       "    </tr>\n",
       "    <tr>\n",
       "      <th>4</th>\n",
       "      <td>579373</td>\n",
       "      <td>1972</td>\n",
       "      <td>930102</td>\n",
       "      <td>PRIJEM</td>\n",
       "      <td>VKLAD</td>\n",
       "      <td>400.0</td>\n",
       "      <td>400.0</td>\n",
       "      <td>NaN</td>\n",
       "      <td>NaN</td>\n",
       "      <td>NaN</td>\n",
       "    </tr>\n",
       "  </tbody>\n",
       "</table>\n",
       "</div>"
      ],
      "text/plain": [
       "   trans_id  account_id    date    type operation  amount  balance k_symbol  \\\n",
       "0    695247        2378  930101  PRIJEM     VKLAD   700.0    700.0      NaN   \n",
       "1    171812         576  930101  PRIJEM     VKLAD   900.0    900.0      NaN   \n",
       "2    207264         704  930101  PRIJEM     VKLAD  1000.0   1000.0      NaN   \n",
       "3   1117247        3818  930101  PRIJEM     VKLAD   600.0    600.0      NaN   \n",
       "4    579373        1972  930102  PRIJEM     VKLAD   400.0    400.0      NaN   \n",
       "\n",
       "  bank  account  \n",
       "0  NaN      NaN  \n",
       "1  NaN      NaN  \n",
       "2  NaN      NaN  \n",
       "3  NaN      NaN  \n",
       "4  NaN      NaN  "
      ]
     },
     "execution_count": 6,
     "metadata": {},
     "output_type": "execute_result"
    }
   ],
   "source": [
    "df_trans.head()"
   ]
  },
  {
   "cell_type": "code",
   "execution_count": 7,
   "id": "geological-blocking",
   "metadata": {},
   "outputs": [
    {
     "data": {
      "text/html": [
       "<div>\n",
       "<style scoped>\n",
       "    .dataframe tbody tr th:only-of-type {\n",
       "        vertical-align: middle;\n",
       "    }\n",
       "\n",
       "    .dataframe tbody tr th {\n",
       "        vertical-align: top;\n",
       "    }\n",
       "\n",
       "    .dataframe thead th {\n",
       "        text-align: right;\n",
       "    }\n",
       "</style>\n",
       "<table border=\"1\" class=\"dataframe\">\n",
       "  <thead>\n",
       "    <tr style=\"text-align: right;\">\n",
       "      <th></th>\n",
       "      <th>account_id</th>\n",
       "      <th>district_id</th>\n",
       "      <th>frequency</th>\n",
       "      <th>date</th>\n",
       "    </tr>\n",
       "  </thead>\n",
       "  <tbody>\n",
       "    <tr>\n",
       "      <th>0</th>\n",
       "      <td>576</td>\n",
       "      <td>55</td>\n",
       "      <td>POPLATEK MESICNE</td>\n",
       "      <td>930101</td>\n",
       "    </tr>\n",
       "    <tr>\n",
       "      <th>1</th>\n",
       "      <td>3818</td>\n",
       "      <td>74</td>\n",
       "      <td>POPLATEK MESICNE</td>\n",
       "      <td>930101</td>\n",
       "    </tr>\n",
       "    <tr>\n",
       "      <th>2</th>\n",
       "      <td>704</td>\n",
       "      <td>55</td>\n",
       "      <td>POPLATEK MESICNE</td>\n",
       "      <td>930101</td>\n",
       "    </tr>\n",
       "    <tr>\n",
       "      <th>3</th>\n",
       "      <td>2378</td>\n",
       "      <td>16</td>\n",
       "      <td>POPLATEK MESICNE</td>\n",
       "      <td>930101</td>\n",
       "    </tr>\n",
       "    <tr>\n",
       "      <th>4</th>\n",
       "      <td>2632</td>\n",
       "      <td>24</td>\n",
       "      <td>POPLATEK MESICNE</td>\n",
       "      <td>930102</td>\n",
       "    </tr>\n",
       "  </tbody>\n",
       "</table>\n",
       "</div>"
      ],
      "text/plain": [
       "   account_id  district_id         frequency    date\n",
       "0         576           55  POPLATEK MESICNE  930101\n",
       "1        3818           74  POPLATEK MESICNE  930101\n",
       "2         704           55  POPLATEK MESICNE  930101\n",
       "3        2378           16  POPLATEK MESICNE  930101\n",
       "4        2632           24  POPLATEK MESICNE  930102"
      ]
     },
     "execution_count": 7,
     "metadata": {},
     "output_type": "execute_result"
    }
   ],
   "source": [
    "df_account.head()"
   ]
  },
  {
   "cell_type": "code",
   "execution_count": 8,
   "id": "horizontal-israel",
   "metadata": {},
   "outputs": [
    {
     "data": {
      "text/html": [
       "<div>\n",
       "<style scoped>\n",
       "    .dataframe tbody tr th:only-of-type {\n",
       "        vertical-align: middle;\n",
       "    }\n",
       "\n",
       "    .dataframe tbody tr th {\n",
       "        vertical-align: top;\n",
       "    }\n",
       "\n",
       "    .dataframe thead th {\n",
       "        text-align: right;\n",
       "    }\n",
       "</style>\n",
       "<table border=\"1\" class=\"dataframe\">\n",
       "  <thead>\n",
       "    <tr style=\"text-align: right;\">\n",
       "      <th></th>\n",
       "      <th>client_id</th>\n",
       "      <th>birth_number</th>\n",
       "      <th>district_id</th>\n",
       "    </tr>\n",
       "  </thead>\n",
       "  <tbody>\n",
       "    <tr>\n",
       "      <th>0</th>\n",
       "      <td>1</td>\n",
       "      <td>706213</td>\n",
       "      <td>18</td>\n",
       "    </tr>\n",
       "    <tr>\n",
       "      <th>1</th>\n",
       "      <td>2</td>\n",
       "      <td>450204</td>\n",
       "      <td>1</td>\n",
       "    </tr>\n",
       "    <tr>\n",
       "      <th>2</th>\n",
       "      <td>3</td>\n",
       "      <td>406009</td>\n",
       "      <td>1</td>\n",
       "    </tr>\n",
       "    <tr>\n",
       "      <th>3</th>\n",
       "      <td>4</td>\n",
       "      <td>561201</td>\n",
       "      <td>5</td>\n",
       "    </tr>\n",
       "    <tr>\n",
       "      <th>4</th>\n",
       "      <td>5</td>\n",
       "      <td>605703</td>\n",
       "      <td>5</td>\n",
       "    </tr>\n",
       "  </tbody>\n",
       "</table>\n",
       "</div>"
      ],
      "text/plain": [
       "   client_id  birth_number  district_id\n",
       "0          1        706213           18\n",
       "1          2        450204            1\n",
       "2          3        406009            1\n",
       "3          4        561201            5\n",
       "4          5        605703            5"
      ]
     },
     "execution_count": 8,
     "metadata": {},
     "output_type": "execute_result"
    }
   ],
   "source": [
    "df_client.head()"
   ]
  },
  {
   "cell_type": "markdown",
   "id": "focal-polls",
   "metadata": {},
   "source": [
    "<b> Find the common/similar column(s) between tables that will be used for merging based on the analysis from Step 2 </b>"
   ]
  },
  {
   "cell_type": "markdown",
   "id": "lesbian-ebony",
   "metadata": {},
   "source": [
    "<b> There should be four common tables. Merge the four tables together </b>"
   ]
  },
  {
   "cell_type": "code",
   "execution_count": 9,
   "id": "nearby-mathematics",
   "metadata": {},
   "outputs": [],
   "source": [
    "# Merge df_trans and df_account together using left join on the account_id column\n",
    "df_trans_acc = pd.merge(df_trans, df_account, how='left', on='account_id')"
   ]
  },
  {
   "cell_type": "code",
   "execution_count": 10,
   "id": "third-potato",
   "metadata": {},
   "outputs": [],
   "source": [
    "#Subset df_disp to only keep the rows with OWNER as their type\n",
    "df_disp_owner = df_disp[df_disp['type'] == 'OWNER']"
   ]
  },
  {
   "cell_type": "code",
   "execution_count": 11,
   "id": "regular-jimmy",
   "metadata": {},
   "outputs": [],
   "source": [
    "# Merge df_trans_acc and df_disp_owner together using left join on the account_id column\n",
    "df_trans_acc_disp = pd.merge(df_trans_acc, df_disp, how='left', on='account_id')"
   ]
  },
  {
   "cell_type": "code",
   "execution_count": 12,
   "id": "optimum-deviation",
   "metadata": {},
   "outputs": [],
   "source": [
    "df_merged = pd.merge(df_trans_acc_disp, df_client, how='left', on=['client_id', 'district_id'])"
   ]
  },
  {
   "cell_type": "markdown",
   "id": "steady-wrist",
   "metadata": {},
   "source": [
    "<b> Rename the column names after merging </b>"
   ]
  },
  {
   "cell_type": "code",
   "execution_count": 13,
   "id": "focal-parameter",
   "metadata": {},
   "outputs": [
    {
     "data": {
      "text/plain": [
       "Index(['trans_id', 'account_id', 'date_x', 'type_x', 'operation', 'amount',\n",
       "       'balance', 'k_symbol', 'bank', 'account', 'district_id', 'frequency',\n",
       "       'date_y', 'disp_id', 'client_id', 'type_y', 'birth_number'],\n",
       "      dtype='object')"
      ]
     },
     "execution_count": 13,
     "metadata": {},
     "output_type": "execute_result"
    }
   ],
   "source": [
    "df_merged.columns"
   ]
  },
  {
   "cell_type": "code",
   "execution_count": 14,
   "id": "painful-tiffany",
   "metadata": {},
   "outputs": [],
   "source": [
    "df_merged.rename(columns={'date_x': 'trans_date', \\\n",
    "                          'type_x': 'trans_type', \\\n",
    "                          'date_y':'account_creation', \\\n",
    "                          'type_y':'client_type'}, \\\n",
    "                          inplace=True)"
   ]
  },
  {
   "cell_type": "code",
   "execution_count": 15,
   "id": "valuable-tobacco",
   "metadata": {},
   "outputs": [
    {
     "data": {
      "text/html": [
       "<div>\n",
       "<style scoped>\n",
       "    .dataframe tbody tr th:only-of-type {\n",
       "        vertical-align: middle;\n",
       "    }\n",
       "\n",
       "    .dataframe tbody tr th {\n",
       "        vertical-align: top;\n",
       "    }\n",
       "\n",
       "    .dataframe thead th {\n",
       "        text-align: right;\n",
       "    }\n",
       "</style>\n",
       "<table border=\"1\" class=\"dataframe\">\n",
       "  <thead>\n",
       "    <tr style=\"text-align: right;\">\n",
       "      <th></th>\n",
       "      <th>trans_id</th>\n",
       "      <th>account_id</th>\n",
       "      <th>trans_date</th>\n",
       "      <th>trans_type</th>\n",
       "      <th>operation</th>\n",
       "      <th>amount</th>\n",
       "      <th>balance</th>\n",
       "      <th>k_symbol</th>\n",
       "      <th>bank</th>\n",
       "      <th>account</th>\n",
       "      <th>district_id</th>\n",
       "      <th>frequency</th>\n",
       "      <th>account_creation</th>\n",
       "      <th>disp_id</th>\n",
       "      <th>client_id</th>\n",
       "      <th>client_type</th>\n",
       "      <th>birth_number</th>\n",
       "    </tr>\n",
       "  </thead>\n",
       "  <tbody>\n",
       "    <tr>\n",
       "      <th>0</th>\n",
       "      <td>695247</td>\n",
       "      <td>2378</td>\n",
       "      <td>930101</td>\n",
       "      <td>PRIJEM</td>\n",
       "      <td>VKLAD</td>\n",
       "      <td>700.0</td>\n",
       "      <td>700.0</td>\n",
       "      <td>NaN</td>\n",
       "      <td>NaN</td>\n",
       "      <td>NaN</td>\n",
       "      <td>16</td>\n",
       "      <td>POPLATEK MESICNE</td>\n",
       "      <td>930101</td>\n",
       "      <td>2873</td>\n",
       "      <td>2873</td>\n",
       "      <td>OWNER</td>\n",
       "      <td>755324.0</td>\n",
       "    </tr>\n",
       "    <tr>\n",
       "      <th>1</th>\n",
       "      <td>171812</td>\n",
       "      <td>576</td>\n",
       "      <td>930101</td>\n",
       "      <td>PRIJEM</td>\n",
       "      <td>VKLAD</td>\n",
       "      <td>900.0</td>\n",
       "      <td>900.0</td>\n",
       "      <td>NaN</td>\n",
       "      <td>NaN</td>\n",
       "      <td>NaN</td>\n",
       "      <td>55</td>\n",
       "      <td>POPLATEK MESICNE</td>\n",
       "      <td>930101</td>\n",
       "      <td>692</td>\n",
       "      <td>692</td>\n",
       "      <td>OWNER</td>\n",
       "      <td>NaN</td>\n",
       "    </tr>\n",
       "    <tr>\n",
       "      <th>2</th>\n",
       "      <td>171812</td>\n",
       "      <td>576</td>\n",
       "      <td>930101</td>\n",
       "      <td>PRIJEM</td>\n",
       "      <td>VKLAD</td>\n",
       "      <td>900.0</td>\n",
       "      <td>900.0</td>\n",
       "      <td>NaN</td>\n",
       "      <td>NaN</td>\n",
       "      <td>NaN</td>\n",
       "      <td>55</td>\n",
       "      <td>POPLATEK MESICNE</td>\n",
       "      <td>930101</td>\n",
       "      <td>693</td>\n",
       "      <td>693</td>\n",
       "      <td>DISPONENT</td>\n",
       "      <td>NaN</td>\n",
       "    </tr>\n",
       "    <tr>\n",
       "      <th>3</th>\n",
       "      <td>207264</td>\n",
       "      <td>704</td>\n",
       "      <td>930101</td>\n",
       "      <td>PRIJEM</td>\n",
       "      <td>VKLAD</td>\n",
       "      <td>1000.0</td>\n",
       "      <td>1000.0</td>\n",
       "      <td>NaN</td>\n",
       "      <td>NaN</td>\n",
       "      <td>NaN</td>\n",
       "      <td>55</td>\n",
       "      <td>POPLATEK MESICNE</td>\n",
       "      <td>930101</td>\n",
       "      <td>844</td>\n",
       "      <td>844</td>\n",
       "      <td>OWNER</td>\n",
       "      <td>NaN</td>\n",
       "    </tr>\n",
       "    <tr>\n",
       "      <th>4</th>\n",
       "      <td>207264</td>\n",
       "      <td>704</td>\n",
       "      <td>930101</td>\n",
       "      <td>PRIJEM</td>\n",
       "      <td>VKLAD</td>\n",
       "      <td>1000.0</td>\n",
       "      <td>1000.0</td>\n",
       "      <td>NaN</td>\n",
       "      <td>NaN</td>\n",
       "      <td>NaN</td>\n",
       "      <td>55</td>\n",
       "      <td>POPLATEK MESICNE</td>\n",
       "      <td>930101</td>\n",
       "      <td>845</td>\n",
       "      <td>845</td>\n",
       "      <td>DISPONENT</td>\n",
       "      <td>NaN</td>\n",
       "    </tr>\n",
       "  </tbody>\n",
       "</table>\n",
       "</div>"
      ],
      "text/plain": [
       "   trans_id  account_id  trans_date trans_type operation  amount  balance  \\\n",
       "0    695247        2378      930101     PRIJEM     VKLAD   700.0    700.0   \n",
       "1    171812         576      930101     PRIJEM     VKLAD   900.0    900.0   \n",
       "2    171812         576      930101     PRIJEM     VKLAD   900.0    900.0   \n",
       "3    207264         704      930101     PRIJEM     VKLAD  1000.0   1000.0   \n",
       "4    207264         704      930101     PRIJEM     VKLAD  1000.0   1000.0   \n",
       "\n",
       "  k_symbol bank  account  district_id         frequency  account_creation  \\\n",
       "0      NaN  NaN      NaN           16  POPLATEK MESICNE            930101   \n",
       "1      NaN  NaN      NaN           55  POPLATEK MESICNE            930101   \n",
       "2      NaN  NaN      NaN           55  POPLATEK MESICNE            930101   \n",
       "3      NaN  NaN      NaN           55  POPLATEK MESICNE            930101   \n",
       "4      NaN  NaN      NaN           55  POPLATEK MESICNE            930101   \n",
       "\n",
       "   disp_id  client_id client_type  birth_number  \n",
       "0     2873       2873       OWNER      755324.0  \n",
       "1      692        692       OWNER           NaN  \n",
       "2      693        693   DISPONENT           NaN  \n",
       "3      844        844       OWNER           NaN  \n",
       "4      845        845   DISPONENT           NaN  "
      ]
     },
     "execution_count": 15,
     "metadata": {},
     "output_type": "execute_result"
    }
   ],
   "source": [
    "df_merged.head()"
   ]
  },
  {
   "cell_type": "markdown",
   "id": "national-hebrew",
   "metadata": {},
   "source": [
    "<b> Check there is no duplication after merging </b>"
   ]
  },
  {
   "cell_type": "code",
   "execution_count": null,
   "id": "primary-sculpture",
   "metadata": {},
   "outputs": [],
   "source": []
  },
  {
   "cell_type": "code",
   "execution_count": null,
   "id": "tender-rebound",
   "metadata": {},
   "outputs": [],
   "source": []
  },
  {
   "cell_type": "markdown",
   "id": "limiting-patio",
   "metadata": {},
   "source": [
    "<b> Transform the data type for date columns </b>"
   ]
  },
  {
   "cell_type": "code",
   "execution_count": 16,
   "id": "medium-georgia",
   "metadata": {},
   "outputs": [
    {
     "data": {
      "text/plain": [
       "trans_id              int64\n",
       "account_id            int64\n",
       "trans_date            int64\n",
       "trans_type           object\n",
       "operation            object\n",
       "amount              float64\n",
       "balance             float64\n",
       "k_symbol             object\n",
       "bank                 object\n",
       "account             float64\n",
       "district_id           int64\n",
       "frequency            object\n",
       "account_creation      int64\n",
       "disp_id               int64\n",
       "client_id             int64\n",
       "client_type          object\n",
       "birth_number        float64\n",
       "dtype: object"
      ]
     },
     "execution_count": 16,
     "metadata": {},
     "output_type": "execute_result"
    }
   ],
   "source": [
    "df_merged.dtypes"
   ]
  },
  {
   "cell_type": "code",
   "execution_count": 17,
   "id": "prostate-monster",
   "metadata": {},
   "outputs": [],
   "source": [
    "df_merged['trans_date'] = pd.to_datetime(df_merged['trans_date'], format=\"%y%m%d\")\n",
    "df_merged['account_creation'] = pd.to_datetime(df_merged['account_creation'], format=\"%y%m%d\")"
   ]
  },
  {
   "cell_type": "markdown",
   "id": "quick-impossible",
   "metadata": {},
   "source": [
    "<b> Create two separate features from birth_number to get the date of birth and sex for each customer </b>"
   ]
  },
  {
   "cell_type": "markdown",
   "id": "competent-coffee",
   "metadata": {},
   "source": [
    "Here is the rule used for this code: birthday and sex: the number is in the form YYMMDD for men, the number is in the form YYMM+50DD for women, where YYMMDD is the date of birth."
   ]
  },
  {
   "cell_type": "code",
   "execution_count": 18,
   "id": "streaming-tactics",
   "metadata": {},
   "outputs": [],
   "source": [
    "df_merged['is_female'] = (df_merged['birth_number'] % 10000) / 5000 > 1"
   ]
  },
  {
   "cell_type": "code",
   "execution_count": 19,
   "id": "different-boundary",
   "metadata": {},
   "outputs": [],
   "source": [
    "# Transform all the rows with is_female is True by removing the value within the column birth_number by 5000\n",
    "df_merged.loc[df_merged['is_female'] == True, 'birth_number'] -= 5000"
   ]
  },
  {
   "cell_type": "code",
   "execution_count": 20,
   "id": "european-customer",
   "metadata": {},
   "outputs": [
    {
     "data": {
      "text/plain": [
       "0         1975-03-24\n",
       "1                NaT\n",
       "2                NaT\n",
       "3                NaT\n",
       "4                NaT\n",
       "             ...    \n",
       "1262620   2066-11-01\n",
       "1262621   2033-12-31\n",
       "1262622   2022-07-20\n",
       "1262623   2018-02-05\n",
       "1262624   2046-12-02\n",
       "Name: birth_number, Length: 1262625, dtype: datetime64[ns]"
      ]
     },
     "execution_count": 20,
     "metadata": {},
     "output_type": "execute_result"
    }
   ],
   "source": [
    "pd.to_datetime(df_merged['birth_number'], format=\"%y%m%d\", errors='coerce')"
   ]
  },
  {
   "cell_type": "code",
   "execution_count": 21,
   "id": "fatty-modern",
   "metadata": {},
   "outputs": [],
   "source": [
    "df_merged['birth_number'] = df_merged['birth_number'].astype(str)"
   ]
  },
  {
   "cell_type": "code",
   "execution_count": 22,
   "id": "gentle-remainder",
   "metadata": {},
   "outputs": [],
   "source": [
    "df_merged.loc[df_merged['birth_number'] == 'nan', 'birth_number'] = np.nan"
   ]
  },
  {
   "cell_type": "markdown",
   "id": "recent-prague",
   "metadata": {},
   "source": [
    "<b> Fix data quality issues with .isna() </b>"
   ]
  },
  {
   "cell_type": "code",
   "execution_count": 23,
   "id": "accepted-breakdown",
   "metadata": {},
   "outputs": [],
   "source": [
    "# Add the 19 prefix to birth_number for all rows that don't have missing values for this column\n",
    "df_merged.loc[~df_merged['birth_number'].isna(), 'birth_number'] = \\\n",
    "'19' + df_merged.loc[~df_merged['birth_number'].isna(), 'birth_number']"
   ]
  },
  {
   "cell_type": "code",
   "execution_count": 24,
   "id": "possible-identity",
   "metadata": {},
   "outputs": [],
   "source": [
    "df_merged['birth_number'] = pd.to_datetime(df_merged['birth_number'], format=\"%Y%m%d\", errors='coerce')"
   ]
  },
  {
   "cell_type": "markdown",
   "id": "protective-voltage",
   "metadata": {},
   "source": [
    "<b> Create a new feature that will calculate customers' ages when they opened an account using date operations </b>"
   ]
  },
  {
   "cell_type": "code",
   "execution_count": 25,
   "id": "chemical-sheep",
   "metadata": {},
   "outputs": [],
   "source": [
    "df_merged['age_at_creation'] = df_merged['account_creation'] - df_merged['birth_number']"
   ]
  },
  {
   "cell_type": "code",
   "execution_count": 26,
   "id": "drawn-completion",
   "metadata": {},
   "outputs": [],
   "source": [
    "df_merged['age_at_creation'] = df_merged['age_at_creation'] / np.timedelta64(1,'Y')"
   ]
  },
  {
   "cell_type": "code",
   "execution_count": 27,
   "id": "administrative-doctrine",
   "metadata": {},
   "outputs": [],
   "source": [
    "df_merged['age_at_creation'] = df_merged['age_at_creation'].round()"
   ]
  }
 ],
 "metadata": {
  "kernelspec": {
   "display_name": "Python 3",
   "language": "python",
   "name": "python3"
  },
  "language_info": {
   "codemirror_mode": {
    "name": "ipython",
    "version": 3
   },
   "file_extension": ".py",
   "mimetype": "text/x-python",
   "name": "python",
   "nbconvert_exporter": "python",
   "pygments_lexer": "ipython3",
   "version": "3.7.7"
  }
 },
 "nbformat": 4,
 "nbformat_minor": 5
}
